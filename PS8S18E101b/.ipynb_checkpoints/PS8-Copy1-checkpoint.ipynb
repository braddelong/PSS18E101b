{
 "cells": [
  {
   "cell_type": "markdown",
   "metadata": {
    "slideshow": {
     "slide_type": "notes"
    }
   },
   "source": [
    "# 2018-02-20 Econ 101b Problem Set 8"
   ]
  },
  {
   "cell_type": "markdown",
   "metadata": {},
   "source": [
    "## Problem set will be due Th Mar 15 at midnight...\n",
    "\n",
    "#### Sections between Tu AM & Th AM lecture will be problem set section..."
   ]
  },
  {
   "cell_type": "markdown",
   "metadata": {},
   "source": [
    "## Setting up the Python/Jupyter environment"
   ]
  },
  {
   "cell_type": "code",
   "execution_count": 1,
   "metadata": {},
   "outputs": [
    {
     "data": {
      "application/javascript": [
       "\n",
       "IPython.OutputArea.prototype._should_scroll = function(lines) {\n",
       "    return false;}"
      ],
      "text/plain": [
       "<IPython.core.display.Javascript object>"
      ]
     },
     "metadata": {},
     "output_type": "display_data"
    }
   ],
   "source": [
    "%%javascript\n",
    "\n",
    "IPython.OutputArea.prototype._should_scroll = function(lines) {\n",
    "    return false;}"
   ]
  },
  {
   "cell_type": "code",
   "execution_count": 2,
   "metadata": {
    "collapsed": true
   },
   "outputs": [],
   "source": [
    "# ABOVE CELL IS \"NO SCROLLING SUBWINDOWS\" SETUP\n",
    "#\n",
    "# keep output cells from shifting to autoscroll: little scrolling\n",
    "# subwindows within the notebook are an annoyance..."
   ]
  },
  {
   "cell_type": "code",
   "execution_count": 3,
   "metadata": {},
   "outputs": [
    {
     "name": "stderr",
     "output_type": "stream",
     "text": [
      "/Users/delong/anaconda3/lib/python3.6/site-packages/statsmodels/compat/pandas.py:56: FutureWarning: The pandas.core.datetools module is deprecated and will be removed in a future version. Please use the pandas.tseries module instead.\n",
      "  from pandas.core import datetools\n"
     ]
    }
   ],
   "source": [
    "# THIS CELL LOADS THE LIBRARIES\n",
    "#\n",
    "# set up the environment by reading in every library we might need: \n",
    "# os... graphics... data manipulation... time... math... statistics...\n",
    "\n",
    "import sys\n",
    "import os\n",
    "from urllib.request import urlretrieve\n",
    "\n",
    "import matplotlib as mpl\n",
    "import matplotlib.pyplot as plt\n",
    "from IPython.display import Image\n",
    "\n",
    "import pandas as pd\n",
    "from pandas import DataFrame, Series\n",
    "from datetime import datetime\n",
    "\n",
    "import scipy as sp\n",
    "import numpy as np\n",
    "import math\n",
    "import random\n",
    "\n",
    "import seaborn as sns\n",
    "import statsmodels\n",
    "import statsmodels.api as sm\n",
    "import statsmodels.formula.api as smf"
   ]
  },
  {
   "cell_type": "code",
   "execution_count": 4,
   "metadata": {
    "collapsed": true
   },
   "outputs": [],
   "source": [
    "# PRETTIER GRAPHICS SETUP\n",
    "#\n",
    "# graphics setup: seaborn-whitegrid and figure size;\n",
    "# graphs in the notebook itself...\n",
    "\n",
    "%matplotlib inline \n",
    "\n",
    "plt.style.use('seaborn-whitegrid')\n",
    "\n",
    "figure_size = plt.rcParams[\"figure.figsize\"]\n",
    "figure_size[0] = 12\n",
    "figure_size[1] = 10\n",
    "plt.rcParams[\"figure.figsize\"] = figure_size"
   ]
  },
  {
   "cell_type": "code",
   "execution_count": 5,
   "metadata": {},
   "outputs": [
    {
     "name": "stdout",
     "output_type": "stream",
     "text": [
      "Requirement already up-to-date: okpy in /Users/delong/anaconda3/lib/python3.6/site-packages\n",
      "Requirement already up-to-date: requests==2.12.4 in /Users/delong/anaconda3/lib/python3.6/site-packages (from okpy)\n",
      "Requirement already up-to-date: coverage==3.7.1 in /Users/delong/anaconda3/lib/python3.6/site-packages (from okpy)\n",
      "=====================================================================\n",
      "Assignment: PS8 Notebook\n",
      "OK, version v1.13.10\n",
      "=====================================================================\n",
      "\n",
      "\n",
      "Open the following URL:\n",
      "\n",
      "https://okpy.org/client/login/\n",
      "\n",
      "After logging in, copy the code from the web page and paste it into the box.\n",
      "Then press the \"Enter\" key on your keyboard.\n",
      "\n",
      "Paste your code here: ldrjczIXdsGFaZveOB1b0zpSLV6O1o\n",
      "Successfully logged in as jbdelong@berkeley.edu\n"
     ]
    }
   ],
   "source": [
    "# THIS CELL IS THE KEY TO THE OKPY.ORG AUTOGRADER SYSTEM\n",
    "#\n",
    "# Don't change this cell; just run it. \n",
    "# The result will give you directions about how to log in to the submission system, called OK.\n",
    "# Once you're logged in, you can run this cell again, but it won't ask you who you are because\n",
    "# it remembers you. However, you will need to log in once per assignment.\n",
    "\n",
    "!pip install -U okpy\n",
    "\n",
    "from client.api.notebook import Notebook\n",
    "\n",
    "ok = Notebook('ps8.ok')\n",
    "_ = ok.auth(force=True, inline=True)"
   ]
  },
  {
   "cell_type": "markdown",
   "metadata": {},
   "source": [
    "### ⬆︎⬆︎⬆︎⬆︎⬆︎⬆︎⬆︎⬆︎⬆︎⬆︎⬆︎⬆︎⬆︎⬆︎⬆︎⬆︎\n",
    "### RUN THESE CELLS ABOVE FIRST"
   ]
  },
  {
   "cell_type": "markdown",
   "metadata": {},
   "source": [
    "# Problem Set 8 (Due Mar 15 11:59:59 PM)\n",
    "\n",
    "----\n",
    "\n",
    "&nbsp;"
   ]
  },
  {
   "cell_type": "markdown",
   "metadata": {},
   "source": [
    "## Introduction\n",
    "\n",
    "The autograder, both in the tests you run along the way as you work on the problem set and in calculating the final score, looks in the same directory as the problem set notebook for an \"ok.tests\" directory, and then runs the tests in the \"q\\*\\*.py\" files in that directory (where \"\\*\\*\" denotes a two-digit number, possibly with a leading zero). Those tests take the form of comparing a variable that should be in your namespace and seeing if it is close to some desired value that we get when we do the problem set.\n",
    "\n",
    "Thus while the problem set instructions ask you to run simulations and plot graphs, what you are tested on is whether the appropriate variables in your namespace have (close to the) right values. We do not care what code you use in order to get those variables to the right values. \n",
    "\n",
    "You can run simulations and then pick appropriate values out by slicing a series in order to get the right number. \n",
    "\n",
    "You can use your knowledge of the algebraic solution to the model to have Python calculate the answer, having first set the parameters to the right values, as in:\n",
    "\n",
    "    s = 0.24 # (say)\n",
    "    n = 0.01\n",
    "    g = 0.02\n",
    "    delta = 0.03\n",
    "    Delta_n = -0.01\n",
    "    KoverYinitial = s/(n+g+delta)\n",
    "    KoverYalternative = s/(n+Delta_n+g+delta)\n",
    "    \n",
    "You can even do all of the calculations on pen and paper, and simply code up:\n",
    "\n",
    "    KoverYinitial = 4\n",
    "    KoverYalternative = 4.8\n",
    "    \n",
    "Perhaps we should ask you to do all three—start with simulations, or with algebraic equations with set parameter values, or with full pen-and-paper calculations with only the final results entered into the notebook—and then ask you to check your results from one mode by doing the other two. But: _ars longa, vita brevis_. Focus on what works _for you_: the key is to get a sense of how economists' center-of-gravity analyses of long-run growth work, so that when you encounter such an analysis later, outside the university, you have the right intellectual panoply to evaluate it.\n",
    "\n",
    "----\n",
    "\n",
    "&nbsp;"
   ]
  },
  {
   "cell_type": "markdown",
   "metadata": {},
   "source": [
    "## Programming Dos and Don'ts...\n",
    "\n",
    "### A Running List...\n",
    "\n",
    "1. **Do** restart your kernel and run cells up to your current working point every fifteen minutes or so. Yes, it takes a little time. But if you don't, sooner or later the machine's namespace will get confused, and then you will get confused about the state of the machine's namespace, and by assuming things about it that are false you will lose hours and hours...   \n",
    "&nbsp;\n",
    "\n",
    "2. **Do** reload the page when restarting the kernel does not seem to do the job...   \n",
    "&nbsp;\n",
    "\n",
    "3. **Do** edit code cells by copying them below your current version and then working on the copy: when you break everything in the current cell (as you will), you can then go back to the old cell and start fresh...   \n",
    "&nbsp;\n",
    "\n",
    "4. **Do** exercise agile development practices: if there is a line of code that you have not tested, test it. The best way to test is to ask the machine to echo back to you the thing you have just created in its namespace to make sure that it is what you want it to be. Only after you are **certain** that your namespace contains what you think it does should you write the next line of code. And then you should immediately test it...   \n",
    "&nbsp;\n",
    "\n",
    "5. **Do** take screenshots of your error messages...   \n",
    "&nbsp;\n",
    "\n",
    "6. **Do** google your error messages: Ms. Google is your best friend here...   \n",
    "&nbsp;\n",
    "\n",
    "7. **Do not** confuse assignment (\"=\") and test for equality (\"==\"). In general, if there is an \"if\" anywhere nearby, you should be testing for equality. If there is not, you should be assignment a variable in your namespace to a value. **Do** curse the mathematicians 500 years ago who did not realize that in the twenty-first century it would be very convenient if we had different and not confusable symbols for equals-as-assignment and equals-as-test...   \n",
    "&nbsp;\n",
    "\n",
    "----\n",
    "\n",
    "&nbsp;\n",
    "\n",
    "**Thanks to**: Rachel Grossberg, Christopher Hench, Meghana Krishnakumer, Seth Lloyd, Ronald Walker..."
   ]
  },
  {
   "cell_type": "markdown",
   "metadata": {
    "deletable": false,
    "manual_grade": true,
    "manual_problem_id": "PS6TB"
   },
   "source": [
    "**(Task A) Programming Practices**\n",
    "\n",
    "If it strikes you that anything should be added to this list of programming dos and don'ts, please email it to me at <delong@econ.berkeley.edu>"
   ]
  },
  {
   "cell_type": "markdown",
   "metadata": {},
   "source": [
    "----"
   ]
  },
  {
   "cell_type": "markdown",
   "metadata": {},
   "source": [
    "**(Task B) Consumption Series I**\n",
    "\n",
    "1. Websurf over to http://fred.stlouisfed.org\n",
    "2. Type \"consumption\" into the search box and press return\n",
    "3. Scan down the list of variables, focusing on variables that are \"real\", \"seasonally adjusted\", and \"monthly\".\n",
    "4. Find \"Real Personal Consumption Expenditures: Billions of Chained 2009 Dollars, Monthly, Seasonally Adjusted Annual Rate\". Click on the box to select it. Click on the \"Add to Graph\" button near the top.\n",
    "5. Click the \"DOWNLOAD\" button and then the \"CSV (Data)\" option\n",
    "6. Open the file you have just downloaded, PCEC96.csv, in a text editor. Look at it. Does it look like the right thing? If not, email me at delong@econ.berkeley.edu with the subject line: \"Econ 101b S2018 PS8: PCEC96.csv Does Not Look Right\""
   ]
  },
  {
   "cell_type": "markdown",
   "metadata": {},
   "source": [
    "**(Task C) Consumption Series II**\n",
    "\n",
    "1. I have put a copy of PCEC96.csv up on the web at URL: http://delong.typepad.com/pcec96.csv\n",
    "2. Run the code cell \"# Consumption Series Import Cell\" below to load the \"Real Personal Consumption Expenditures\" data into your namespace in the cons_df object.\n",
    "3. In the \"# Examine Consumption Series\" code cell further below, write code to examine what is in the \"cons_df\" object.\n",
    "4. Plot the Real Personal Consumption Expenditures series PCEC96:\n",
    "In the \"# Task C Answers\" code cell further below set the variables \"Cons_Jan_2000\" and \"Cons_Jan_2010\" to their correct values"
   ]
  },
  {
   "cell_type": "code",
   "execution_count": 6,
   "metadata": {
    "collapsed": true
   },
   "outputs": [],
   "source": [
    "# Consumption Series Import Cell\n",
    "\n",
    "import pandas as pd\n",
    "\n",
    "Source_URL = 'http://delong.typepad.com/pcec96.csv' \n",
    "\n",
    "cons_df = pd.read_csv(\n",
    "    Source_URL, \n",
    "    converters = {'Source': str, 'Source_URL': str}, \n",
    "    parse_dates = True,\n",
    "    index_col = 0)\n"
   ]
  },
  {
   "cell_type": "code",
   "execution_count": 7,
   "metadata": {},
   "outputs": [
    {
     "name": "stdout",
     "output_type": "stream",
     "text": [
      "            PCEC96\n",
      "DATE              \n",
      "1999-01-01  7582.0\n",
      "1999-02-01  7620.0\n",
      "1999-03-01  7654.1\n",
      "1999-04-01  7697.8\n",
      "1999-05-01  7731.6\n",
      "DATE\n",
      "1999-01-01    7582.0\n",
      "1999-02-01    7620.0\n",
      "1999-03-01    7654.1\n",
      "1999-04-01    7697.8\n",
      "1999-05-01    7731.6\n",
      "Name: PCEC96, dtype: float64\n"
     ]
    },
    {
     "data": {
      "text/plain": [
       "<matplotlib.axes._subplots.AxesSubplot at 0x11a6c5eb8>"
      ]
     },
     "execution_count": 7,
     "metadata": {},
     "output_type": "execute_result"
    },
    {
     "data": {
      "image/png": "[encoded data removed]",
      "text/plain": [
       "<matplotlib.figure.Figure at 0x11a6c5358>"
      ]
     },
     "metadata": {},
     "output_type": "display_data"
    }
   ],
   "source": [
    "# Examine Consumption Series\n",
    "\n",
    "print(cons_df.head())\n",
    "print(cons_df.PCEC96.head())\n",
    "cons_df.PCEC96.plot()"
   ]
  },
  {
   "cell_type": "code",
   "execution_count": 8,
   "metadata": {},
   "outputs": [
    {
     "name": "stdout",
     "output_type": "stream",
     "text": [
      "7988.5\n",
      "9881.7\n"
     ]
    }
   ],
   "source": [
    "# Task C Answers\n",
    "\n",
    "cons_Jan_2000 = cons_df.PCEC96[12]\n",
    "cons_Jan_2010 = cons_df.PCEC96[132]\n",
    "\n",
    "print(cons_Jan_2000)\n",
    "print(cons_Jan_2010)"
   ]
  },
  {
   "cell_type": "code",
   "execution_count": 9,
   "metadata": {},
   "outputs": [
    {
     "name": "stdout",
     "output_type": "stream",
     "text": [
      "~~~~~~~~~~~~~~~~~~~~~~~~~~~~~~~~~~~~~~~~~~~~~~~~~~~~~~~~~~~~~~~~~~~~~\n",
      "Running tests\n",
      "\n",
      "---------------------------------------------------------------------\n",
      "Test summary\n",
      "    Passed: 2\n",
      "    Failed: 0\n",
      "[ooooooooook] 100.0% passed\n",
      "\n"
     ]
    },
    {
     "data": {
      "text/plain": [
       "{'failed': 0, 'locked': 0, 'passed': 2}"
      ]
     },
     "execution_count": 9,
     "metadata": {},
     "output_type": "execute_result"
    }
   ],
   "source": [
    "import numpy as np\n",
    "ok.grade('q01')"
   ]
  },
  {
   "cell_type": "markdown",
   "metadata": {},
   "source": [
    "----\n",
    "\n",
    "&nbsp;"
   ]
  },
  {
   "cell_type": "markdown",
   "metadata": {},
   "source": [
    "**(Task D) GDP Series I**\n",
    "\n",
    "1. Websurf over to http://fred.stlouisfed.org\n",
    "2. Type \"real gdp\" into the search box and press return\n",
    "3. Scan down the list of variables, focusing on variables that are \"real\", \"seasonally adjusted\", and \"quarterly\".\n",
    "4. Find \"Real Gross Domestic Product: Billions of Chained 2009 Dollars, Quarterly, Seasonally Adjusted Annual Rate\". Click on the box to select it. Click on the \"Add to Graph\" button near the top.\n",
    "5. Enter '1999-01-01' into the left of the two date boxes to the left of the red \"EDIT GRAPH\" button and press return\n",
    "6. Click the \"DOWNLOAD\" button and then the \"CSV (Data)\" option\n",
    "7. Open the file you have just downloaded, GDPC1.csv, in a text editor. Look at it. Does it look like the right thing? If not, email me at delong@econ.berkeley.edu with the subject line: \"Econ 101b S2018 PS8: GDPC1.csv Does Not Look Right\""
   ]
  },
  {
   "cell_type": "markdown",
   "metadata": {},
   "source": [
    "**(Task E) GDP Series II**\n",
    "\n",
    "1. I have put a copy of GDPC1.csv up on the web at URL: http://delong.typepad.com/gdpc1.csv\n",
    "2. Run the code cell \"# GDP Series Import Cell\" below to load the \"Real GDP\" data into your namespace in the cons_df object.\n",
    "3. In the \"# Examine GDP Series\" code cell further below, write code to examine what is in the \"cons_df\" object.\n",
    "4. Plot the Real Personal Consumption Expenditures series PCEC96:\n",
    "In the \"# Task D Answers\" code cell further below set the variables \"Cons_Jan_2000\" and \"Cons_Jan_2010\" to their correct values"
   ]
  },
  {
   "cell_type": "code",
   "execution_count": 10,
   "metadata": {
    "collapsed": true
   },
   "outputs": [],
   "source": [
    "# GDP Series Import Cell\n",
    "\n",
    "import pandas as pd\n",
    "\n",
    "Source_URL = 'http://delong.typepad.com/gdpc1.csv' \n",
    "\n",
    "gdp_df = pd.read_csv(\n",
    "    Source_URL, \n",
    "    converters = {'Source': str, 'Source_URL': str}, \n",
    "    parse_dates = True,\n",
    "    index_col = 0)\n"
   ]
  },
  {
   "cell_type": "code",
   "execution_count": 11,
   "metadata": {},
   "outputs": [
    {
     "name": "stdout",
     "output_type": "stream",
     "text": [
      "                GDPC1\n",
      "DATE                 \n",
      "1999-01-01  11864.675\n",
      "1999-04-01  11962.524\n",
      "1999-07-01  12113.075\n",
      "1999-10-01  12323.336\n",
      "2000-01-01  12359.095\n",
      "DATE\n",
      "1999-01-01    11864.675\n",
      "1999-04-01    11962.524\n",
      "1999-07-01    12113.075\n",
      "1999-10-01    12323.336\n",
      "2000-01-01    12359.095\n",
      "Name: GDPC1, dtype: float64\n"
     ]
    },
    {
     "data": {
      "text/plain": [
       "<matplotlib.axes._subplots.AxesSubplot at 0x10e3013c8>"
      ]
     },
     "execution_count": 11,
     "metadata": {},
     "output_type": "execute_result"
    },
    {
     "data": {
      "image/png": "[encoded data removed]",
      "text/plain": [
       "<matplotlib.figure.Figure at 0x11a721e10>"
      ]
     },
     "metadata": {},
     "output_type": "display_data"
    }
   ],
   "source": [
    "# Examine GDP Series\n",
    "\n",
    "print(gdp_df.head())\n",
    "print(gdp_df.GDPC1.head())\n",
    "gdp_df.GDPC1.plot()"
   ]
  },
  {
   "cell_type": "code",
   "execution_count": 12,
   "metadata": {},
   "outputs": [
    {
     "name": "stdout",
     "output_type": "stream",
     "text": [
      "12359.095\n",
      "14604.845\n"
     ]
    }
   ],
   "source": [
    "# Task D Answers\n",
    "\n",
    "gdp_Jan_2000 = gdp_df.GDPC1[4]\n",
    "gdp_Jan_2010 = gdp_df.GDPC1[44]\n",
    "\n",
    "print(gdp_Jan_2000)\n",
    "print(gdp_Jan_2010)"
   ]
  },
  {
   "cell_type": "code",
   "execution_count": 13,
   "metadata": {},
   "outputs": [
    {
     "name": "stdout",
     "output_type": "stream",
     "text": [
      "~~~~~~~~~~~~~~~~~~~~~~~~~~~~~~~~~~~~~~~~~~~~~~~~~~~~~~~~~~~~~~~~~~~~~\n",
      "Running tests\n",
      "\n",
      "---------------------------------------------------------------------\n",
      "Test summary\n",
      "    Passed: 2\n",
      "    Failed: 0\n",
      "[ooooooooook] 100.0% passed\n",
      "\n"
     ]
    },
    {
     "data": {
      "text/plain": [
       "{'failed': 0, 'locked': 0, 'passed': 2}"
      ]
     },
     "execution_count": 13,
     "metadata": {},
     "output_type": "execute_result"
    }
   ],
   "source": [
    "import numpy as np\n",
    "ok.grade('q02')"
   ]
  },
  {
   "cell_type": "markdown",
   "metadata": {},
   "source": [
    "----\n",
    "\n",
    "&nbsp;"
   ]
  },
  {
   "cell_type": "markdown",
   "metadata": {},
   "source": [
    "**(Task F) The Consumption Function I**:\n",
    "\n",
    "1. Run the code cell \"Graph consumption vs. income\" immediately below, importing and plotting real consumption spending and real GDP since the early post-WWII period into a single dataframe. Examine the plot. Email me at delong@econ.berkeley.edu with the subject line \"Econ 101b S2018 PS8: gdp_cons_df Does Not Look Right\" if anything looks wrong to you\n",
    "2. Run the code cell \"Graph consumption vs. income\" further below. That code cell performs a regression analysis: if consumption spending C is a simple linear function of GDP—national income—Y of the form $ C = a + bY + \\epsilon $, where $ \\epsilon $ are a host of additional variables not predictable from Y, what are the most likely values of the coefficients a and b, and how good a job do those coefficients and that function do at capturing the determinants of C?\n",
    "3. The regression analysis tells us that the estimated value of the slope coefficient b from the regression of consumption spending C on income Y is 0.6607. What is the relationship between this coefficient and the MPC—the parameter $ c_y $ in our simple flexprice business cycle model? Assume that the tax rate t in the simple model is 0.25. In the code cell further below \"Task F answers\", set the variable c_y equal to your estimate of what the value of b tells us that the MPC is. "
   ]
  },
  {
   "cell_type": "code",
   "execution_count": 14,
   "metadata": {},
   "outputs": [
    {
     "name": "stdout",
     "output_type": "stream",
     "text": [
      "         DATE   PCECC96     GDPC1\n",
      "0  1947-01-01  1199.413  1934.471\n",
      "1  1947-04-01  1219.329  1932.281\n",
      "2  1947-07-01  1223.266  1930.315\n",
      "3  1947-10-01  1223.649  1960.705\n",
      "4  1948-01-01  1229.757  1989.535\n"
     ]
    },
    {
     "data": {
      "text/plain": [
       "<matplotlib.axes._subplots.AxesSubplot at 0x11e7b6d30>"
      ]
     },
     "execution_count": 14,
     "metadata": {},
     "output_type": "execute_result"
    },
    {
     "data": {
      "image/png": "[encoded data removed]",
      "text/plain": [
       "<matplotlib.figure.Figure at 0x11b010860>"
      ]
     },
     "metadata": {},
     "output_type": "display_data"
    }
   ],
   "source": [
    "# Graph consumption vs. income\n",
    "\n",
    "Source_URL = 'http://delong.typepad.com/gdp_cons.csv'\n",
    "\n",
    "gdp_cons_df = pd.read_csv(\n",
    "    Source_URL, \n",
    "    converters = {'Source': str, 'Source_URL': str}, \n",
    "    parse_dates = True\n",
    "    )\n",
    "\n",
    "print(gdp_cons_df.head())\n",
    "\n",
    "gdp_cons_df.plot()"
   ]
  },
  {
   "cell_type": "code",
   "execution_count": 15,
   "metadata": {},
   "outputs": [
    {
     "name": "stdout",
     "output_type": "stream",
     "text": [
      "                            OLS Regression Results                            \n",
      "==============================================================================\n",
      "Dep. Variable:                PCECC96   R-squared:                       0.999\n",
      "Model:                            OLS   Adj. R-squared:                  0.999\n",
      "Method:                 Least Squares   F-statistic:                 1.972e+05\n",
      "Date:                Sat, 10 Mar 2018   Prob (F-statistic):               0.00\n",
      "Time:                        07:01:16   Log-Likelihood:                -1949.7\n",
      "No. Observations:                 284   AIC:                             3901.\n",
      "Df Residuals:                     283   BIC:                             3905.\n",
      "Df Model:                           1                                         \n",
      "Covariance Type:            nonrobust                                         \n",
      "==============================================================================\n",
      "                 coef    std err          t      P>|t|      [0.025      0.975]\n",
      "------------------------------------------------------------------------------\n",
      "GDPC1          0.6607      0.001    444.064      0.000       0.658       0.664\n",
      "==============================================================================\n",
      "Omnibus:                       71.956   Durbin-Watson:                   0.019\n",
      "Prob(Omnibus):                  0.000   Jarque-Bera (JB):              121.436\n",
      "Skew:                           1.476   Prob(JB):                     4.27e-27\n",
      "Kurtosis:                       4.245   Cond. No.                         1.00\n",
      "==============================================================================\n",
      "\n",
      "Warnings:\n",
      "[1] Standard Errors assume that the covariance matrix of the errors is correctly specified.\n"
     ]
    }
   ],
   "source": [
    "import numpy as np\n",
    "import statsmodels.api as sm\n",
    "import statsmodels.formula.api as smf\n",
    "\n",
    "results = sm.OLS(gdp_cons_df.PCECC96, gdp_cons_df.GDPC1).fit()\n",
    "\n",
    "print(results.summary())"
   ]
  },
  {
   "cell_type": "code",
   "execution_count": 16,
   "metadata": {},
   "outputs": [
    {
     "name": "stdout",
     "output_type": "stream",
     "text": [
      "0.8809333333333332\n"
     ]
    }
   ],
   "source": [
    "# Task F answers\n",
    "\n",
    "t = 0.25\n",
    "c_y = 0.6607/(1-t)\n",
    "print(c_y)"
   ]
  },
  {
   "cell_type": "code",
   "execution_count": 17,
   "metadata": {},
   "outputs": [
    {
     "name": "stdout",
     "output_type": "stream",
     "text": [
      "~~~~~~~~~~~~~~~~~~~~~~~~~~~~~~~~~~~~~~~~~~~~~~~~~~~~~~~~~~~~~~~~~~~~~\n",
      "Running tests\n",
      "\n",
      "---------------------------------------------------------------------\n",
      "Test summary\n",
      "    Passed: 1\n",
      "    Failed: 0\n",
      "[ooooooooook] 100.0% passed\n",
      "\n"
     ]
    },
    {
     "data": {
      "text/plain": [
       "{'failed': 0, 'locked': 0, 'passed': 1}"
      ]
     },
     "execution_count": 17,
     "metadata": {},
     "output_type": "execute_result"
    }
   ],
   "source": [
    "import numpy as np\n",
    "ok.grade('q03')"
   ]
  },
  {
   "cell_type": "markdown",
   "metadata": {},
   "source": [
    "----\n",
    "\n",
    "&nbsp;"
   ]
  },
  {
   "cell_type": "markdown",
   "metadata": {},
   "source": [
    "**(Task G) Consumption Function II**\n",
    "\n",
    "Task F produced a very high estimate of the marginal propensity to consume, MPC, $ c_y $. It seemed to indicate that households do not smooth spending very much at all—that they take virtually all of a change in their income and spend it. This estimate was obtained because the overwhelming bulk of the identifying variance in the regression analysis of Task F consisted of permanent, long run changes in actual and expected income. Now let us look at shorter run, more temporary changes. We do this by performing a regression analysis in which the dependent and independent variables are not the simple levels of consumption spending C and national income Y, but rather one year changes in those variables scaled by the then-current level of real national income.\n",
    "\n",
    "1. Run the code cell below \"Calculating one year changes\", which calculates and then plots one year changes in consumption spending C and national income Y, both of them as fractions of the then-current level of national income Y. Examine the plot. Email me at delong@econ.berkeley.edu with the subject line \"Econ 101b S2018 PS8: Delta_C and Delta_Y DO Not Look Right\" if anything looks wrong to you.\n",
    "2. Run the code cell further below \"1 year changes regression: full sample\". Use the estimated b coefficient—the number immediately to the right of the \"Delta_Y\" under the heading \"coef\"—to calculate the estimate of the MPC $ c_y $ produced from examining one year changes. Assume once again that the tax rate t is 0.25. In the code cell \"Task G answers\", set the variable c_y_1_year equal to the estimate of the MPC.\n",
    "3. Duplicate the code cell \"Calculating one year changes\". Then paste it immediately below. Alter the first line of the pasted version to read \"# Calculating one year changes: earlier half of the sample\"\n",
    "4. Change the code in \"# Calculating one year changes: earlier half of the sample\" so that it runs the regression analysis for 1 year changes for only the first half of our 280 observation-long post-WWII data. In the code cell \"Task G answers\", set the variable c_y_1_year_early_sample equal to the estimate of the MPC for the first half of the sample.\n",
    "5. Duplicate the code cell \"Calculating one year changes\". Then paste it immediately below. Alter the first line of the pasted version to read \"# Calculating one year changes: later half of the sample\"\n",
    "6. Change the code in \"# Calculating one year changes: later half of the sample\" so that it runs the regression analysis for 1 year changes for only the first half of our 280 observation-long post-WWII data. In the code cell \"Task G answers\", set the variable c_y_1_year_late_sample equal to the estimate of the MPC for the first half of the sample."
   ]
  },
  {
   "cell_type": "code",
   "execution_count": 28,
   "metadata": {},
   "outputs": [
    {
     "name": "stdout",
     "output_type": "stream",
     "text": [
      "         DATE   PCECC96     GDPC1   Delta_C   Delta_Y  Delta_C1  Delta_Y1\n",
      "0  1947-01-01  1199.413  1934.471  0.015686  0.028465  0.010295 -0.001132\n",
      "1  1947-04-01  1219.329  1932.281  0.012799  0.046355  0.002037 -0.001017\n",
      "2  1947-07-01  1223.266  1930.315  0.011722  0.053276  0.000198  0.015744\n",
      "3  1947-10-01  1223.649  1960.705  0.016416  0.038060  0.003115  0.014704\n",
      "4  1948-01-01  1229.757  1989.535  0.014130  0.009041  0.007189  0.016243\n"
     ]
    },
    {
     "data": {
      "text/plain": [
       "[<matplotlib.lines.Line2D at 0x11f7eb278>]"
      ]
     },
     "execution_count": 28,
     "metadata": {},
     "output_type": "execute_result"
    },
    {
     "data": {
      "image/png": "[encoded data removed]",
      "text/plain": [
       "<matplotlib.figure.Figure at 0x11e7ca438>"
      ]
     },
     "metadata": {},
     "output_type": "display_data"
    }
   ],
   "source": [
    "# Calculating one year changes\n",
    "\n",
    "Delta_C = []\n",
    "Delta_Y = []\n",
    "\n",
    "for t in range(280):\n",
    "    Delta_C = Delta_C + [(gdp_cons_df.PCECC96[t+4]-\n",
    "        gdp_cons_df.PCECC96[t])/gdp_cons_df.GDPC1[t]]\n",
    "    Delta_Y = Delta_Y + [(gdp_cons_df.GDPC1[t+4]-\n",
    "        gdp_cons_df.GDPC1[t])/gdp_cons_df.GDPC1[t]]\n",
    "\n",
    "Delta_C = Delta_C + [0] + [0] + [0] + [0]\n",
    "Delta_Y = Delta_Y + [0] + [0] + [0] + [0]\n",
    "\n",
    "gdp_cons_df['Delta_C'] = Delta_C\n",
    "gdp_cons_df['Delta_Y'] = Delta_Y\n",
    "\n",
    "print(gdp_cons_df.head())\n",
    "\n",
    "plt.plot(gdp_cons_df.Delta_Y[:280], gdp_cons_df.Delta_C[:280], \"o\")"
   ]
  },
  {
   "cell_type": "code",
   "execution_count": 29,
   "metadata": {},
   "outputs": [
    {
     "name": "stdout",
     "output_type": "stream",
     "text": [
      "                            OLS Regression Results                            \n",
      "==============================================================================\n",
      "Dep. Variable:                Delta_C   R-squared:                       0.846\n",
      "Model:                            OLS   Adj. R-squared:                  0.845\n",
      "Method:                 Least Squares   F-statistic:                     1531.\n",
      "Date:                Sat, 10 Mar 2018   Prob (F-statistic):          2.66e-115\n",
      "Time:                        07:07:07   Log-Likelihood:                 903.98\n",
      "No. Observations:                 280   AIC:                            -1806.\n",
      "Df Residuals:                     279   BIC:                            -1802.\n",
      "Df Model:                           1                                         \n",
      "Covariance Type:            nonrobust                                         \n",
      "==============================================================================\n",
      "                 coef    std err          t      P>|t|      [0.025      0.975]\n",
      "------------------------------------------------------------------------------\n",
      "Delta_Y        0.5452      0.014     39.130      0.000       0.518       0.573\n",
      "==============================================================================\n",
      "Omnibus:                      149.401   Durbin-Watson:                   0.567\n",
      "Prob(Omnibus):                  0.000   Jarque-Bera (JB):             1385.173\n",
      "Skew:                          -1.959   Prob(JB):                    1.63e-301\n",
      "Kurtosis:                      13.168   Cond. No.                         1.00\n",
      "==============================================================================\n",
      "\n",
      "Warnings:\n",
      "[1] Standard Errors assume that the covariance matrix of the errors is correctly specified.\n"
     ]
    }
   ],
   "source": [
    "# 1 year changes regression: full sample\n",
    "\n",
    "import numpy as np\n",
    "import statsmodels.api as sm\n",
    "import statsmodels.formula.api as smf\n",
    "\n",
    "results = sm.OLS(gdp_cons_df.Delta_C[:280], gdp_cons_df.Delta_Y[:280]).fit()\n",
    "\n",
    "print(results.summary())"
   ]
  },
  {
   "cell_type": "code",
   "execution_count": 22,
   "metadata": {},
   "outputs": [
    {
     "name": "stdout",
     "output_type": "stream",
     "text": [
      "                            OLS Regression Results                            \n",
      "==============================================================================\n",
      "Dep. Variable:                Delta_C   R-squared:                       0.808\n",
      "Model:                            OLS   Adj. R-squared:                  0.807\n",
      "Method:                 Least Squares   F-statistic:                     585.5\n",
      "Date:                Sat, 10 Mar 2018   Prob (F-statistic):           1.10e-51\n",
      "Time:                        07:01:17   Log-Likelihood:                 428.04\n",
      "No. Observations:                 140   AIC:                            -854.1\n",
      "Df Residuals:                     139   BIC:                            -851.1\n",
      "Df Model:                           1                                         \n",
      "Covariance Type:            nonrobust                                         \n",
      "==============================================================================\n",
      "                 coef    std err          t      P>|t|      [0.025      0.975]\n",
      "------------------------------------------------------------------------------\n",
      "Delta_Y        0.4933      0.020     24.198      0.000       0.453       0.534\n",
      "==============================================================================\n",
      "Omnibus:                       69.393   Durbin-Watson:                   0.600\n",
      "Prob(Omnibus):                  0.000   Jarque-Bera (JB):              320.868\n",
      "Skew:                          -1.752   Prob(JB):                     2.11e-70\n",
      "Kurtosis:                       9.537   Cond. No.                         1.00\n",
      "==============================================================================\n",
      "\n",
      "Warnings:\n",
      "[1] Standard Errors assume that the covariance matrix of the errors is correctly specified.\n"
     ]
    }
   ],
   "source": [
    "# 1 year changes regression: early sample\n",
    "\n",
    "import numpy as np\n",
    "import statsmodels.api as sm\n",
    "import statsmodels.formula.api as smf\n",
    "\n",
    "results = sm.OLS(gdp_cons_df.Delta_C[:140], gdp_cons_df.Delta_Y[:140]).fit()\n",
    "\n",
    "print(results.summary())"
   ]
  },
  {
   "cell_type": "code",
   "execution_count": 23,
   "metadata": {},
   "outputs": [
    {
     "name": "stdout",
     "output_type": "stream",
     "text": [
      "                            OLS Regression Results                            \n",
      "==============================================================================\n",
      "Dep. Variable:                Delta_C   R-squared:                       0.932\n",
      "Model:                            OLS   Adj. R-squared:                  0.931\n",
      "Method:                 Least Squares   F-statistic:                     1881.\n",
      "Date:                Sat, 10 Mar 2018   Prob (F-statistic):           2.80e-82\n",
      "Time:                        07:01:17   Log-Likelihood:                 515.15\n",
      "No. Observations:                 139   AIC:                            -1028.\n",
      "Df Residuals:                     138   BIC:                            -1025.\n",
      "Df Model:                           1                                         \n",
      "Covariance Type:            nonrobust                                         \n",
      "==============================================================================\n",
      "                 coef    std err          t      P>|t|      [0.025      0.975]\n",
      "------------------------------------------------------------------------------\n",
      "Delta_Y        0.6445      0.015     43.368      0.000       0.615       0.674\n",
      "==============================================================================\n",
      "Omnibus:                        6.614   Durbin-Watson:                   0.601\n",
      "Prob(Omnibus):                  0.037   Jarque-Bera (JB):                6.176\n",
      "Skew:                          -0.478   Prob(JB):                       0.0456\n",
      "Kurtosis:                       3.389   Cond. No.                         1.00\n",
      "==============================================================================\n",
      "\n",
      "Warnings:\n",
      "[1] Standard Errors assume that the covariance matrix of the errors is correctly specified.\n"
     ]
    }
   ],
   "source": [
    "# 1 year changes regression: late sample\n",
    "\n",
    "import numpy as np\n",
    "import statsmodels.api as sm\n",
    "import statsmodels.formula.api as smf\n",
    "\n",
    "results = sm.OLS(gdp_cons_df.Delta_C[141:280], gdp_cons_df.Delta_Y[141:280]).fit()\n",
    "\n",
    "print(results.summary())"
   ]
  },
  {
   "cell_type": "code",
   "execution_count": 34,
   "metadata": {},
   "outputs": [
    {
     "name": "stdout",
     "output_type": "stream",
     "text": [
      "0.7269333333333333\n",
      "0.6577333333333334\n",
      "0.8593333333333333\n"
     ]
    }
   ],
   "source": [
    "# Task G answers\n",
    "\n",
    "t = 0.25\n",
    "c_y_1_year = 0.5452/(1-t)\n",
    "c_y_1_year_early_sample = 0.4933/(1-t)\n",
    "c_y_1_year_late_sample = 0.6445/(1-t)\n",
    "\n",
    "print(c_y_1_year)\n",
    "print(c_y_1_year_early_sample)\n",
    "print(c_y_1_year_late_sample)"
   ]
  },
  {
   "cell_type": "code",
   "execution_count": 32,
   "metadata": {},
   "outputs": [
    {
     "name": "stdout",
     "output_type": "stream",
     "text": [
      "0.7269333333333333\n",
      "0.4933\n",
      "0.6445\n"
     ]
    }
   ],
   "source": [
    "import numpy as np\n",
    "ok.grade('q04')"
   ]
  },
  {
   "cell_type": "code",
   "execution_count": 21,
   "metadata": {},
   "outputs": [
    {
     "name": "stdout",
     "output_type": "stream",
     "text": [
      "                            OLS Regression Results                            \n",
      "==============================================================================\n",
      "Dep. Variable:               Delta_C1   R-squared:                       0.596\n",
      "Model:                            OLS   Adj. R-squared:                  0.595\n",
      "Method:                 Least Squares   F-statistic:                     412.1\n",
      "Date:                Sat, 10 Mar 2018   Prob (F-statistic):           6.89e-57\n",
      "Time:                        07:01:17   Log-Likelihood:                 1110.4\n",
      "No. Observations:                 280   AIC:                            -2219.\n",
      "Df Residuals:                     279   BIC:                            -2215.\n",
      "Df Model:                           1                                         \n",
      "Covariance Type:            nonrobust                                         \n",
      "==============================================================================\n",
      "                 coef    std err          t      P>|t|      [0.025      0.975]\n",
      "------------------------------------------------------------------------------\n",
      "Delta_Y1       0.4527      0.022     20.300      0.000       0.409       0.497\n",
      "==============================================================================\n",
      "Omnibus:                      140.997   Durbin-Watson:                   2.173\n",
      "Prob(Omnibus):                  0.000   Jarque-Bera (JB):             1853.783\n",
      "Skew:                          -1.681   Prob(JB):                         0.00\n",
      "Kurtosis:                      15.149   Cond. No.                         1.00\n",
      "==============================================================================\n",
      "\n",
      "Warnings:\n",
      "[1] Standard Errors assume that the covariance matrix of the errors is correctly specified.\n"
     ]
    },
    {
     "data": {
      "image/png": "[encoded data removed]",
      "text/plain": [
       "<matplotlib.figure.Figure at 0x11eebbac8>"
      ]
     },
     "metadata": {},
     "output_type": "display_data"
    }
   ],
   "source": [
    "import numpy as np\n",
    "import statsmodels.api as sm\n",
    "import statsmodels.formula.api as smf\n",
    "\n",
    "Delta_C1 = []\n",
    "Delta_Y1 = []\n",
    "\n",
    "for t in range(280):\n",
    "    Delta_C1 = Delta_C1 + [(gdp_cons_df.PCECC96[t+1]-\n",
    "        gdp_cons_df.PCECC96[t])/gdp_cons_df.GDPC1[t]]\n",
    "    Delta_Y1 = Delta_Y1 + [(gdp_cons_df.GDPC1[t+1]-\n",
    "        gdp_cons_df.GDPC1[t])/gdp_cons_df.GDPC1[t]]\n",
    "\n",
    "Delta_C1 = Delta_C1 + [0] + [0] + [0] + [0]\n",
    "Delta_Y1 = Delta_Y1 + [0] + [0] + [0] + [0]\n",
    "\n",
    "gdp_cons_df['Delta_C1'] = Delta_C1\n",
    "gdp_cons_df['Delta_Y1'] = Delta_Y1\n",
    "\n",
    "plt.plot(gdp_cons_df.Delta_Y1[:280], gdp_cons_df.Delta_C1[:280], \"o\")\n",
    "\n",
    "results = sm.OLS(gdp_cons_df.Delta_C1[:280], gdp_cons_df.Delta_Y1[:280]).fit()\n",
    "\n",
    "print(results.summary())"
   ]
  },
  {
   "cell_type": "code",
   "execution_count": 24,
   "metadata": {},
   "outputs": [
    {
     "data": {
      "text/plain": [
       "205891132094643.38"
      ]
     },
     "execution_count": 24,
     "metadata": {},
     "output_type": "execute_result"
    }
   ],
   "source": [
    "# DRAFT ANSWERS FOR TASK C\n",
    "\n",
    "YoLbg20 = 3.000  # (1)(a)\n",
    "YoLbg21 = 3.389  # (1)(b)\n",
    "YoLbg22 = 3.948  # (1)(c)\n",
    "YoLbg23 = 4.804  # (1)(d)\n",
    "YoLbg24 = 6.240  # (1)(e)\n",
    "YoLbg25 = 9.000  # (1)(f)\n",
    "\n",
    "YoLbg30 = 27.00  # (1)(a)\n",
    "YoLbg31 = 110.9  # (1)(b)\n",
    "YoLbg32 = 3787  # (1)(c)\n",
    "\n",
    "E = 1\n",
    "s = 0.18\n",
    "g = 0.02\n",
    "n = 0.01\n",
    "delta = 0.03\n",
    "alpha = 0.75\n",
    "eta = 0.3\n",
    "\n",
    "\n",
    "YoLbg = ((s/(n+g+delta))**(alpha/(1-alpha-eta*alpha)) *\n",
    "         E**((1-alpha)/(1-alpha-eta*alpha)))\n",
    "\n",
    "YoLbg"
   ]
  },
  {
   "cell_type": "markdown",
   "metadata": {
    "deletable": false,
    "manual_grade": true,
    "manual_problem_id": "PS6TE"
   },
   "source": [
    "### Markdown Cell for Answer to Task C(3)\n",
    "\n",
    "&nbsp;\n",
    "\n",
    "<font color=\"blue\">ANSWER: </font>"
   ]
  },
  {
   "cell_type": "code",
   "execution_count": 25,
   "metadata": {},
   "outputs": [
    {
     "name": "stdout",
     "output_type": "stream",
     "text": [
      "~~~~~~~~~~~~~~~~~~~~~~~~~~~~~~~~~~~~~~~~~~~~~~~~~~~~~~~~~~~~~~~~~~~~~\n",
      "Running tests\n",
      "\n",
      "---------------------------------------------------------------------\n",
      "Test summary\n",
      "    Passed: 2\n",
      "    Failed: 0\n",
      "[ooooooooook] 100.0% passed\n",
      "\n"
     ]
    },
    {
     "data": {
      "text/plain": [
       "{'failed': 0, 'locked': 0, 'passed': 2}"
      ]
     },
     "execution_count": 25,
     "metadata": {},
     "output_type": "execute_result"
    }
   ],
   "source": [
    "import numpy as np\n",
    "ok.grade('q02')"
   ]
  },
  {
   "cell_type": "markdown",
   "metadata": {},
   "source": [
    "----\n",
    "\n",
    "&nbsp;"
   ]
  },
  {
   "cell_type": "markdown",
   "metadata": {},
   "source": [
    "**(Task D) Cross-Country Productivity Differences II**\n",
    "\n",
    "Consider an economy with a capital accumulation rate that depends on the relative price of capital goods $ p_k $ thus:\n",
    "\n",
    "&nbsp;&nbsp;&nbsp;&nbsp;&nbsp;&nbsp;&nbsp;&nbsp;&nbsp;\n",
    "$ \\frac{d\\left(ln(K)\\right)}{dt} = \n",
    "\\left(\\frac{s}{p_k}\\right)\\left(\\frac{Y}{K}\\right) - \\delta $\n",
    "\n",
    "in which the relative price of capital goods is a function of the efficiency of labor:\n",
    "\n",
    "&nbsp;&nbsp;&nbsp;&nbsp;&nbsp;&nbsp;&nbsp;&nbsp;&nbsp;\n",
    "$ p_k = E^{-\\eta} $\n",
    "\n",
    "and which has an initial efficiency of labor $ E_0 $, an initial capital-output ratio $ K_0/Y_0 $, a constant efficiency of labor growth rate g, a constant population growth rate n, and a production function:\n",
    "\n",
    "&nbsp;&nbsp;&nbsp;&nbsp;&nbsp;&nbsp;&nbsp;&nbsp;&nbsp;\n",
    "$ \\frac{Y}{L} = \\left(\\frac{K}{Y}\\right)^{\\frac{\\alpha}{1-\\alpha}}E $\n",
    "\n",
    "The code cell below contains a small program to simulate this model for different parameter values and initial conditions. It is initially set up with:\n",
    "\n",
    "* s = 0.18\n",
    "* g = 0.02\n",
    "* n = 0.01\n",
    "* $ \\delta = 0.03 $\n",
    "* $ \\eta = 0.0 $\n",
    "* $ \\alpha = 1/3 $\n",
    "* $ L_0 = 1 $\n",
    "* $ E_0 = 1 $\n",
    "* $ \\frac{K_0}{Y_0} = 3\n",
    "\n",
    "Run the cell to check that it is working. Then alter the code to consider the cases:\n",
    "\n",
    "* $ \\eta = 0.0 $\n",
    "* $ \\eta = 0.2 $\n",
    "* $ \\eta = 0.4 $\n",
    "* $ \\eta = 0.6 $\n",
    "\n",
    "Examine the results. Assign the appropriate values for output per worker and the capital-output ratio in the hundredth year of the simulation in the code cell \"Code Cell fo rAnswers for Task D\" further below. "
   ]
  },
  {
   "cell_type": "code",
   "execution_count": 26,
   "metadata": {},
   "outputs": [
    {
     "data": {
      "image/png": "[encoded data removed]",
      "text/plain": [
       "<matplotlib.figure.Figure at 0x11f159ef0>"
      ]
     },
     "metadata": {},
     "output_type": "display_data"
    }
   ],
   "source": [
    "# Code cell for simulation for Task (D)\n",
    "\n",
    "# check to see if libraries are in the current kernel\n",
    "import numpy as np\n",
    "import pandas as pd\n",
    "import matplotlib as mpl\n",
    "import matplotlib.pyplot as plt\n",
    "from IPython.display import Image\n",
    "\n",
    "# simulation length\n",
    "T = 100\n",
    "\n",
    "# parameters\n",
    "s = 0.18\n",
    "g = 0.02\n",
    "n = 0.01\n",
    "delta = 0.03\n",
    "eta = 0.6\n",
    "alpha = 1/3\n",
    "\n",
    "# initial conditions\n",
    "L_0 = 1\n",
    "E_0 = 1\n",
    "KoY_0 = 3\n",
    "\n",
    "\n",
    "sg_df = pd.DataFrame(index=range(T),columns=['Labor', \n",
    "    'Efficiency',\n",
    "    'Capital',\n",
    "    'Output',\n",
    "    'Output_per_Worker',\n",
    "    'Capital_Output_Ratio',\n",
    "    'Price_of_Capital'],\n",
    "    dtype='float')\n",
    "\n",
    "sg_df.Labor[0] = L_0\n",
    "sg_df.Efficiency[0] = E_0\n",
    "sg_df.Price_of_Capital[0] = sg_df.Efficiency[0]**(-eta)\n",
    "sg_df.Capital_Output_Ratio[0] = KoY_0\n",
    "sg_df.Output_per_Worker[0] = (sg_df.Capital_Output_Ratio[0]**(alpha/(1-alpha)) *\n",
    "                             sg_df.Efficiency[0])\n",
    "sg_df.Output[0] = sg_df.Output_per_Worker[0] * sg_df.Labor[0]\n",
    "sg_df.Capital[0] = sg_df.Output[0] * sg_df.Capital_Output_Ratio[0]\n",
    "\n",
    "for i in range(T):\n",
    "    sg_df.Labor[i+1] = (sg_df.Labor[i] * np.exp(n))\n",
    "    sg_df.Efficiency[i+1] = (sg_df.Efficiency[i] * np.exp(g))\n",
    "    sg_df.Capital[i+1] = (sg_df.Capital[i] * np.exp(s\n",
    "        *sg_df.Output[i]/(sg_df.Capital[i]*sg_df.Price_of_Capital[i]) - \n",
    "        delta))\n",
    "    sg_df.Output[i+1] = (sg_df.Capital[i+1]**alpha * \n",
    "        (sg_df.Labor[i+1] * sg_df.Efficiency[i+1])**(1-alpha))\n",
    "    sg_df.Output_per_Worker[i+1] = sg_df.Output[i+1]/sg_df.Labor[i+1]\n",
    "    sg_df.Capital_Output_Ratio[i+1] = (sg_df.Capital[i+1]/\n",
    "        sg_df.Output[i+1])\n",
    "    sg_df.Price_of_Capital[i+1] = sg_df.Efficiency[i+1]**(-eta)\n",
    "\n",
    "fig = plt.figure(figsize=(12, 8))\n",
    "\n",
    "ax1 = plt.subplot(2,3,1)\n",
    "sg_df.Labor.plot(ax = ax1, title = \"Labor Force\")\n",
    "plt.ylabel(\"Values\")\n",
    "plt.ylim(0, )\n",
    "\n",
    "ax2 = plt.subplot(2,3,2)\n",
    "sg_df.Efficiency.plot(ax = ax2, title = \"Efficiency of Labor\")\n",
    "plt.ylim(0, )\n",
    "    \n",
    "ax3 = plt.subplot(2,3,3)\n",
    "sg_df.Capital.plot(ax = ax3, title = \"Capital Stock\")\n",
    "plt.ylim(0, )\n",
    "\n",
    "ax4 = plt.subplot(2,3,4)\n",
    "sg_df.Output.plot(ax = ax4, title = \"Output\")\n",
    "plt.ylim(0, )\n",
    "plt.xlabel(\"Years\")\n",
    "plt.ylabel(\"Values\")\n",
    "\n",
    "ax5 = plt.subplot(2,3,5)\n",
    "sg_df.Output_per_Worker.plot(ax = ax5, title = \"Output per Worker\")\n",
    "plt.xlabel(\"Years\")\n",
    "plt.ylim(0, )\n",
    "\n",
    "ax6 = plt.subplot(2,3,6)\n",
    "sg_df.Capital_Output_Ratio.plot(ax = ax6, \n",
    "    title = \"Capital-Output Ratio\")\n",
    "plt.xlabel(\"Years\")\n",
    "plt.ylim(0, )\n",
    "\n",
    "plt.suptitle('Solow Growth Model: Simulation Run', size = 20)\n",
    "\n",
    "plt.show()"
   ]
  },
  {
   "cell_type": "code",
   "execution_count": 27,
   "metadata": {},
   "outputs": [
    {
     "ename": "SyntaxError",
     "evalue": "invalid syntax (<ipython-input-27-523ba44993b2>, line 3)",
     "output_type": "error",
     "traceback": [
      "\u001b[0;36m  File \u001b[0;32m\"<ipython-input-27-523ba44993b2>\"\u001b[0;36m, line \u001b[0;32m3\u001b[0m\n\u001b[0;31m    YoL100eta0 =\u001b[0m\n\u001b[0m                 ^\u001b[0m\n\u001b[0;31mSyntaxError\u001b[0m\u001b[0;31m:\u001b[0m invalid syntax\n"
     ]
    }
   ],
   "source": [
    "# Code Cell for Answers for Task D\n",
    "\n",
    "YoL100eta0 = \n",
    "YoL100eta2 =\n",
    "YoL100eta4 =\n",
    "YoL100eta6 =\n",
    "\n",
    "KoY100eta0 =\n",
    "KoY100eta2 =\n",
    "KoY100eta4 =\n",
    "KoY100eta6 ="
   ]
  },
  {
   "cell_type": "code",
   "execution_count": null,
   "metadata": {
    "collapsed": true
   },
   "outputs": [],
   "source": [
    "# DRAFT ANSWERS for Task D\n",
    "\n",
    "YoL100eta0 = 12.798\n",
    "YoL100eta2 = 14.912\n",
    "YoL100eta4 = 17.442\n",
    "YoL100eta6 = 20.468\n",
    "\n",
    "KoY100eta0 = 3.000\n",
    "KoY100eta2 = 4.073\n",
    "KoY100eta4 = 5.572\n",
    "KoY100eta6 = 7.673"
   ]
  },
  {
   "cell_type": "code",
   "execution_count": null,
   "metadata": {
    "collapsed": true
   },
   "outputs": [],
   "source": [
    "import numpy as np\n",
    "ok.grade('q03')"
   ]
  },
  {
   "cell_type": "markdown",
   "metadata": {},
   "source": [
    "----\n",
    "\n",
    "&nbsp;"
   ]
  },
  {
   "cell_type": "markdown",
   "metadata": {},
   "source": [
    "**(Task E) Cross-Country Productivity Differences III**\n",
    "\n"
   ]
  },
  {
   "cell_type": "code",
   "execution_count": null,
   "metadata": {
    "collapsed": true
   },
   "outputs": [],
   "source": [
    "_ = ok.submit()"
   ]
  },
  {
   "cell_type": "markdown",
   "metadata": {},
   "source": [
    "### FOR PROBLEM SET 8:\n",
    "\n",
    "&nbsp;"
   ]
  },
  {
   "cell_type": "markdown",
   "metadata": {},
   "source": [
    "&nbsp;&nbsp;&nbsp;&nbsp;&nbsp;&nbsp;&nbsp;&nbsp;&nbsp;\n",
    "$ \\frac{d(K/Y)}{dt} = \n",
    "-(1-\\alpha)(n+g+\\delta)\n",
    "\\left[\\frac{K}{Y} - \\frac{s}{n+g+\\delta}\\right] $\n",
    "\n",
    "&nbsp;&nbsp;&nbsp;&nbsp;&nbsp;&nbsp;&nbsp;&nbsp;&nbsp;\n",
    "$ \\frac{d(ln(Y/L))}{dt} = \n",
    "\\frac{\\alpha}{1-\\alpha}\n",
    "\\frac{d(ln(K/Y))}{dt} + \n",
    "g $"
   ]
  },
  {
   "cell_type": "markdown",
   "metadata": {},
   "source": [
    "&nbsp;&nbsp;&nbsp;&nbsp;&nbsp;&nbsp;&nbsp;&nbsp;&nbsp;\n",
    "$ \\frac{d\\left(ln(K)\\right)}{dt} = \n",
    "s\\left(\\frac{Y}{L}\\right)^{\\eta}\n",
    "\\left(\\frac{Y}{K}\\right) - \n",
    "\\delta $\n",
    "\n",
    "&nbsp;&nbsp;&nbsp;&nbsp;&nbsp;&nbsp;&nbsp;&nbsp;&nbsp;\n",
    "$ \\frac{d\\left(ln(K)\\right)}{dt} = \n",
    "sE^{\\eta}\n",
    "\\left(\\frac{K}{Y}\\right)^{\\frac{\\eta\\alpha+\\alpha-1}{1-\\alpha}} - \n",
    "\\delta $\n",
    "\n",
    "\n",
    "\n",
    "&nbsp;&nbsp;&nbsp;&nbsp;&nbsp;&nbsp;&nbsp;&nbsp;&nbsp;\n",
    "$ \\frac{d\\left(ln(Y)\\right)}{dt} =\n",
    "\\left(\\frac{\\alpha}{1-\\alpha}\\right)\\frac{d\\left(ln(K)\\right)}{dt} +\n",
    "n + g $\n",
    "\n",
    "\n",
    "\n",
    "and which has an initial efficiency of labor $ E_0 $, an initial capital-output ratio $ K_0/Y_0 $, a constant efficiency of labor growth rate g, a constant population growth rate n, and a production function:\n",
    "\n",
    "&nbsp;&nbsp;&nbsp;&nbsp;&nbsp;&nbsp;&nbsp;&nbsp;&nbsp;\n",
    "$ \\frac{Y}{L} = \\left(\\frac{K}{Y}\\right)^{\\frac{\\alpha}{1-\\alpha}}E $\n",
    "\n",
    "----\n",
    "\n",
    "&nbsp;"
   ]
  },
  {
   "cell_type": "code",
   "execution_count": null,
   "metadata": {
    "collapsed": true
   },
   "outputs": [],
   "source": [
    "ok.grade('q01')"
   ]
  },
  {
   "cell_type": "markdown",
   "metadata": {},
   "source": [
    "**(Task C) Cross-Country Productivity Differences II**\n",
    "\n",
    "Consider an economy with a capital accumulation rate:\n",
    "\n",
    "&nbsp;&nbsp;&nbsp;&nbsp;&nbsp;&nbsp;&nbsp;&nbsp;&nbsp;\n",
    "$ \\frac{d\\left(ln(K)\\right)}{dt} = \n",
    "s\\left(\\frac{Y}{K}\\right) - \\delta $\n",
    "\n",
    "in which the rate of population growth is, because of the demographic transition:\n",
    "\n",
    "&nbsp;&nbsp;&nbsp;&nbsp;&nbsp;&nbsp;&nbsp;&nbsp;&nbsp;\n",
    "$ n = {n_0}e^{-{\\lambda}\\left(\\frac{Y}{L}\\right)} $\n",
    "\n",
    "and which has an initial efficiency of labor $ E_0 $, an initial capital-output ratio $ K_0/Y_0 $, a constant efficiency of labor growth rate g, and a production function:\n",
    "\n",
    "&nbsp;&nbsp;&nbsp;&nbsp;&nbsp;&nbsp;&nbsp;&nbsp;&nbsp;\n",
    "$ \\frac{Y}{L} = \\left(\\frac{K}{Y}\\right)^{\\frac{\\alpha}{1-\\alpha}}E $\n",
    "\n",
    "----\n",
    "\n",
    "&nbsp;"
   ]
  },
  {
   "cell_type": "code",
   "execution_count": null,
   "metadata": {
    "collapsed": true
   },
   "outputs": [],
   "source": [
    "ok.grade('q02')"
   ]
  },
  {
   "cell_type": "markdown",
   "metadata": {},
   "source": [
    "**(Task B) Measuring Growth**\n",
    "\n",
    "Why do many economists think that the consumer price index overstates the true rate of inflation?\n",
    "\n",
    "----\n",
    "\n",
    "&nbsp;"
   ]
  },
  {
   "cell_type": "markdown",
   "metadata": {},
   "source": [
    "**(Task E) Intellectual Property**\n",
    "\n",
    "What are the arguments for having a strong patent system to boost economic growth? What are the arguments for having a weak system of protections of intellectual property? Under what systems do you think that the first will outweigh the second? Under what circum  stances do you think that the second will outweigh the first?\n",
    "\n",
    "----\n",
    "\n",
    "&nbsp;"
   ]
  },
  {
   "cell_type": "markdown",
   "metadata": {},
   "source": [
    "**(Task F) International Organizations**\n",
    "\n",
    "What steps do you think that international organizations—the U.N., the World Bank, or the IMF—could take to improve political leaders’ incentives to follow growth-promoting policies?\n",
    "\n",
    "----\n",
    "\n",
    "&nbsp;"
   ]
  },
  {
   "cell_type": "markdown",
   "metadata": {},
   "source": [
    "**(Task I) Endogenous Growth**\n",
    "\n",
    "The endogenous growth theorists, led by Stanford’s Paul Romer, argue that separating the determinants of the ef  ficiency of labor from investment is a mistake, because investment both raises the capital-worker ratio and in  creases the efficiency of labor as workers learn about the new technology installed with the purchase of new, modern capital goods. If the endogenous growth theo  rists are correct, is the case for government policies to boost national saving and investment rates strengthened or weakened? Why"
   ]
  },
  {
   "cell_type": "markdown",
   "metadata": {},
   "source": [
    "Now insert code cells between this markdown cell and the \"# Task B answer variables\" code cell. In them, run three simulations—logs and levels—in each of them, respectively, boosting one of the savings rate, the efficiency of labor growth rate, and the labor force growth rate by one percentage point over their default values in the function. \n",
    "\n",
    "Also calculate the values of log(K/Y) in the 50th year of the simulation for each of your three simulations. In the \"# Task B answer variables\" code cell, set the variables equal to their values in your three respective simulation runs. In the \"Task B Answer Description\" markdown cell, write two paragraphs telling us what you find out about the effects of these different changes in the economic environment on a Solow growth model economy from these simulation runs:"
   ]
  },
  {
   "cell_type": "code",
   "execution_count": null,
   "metadata": {
    "collapsed": true
   },
   "outputs": [],
   "source": [
    "# Task B answer variables\n",
    "\n",
    "KoverY_50_splus = __ # In the simulation run boosting the savings rate, the value of \n",
    "                     # the capital output ratio in the 50th year goes here\n",
    "\n",
    "KoverY_50_nplus = __ # In the simulation run boosting the labor force growth rate, the\n",
    "                     #  value of the capital output ratio in the 50th year goes here\n",
    "\n",
    "KoverY_50_gplus = __ # In the simulation run boosting the efficiency of labor growth\n",
    "                     # rate, the log value of the capital output ratio in the 50th year \n",
    "                     # goes here"
   ]
  },
  {
   "cell_type": "markdown",
   "metadata": {
    "deletable": false,
    "manual_grade": true,
    "manual_problem_id": "Task B Answer Discussion"
   },
   "source": [
    "**Task B Answer Discussion**:\n",
    "\n"
   ]
  },
  {
   "cell_type": "code",
   "execution_count": null,
   "metadata": {
    "collapsed": true
   },
   "outputs": [],
   "source": [
    "ok.grade('q01')"
   ]
  },
  {
   "cell_type": "markdown",
   "metadata": {},
   "source": [
    "----\n",
    "\n",
    "&nbsp;"
   ]
  },
  {
   "cell_type": "code",
   "execution_count": null,
   "metadata": {
    "collapsed": true
   },
   "outputs": [],
   "source": [
    "# FUNCTION FOR CALCULATING AND GRAPHING THE LEVELS OF \n",
    "# SOLOW GROWTH MODEL VARIABLES IN SIMULATIONS\n",
    "#\n",
    "# might as well put \"check that common libraries are active\" as a default header\n",
    "# in every long python code cell...\n",
    "\n",
    "import matplotlib as mpl\n",
    "import matplotlib.pyplot as plt\n",
    "import pandas as pd\n",
    "import scipy as sp\n",
    "import numpy as np\n",
    "%matplotlib inline\n",
    "\n",
    "# we are going to want to see what happens for lots of\n",
    "# different model parameter values and ini conditions,\n",
    "# so stuff our small simulation program inside a function, so \n",
    "# we can then invoke it with a single line...\n",
    "#\n",
    "# we are going to assume the economy starts on its ini\n",
    "# balanced growth path...\n",
    "#\n",
    "# we are going to want to keep track not just of what the\n",
    "# economy's variables are at each point in time, but also \n",
    "# what the ini and alternative balanced-growth path \n",
    "# values of variables are. Given the parameters, the new BGP \n",
    "# is attracting the economy to it at the speed (1-α)(n+g+δ), \n",
    "# closing that fraction of the gap between its current state \n",
    "# and the balanced growth path attractor every period...\n",
    "\n",
    "def sgm_bgp_100yr_run(L0, E0, n=0.01, g=0.01, s=0.20, \n",
    "    alpha=0.5, delta=0.03, Delta_s=0, Delta_g=0, Delta_n=0, \n",
    "    T = 100):\n",
    "\n",
    "    sg_df = pd.DataFrame(index=range(T),columns=[\n",
    "        'Labor', \n",
    "        'Efficiency',\n",
    "        'Capital',\n",
    "        'Output',\n",
    "        'Output_per_Worker',\n",
    "        'Capital_Output_Ratio',\n",
    "        'BGP_ini_Labor',\n",
    "        'BGP_ini_Eff',\n",
    "        'BGP_ini_Capital',\n",
    "        'BGP_ini_Output',\n",
    "        'BGP_ini_Output_per_Worker',\n",
    "        'BGP_ini_Capital_Output_Ratio',\n",
    "        'BGP_alt_Labor',\n",
    "        'BGP_alt_Eff',\n",
    "        'BGP_alt_Capital',\n",
    "        'BGP_alt_Output',\n",
    "        'BGP_alt_Output_per_Worker',\n",
    "        'BGP_alt_Capital_Output_Ratio'],\n",
    "        dtype='float')\n",
    "\n",
    "    sg_df.Labor[0] = L0\n",
    "    sg_df.BGP_ini_Labor[0] = L0\n",
    "    sg_df.BGP_alt_Labor[0] = L0\n",
    "    sg_df.Efficiency[0] = E0\n",
    "    sg_df.BGP_ini_Eff[0] = E0\n",
    "    sg_df.BGP_alt_Eff[0] = E0\n",
    "    KoverY_ini_steady_state = s/(n+g+delta)\n",
    "    YoverL_ini_steady_state = ((s/(n+g+delta))**(alpha/(1-alpha)) \n",
    "        * E0)\n",
    "    KoverL_ini_steady_state = (YoverL_ini_steady_state *\n",
    "        KoverY_ini_steady_state)\n",
    "    sg_df.Capital[0] = KoverL_ini_steady_state * L0\n",
    "    sg_df.Output[0] = (sg_df.Capital[0]**alpha * (sg_df.Labor[0] * \n",
    "        sg_df.Efficiency[0])**(1-alpha))\n",
    "    sg_df.Output_per_Worker[0] = sg_df.Output[0]/sg_df.Labor[0]\n",
    "    sg_df.Capital_Output_Ratio[0] = sg_df.Capital[0]/sg_df.Output[0]\n",
    "    \n",
    "    sg_df.BGP_ini_Capital_Output_Ratio[0] = (s / (n + g + delta))\n",
    "    sg_df.BGP_ini_Output_per_Worker[0] = sg_df.Efficiency[0] * (\n",
    "        sg_df.BGP_ini_Capital_Output_Ratio[0]*(alpha/(1 - alpha)))\n",
    "    sg_df.BGP_ini_Output[0] = sg_df.BGP_ini_Output_per_Worker[0] * sg_df.Labor[0]\n",
    "    sg_df.BGP_ini_Capital[0] = sg_df.Labor[0] * sg_df.Efficiency[0] * (\n",
    "        sg_df.BGP_ini_Capital_Output_Ratio[0]*(1/(1 - alpha)))\n",
    "    \n",
    "    sg_df.BGP_alt_Capital_Output_Ratio[0] = ((s + Delta_s) / \n",
    "        (n + Delta_n + g + Delta_g + delta))\n",
    "    sg_df.BGP_alt_Output_per_Worker[0] = sg_df.Efficiency[0] * (\n",
    "        sg_df.BGP_alt_Capital_Output_Ratio[0]*(alpha/(1 - alpha)))\n",
    "    sg_df.BGP_alt_Output[0] = sg_df.BGP_alt_Output_per_Worker[0] * sg_df.Labor[0]\n",
    "    sg_df.BGP_alt_Capital[0] = sg_df.Labor[0] * sg_df.Efficiency[0] * (\n",
    "        sg_df.BGP_alt_Capital_Output_Ratio[0]*(1/(1 - alpha)))\n",
    "    \n",
    "\n",
    "    for i in range(T):\n",
    "        sg_df.Labor[i+1] = (sg_df.Labor[i] * np.exp(n + Delta_n))\n",
    "        sg_df.Efficiency[i+1] = (sg_df.Efficiency[i] * np.exp(g + Delta_g))\n",
    "        KoverY_current = sg_df.Capital[i]/sg_df.Output[i]\n",
    "        sg_df.Capital[i+1] = (sg_df.Capital[i] * np.exp((s+Delta_s)/ \n",
    "            KoverY_current - delta))\n",
    "        sg_df.Output[i+1] = (sg_df.Capital[i+1]**alpha * \n",
    "            (sg_df.Labor[i+1] * sg_df.Efficiency[i+1])**(1-alpha))\n",
    "        sg_df.Output_per_Worker[i+1] = sg_df.Output[i+1]/sg_df.Labor[i+1]\n",
    "        sg_df.Capital_Output_Ratio[i+1] = (sg_df.Capital[i+1]/\n",
    "            sg_df.Output[i+1])\n",
    "        \n",
    "        sg_df.BGP_ini_Labor[i+1] = (sg_df.BGP_ini_Labor[i] * np.exp(n))\n",
    "        sg_df.BGP_ini_Eff[i+1] = (sg_df.BGP_ini_Eff[i] * np.exp(g))\n",
    "        sg_df.BGP_ini_Capital_Output_Ratio[i+1] = (s / (n + g + delta))\n",
    "        sg_df.BGP_ini_Output_per_Worker[i+1] = sg_df.BGP_ini_Eff[i+1] * (\n",
    "            sg_df.BGP_ini_Capital_Output_Ratio[i+1]**(alpha/(1 - alpha)))\n",
    "        sg_df.BGP_ini_Output[i+1] = (sg_df.BGP_ini_Output_per_Worker[i+1] * \n",
    "            sg_df.BGP_ini_Labor[i+1])\n",
    "        sg_df.BGP_ini_Capital[i+1] = (s / (n + g + delta))**(1/(1-alpha)) * (\n",
    "            sg_df.BGP_ini_Eff[i+1] * sg_df.BGP_ini_Labor[i+1])\n",
    "        \n",
    "        sg_df.BGP_alt_Labor[i+1] = (sg_df.BGP_alt_Labor[i] * np.exp(n+ Delta_n))\n",
    "        sg_df.BGP_alt_Eff[i+1] = (sg_df.BGP_alt_Eff[i] * np.exp(g+ Delta_g))\n",
    "        sg_df.BGP_alt_Capital_Output_Ratio[i+1] = ((s+ Delta_s) / \n",
    "            (n + Delta_n + g + Delta_g + delta))\n",
    "        sg_df.BGP_alt_Output_per_Worker[i+1] = sg_df.BGP_alt_Eff[i+1] * (\n",
    "            sg_df.BGP_alt_Capital_Output_Ratio[i+1]**(alpha/(1 - alpha)))\n",
    "        sg_df.BGP_alt_Output[i+1] = (sg_df.BGP_alt_Output_per_Worker[i+1] * \n",
    "            sg_df.BGP_alt_Labor[i+1])\n",
    "        sg_df.BGP_alt_Capital[i+1] = ((s + Delta_s) / (n + Delta_n + \n",
    "            g + Delta_g + delta))**(1/(1-alpha)) * (\n",
    "            sg_df.BGP_alt_Eff[i+1] * sg_df.BGP_alt_Labor[i+1])\n",
    "        \n",
    "    fig = plt.figure(figsize=(12, 12))\n",
    "\n",
    "    ax1 = plt.subplot(3,2,1)\n",
    "    sg_df.Labor.plot(ax = ax1, title = \"Labor Force\")\n",
    "    plt.ylabel(\"Parameters\")\n",
    "    plt.ylim(0, )\n",
    "\n",
    "    ax2 = plt.subplot(3,2,2)\n",
    "    sg_df.Efficiency.plot(ax = ax2, title = \"Efficiency of Labor\")\n",
    "    plt.ylim(0, )\n",
    "    \n",
    "    ax3 = plt.subplot(3,2,3)\n",
    "    sg_df.BGP_ini_Capital.plot(ax = ax3, title = \"BGP (ini) Capital Stock\")\n",
    "    sg_df.BGP_alt_Capital.plot(ax = ax3, title = \"BGP (alt) Capital Stock\")\n",
    "    sg_df.Capital.plot(ax = ax3, title = \"Capital Stock\")\n",
    "    plt.ylabel(\"Values\")\n",
    "    plt.ylim(0, )\n",
    "\n",
    "    ax4 = plt.subplot(3,2,4)\n",
    "    sg_df.BGP_ini_Output.plot(ax = ax4, title = \"BGP (ini) Output\")\n",
    "    sg_df.BGP_alt_Output.plot(ax = ax4, title = \"BGP (alt) Output\")\n",
    "    sg_df.Output.plot(ax = ax4, title = \"Output\")\n",
    "    plt.ylim(0, )\n",
    "\n",
    "    ax5 = plt.subplot(3,2,5)\n",
    "    sg_df.BGP_ini_Output_per_Worker.plot(ax = ax5, title = \"BGP (ini) Output per Worker\")\n",
    "    sg_df.BGP_alt_Output_per_Worker.plot(ax = ax5, title = \"BGP (alt) Output per Worker\")\n",
    "    sg_df.Output_per_Worker.plot(ax = ax5, title = \"Output per Worker\")\n",
    "    plt.xlabel(\"Years\")\n",
    "    plt.ylabel(\"Ratios\")\n",
    "    plt.ylim(0, )\n",
    "\n",
    "    ax6 = plt.subplot(3,2,6)\n",
    "    sg_df.BGP_ini_Capital_Output_Ratio.plot(ax = ax6, \n",
    "        title = \"BGP (ini) Capital-Output Ratio\")\n",
    "    sg_df.BGP_alt_Capital_Output_Ratio.plot(ax = ax6, \n",
    "        title = \"BGP (alt) Capital-Output Ratio\")\n",
    "    sg_df.Capital_Output_Ratio.plot(ax = ax6, \n",
    "        title = \"Capital-Output Ratio\")\n",
    "    plt.xlabel(\"Years\")\n",
    "    plt.ylim(0, )\n",
    "\n",
    "    plt.suptitle('Solow Growth Model: Simulation Run', size = 20)\n",
    "\n",
    "    plt.show()\n",
    "    \n",
    "    print(n + Delta_n, \"is the labor force growth rate\")\n",
    "    print(g + Delta_g, \"is the efficiency of labor growth rate\")\n",
    "    print(delta, \"is the depreciation rate\")\n",
    "    print(s + Delta_s, \"is the savings rate\")\n",
    "    print(alpha, \"is the decreasing-returns-to-scale parameter\")\n",
    "    \n",
    "    return sg_df\n",
    "    \n",
    "# ----\n",
    "\n",
    "sg61_df_Dg.02 = sgm_bgp_100yr_run(L0=150000000, E0=35000, Delta_g=0.02)\n",
    "\n",
    "sgm_bgp_100yr_run(L0=150000000, E0=35000, Delta_s=0.06, s=0.18, n=0.01, g=0.015,\n",
    "    delta=0.035, alpha=2/3)\n",
    "\n",
    "\n",
    "\n"
   ]
  },
  {
   "cell_type": "markdown",
   "metadata": {},
   "source": [
    "**(Task C): Different Values of the Production Function Parameter $\\alpha$**\n",
    "\n",
    "Still working with our two simulation functions:\n",
    "\n",
    "    sgm_bgp_100yr_run(L0, E0, n=0.01, g=0.02, s=0.24,\n",
    "    alpha=0.5, delta=0.03, Delta_s=0, Delta_g=0, Delta_n=0, \n",
    "    T = 100)\n",
    "    \n",
    "and:\n",
    "\n",
    "    log_sgm_bgp_100yr_run(L0, E0, n=0.01, g=0.02, s=0.24, \n",
    "    alpha=0.5, delta=0.03, Delta_s=0, Delta_g=0, Delta_n=0, \n",
    "    T = 100)\n",
    "    \n",
    "Insert code cells immediately below to calculate—logs and levels—the effect in the Solow growth model, starting from our default base case balanced growth path, of a permanent six percentage point increase in the savings-investment rate s for five different values of the production function curvature parameter alpha ($\\alpha$): 1/4, 1/3, 1/2, 2/3, and 3/4. \n",
    "\n",
    "Also calculate the values of log(K/Y) in the 50th year of the simulation for each of your  simulations. In the subsequent code cell \"Task C answer variables\" set the variables equal to their values in your five respective simulation runs.\n",
    "\n",
    "In the subsequent markdown cell \"Task C Answer Discussion\", write two paragraphs about what these simulation runs tell you about the differences between economies in which diminishing returns to scale set in quickly (alpha low, near zero), and economies in which diminishing returns set in slowly because capital has a high weight share in the production function (alpha high, near one):"
   ]
  },
  {
   "cell_type": "code",
   "execution_count": null,
   "metadata": {
    "collapsed": true
   },
   "outputs": [],
   "source": [
    "# Task C answer variables\n",
    "\n",
    "KoverY_50_alphaquarter = __ # In the simulation run boosting the savings rate \n",
    "                            # with alpha=0.25, the value of the capital output\n",
    "                            # ratio in the 50th year goes here\n",
    "\n",
    "KoverY_50_alphathird = __ # In the simulation run boosting the savings rate \n",
    "                          # with alpha=1/3, the value of the capital output\n",
    "                          # ratio in the 50th year goes here\n",
    "\n",
    "KoverY_50_alphahalf = __ # In the simulation run boosting the savings rate \n",
    "                         # with alpha=0.5, the value of the capital output\n",
    "                         # ratio in the 50th year goes here\n",
    "\n",
    "KoverY_50_alphatwothirds = __ # In the simulation run boosting the savings rate \n",
    "                              # with alpha=2/3, the value of the capital output\n",
    "                              # ratio in the 50th year goes here\n",
    "        \n",
    "KoverY_50_alphathreequarters = __ # In the simulation run boosting the savings rate \n",
    "                                  # with alpha=3/4, the value of the capital output\n",
    "                                  # ratio in the 50th year goes here\n"
   ]
  },
  {
   "cell_type": "markdown",
   "metadata": {
    "deletable": false,
    "manual_grade": true,
    "manual_problem_id": "Task C Answer Discussion"
   },
   "source": [
    "**Task C Answer Discussion**:\n",
    "    \n"
   ]
  },
  {
   "cell_type": "code",
   "execution_count": null,
   "metadata": {
    "collapsed": true
   },
   "outputs": [],
   "source": [
    "ok.grade('q02')"
   ]
  },
  {
   "cell_type": "markdown",
   "metadata": {},
   "source": [
    "----\n",
    "\n",
    "&nbsp;"
   ]
  },
  {
   "cell_type": "markdown",
   "metadata": {},
   "source": [
    "**(Task D) Graphing the Production Function**\n",
    "\n",
    "The code cell below calculates and graphs the per-worker version of the production function for alpha = 0.5, E =1. Alter it to calculate the production function for alpha = 0.25, E =2. Run it. In the subsequent markdown cell, describe the differences between the two cases of the production function."
   ]
  },
  {
   "cell_type": "code",
   "execution_count": null,
   "metadata": {
    "collapsed": true
   },
   "outputs": [],
   "source": [
    "alpha = 0.5\n",
    "E = 1\n",
    "\n",
    "output_per_worker = np.zeros((501, 2))\n",
    "\n",
    "for i in range(501):\n",
    "    lowestkoverl = 0\n",
    "    output_per_worker[i, 0] = lowestkoverl + 2 * i\n",
    "    output_per_worker[i, 1] = (output_per_worker[i, 0] ** alpha) * E\n",
    "output_per_worker_df = DataFrame(data = output_per_worker, \n",
    "    columns = [\"Capital_per_Worker\", \"Output_per_Worker\"])\n",
    "\n",
    "output_per_worker_df.set_index('Capital_per_Worker').plot()\n",
    "plt.xlabel(\"Capital per Worker\")\n",
    "plt.ylabel(\"Output per Worker\")\n",
    "plt.ylim(0, )\n",
    "\n",
    "str1 = \"Production Function:\"\n",
    "str2 = \"Output per Worker as a Function of Capital per Worker\"\n",
    "str3 = \"for a Constant Value of the Efficiency of Labor\"\n",
    "str4 = \"α = 0.5, E = 1\"\n",
    "plt.title(str1 + \"\\n\" + str2 + \"\\n\" + str3 + \"\\n\" + str4, size = 20)\n",
    "\n",
    "OPW_halfone = output_per_worker[500, 1]\n",
    "\n",
    "print(\"Output per worker =\", OPW_halfone)"
   ]
  },
  {
   "cell_type": "markdown",
   "metadata": {
    "deletable": false,
    "manual_grade": true,
    "manual_problem_id": "Task D Answer Discussion"
   },
   "source": [
    "**Task D Answer Discussion**"
   ]
  },
  {
   "cell_type": "code",
   "execution_count": null,
   "metadata": {
    "collapsed": true
   },
   "outputs": [],
   "source": [
    "ok.grade('q03')"
   ]
  },
  {
   "cell_type": "markdown",
   "metadata": {},
   "source": [
    "----\n",
    "\n",
    "&nbsp;"
   ]
  },
  {
   "cell_type": "code",
   "execution_count": null,
   "metadata": {
    "collapsed": true
   },
   "outputs": [],
   "source": [
    "# HUMAN POPULATION OVER THE LAST 10000 YEARS\n",
    "\n",
    "# make sure the standard libraries are active\n",
    "\n",
    "import numpy as np\n",
    "import pandas as pd\n",
    "import matplotlib as mpl\n",
    "import matplotlib.pyplot as plt\n",
    "from IPython.display import Image\n",
    "\n",
    "Population = (\n",
    "    [-8000,5],\n",
    "    [-4000, 7],\n",
    "    [-2000, 27],\n",
    "    [-1000, 50],\n",
    "    [-500, 100],\n",
    "    [-200, 150],\n",
    "    [0, 170],\n",
    "    [200, 190],\n",
    "    [400, 190],\n",
    "    [600, 200],\n",
    "    [800, 230],\n",
    "    [1000, 265],\n",
    "    [1200, 360],\n",
    "    [1400, 350],\n",
    "    [1500, 425],\n",
    "    [1600, 545],\n",
    "    [1700, 610],\n",
    "    [1750, 720],\n",
    "    [1800, 900],\n",
    "    [1850, 1200],\n",
    "    [1875, 1325],\n",
    "    [1900, 1625],\n",
    "    [1925, 1875],\n",
    "    [1950, 2516],\n",
    "    [1975, 4000],\n",
    "    [2000, 6100],\n",
    "    [2015, 7250])\n",
    "\n",
    "Population = np.array(Population)\n",
    "Pop_df = pd.DataFrame(Population) \n",
    "Pop_df.columns = ['Date', 'Population']\n",
    "\n",
    "\n",
    "Pop_df['Growth_Rate'] = 0.0\n",
    "Pop_df['Year'] = 0.0\n",
    "\n",
    "for i in range(26):\n",
    "    Pop_df.Growth_Rate[i] = (np.log(Pop_df.Population[i+1]/Pop_df.Population[i])/(Pop_df.Date[i+1]-Pop_df.Date[i]))\n",
    "    Pop_df.Year[i] = Pop_df.Date[i]\n",
    "    \n",
    "Pop_df = Pop_df.set_index('Date')\n",
    "\n",
    "Pop_df.Growth_Rate[2015] = 0.009\n",
    "\n",
    "Pop_df"
   ]
  },
  {
   "cell_type": "code",
   "execution_count": null,
   "metadata": {
    "collapsed": true
   },
   "outputs": [],
   "source": [
    "ok.grade('q04')"
   ]
  },
  {
   "cell_type": "code",
   "execution_count": null,
   "metadata": {
    "collapsed": true
   },
   "outputs": [],
   "source": [
    "fig = plt.figure(figsize=(14, 10))\n",
    "\n",
    "ax1 = plt.subplot(2,2,1)\n",
    "Pop_df.Population.plot(ax = ax1, title = \"Global Human Population Level\")\n",
    "plt.ylabel(\"Millions of People\")\n",
    "plt.xlabel(\"Date\")\n",
    "    \n",
    "ax2 = plt.subplot(2,2,2)\n",
    "Pop_df.Growth_Rate.plot(ax = ax2, title = \"Global Human Population Growth Rate\")\n",
    "ax2.yaxis.set_major_formatter(mpl.ticker.FuncFormatter('{:.2%}'.format))\n",
    "plt.ylabel(\"Growth Rate\")\n",
    "plt.xlabel(\"Date\")\n",
    "\n",
    "ax3 = plt.subplot(2,2,3)\n",
    "Pop_df.Population[18:].plot(ax = ax3)\n",
    "plt.ylabel(\"Millions of People\")\n",
    "plt.xlabel(\"Date\")\n",
    "plt.ylim(0,)\n",
    "    \n",
    "ax4 = plt.subplot(2,2,4)\n",
    "Pop_df.Growth_Rate[18:].plot(ax = ax4)\n",
    "ax4.yaxis.set_major_formatter(mpl.ticker.FuncFormatter('{:.2%}'.format))\n",
    "plt.ylabel(\"Growth Rate\")\n",
    "plt.xlabel(\"Date\")\n",
    "plt.ylim(0,)\n",
    "    \n",
    "plt.suptitle('Long Run Human Demographic History', size = 28)"
   ]
  },
  {
   "cell_type": "code",
   "execution_count": null,
   "metadata": {
    "collapsed": true
   },
   "outputs": [],
   "source": [
    "# FUNCTION FOR CALCULATING AND GRAPHING THE LEVELS OF \n",
    "# SOLOW GROWTH MODEL VARIABLES IN MALTHUSIAN SIMULATIONS\n",
    "#\n",
    "# IDEAS H AND RESOURCES N AS PRIMITIVES RATHER THAN EFFICIENCY E\n",
    "#\n",
    "# might as well put \"check that common libraries are active\" as a default header\n",
    "# in every long python code cell...\n",
    "\n",
    "import matplotlib as mpl\n",
    "import matplotlib.pyplot as plt\n",
    "import pandas as pd\n",
    "import scipy as sp\n",
    "import numpy as np\n",
    "%matplotlib inline\n",
    "\n",
    "# we are going to want to see what happens for lots of\n",
    "# different model parameter values and ini conditions,\n",
    "# so stuff our small simulation program inside a function, so \n",
    "# we can then invoke it with a single line...\n",
    "#\n",
    "# we are going to assume the economy starts on its ini\n",
    "# balanced growth path...\n",
    "#\n",
    "# we are going to want to keep track not just of what the\n",
    "# economy's variables are at each point in time, but also \n",
    "# what the ini and alternative balanced-growth path \n",
    "# values of variables are. Given the parameters, the new BGP \n",
    "# is attracting the economy to it at the speed (1-α)(n+g+δ), \n",
    "# closing that fraction of the gap between its current state \n",
    "# and the balanced growth path attractor every period...\n",
    "\n",
    "def sgm_malthus_run(H0=477, N0=1192.5, gamma=2, L0=2.5, n=0.000442, h=0.000221, s=0.10, \n",
    "    alpha=1/3, delta=0.04, Delta_s=0, Delta_g=0, Delta_n=0, phi=0, T = 1001, \n",
    "    figure_title = \"Simulating Long-Run Demographic History\"):\n",
    "\n",
    "    sg_df = pd.DataFrame(index=range(T),columns=[\n",
    "        'Year',\n",
    "        'Labor', \n",
    "        'Efficiency',\n",
    "        'Capital',\n",
    "        'Output',\n",
    "        'Output_per_Worker',\n",
    "        'Capital_Output_Ratio',\n",
    "        'Ideas',\n",
    "        'Resources',\n",
    "        'BGP_ini_Labor',\n",
    "        'BGP_ini_Eff',\n",
    "        'BGP_ini_Capital',\n",
    "        'BGP_ini_Output',\n",
    "        'BGP_ini_Output_per_Worker',\n",
    "        'BGP_ini_Capital_Output_Ratio',\n",
    "        'BGP_alt_Labor',\n",
    "        'BGP_alt_Eff',\n",
    "        'BGP_alt_Capital',\n",
    "        'BGP_alt_Output',\n",
    "        'BGP_alt_Output_per_Worker',\n",
    "        'BGP_alt_Capital_Output_Ratio'],\n",
    "        dtype='float')\n",
    "\n",
    "    g = (gamma/(1+gamma))*h - (1/(1+gamma))*n\n",
    "    sg_df.Ideas[0] = H0\n",
    "    sg_df.Resources[0] = N0\n",
    "    E0 = sg_df.Ideas[0]**(gamma/(1+gamma))*(sg_df.Resources[0]/L0)**(1/(1+gamma))\n",
    "    sg_df.Labor[0] = L0\n",
    "    sg_df.BGP_ini_Labor[0] = L0\n",
    "    sg_df.BGP_alt_Labor[0] = L0\n",
    "    sg_df.Efficiency[0] = E0\n",
    "    sg_df.BGP_ini_Eff[0] = E0\n",
    "    sg_df.BGP_alt_Eff[0] = E0\n",
    "    KoverY_ini_steady_state = s/(n+g+delta)\n",
    "    YoverL_ini_steady_state = ((s/(n+g+delta))**(alpha/(1-alpha)) \n",
    "        * E0)\n",
    "    KoverL_ini_steady_state = (YoverL_ini_steady_state *\n",
    "        KoverY_ini_steady_state)\n",
    "    sg_df.Capital[0] = KoverL_ini_steady_state * L0\n",
    "    sg_df.Output[0] = (sg_df.Capital[0]**alpha * (sg_df.Labor[0] * \n",
    "        sg_df.Efficiency[0])**(1-alpha))\n",
    "    sg_df.Output_per_Worker[0] = sg_df.Output[0]/sg_df.Labor[0]\n",
    "    sg_df.Capital_Output_Ratio[0] = sg_df.Capital[0]/sg_df.Output[0]\n",
    "    \n",
    "    sg_df.BGP_ini_Capital_Output_Ratio[0] = (s / (n + g + delta))\n",
    "    sg_df.BGP_ini_Output_per_Worker[0] = sg_df.Efficiency[0] * (\n",
    "        sg_df.BGP_ini_Capital_Output_Ratio[0]*(alpha/(1 - alpha)))\n",
    "    sg_df.BGP_ini_Output[0] = sg_df.BGP_ini_Output_per_Worker[0] * sg_df.Labor[0]\n",
    "    sg_df.BGP_ini_Capital[0] = sg_df.Labor[0] * sg_df.Efficiency[0] * (\n",
    "        sg_df.BGP_ini_Capital_Output_Ratio[0]*(1/(1 - alpha)))\n",
    "    \n",
    "    sg_df.BGP_alt_Capital_Output_Ratio[0] = ((s + Delta_s) / \n",
    "        (n + Delta_n + g + Delta_g + delta))\n",
    "    sg_df.BGP_alt_Output_per_Worker[0] = sg_df.Efficiency[0] * (\n",
    "        sg_df.BGP_alt_Capital_Output_Ratio[0]*(alpha/(1 - alpha)))\n",
    "    sg_df.BGP_alt_Output[0] = sg_df.BGP_alt_Output_per_Worker[0] * sg_df.Labor[0]\n",
    "    sg_df.BGP_alt_Capital[0] = sg_df.Labor[0] * sg_df.Efficiency[0] * (\n",
    "        sg_df.BGP_alt_Capital_Output_Ratio[0]*(1/(1 - alpha)))\n",
    "    \n",
    "\n",
    "    for i in range(T):\n",
    "        sg_df.Labor[i+1] = (sg_df.Labor[i] * np.exp(10*(n + Delta_n)))\n",
    "        sg_df.Ideas[i+1] = sg_df.Ideas[i]*np.exp(10*h)\n",
    "        sg_df.Resources[i+1] = sg_df.Resources[i]\n",
    "        KoverY_current = sg_df.Capital[i]/sg_df.Output[i]\n",
    "        sg_df.Capital[i+1] = (sg_df.Capital[i] * np.exp(10*(s+Delta_s)/ \n",
    "            KoverY_current - 10*delta))\n",
    "        \n",
    "        sg_df.Efficiency[i+1] = (sg_df.Ideas[i+1]**(gamma/(1+gamma)) * \n",
    "            (sg_df.Resources[i+1]/sg_df.Labor[i+1])**(1/(1+gamma)))\n",
    "        sg_df.Output[i+1] = (sg_df.Capital[i+1]**alpha * \n",
    "            (sg_df.Labor[i+1] * sg_df.Efficiency[i+1])**(1-alpha))\n",
    "        sg_df.Output_per_Worker[i+1] = sg_df.Output[i+1]/sg_df.Labor[i+1]\n",
    "        sg_df.Capital_Output_Ratio[i+1] = (sg_df.Capital[i+1]/\n",
    "            sg_df.Output[i+1])\n",
    "        \n",
    "        sg_df.BGP_ini_Labor[i+1] = (sg_df.BGP_ini_Labor[i] * np.exp(n))\n",
    "        sg_df.BGP_ini_Eff[i+1] = (sg_df.BGP_ini_Eff[i] * np.exp(g))\n",
    "        sg_df.BGP_ini_Capital_Output_Ratio[i+1] = (s / (n + g + delta))\n",
    "        sg_df.BGP_ini_Output_per_Worker[i+1] = sg_df.BGP_ini_Eff[i+1] * (\n",
    "            sg_df.BGP_ini_Capital_Output_Ratio[i+1]**(alpha/(1 - alpha)))\n",
    "        sg_df.BGP_ini_Output[i+1] = (sg_df.BGP_ini_Output_per_Worker[i+1] * \n",
    "            sg_df.BGP_ini_Labor[i+1])\n",
    "        sg_df.BGP_ini_Capital[i+1] = (s / (n + g + delta))**(1/(1-alpha)) * (\n",
    "            sg_df.BGP_ini_Eff[i+1] * sg_df.BGP_ini_Labor[i+1])\n",
    "        \n",
    "        sg_df.BGP_alt_Labor[i+1] = (sg_df.BGP_alt_Labor[i] * np.exp(n+ Delta_n))\n",
    "        sg_df.BGP_alt_Eff[i+1] = (sg_df.BGP_alt_Eff[i] * np.exp(g+ Delta_g))\n",
    "        sg_df.BGP_alt_Capital_Output_Ratio[i+1] = ((s+ Delta_s) / \n",
    "            (n + Delta_n + g + Delta_g + delta))\n",
    "        sg_df.BGP_alt_Output_per_Worker[i+1] = sg_df.BGP_alt_Eff[i+1] * (\n",
    "            sg_df.BGP_alt_Capital_Output_Ratio[i+1]**(alpha/(1 - alpha)))\n",
    "        sg_df.BGP_alt_Output[i+1] = (sg_df.BGP_alt_Output_per_Worker[i+1] * \n",
    "            sg_df.BGP_alt_Labor[i+1])\n",
    "        sg_df.BGP_alt_Capital[i+1] = ((s + Delta_s) / (n + Delta_n + \n",
    "            g + Delta_g + delta))**(1/(1-alpha)) * (\n",
    "            sg_df.BGP_alt_Eff[i+1] * sg_df.BGP_alt_Labor[i+1])\n",
    "    \n",
    "    sg_df.Year = range(-8000, -8000 + 10*T, 10)\n",
    "    \n",
    "    sg_df = sg_df.set_index('Year')\n",
    "        \n",
    "    fig = plt.figure(figsize=(12, 9))\n",
    "\n",
    "    ax1 = plt.subplot(2,3,1)\n",
    "    sg_df.Labor.plot(ax = ax1, title = \"Labor Force\")\n",
    "    plt.ylabel(\"Values\")\n",
    "    plt.ylim(0, )\n",
    "\n",
    "    ax2 = plt.subplot(2,3,2)\n",
    "    sg_df.Efficiency.plot(ax = ax2, title = \"Efficiency of Labor\")\n",
    "    plt.ylim(0, 600)\n",
    "    \n",
    "    ax3 = plt.subplot(2,3,3)\n",
    "#    sg_df.BGP_ini_Capital.plot(ax = ax3, title = \"BGP (ini) Capital Stock\")\n",
    "#    sg_df.BGP_alt_Capital.plot(ax = ax3, title = \"BGP (alt) Capital Stock\")\n",
    "    sg_df.Capital.plot(ax = ax3, title = \"Capital Stock\")\n",
    "    plt.ylim(0, )\n",
    "\n",
    "    ax4 = plt.subplot(2,3,4)\n",
    "#    sg_df.BGP_ini_Output.plot(ax = ax4, title = \"BGP (ini) Output\")\n",
    "#    sg_df.BGP_alt_Output.plot(ax = ax4, title = \"BGP (alt) Output\")\n",
    "    sg_df.Output.plot(ax = ax4, title = \"Output\")\n",
    "    plt.ylabel(\"Values\")\n",
    "    plt.xlabel(\"Years\")\n",
    "    plt.ylim(0, )\n",
    "\n",
    "    ax5 = plt.subplot(2,3,5)\n",
    "#    sg_df.BGP_ini_Output_per_Worker.plot(ax = ax5, title = \"BGP (ini) Output per Worker\")\n",
    "#    sg_df.BGP_alt_Output_per_Worker.plot(ax = ax5, title = \"BGP (alt) Output per Worker\")\n",
    "    sg_df.Output_per_Worker.plot(ax = ax5, title = \"Output per Worker\")\n",
    "    plt.xlabel(\"Years\")\n",
    "    plt.ylim(0, 1000)\n",
    "\n",
    "    ax6 = plt.subplot(2,3,6)\n",
    "#    sg_df.BGP_ini_Capital_Output_Ratio.plot(ax = ax6, \n",
    "#        title = \"BGP (ini) Capital-Output Ratio\")\n",
    "#    sg_df.BGP_alt_Capital_Output_Ratio.plot(ax = ax6, \n",
    "#        title = \"BGP (alt) Capital-Output Ratio\")\n",
    "    sg_df.Capital_Output_Ratio.plot(ax = ax6, \n",
    "        title = \"Capital-Output Ratio\")\n",
    "    plt.xlabel(\"Years\")\n",
    "    plt.ylim(0, 6)\n",
    "\n",
    "    plt.suptitle('Solow Growth Model: Simulation Run', size = 20)\n",
    "\n",
    "    plt.show()\n",
    "    \n",
    "    print(n + Delta_n, \"is the labor force growth rate\")\n",
    "    print(g + Delta_g, \"is the efficiency of labor growth rate\")\n",
    "    print(delta, \"is the depreciation rate\")\n",
    "    print(s + Delta_s, \"is the savings rate\")\n",
    "    print(alpha, \"is the decreasing-returns-to-scale parameter\")\n",
    "    print(\" \")\n",
    "    print(sg_df.Labor[0], \"is the labor force in year 0\")\n",
    "    print(sg_df.Output_per_Worker[0], \"is output per worker in year 0\")\n",
    "    print(\" \")\n",
    "    print(sg_df.Labor[2000], \"is the labor force in year 2000\")\n",
    "    print(sg_df.Output_per_Worker[2000], \"is output per worker in year 2000\")\n",
    "    "
   ]
  },
  {
   "cell_type": "code",
   "execution_count": null,
   "metadata": {
    "collapsed": true
   },
   "outputs": [],
   "source": [
    "sgm_malthus_run(T=1001, n=0.000442, h=0.000221)"
   ]
  },
  {
   "cell_type": "code",
   "execution_count": null,
   "metadata": {
    "collapsed": true
   },
   "outputs": [],
   "source": [
    "# FUNCTION FOR CALCULATING AND GRAPHING THE LEVELS OF \n",
    "# SOLOW GROWTH MODEL VARIABLES IN MALTHUSIAN SIMULATIONS\n",
    "#\n",
    "# ADDING IN ENDOGENOUS POPULATION GROWTH\n",
    "#\n",
    "# might as well put \"check that common libraries are active\" as a default header\n",
    "# in every long python code cell...\n",
    "\n",
    "import matplotlib as mpl\n",
    "import matplotlib.pyplot as plt\n",
    "import pandas as pd\n",
    "import scipy as sp\n",
    "import numpy as np\n",
    "%matplotlib inline\n",
    "\n",
    "# we are going to want to see what happens for lots of\n",
    "# different model parameter values and ini conditions,\n",
    "# so stuff our small simulation program inside a function, so \n",
    "# we can then invoke it with a single line...\n",
    "#\n",
    "# we are going to assume the economy starts on its ini\n",
    "# balanced growth path...\n",
    "#\n",
    "# we are going to want to keep track not just of what the\n",
    "# economy's variables are at each point in time, but also \n",
    "# what the ini and alternative balanced-growth path \n",
    "# values of variables are. Given the parameters, the new BGP \n",
    "# is attracting the economy to it at the speed (1-α)(n+g+δ), \n",
    "# closing that fraction of the gap between its current state \n",
    "# and the balanced growth path attractor every period...\n",
    "\n",
    "def sgm_malthus_n_res_run(H0=1000, N0=2500, gamma=2, L0=2.5, n=0.000442, h=0.000229, s=0.10, \n",
    "    alpha=1/3, delta=0.04, Delta_s=0, Delta_g=0, Delta_n=0, phi=0.01, ybar = 1500,\n",
    "    T = 1001, figure_title = \"Fertility Responding to Higher Incomes\"):\n",
    "\n",
    "    sg_df = pd.DataFrame(index=range(T),columns=[\n",
    "        'Year',\n",
    "        'Labor', \n",
    "        'Efficiency',\n",
    "        'Capital',\n",
    "        'Output',\n",
    "        'Output_per_Worker',\n",
    "        'Capital_Output_Ratio',\n",
    "        'Ideas',\n",
    "        'Resources',\n",
    "        'BGP_ini_Labor',\n",
    "        'BGP_ini_Eff',\n",
    "        'BGP_ini_Capital',\n",
    "        'BGP_ini_Output',\n",
    "        'BGP_ini_Output_per_Worker',\n",
    "        'BGP_ini_Capital_Output_Ratio',\n",
    "        'BGP_alt_Labor',\n",
    "        'BGP_alt_Eff',\n",
    "        'BGP_alt_Capital',\n",
    "        'BGP_alt_Output',\n",
    "        'BGP_alt_Output_per_Worker',\n",
    "        'BGP_alt_Capital_Output_Ratio'],\n",
    "        dtype='float')\n",
    "\n",
    "    g = (gamma/(1+gamma))*h - (1/(1+gamma))*n\n",
    "    sg_df.Ideas[0] = H0\n",
    "    sg_df.Resources[0] = N0\n",
    "    E0 = sg_df.Ideas[0]**(gamma/(1+gamma))*(sg_df.Resources[0]/L0)**(1/(1+gamma))\n",
    "    sg_df.Labor[0] = L0\n",
    "    sg_df.BGP_ini_Labor[0] = L0\n",
    "    sg_df.BGP_alt_Labor[0] = L0\n",
    "    sg_df.Efficiency[0] = E0\n",
    "    sg_df.BGP_ini_Eff[0] = E0\n",
    "    sg_df.BGP_alt_Eff[0] = E0\n",
    "    KoverY_ini_steady_state = s/(n+g+delta)\n",
    "    YoverL_ini_steady_state = ((s/(n+g+delta))**(alpha/(1-alpha)) \n",
    "        * E0)\n",
    "    KoverL_ini_steady_state = (YoverL_ini_steady_state *\n",
    "        KoverY_ini_steady_state)\n",
    "    sg_df.Capital[0] = KoverL_ini_steady_state * L0\n",
    "    sg_df.Output[0] = (sg_df.Capital[0]**alpha * (sg_df.Labor[0] * \n",
    "        sg_df.Efficiency[0])**(1-alpha))\n",
    "    sg_df.Output_per_Worker[0] = sg_df.Output[0]/sg_df.Labor[0]\n",
    "    sg_df.Capital_Output_Ratio[0] = sg_df.Capital[0]/sg_df.Output[0]\n",
    "    \n",
    "    sg_df.BGP_ini_Capital_Output_Ratio[0] = (s / (n + g + delta))\n",
    "    sg_df.BGP_ini_Output_per_Worker[0] = sg_df.Efficiency[0] * (\n",
    "        sg_df.BGP_ini_Capital_Output_Ratio[0]*(alpha/(1 - alpha)))\n",
    "    sg_df.BGP_ini_Output[0] = sg_df.BGP_ini_Output_per_Worker[0] * sg_df.Labor[0]\n",
    "    sg_df.BGP_ini_Capital[0] = sg_df.Labor[0] * sg_df.Efficiency[0] * (\n",
    "        sg_df.BGP_ini_Capital_Output_Ratio[0]*(1/(1 - alpha)))\n",
    "    \n",
    "    sg_df.BGP_alt_Capital_Output_Ratio[0] = ((s + Delta_s) / \n",
    "        (n + Delta_n + g + Delta_g + delta))\n",
    "    sg_df.BGP_alt_Output_per_Worker[0] = sg_df.Efficiency[0] * (\n",
    "        sg_df.BGP_alt_Capital_Output_Ratio[0]*(alpha/(1 - alpha)))\n",
    "    sg_df.BGP_alt_Output[0] = sg_df.BGP_alt_Output_per_Worker[0] * sg_df.Labor[0]\n",
    "    sg_df.BGP_alt_Capital[0] = sg_df.Labor[0] * sg_df.Efficiency[0] * (\n",
    "        sg_df.BGP_alt_Capital_Output_Ratio[0]*(1/(1 - alpha)))\n",
    "    \n",
    "\n",
    "    for i in range(T):\n",
    "        n = phi * np.log(sg_df.Output_per_Worker[i]/ybar)\n",
    "        sg_df.Labor[i+1] = (sg_df.Labor[i] * np.exp(10*(n + Delta_n)))\n",
    "        sg_df.Ideas[i+1] = sg_df.Ideas[i]*np.exp(10*h)\n",
    "        sg_df.Resources[i+1] = sg_df.Resources[i]\n",
    "        KoverY_current = sg_df.Capital[i]/sg_df.Output[i]\n",
    "        sg_df.Capital[i+1] = (sg_df.Capital[i] * np.exp(10*(s+Delta_s)/ \n",
    "            KoverY_current - 10*delta))\n",
    "        \n",
    "        sg_df.Efficiency[i+1] = (sg_df.Ideas[i+1]**(gamma/(1+gamma)) * \n",
    "            (sg_df.Resources[i+1]/sg_df.Labor[i+1])**(1/(1+gamma)))\n",
    "        sg_df.Output[i+1] = (sg_df.Capital[i+1]**alpha * \n",
    "            (sg_df.Labor[i+1] * sg_df.Efficiency[i+1])**(1-alpha))\n",
    "        sg_df.Output_per_Worker[i+1] = sg_df.Output[i+1]/sg_df.Labor[i+1]\n",
    "        sg_df.Capital_Output_Ratio[i+1] = (sg_df.Capital[i+1]/\n",
    "            sg_df.Output[i+1])\n",
    "        \n",
    "        sg_df.BGP_ini_Labor[i+1] = (sg_df.BGP_ini_Labor[i] * np.exp(n))\n",
    "        sg_df.BGP_ini_Eff[i+1] = (sg_df.BGP_ini_Eff[i] * np.exp(g))\n",
    "        sg_df.BGP_ini_Capital_Output_Ratio[i+1] = (s / (n + g + delta))\n",
    "        sg_df.BGP_ini_Output_per_Worker[i+1] = sg_df.BGP_ini_Eff[i+1] * (\n",
    "            sg_df.BGP_ini_Capital_Output_Ratio[i+1]**(alpha/(1 - alpha)))\n",
    "        sg_df.BGP_ini_Output[i+1] = (sg_df.BGP_ini_Output_per_Worker[i+1] * \n",
    "            sg_df.BGP_ini_Labor[i+1])\n",
    "        sg_df.BGP_ini_Capital[i+1] = (s / (n + g + delta))**(1/(1-alpha)) * (\n",
    "            sg_df.BGP_ini_Eff[i+1] * sg_df.BGP_ini_Labor[i+1])\n",
    "        \n",
    "        sg_df.BGP_alt_Labor[i+1] = (sg_df.BGP_alt_Labor[i] * np.exp(n+ Delta_n))\n",
    "        sg_df.BGP_alt_Eff[i+1] = (sg_df.BGP_alt_Eff[i] * np.exp(g+ Delta_g))\n",
    "        sg_df.BGP_alt_Capital_Output_Ratio[i+1] = ((s+ Delta_s) / \n",
    "            (n + Delta_n + g + Delta_g + delta))\n",
    "        sg_df.BGP_alt_Output_per_Worker[i+1] = sg_df.BGP_alt_Eff[i+1] * (\n",
    "            sg_df.BGP_alt_Capital_Output_Ratio[i+1]**(alpha/(1 - alpha)))\n",
    "        sg_df.BGP_alt_Output[i+1] = (sg_df.BGP_alt_Output_per_Worker[i+1] * \n",
    "            sg_df.BGP_alt_Labor[i+1])\n",
    "        sg_df.BGP_alt_Capital[i+1] = ((s + Delta_s) / (n + Delta_n + \n",
    "            g + Delta_g + delta))**(1/(1-alpha)) * (\n",
    "            sg_df.BGP_alt_Eff[i+1] * sg_df.BGP_alt_Labor[i+1])\n",
    "    \n",
    "    sg_df.Year = range(-8000, -8000 + 10*T, 10)\n",
    "    \n",
    "    sg_df = sg_df.set_index('Year')\n",
    "        \n",
    "    fig = plt.figure(figsize=(12, 9))\n",
    "\n",
    "    ax1 = plt.subplot(2,3,1)\n",
    "    sg_df.Labor.plot(ax = ax1, title = \"Labor Force\")\n",
    "    plt.ylabel(\"Values\")\n",
    "    plt.ylim(0, )\n",
    "\n",
    "    ax2 = plt.subplot(2,3,2)\n",
    "    sg_df.Efficiency.plot(ax = ax2, title = \"Efficiency of Labor\")\n",
    "    plt.ylim(0, 1200)\n",
    "    \n",
    "    ax3 = plt.subplot(2,3,3)\n",
    "#    sg_df.BGP_ini_Capital.plot(ax = ax3, title = \"BGP (ini) Capital Stock\")\n",
    "#    sg_df.BGP_alt_Capital.plot(ax = ax3, title = \"BGP (alt) Capital Stock\")\n",
    "    sg_df.Capital.plot(ax = ax3, title = \"Capital Stock\")\n",
    "    plt.ylim(0, )\n",
    "\n",
    "    ax4 = plt.subplot(2,3,4)\n",
    "#    sg_df.BGP_ini_Output.plot(ax = ax4, title = \"BGP (ini) Output\")\n",
    "#    sg_df.BGP_alt_Output.plot(ax = ax4, title = \"BGP (alt) Output\")\n",
    "    sg_df.Output.plot(ax = ax4, title = \"Output\")\n",
    "    plt.ylabel(\"Values\")\n",
    "    plt.xlabel(\"Years\")\n",
    "    plt.ylim(0, )\n",
    "\n",
    "    ax5 = plt.subplot(2,3,5)\n",
    "#    sg_df.BGP_ini_Output_per_Worker.plot(ax = ax5, title = \"BGP (ini) Output per Worker\")\n",
    "#    sg_df.BGP_alt_Output_per_Worker.plot(ax = ax5, title = \"BGP (alt) Output per Worker\")\n",
    "    sg_df.Output_per_Worker.plot(ax = ax5, title = \"Output per Worker\")\n",
    "    plt.xlabel(\"Years\")\n",
    "    plt.ylim(0, 2000)\n",
    "\n",
    "    ax6 = plt.subplot(2,3,6)\n",
    "#    sg_df.BGP_ini_Capital_Output_Ratio.plot(ax = ax6, \n",
    "#        title = \"BGP (ini) Capital-Output Ratio\")\n",
    "#    sg_df.BGP_alt_Capital_Output_Ratio.plot(ax = ax6, \n",
    "#        title = \"BGP (alt) Capital-Output Ratio\")\n",
    "    sg_df.Capital_Output_Ratio.plot(ax = ax6, \n",
    "        title = \"Capital-Output Ratio\")\n",
    "    plt.xlabel(\"Years\")\n",
    "    plt.ylim(0, 6)\n",
    "\n",
    "    plt.suptitle(figure_title, size = 20)\n",
    "\n",
    "    plt.show()\n",
    "    \n",
    "    print(n + Delta_n, \"is the labor force growth rate\")\n",
    "    print(g + Delta_g, \"is the efficiency of labor growth rate\")\n",
    "    print(delta, \"is the depreciation rate\")\n",
    "    print(s + Delta_s, \"is the savings rate\")\n",
    "    print(alpha, \"is the decreasing-returns-to-scale parameter\")\n",
    "    print(\" \")\n",
    "    print(sg_df.Labor[0], \"is the labor force in year 0\")\n",
    "    print(sg_df.Output_per_Worker[0], \"is output per worker in year 0\")\n",
    "    print(\" \")\n",
    "    print(sg_df.Labor[2000], \"is the labor force in year 2000\")\n",
    "    print(sg_df.Output_per_Worker[2000], \"is output per worker in year 2000\")\n",
    "    "
   ]
  },
  {
   "cell_type": "code",
   "execution_count": null,
   "metadata": {
    "collapsed": true
   },
   "outputs": [],
   "source": [
    "sgm_malthus_n_res_run(T=1001, figure_title = \"Fertility Responding to Higher Incomes\", \n",
    "    h=0.00022, phi=0.01, ybar = 1500)\n",
    "\n",
    "sgm_malthus_n_res_run(T=1001, figure_title = \"Fertility Responding to Higher Incomes: h = 0.01% per year\", \n",
    "    h=0.0001, phi=0.01, ybar = 1500)\n",
    "\n",
    "sgm_malthus_n_res_run(T=1001, figure_title = \"Fertility Responding to Higher Incomes: h = 0.04% per Year\", \n",
    "    h=0.0004, phi=0.01, ybar = 1500)\n",
    "\n",
    "# ----"
   ]
  },
  {
   "cell_type": "code",
   "execution_count": null,
   "metadata": {
    "collapsed": true
   },
   "outputs": [],
   "source": [
    "# FUNCTION FOR CALCULATING AND GRAPHING THE LEVELS OF \n",
    "# SOLOW GROWTH MODEL VARIABLES IN MALTHUSIAN SIMULATIONS\n",
    "#\n",
    "# ADDING IN TWO HEADS ARE BETTER THAN ONE: TECHNOLOGICAL PROGRESS PROPORTIONAL \n",
    "# TO THE SQUARE ROOT OF THE POPULATION\n",
    "#\n",
    "# might as well put \"check that common libraries are active\" as a default header\n",
    "# in every long python code cell...\n",
    "\n",
    "import matplotlib as mpl\n",
    "import matplotlib.pyplot as plt\n",
    "import pandas as pd\n",
    "import scipy as sp\n",
    "import numpy as np\n",
    "%matplotlib inline\n",
    "\n",
    "# we are going to want to see what happens for lots of\n",
    "# different model parameter values and ini conditions,\n",
    "# so stuff our small simulation program inside a function, so \n",
    "# we can then invoke it with a single line...\n",
    "#\n",
    "# we are going to assume the economy starts on its ini\n",
    "# balanced growth path...\n",
    "#\n",
    "# we are going to want to keep track not just of what the\n",
    "# economy's variables are at each point in time, but also \n",
    "# what the ini and alternative balanced-growth path \n",
    "# values of variables are. Given the parameters, the new BGP \n",
    "# is attracting the economy to it at the speed (1-α)(n+g+δ), \n",
    "# closing that fraction of the gap between its current state \n",
    "# and the balanced growth path attractor every period...\n",
    "\n",
    "def sgm_malthus_run(H0=900, N0=2250, gamma=2, L0=2.5, n=0.000442, h=0.0000805, s=0.10, \n",
    "    alpha=1/3, delta=0.04, Delta_s=0, Delta_g=0, Delta_n=0, phi=0.01, ybar = 1500,\n",
    "    lambda_i = 0.5, T = 1001, figure_title = \"Ideas: Two Heads Are (Somewhat) Better than One\"):\n",
    "\n",
    "    sg_df = pd.DataFrame(index=range(T),columns=[\n",
    "        'Year',\n",
    "        'Labor', \n",
    "        'Efficiency',\n",
    "        'Capital',\n",
    "        'Output',\n",
    "        'Output_per_Worker',\n",
    "        'Capital_Output_Ratio',\n",
    "        'Ideas',\n",
    "        'Resources',\n",
    "        'BGP_ini_Labor',\n",
    "        'BGP_ini_Eff',\n",
    "        'BGP_ini_Capital',\n",
    "        'BGP_ini_Output',\n",
    "        'BGP_ini_Output_per_Worker',\n",
    "        'BGP_ini_Capital_Output_Ratio',\n",
    "        'BGP_alt_Labor',\n",
    "        'BGP_alt_Eff',\n",
    "        'BGP_alt_Capital',\n",
    "        'BGP_alt_Output',\n",
    "        'BGP_alt_Output_per_Worker',\n",
    "        'BGP_alt_Capital_Output_Ratio'],\n",
    "        dtype='float')\n",
    "\n",
    "    g = (gamma/(1+gamma))*h - (1/(1+gamma))*n\n",
    "    sg_df.Ideas[0] = H0\n",
    "    sg_df.Resources[0] = N0\n",
    "    E0 = sg_df.Ideas[0]**(gamma/(1+gamma))*(sg_df.Resources[0]/L0)**(1/(1+gamma))\n",
    "    sg_df.Labor[0] = L0\n",
    "    sg_df.BGP_ini_Labor[0] = L0\n",
    "    sg_df.BGP_alt_Labor[0] = L0\n",
    "    sg_df.Efficiency[0] = E0\n",
    "    sg_df.BGP_ini_Eff[0] = E0\n",
    "    sg_df.BGP_alt_Eff[0] = E0\n",
    "    KoverY_ini_steady_state = s/(n+g+delta)\n",
    "    YoverL_ini_steady_state = ((s/(n+g+delta))**(alpha/(1-alpha)) \n",
    "        * E0)\n",
    "    KoverL_ini_steady_state = (YoverL_ini_steady_state *\n",
    "        KoverY_ini_steady_state)\n",
    "    sg_df.Capital[0] = KoverL_ini_steady_state * L0\n",
    "    sg_df.Output[0] = (sg_df.Capital[0]**alpha * (sg_df.Labor[0] * \n",
    "        sg_df.Efficiency[0])**(1-alpha))\n",
    "    sg_df.Output_per_Worker[0] = sg_df.Output[0]/sg_df.Labor[0]\n",
    "    sg_df.Capital_Output_Ratio[0] = sg_df.Capital[0]/sg_df.Output[0]\n",
    "    \n",
    "    sg_df.BGP_ini_Capital_Output_Ratio[0] = (s / (n + g + delta))\n",
    "    sg_df.BGP_ini_Output_per_Worker[0] = sg_df.Efficiency[0] * (\n",
    "        sg_df.BGP_ini_Capital_Output_Ratio[0]*(alpha/(1 - alpha)))\n",
    "    sg_df.BGP_ini_Output[0] = sg_df.BGP_ini_Output_per_Worker[0] * sg_df.Labor[0]\n",
    "    sg_df.BGP_ini_Capital[0] = sg_df.Labor[0] * sg_df.Efficiency[0] * (\n",
    "        sg_df.BGP_ini_Capital_Output_Ratio[0]*(1/(1 - alpha)))\n",
    "    \n",
    "    sg_df.BGP_alt_Capital_Output_Ratio[0] = ((s + Delta_s) / \n",
    "        (n + Delta_n + g + Delta_g + delta))\n",
    "    sg_df.BGP_alt_Output_per_Worker[0] = sg_df.Efficiency[0] * (\n",
    "        sg_df.BGP_alt_Capital_Output_Ratio[0]*(alpha/(1 - alpha)))\n",
    "    sg_df.BGP_alt_Output[0] = sg_df.BGP_alt_Output_per_Worker[0] * sg_df.Labor[0]\n",
    "    sg_df.BGP_alt_Capital[0] = sg_df.Labor[0] * sg_df.Efficiency[0] * (\n",
    "        sg_df.BGP_alt_Capital_Output_Ratio[0]*(1/(1 - alpha)))\n",
    "    \n",
    "\n",
    "    for i in range(T):\n",
    "        n = phi * np.log(sg_df.Output_per_Worker[i]/ybar)\n",
    "        sg_df.Labor[i+1] = (sg_df.Labor[i] * np.exp(10*(n + Delta_n)))\n",
    "        sg_df.Ideas[i+1] = sg_df.Ideas[i]*np.exp(10*(h*sg_df.Labor[i]**lambda_i))\n",
    "        sg_df.Resources[i+1] = sg_df.Resources[i]\n",
    "        KoverY_current = sg_df.Capital[i]/sg_df.Output[i]\n",
    "        sg_df.Capital[i+1] = (sg_df.Capital[i] * np.exp(10*(s+Delta_s)/ \n",
    "            KoverY_current - 10*delta))\n",
    "        \n",
    "        sg_df.Efficiency[i+1] = (sg_df.Ideas[i+1]**(gamma/(1+gamma)) * \n",
    "            (sg_df.Resources[i+1]/sg_df.Labor[i+1])**(1/(1+gamma)))\n",
    "        sg_df.Output[i+1] = (sg_df.Capital[i+1]**alpha * \n",
    "            (sg_df.Labor[i+1] * sg_df.Efficiency[i+1])**(1-alpha))\n",
    "        sg_df.Output_per_Worker[i+1] = sg_df.Output[i+1]/sg_df.Labor[i+1]\n",
    "        sg_df.Capital_Output_Ratio[i+1] = (sg_df.Capital[i+1]/\n",
    "            sg_df.Output[i+1])\n",
    "        \n",
    "        sg_df.BGP_ini_Labor[i+1] = (sg_df.BGP_ini_Labor[i] * np.exp(n))\n",
    "        sg_df.BGP_ini_Eff[i+1] = (sg_df.BGP_ini_Eff[i] * np.exp(g))\n",
    "        sg_df.BGP_ini_Capital_Output_Ratio[i+1] = (s / (n + g + delta))\n",
    "        sg_df.BGP_ini_Output_per_Worker[i+1] = sg_df.BGP_ini_Eff[i+1] * (\n",
    "            sg_df.BGP_ini_Capital_Output_Ratio[i+1]**(alpha/(1 - alpha)))\n",
    "        sg_df.BGP_ini_Output[i+1] = (sg_df.BGP_ini_Output_per_Worker[i+1] * \n",
    "            sg_df.BGP_ini_Labor[i+1])\n",
    "        sg_df.BGP_ini_Capital[i+1] = (s / (n + g + delta))**(1/(1-alpha)) * (\n",
    "            sg_df.BGP_ini_Eff[i+1] * sg_df.BGP_ini_Labor[i+1])\n",
    "        \n",
    "        sg_df.BGP_alt_Labor[i+1] = (sg_df.BGP_alt_Labor[i] * np.exp(n+ Delta_n))\n",
    "        sg_df.BGP_alt_Eff[i+1] = (sg_df.BGP_alt_Eff[i] * np.exp(g+ Delta_g))\n",
    "        sg_df.BGP_alt_Capital_Output_Ratio[i+1] = ((s+ Delta_s) / \n",
    "            (n + Delta_n + g + Delta_g + delta))\n",
    "        sg_df.BGP_alt_Output_per_Worker[i+1] = sg_df.BGP_alt_Eff[i+1] * (\n",
    "            sg_df.BGP_alt_Capital_Output_Ratio[i+1]**(alpha/(1 - alpha)))\n",
    "        sg_df.BGP_alt_Output[i+1] = (sg_df.BGP_alt_Output_per_Worker[i+1] * \n",
    "            sg_df.BGP_alt_Labor[i+1])\n",
    "        sg_df.BGP_alt_Capital[i+1] = ((s + Delta_s) / (n + Delta_n + \n",
    "            g + Delta_g + delta))**(1/(1-alpha)) * (\n",
    "            sg_df.BGP_alt_Eff[i+1] * sg_df.BGP_alt_Labor[i+1])\n",
    "    \n",
    "    sg_df.Year = range(-8000, -8000 + 10*T, 10)\n",
    "    \n",
    "    sg_df = sg_df.set_index('Year')\n",
    "        \n",
    "    fig = plt.figure(figsize=(12, 9))\n",
    "\n",
    "    ax1 = plt.subplot(2,3,1)\n",
    "    sg_df.Labor.plot(ax = ax1, title = \"Labor Force\")\n",
    "    plt.ylabel(\"Values\")\n",
    "    plt.ylim(0, )\n",
    "\n",
    "    ax2 = plt.subplot(2,3,2)\n",
    "    sg_df.Efficiency.plot(ax = ax2, title = \"Efficiency of Labor\")\n",
    "    plt.ylim(0, )\n",
    "    \n",
    "    ax3 = plt.subplot(2,3,3)\n",
    "#    sg_df.BGP_ini_Capital.plot(ax = ax3, title = \"BGP (ini) Capital Stock\")\n",
    "#    sg_df.BGP_alt_Capital.plot(ax = ax3, title = \"BGP (alt) Capital Stock\")\n",
    "    sg_df.Capital.plot(ax = ax3, title = \"Capital Stock\")\n",
    "    plt.ylim(0, )\n",
    "\n",
    "    ax4 = plt.subplot(2,3,4)\n",
    "#    sg_df.BGP_ini_Output.plot(ax = ax4, title = \"BGP (ini) Output\")\n",
    "#    sg_df.BGP_alt_Output.plot(ax = ax4, title = \"BGP (alt) Output\")\n",
    "    sg_df.Output.plot(ax = ax4, title = \"Output\")\n",
    "    plt.ylabel(\"Values\")\n",
    "    plt.xlabel(\"Years\")\n",
    "    plt.ylim(0, )\n",
    "\n",
    "    ax5 = plt.subplot(2,3,5)\n",
    "#    sg_df.BGP_ini_Output_per_Worker.plot(ax = ax5, title = \"BGP (ini) Output per Worker\")\n",
    "#    sg_df.BGP_alt_Output_per_Worker.plot(ax = ax5, title = \"BGP (alt) Output per Worker\")\n",
    "    sg_df.Output_per_Worker.plot(ax = ax5, title = \"Output per Worker\")\n",
    "    plt.xlabel(\"Years\")\n",
    "    plt.ylim(0, )\n",
    "\n",
    "    ax6 = plt.subplot(2,3,6)\n",
    "#    sg_df.BGP_ini_Capital_Output_Ratio.plot(ax = ax6, \n",
    "#        title = \"BGP (ini) Capital-Output Ratio\")\n",
    "#    sg_df.BGP_alt_Capital_Output_Ratio.plot(ax = ax6, \n",
    "#        title = \"BGP (alt) Capital-Output Ratio\")\n",
    "    sg_df.Capital_Output_Ratio.plot(ax = ax6, \n",
    "        title = \"Capital-Output Ratio\")\n",
    "    plt.xlabel(\"Years\")\n",
    "    plt.ylim(0, 6)\n",
    "\n",
    "    plt.suptitle(figure_title, size = 20)\n",
    "\n",
    "    plt.show()\n",
    "    \n",
    "    print(n + Delta_n, \"is the labor force growth rate\")\n",
    "    print(g + Delta_g, \"is the efficiency of labor growth rate\")\n",
    "    print(delta, \"is the depreciation rate\")\n",
    "    print(s + Delta_s, \"is the savings rate\")\n",
    "    print(alpha, \"is the decreasing-returns-to-scale parameter\")\n",
    "    print(\" \")\n",
    "    print(sg_df.Labor[0], \"is the labor force in year 0\")\n",
    "    print(sg_df.Output_per_Worker[0], \"is output per worker in year 0\")\n",
    "    print(\" \")\n",
    "#    print(sg_df.Labor[2000], \"is the labor force in year 2000\")\n",
    "#    print(sg_df.Output_per_Worker[2000], \"is output per worker in year 2000\")\n",
    "    "
   ]
  },
  {
   "cell_type": "code",
   "execution_count": null,
   "metadata": {
    "collapsed": true
   },
   "outputs": [],
   "source": [
    "sgm_malthus_run(T=801, figure_title = \"Two Heads Are (Somewhat) Better than One\", \n",
    "    h=0.0000805, phi=0.01, ybar = 1500)"
   ]
  },
  {
   "cell_type": "markdown",
   "metadata": {},
   "source": [
    "&nbsp;&nbsp;&nbsp;&nbsp;&nbsp;&nbsp;&nbsp;&nbsp;&nbsp;\n",
    "$ \\left(\\frac{Y}{L}\\right)^* =\n",
    "\\left(\\frac{Y}{L}\\right)^{\\frac{\\eta\\alpha}{1-\\alpha}}\n",
    "\\left(\\frac{s}{n+g+\\delta}\\right)\n",
    "^{\\frac{\\alpha}{1-\\alpha}}\n",
    "E $\n",
    "\n",
    "&nbsp;&nbsp;&nbsp;&nbsp;&nbsp;&nbsp;&nbsp;&nbsp;&nbsp;\n",
    "$ \\left(\\frac{Y}{L}\\right)^{*{\\frac{1-\\alpha-\\eta\\alpha}{1-\\alpha}}} =\n",
    "\\left(\\frac{s}{n+g+\\delta}\\right)\n",
    "^{\\frac{\\alpha}{1-\\alpha}}\n",
    "E $\n",
    "\n",
    "&nbsp;&nbsp;&nbsp;&nbsp;&nbsp;&nbsp;&nbsp;&nbsp;&nbsp;\n",
    "$ \\left(\\frac{Y}{L}\\right)^{*} =\n",
    "\\left(\\frac{s}{n+g+\\delta}\\right)\n",
    "^{\\frac{\\alpha}{1-\\alpha-\\eta\\alpha}}\n",
    "E^\\frac{1-\\alpha}{1-\\alpha-\\eta\\alpha} $"
   ]
  }
 ],
 "metadata": {
  "celltoolbar": "Edit Metadata",
  "kernelspec": {
   "display_name": "Python 3",
   "language": "python",
   "name": "python3"
  },
  "language_info": {
   "codemirror_mode": {
    "name": "ipython",
    "version": 3
   },
   "file_extension": ".py",
   "mimetype": "text/x-python",
   "name": "python",
   "nbconvert_exporter": "python",
   "pygments_lexer": "ipython3",
   "version": "3.6.1"
  }
 },
 "nbformat": 4,
 "nbformat_minor": 2
}
