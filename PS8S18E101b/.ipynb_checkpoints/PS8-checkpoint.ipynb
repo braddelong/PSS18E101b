{
 "cells": [
  {
   "cell_type": "markdown",
   "metadata": {
    "slideshow": {
     "slide_type": "notes"
    }
   },
   "source": [
    "# 2018-02-20 Econ 101b Problem Set 8"
   ]
  },
  {
   "cell_type": "markdown",
   "metadata": {},
   "source": [
    "## Problem set will be due Th Mar 15 at midnight...\n",
    "\n",
    "#### Sections between Tu AM & Th AM lecture will be problem set section..."
   ]
  },
  {
   "cell_type": "markdown",
   "metadata": {},
   "source": [
    "## Setting up the Python/Jupyter environment"
   ]
  },
  {
   "cell_type": "code",
   "execution_count": null,
   "metadata": {
    "collapsed": true
   },
   "outputs": [],
   "source": [
    "%%javascript\n",
    "\n",
    "IPython.OutputArea.prototype._should_scroll = function(lines) {\n",
    "    return false;}"
   ]
  },
  {
   "cell_type": "code",
   "execution_count": null,
   "metadata": {
    "collapsed": true
   },
   "outputs": [],
   "source": [
    "# ABOVE CELL IS \"NO SCROLLING SUBWINDOWS\" SETUP\n",
    "#\n",
    "# keep output cells from shifting to autoscroll: little scrolling\n",
    "# subwindows within the notebook are an annoyance..."
   ]
  },
  {
   "cell_type": "code",
   "execution_count": 7,
   "metadata": {
    "collapsed": true
   },
   "outputs": [],
   "source": [
    "# THIS CELL LOADS THE LIBRARIES\n",
    "#\n",
    "# set up the environment by reading in every library we might need: \n",
    "# os... graphics... data manipulation... time... math... statistics...\n",
    "\n",
    "import sys\n",
    "import os\n",
    "from urllib.request import urlretrieve\n",
    "\n",
    "import matplotlib as mpl\n",
    "import matplotlib.pyplot as plt\n",
    "from IPython.display import Image\n",
    "\n",
    "import pandas as pd\n",
    "from pandas import DataFrame, Series\n",
    "from datetime import datetime\n",
    "\n",
    "import scipy as sp\n",
    "import numpy as np\n",
    "import math\n",
    "import random\n",
    "\n",
    "import seaborn as sns\n",
    "import statsmodels\n",
    "import statsmodels.api as sm\n",
    "import statsmodels.formula.api as smf"
   ]
  },
  {
   "cell_type": "code",
   "execution_count": 9,
   "metadata": {
    "collapsed": true
   },
   "outputs": [],
   "source": [
    "# PRETTIER GRAPHICS SETUP\n",
    "#\n",
    "# graphics setup: seaborn-whitegrid and figure size;\n",
    "# graphs in the notebook itself...\n",
    "\n",
    "%matplotlib inline \n",
    "\n",
    "plt.style.use('seaborn-whitegrid')\n",
    "\n",
    "figure_size = plt.rcParams[\"figure.figsize\"]\n",
    "figure_size[0] = 12\n",
    "figure_size[1] = 10\n",
    "plt.rcParams[\"figure.figsize\"] = figure_size"
   ]
  },
  {
   "cell_type": "code",
   "execution_count": null,
   "metadata": {
    "collapsed": true
   },
   "outputs": [],
   "source": [
    "# THIS CELL IS THE KEY TO THE OKPY.ORG AUTOGRADER SYSTEM\n",
    "#\n",
    "# Don't change this cell; just run it. \n",
    "# The result will give you directions about how to log in to the submission system, called OK.\n",
    "# Once you're logged in, you can run this cell again, but it won't ask you who you are because\n",
    "# it remembers you. However, you will need to log in once per assignment.\n",
    "\n",
    "!pip install -U okpy\n",
    "\n",
    "from client.api.notebook import Notebook\n",
    "\n",
    "ok = Notebook('ps8.ok')\n",
    "_ = ok.auth(force=True, inline=True)"
   ]
  },
  {
   "cell_type": "markdown",
   "metadata": {},
   "source": [
    "### ⬆︎⬆︎⬆︎⬆︎⬆︎⬆︎⬆︎⬆︎⬆︎⬆︎⬆︎⬆︎⬆︎⬆︎⬆︎⬆︎\n",
    "### RUN THESE CELLS ABOVE FIRST"
   ]
  },
  {
   "cell_type": "markdown",
   "metadata": {},
   "source": [
    "# Problem Set 8 (Due Mar 15 11:59:59 PM)\n",
    "\n",
    "----\n",
    "\n",
    "&nbsp;"
   ]
  },
  {
   "cell_type": "markdown",
   "metadata": {},
   "source": [
    "## Introduction\n",
    "\n",
    "The autograder, both in the tests you run along the way as you work on the problem set and in calculating the final score, looks in the same directory as the problem set notebook for an \"ok.tests\" directory, and then runs the tests in the \"q\\*\\*.py\" files in that directory (where \"\\*\\*\" denotes a two-digit number, possibly with a leading zero). Those tests take the form of comparing a variable that should be in your namespace and seeing if it is close to some desired value that we get when we do the problem set.\n",
    "\n",
    "Thus while the problem set instructions ask you to run simulations and plot graphs, what you are tested on is whether the appropriate variables in your namespace have (close to the) right values. We do not care what code you use in order to get those variables to the right values. \n",
    "\n",
    "You can run simulations and then pick appropriate values out by slicing a series in order to get the right number. \n",
    "\n",
    "You can use your knowledge of the algebraic solution to the model to have Python calculate the answer, having first set the parameters to the right values, as in:\n",
    "\n",
    "    s = 0.24 # (say)\n",
    "    n = 0.01\n",
    "    g = 0.02\n",
    "    delta = 0.03\n",
    "    Delta_n = -0.01\n",
    "    KoverYinitial = s/(n+g+delta)\n",
    "    KoverYalternative = s/(n+Delta_n+g+delta)\n",
    "    \n",
    "You can even do all of the calculations on pen and paper, and simply code up:\n",
    "\n",
    "    KoverYinitial = 4\n",
    "    KoverYalternative = 4.8\n",
    "    \n",
    "Perhaps we should ask you to do all three—start with simulations, or with algebraic equations with set parameter values, or with full pen-and-paper calculations with only the final results entered into the notebook—and then ask you to check your results from one mode by doing the other two. But: _ars longa, vita brevis_. Focus on what works _for you_: the key is to get a sense of how economists' center-of-gravity analyses of long-run growth work, so that when you encounter such an analysis later, outside the university, you have the right intellectual panoply to evaluate it.\n",
    "\n",
    "----\n",
    "\n",
    "&nbsp;"
   ]
  },
  {
   "cell_type": "markdown",
   "metadata": {},
   "source": [
    "## Programming Dos and Don'ts...\n",
    "\n",
    "### A Running List...\n",
    "\n",
    "1. **Do** restart your kernel and run cells up to your current working point every fifteen minutes or so. Yes, it takes a little time. But if you don't, sooner or later the machine's namespace will get confused, and then you will get confused about the state of the machine's namespace, and by assuming things about it that are false you will lose hours and hours...   \n",
    "&nbsp;\n",
    "\n",
    "2. **Do** reload the page when restarting the kernel does not seem to do the job...   \n",
    "&nbsp;\n",
    "\n",
    "3. **Do** edit code cells by copying them below your current version and then working on the copy: when you break everything in the current cell (as you will), you can then go back to the old cell and start fresh...   \n",
    "&nbsp;\n",
    "\n",
    "4. **Do** exercise agile development practices: if there is a line of code that you have not tested, test it. The best way to test is to ask the machine to echo back to you the thing you have just created in its namespace to make sure that it is what you want it to be. Only after you are **certain** that your namespace contains what you think it does should you write the next line of code. And then you should immediately test it...   \n",
    "&nbsp;\n",
    "\n",
    "5. **Do** take screenshots of your error messages...   \n",
    "&nbsp;\n",
    "\n",
    "6. **Do** google your error messages: Ms. Google is your best friend here...   \n",
    "&nbsp;\n",
    "\n",
    "7. **Do not** confuse assignment (\"=\") and test for equality (\"==\"). In general, if there is an \"if\" anywhere nearby, you should be testing for equality. If there is not, you should be assignment a variable in your namespace to a value. **Do** curse the mathematicians 500 years ago who did not realize that in the twenty-first century it would be very convenient if we had different and not confusable symbols for equals-as-assignment and equals-as-test...   \n",
    "&nbsp;\n",
    "\n",
    "----\n",
    "\n",
    "&nbsp;\n",
    "\n",
    "**Thanks to**: Rachel Grossberg, Christopher Hench, Meghana Krishnakumer, Seth Lloyd, Ronald Walker..."
   ]
  },
  {
   "cell_type": "markdown",
   "metadata": {
    "deletable": false,
    "manual_grade": true,
    "manual_problem_id": "PS6TB"
   },
   "source": [
    "**(Task A) Programming Practices**\n",
    "\n",
    "If it strikes you that anything should be added to this list of programming dos and don'ts, please email it to me at <delong@econ.berkeley.edu>"
   ]
  },
  {
   "cell_type": "markdown",
   "metadata": {},
   "source": [
    "----"
   ]
  },
  {
   "cell_type": "markdown",
   "metadata": {},
   "source": [
    "**(Task B) Consumption Series I**\n",
    "\n",
    "1. Websurf over to http://fred.stlouisfed.org\n",
    "2. Type \"consumption\" into the search box and press return\n",
    "3. Scan down the list of variables, focusing on variables that are \"real\", \"seasonally adjusted\", and \"monthly\".\n",
    "4. Find \"Real Personal Consumption Expenditures: Billions of Chained 2009 Dollars, Monthly, Seasonally Adjusted Annual Rate\". Click on the box to select it. Click on the \"Add to Graph\" button near the top.\n",
    "5. Click the \"DOWNLOAD\" button and then the \"CSV (Data)\" option\n",
    "6. Open the file you have just downloaded, PCEC96.csv, in a text editor. Look at it. Does it look like the right thing? If not, email me at delong@econ.berkeley.edu with the subject line: \"Econ 101b S2018 PS8: PCEC96.csv Does Not Look Right\""
   ]
  },
  {
   "cell_type": "markdown",
   "metadata": {},
   "source": [
    "**(Task C) Consumption Series II**\n",
    "\n",
    "1. I have put a copy of PCEC96.csv up on the web at URL: http://delong.typepad.com/pcec96.csv\n",
    "2. Run the code cell \"# Consumption Series Import Cell\" below to load the \"Real Personal Consumption Expenditures\" data into your namespace in the cons_df object.\n",
    "3. In the \"# Examine Consumption Series\" code cell further below, write code to examine what is in the \"cons_df\" object.\n",
    "4. Plot the Real Personal Consumption Expenditures series PCEC96:\n",
    "In the \"# Task C Answers\" code cell further below set the variables \"Cons_Jan_2000\" and \"Cons_Jan_2010\" to their correct values"
   ]
  },
  {
   "cell_type": "code",
   "execution_count": null,
   "metadata": {
    "collapsed": true
   },
   "outputs": [],
   "source": [
    "# Consumption Series Import Cell\n",
    "\n",
    "import pandas as pd\n",
    "\n",
    "Source_URL = 'http://delong.typepad.com/pcec96.csv' \n",
    "\n",
    "cons_df = pd.read_csv(\n",
    "    Source_URL, \n",
    "    converters = {'Source': str, 'Source_URL': str}, \n",
    "    parse_dates = True,\n",
    "    index_col = 0)\n"
   ]
  },
  {
   "cell_type": "code",
   "execution_count": null,
   "metadata": {
    "collapsed": true
   },
   "outputs": [],
   "source": [
    "# Examine Consumption Series\n",
    "\n",
    "print(cons_df.head())\n",
    "print(cons_df.PCEC96.head())\n",
    "cons_df.PCEC96.plot()"
   ]
  },
  {
   "cell_type": "code",
   "execution_count": null,
   "metadata": {
    "collapsed": true
   },
   "outputs": [],
   "source": [
    "# Task C Answers\n",
    "\n",
    "cons_Jan_2000 = \n",
    "cons_Jan_2010 = "
   ]
  },
  {
   "cell_type": "code",
   "execution_count": null,
   "metadata": {
    "collapsed": true
   },
   "outputs": [],
   "source": [
    "import numpy as np\n",
    "ok.grade('q01')"
   ]
  },
  {
   "cell_type": "markdown",
   "metadata": {},
   "source": [
    "----\n",
    "\n",
    "&nbsp;"
   ]
  },
  {
   "cell_type": "markdown",
   "metadata": {},
   "source": [
    "**(Task D) GDP Series I**\n",
    "\n",
    "1. Websurf over to http://fred.stlouisfed.org\n",
    "2. Type \"real gdp\" into the search box and press return\n",
    "3. Scan down the list of variables, focusing on variables that are \"real\", \"seasonally adjusted\", and \"quarterly\".\n",
    "4. Find \"Real Gross Domestic Product: Billions of Chained 2009 Dollars, Quarterly, Seasonally Adjusted Annual Rate\". Click on the box to select it. Click on the \"Add to Graph\" button near the top.\n",
    "5. Enter '1999-01-01' into the left of the two date boxes to the left of the red \"EDIT GRAPH\" button and press return\n",
    "6. Click the \"DOWNLOAD\" button and then the \"CSV (Data)\" option\n",
    "7. Open the file you have just downloaded, GDPC1.csv, in a text editor. Look at it. Does it look like the right thing? If not, email me at delong@econ.berkeley.edu with the subject line: \"Econ 101b S2018 PS8: GDPC1.csv Does Not Look Right\""
   ]
  },
  {
   "cell_type": "markdown",
   "metadata": {},
   "source": [
    "**(Task E) GDP Series II**\n",
    "\n",
    "1. I have put a copy of GDPC1.csv up on the web at URL: http://delong.typepad.com/gdpc1.csv\n",
    "2. Run the code cell \"# GDP Series Import Cell\" below to load the \"Real GDP\" data into your namespace in the cons_df object.\n",
    "3. In the \"# Examine GDP Series\" code cell further below, write code to examine what is in the \"cons_df\" object.\n",
    "4. Plot the Real Personal Consumption Expenditures series PCEC96:\n",
    "In the \"# Task D Answers\" code cell further below set the variables \"Cons_Jan_2000\" and \"Cons_Jan_2010\" to their correct values"
   ]
  },
  {
   "cell_type": "code",
   "execution_count": null,
   "metadata": {
    "collapsed": true
   },
   "outputs": [],
   "source": [
    "# GDP Series Import Cell\n",
    "\n",
    "import pandas as pd\n",
    "\n",
    "Source_URL = 'http://delong.typepad.com/gdpc1.csv' \n",
    "\n",
    "gdp_df = pd.read_csv(\n",
    "    Source_URL, \n",
    "    converters = {'Source': str, 'Source_URL': str}, \n",
    "    parse_dates = True,\n",
    "    index_col = 0)\n"
   ]
  },
  {
   "cell_type": "code",
   "execution_count": null,
   "metadata": {
    "collapsed": true
   },
   "outputs": [],
   "source": [
    "# Examine GDP Series"
   ]
  },
  {
   "cell_type": "code",
   "execution_count": null,
   "metadata": {
    "collapsed": true
   },
   "outputs": [],
   "source": [
    "# Task D Answers\n",
    "\n",
    "gdp_Jan_2000 =\n",
    "gdp_Jan_2010 ="
   ]
  },
  {
   "cell_type": "code",
   "execution_count": null,
   "metadata": {
    "collapsed": true
   },
   "outputs": [],
   "source": [
    "import numpy as np\n",
    "ok.grade('q02')"
   ]
  },
  {
   "cell_type": "markdown",
   "metadata": {},
   "source": [
    "----\n",
    "\n",
    "&nbsp;"
   ]
  },
  {
   "cell_type": "markdown",
   "metadata": {},
   "source": [
    "**(Task F) The Consumption Function I**:\n",
    "\n",
    "1. Run the code cell \"Graph consumption vs. income\" immediately below, importing and plotting real consumption spending and real GDP since the early post-WWII period into a single dataframe. Examine the plot. Email me at delong@econ.berkeley.edu with the subject line \"Econ 101b S2018 PS8: gdp_cons_df Does Not Look Right\" if anything looks wrong to you\n",
    "2. Run the code cell \"Graph consumption vs. income\" further below. That code cell performs a regression analysis: if consumption spending C is a simple linear function of GDP—national income—Y of the form $ C = a + bY + \\epsilon $, where $ \\epsilon $ are a host of additional variables not predictable from Y, what are the most likely values of the coefficients a and b, and how good a job do those coefficients and that function do at capturing the determinants of C?\n",
    "3. The regression analysis tells us that the estimated value of the slope coefficient b from the regression of consumption spending C on income Y is 0.6607. What is the relationship between this coefficient and the MPC—the parameter $ c_y $ in our simple flexprice business cycle model? Assume that the tax rate t in the simple model is 0.25. In the code cell further below \"Task F answers\", set the variable c_y equal to your estimate of what the value of b tells us that the MPC is. "
   ]
  },
  {
   "cell_type": "code",
   "execution_count": 3,
   "metadata": {},
   "outputs": [
    {
     "name": "stdout",
     "output_type": "stream",
     "text": [
      "         DATE   PCECC96     GDPC1\n",
      "0  1947-01-01  1199.413  1934.471\n",
      "1  1947-04-01  1219.329  1932.281\n",
      "2  1947-07-01  1223.266  1930.315\n",
      "3  1947-10-01  1223.649  1960.705\n",
      "4  1948-01-01  1229.757  1989.535\n"
     ]
    },
    {
     "data": {
      "text/plain": [
       "<matplotlib.axes._subplots.AxesSubplot at 0x10e426cf8>"
      ]
     },
     "execution_count": 3,
     "metadata": {},
     "output_type": "execute_result"
    }
   ],
   "source": [
    "# Graph consumption vs. income\n",
    "\n",
    "import pandas as pd\n",
    "\n",
    "Source_URL = 'http://delong.typepad.com/gdp_cons.csv'\n",
    "\n",
    "gdp_cons_df = pd.read_csv(\n",
    "    Source_URL, \n",
    "    converters = {'Source': str, 'Source_URL': str}, \n",
    "    parse_dates = True\n",
    "    )\n",
    "\n",
    "print(gdp_cons_df.head())\n",
    "\n",
    "gdp_cons_df.plot()"
   ]
  },
  {
   "cell_type": "code",
   "execution_count": 4,
   "metadata": {},
   "outputs": [
    {
     "name": "stdout",
     "output_type": "stream",
     "text": [
      "                            OLS Regression Results                            \n",
      "==============================================================================\n",
      "Dep. Variable:                PCECC96   R-squared:                       0.998\n",
      "Model:                            OLS   Adj. R-squared:                  0.998\n",
      "Method:                 Least Squares   F-statistic:                 1.465e+05\n",
      "Date:                Fri, 06 Apr 2018   Prob (F-statistic):               0.00\n",
      "Time:                        15:17:29   Log-Likelihood:                -1811.1\n",
      "No. Observations:                 284   AIC:                             3626.\n",
      "Df Residuals:                     282   BIC:                             3634.\n",
      "Df Model:                           1                                         \n",
      "Covariance Type:            nonrobust                                         \n",
      "==============================================================================\n",
      "                 coef    std err          t      P>|t|      [0.025      0.975]\n",
      "------------------------------------------------------------------------------\n",
      "const       -363.0965     16.811    -21.599      0.000    -396.187    -330.006\n",
      "GDPC1          0.6945      0.002    382.803      0.000       0.691       0.698\n",
      "==============================================================================\n",
      "Omnibus:                        3.098   Durbin-Watson:                   0.053\n",
      "Prob(Omnibus):                  0.212   Jarque-Bera (JB):                3.147\n",
      "Skew:                           0.229   Prob(JB):                        0.207\n",
      "Kurtosis:                       2.762   Cond. No.                     1.84e+04\n",
      "==============================================================================\n",
      "\n",
      "Warnings:\n",
      "[1] Standard Errors assume that the covariance matrix of the errors is correctly specified.\n",
      "[2] The condition number is large, 1.84e+04. This might indicate that there are\n",
      "strong multicollinearity or other numerical problems.\n"
     ]
    }
   ],
   "source": [
    "import numpy as np\n",
    "import statsmodels.api as sm\n",
    "import statsmodels.formula.api as smf\n",
    "\n",
    "Consumption = gdp_cons_df.PCECC96\n",
    "Income = gdp_cons_df.GDPC1\n",
    "Income = sm.add_constant(Income)\n",
    "results = sm.OLS(Consumption, Income).fit()\n",
    "\n",
    "print(results.summary())"
   ]
  },
  {
   "cell_type": "code",
   "execution_count": null,
   "metadata": {
    "collapsed": true
   },
   "outputs": [],
   "source": [
    "# Task F answers\n",
    "\n",
    "c_y = "
   ]
  },
  {
   "cell_type": "code",
   "execution_count": null,
   "metadata": {
    "collapsed": true
   },
   "outputs": [],
   "source": [
    "import numpy as np\n",
    "ok.grade('q03')"
   ]
  },
  {
   "cell_type": "markdown",
   "metadata": {},
   "source": [
    "----\n",
    "\n",
    "&nbsp;"
   ]
  },
  {
   "cell_type": "markdown",
   "metadata": {},
   "source": [
    "**(Task G) Consumption Function II**\n",
    "\n",
    "Task F produced a very high estimate of the marginal propensity to consume, MPC, $ c_y $. It seemed to indicate that households do not smooth spending very much at all—that they take virtually all of a change in their income and spend it. This estimate was obtained because the overwhelming bulk of the identifying variance in the regression analysis of Task F consisted of permanent, long run changes in actual and expected income. Now let us look at shorter run, more temporary changes. We do this by performing a regression analysis in which the dependent and independent variables are not the simple levels of consumption spending C and national income Y, but rather one year changes in those variables scaled by the then-current level of real national income.\n",
    "\n",
    "1. Run the code cell below \"Calculating one year changes\", which calculates and then plots one year changes in consumption spending C and national income Y, both of them as fractions of the then-current level of national income Y. Examine the plot. Email me at delong@econ.berkeley.edu with the subject line \"Econ 101b S2018 PS8: Delta_C and Delta_Y DO Not Look Right\" if anything looks wrong to you.\n",
    "2. Run the code cell further below \"1 year changes regression: full sample\". Use the estimated b coefficient—the number immediately to the right of the \"Delta_Y\" under the heading \"coef\"—to calculate the estimate of the MPC $ c_y $ produced from examining one year changes. Assume once again that the tax rate t is 0.25. In the code cell \"Task G answers\", set the variable c_y_1_year equal to the estimate of the MPC.\n",
    "3. Duplicate the code cell \"Calculating one year changes\". Then paste it immediately below. Alter the first line of the pasted version to read \"# Calculating one year changes: earlier half of the sample\"\n",
    "4. Change the code in \"# Calculating one year changes: earlier half of the sample\" so that it runs the regression analysis for 1 year changes for only the first half of our 280 observation-long post-WWII data. In the code cell \"Task G answers\", set the variable c_y_1_year_early_sample equal to the estimate of the MPC for the first half of the sample.\n",
    "5. Duplicate the code cell \"Calculating one year changes\". Then paste it immediately below. Alter the first line of the pasted version to read \"# Calculating one year changes: later half of the sample\"\n",
    "6. Change the code in \"# Calculating one year changes: later half of the sample\" so that it runs the regression analysis for 1 year changes for only the second half of our 280 observation-long post-WWII data. In the code cell \"Task G answers\", set the variable c_y_1_year_late_sample equal to the estimate of the MPC for the second half of the sample."
   ]
  },
  {
   "cell_type": "code",
   "execution_count": 10,
   "metadata": {},
   "outputs": [
    {
     "name": "stdout",
     "output_type": "stream",
     "text": [
      "         DATE   PCECC96     GDPC1   Delta_C   Delta_Y\n",
      "0  1947-01-01  1199.413  1934.471  0.015686  0.028465\n",
      "1  1947-04-01  1219.329  1932.281  0.012799  0.046355\n",
      "2  1947-07-01  1223.266  1930.315  0.011722  0.053276\n",
      "3  1947-10-01  1223.649  1960.705  0.016416  0.038060\n",
      "4  1948-01-01  1229.757  1989.535  0.014130  0.009041\n"
     ]
    },
    {
     "data": {
      "text/plain": [
       "[<matplotlib.lines.Line2D at 0x111ea5eb8>]"
      ]
     },
     "execution_count": 10,
     "metadata": {},
     "output_type": "execute_result"
    },
    {
     "data": {
      "image/png": "[encoded data removed]",
      "text/plain": [
       "<matplotlib.figure.Figure at 0x111dee2e8>"
      ]
     },
     "metadata": {},
     "output_type": "display_data"
    }
   ],
   "source": [
    "# Calculating one year changes\n",
    "\n",
    "import matplotlib as mpl\n",
    "import matplotlib.pyplot as plt\n",
    "\n",
    "Delta_C = []\n",
    "Delta_Y = []\n",
    "\n",
    "for t in range(280):\n",
    "    Delta_C = Delta_C + [(gdp_cons_df.PCECC96[t+4]-\n",
    "        gdp_cons_df.PCECC96[t])/gdp_cons_df.GDPC1[t]]\n",
    "    Delta_Y = Delta_Y + [(gdp_cons_df.GDPC1[t+4]-\n",
    "        gdp_cons_df.GDPC1[t])/gdp_cons_df.GDPC1[t]]\n",
    "\n",
    "Delta_C = Delta_C + [0] + [0] + [0] + [0]\n",
    "Delta_Y = Delta_Y + [0] + [0] + [0] + [0]\n",
    "\n",
    "gdp_cons_df['Delta_C'] = Delta_C\n",
    "gdp_cons_df['Delta_Y'] = Delta_Y\n",
    "\n",
    "print(gdp_cons_df.head())\n",
    "\n",
    "plt.plot(gdp_cons_df.Delta_Y[:280], gdp_cons_df.Delta_C[:280], \"o\")"
   ]
  },
  {
   "cell_type": "code",
   "execution_count": 12,
   "metadata": {},
   "outputs": [
    {
     "name": "stdout",
     "output_type": "stream",
     "text": [
      "                            OLS Regression Results                            \n",
      "==============================================================================\n",
      "Dep. Variable:                Delta_C   R-squared:                       0.616\n",
      "Model:                            OLS   Adj. R-squared:                  0.615\n",
      "Method:                 Least Squares   F-statistic:                     446.1\n",
      "Date:                Fri, 06 Apr 2018   Prob (F-statistic):           9.78e-60\n",
      "Time:                        15:20:35   Log-Likelihood:                 961.08\n",
      "No. Observations:                 280   AIC:                            -1918.\n",
      "Df Residuals:                     278   BIC:                            -1911.\n",
      "Df Model:                           1                                         \n",
      "Covariance Type:            nonrobust                                         \n",
      "==============================================================================\n",
      "                 coef    std err          t      P>|t|      [0.025      0.975]\n",
      "------------------------------------------------------------------------------\n",
      "const          0.0088      0.001     11.831      0.000       0.007       0.010\n",
      "Delta_Y        0.3802      0.018     21.122      0.000       0.345       0.416\n",
      "==============================================================================\n",
      "Omnibus:                      128.109   Durbin-Watson:                   0.658\n",
      "Prob(Omnibus):                  0.000   Jarque-Bera (JB):              902.326\n",
      "Skew:                          -1.704   Prob(JB):                    1.15e-196\n",
      "Kurtosis:                      11.107   Cond. No.                         38.4\n",
      "==============================================================================\n",
      "\n",
      "Warnings:\n",
      "[1] Standard Errors assume that the covariance matrix of the errors is correctly specified.\n"
     ]
    }
   ],
   "source": [
    "# 1 year changes regression: full sample\n",
    "\n",
    "import numpy as np\n",
    "import statsmodels.api as sm\n",
    "import statsmodels.formula.api as smf\n",
    "\n",
    "Delta_Consumption = gdp_cons_df.Delta_C[:280]\n",
    "Delta_Income = gdp_cons_df.Delta_Y[:280]\n",
    "Delta_Income = sm.add_constant(Delta_Income)\n",
    "results = sm.OLS(Delta_Consumption, Delta_Income).fit()\n",
    "\n",
    "print(results.summary())"
   ]
  },
  {
   "cell_type": "code",
   "execution_count": null,
   "metadata": {
    "collapsed": true
   },
   "outputs": [],
   "source": [
    "# Task G answers\n",
    "\n",
    "c_y_1_year =\n",
    "c_y_1_year_early_sample = \n",
    "c_y_1_year_late_sample = "
   ]
  },
  {
   "cell_type": "code",
   "execution_count": null,
   "metadata": {
    "collapsed": true
   },
   "outputs": [],
   "source": [
    "import numpy as np\n",
    "ok.grade('q04')"
   ]
  },
  {
   "cell_type": "markdown",
   "metadata": {},
   "source": [
    "----\n",
    "\n",
    "&nbsp;"
   ]
  },
  {
   "cell_type": "markdown",
   "metadata": {},
   "source": [
    "**(Task H) Consumption Function III**\n",
    "\n",
    "Task F produced a very high estimate of the marginal propensity to consume out of disposable income, MPC, $ c_y $, indicating that households do not smooth spending very much at all—that they take virtually all of a change in their income and spend it. This estimate captures the MPC in response to permanent, long run changes in actual and expected income. But the MPC that is relevant for business cycle analysis is a short run MPC: the response of consumption to surprise, transitory changes in national income.\n",
    "\n",
    "Task G produed somewhat smaller estimates of the MPC by looking at the reaction of consumption spending to one-year changes in national income.\n",
    "\n",
    "Now let us look at one quarter changes. We do this by performing a regression analysis in which the dependent and independent variables are oen quarter changes in those variables scaled by the then-current level of real national income.\n",
    "\n",
    "1. Run the code cell below \"Calculating one quarter changes\", which calculates and then plots one year changes in consumption spending C and national income Y, both of them as fractions of the then-current level of national income Y. Examine the plot. Email me at delong@econ.berkeley.edu with the subject line \"Econ 101b S2018 PS8: Delta_C and Delta_Y DO Not Look Right\" if anything looks wrong to you.\n",
    "2. Run the code cell further below \"1 quarter changes regression: full sample\". Use the estimated b coefficient—the number immediately to the right of the \"Delta_Y\" under the heading \"coef\"—to calculate the estimate of the MPC $ c_y $ produced from examining one year changes. Assume once again that the tax rate t is 0.25. In the code cell \"Task G answers\", set the variable c_y_1_quarter equal to the estimate of the MPC.\n",
    "3. Duplicate the code cell \"Calculating one quarter changes\". Then paste it immediately below. Alter the first line of the pasted version to read \"# Calculating one quarter changes: earlier half of the sample\"\n",
    "4. Change the code in \"# Calculating one quarter changes: earlier half of the sample\" so that it runs the regression analysis for 1 year changes for only the first half of our 280 observation-long post-WWII data. In the code cell \"Task G answers\", set the variable c_y_1_quarter_early_sample equal to the estimate of the MPC for the first half of the sample.\n",
    "5. Duplicate the code cell \"Calculating one quarter changes\". Then paste it immediately below. Alter the first line of the pasted version to read \"# Calculating one quarter changes: later half of the sample\"\n",
    "6. Change the code in \"# Calculating one quarter changes: later half of the sample\" so that it runs the regression analysis for 1 year changes for only the seconc half of our 280 observation-long post-WWII data. In the code cell \"Task G answers\", set the variable c_y_1_quarter_late_sample equal to the estimate of the MPC for the second half of the sample."
   ]
  },
  {
   "cell_type": "code",
   "execution_count": 13,
   "metadata": {},
   "outputs": [
    {
     "data": {
      "text/plain": [
       "[<matplotlib.lines.Line2D at 0x112502e80>]"
      ]
     },
     "execution_count": 13,
     "metadata": {},
     "output_type": "execute_result"
    },
    {
     "data": {
      "image/png": "[encoded data removed]",
      "text/plain": [
       "<matplotlib.figure.Figure at 0x111dfada0>"
      ]
     },
     "metadata": {},
     "output_type": "display_data"
    }
   ],
   "source": [
    "# Calculating one quarter changes\n",
    "import numpy as np\n",
    "import statsmodels.api as sm\n",
    "import statsmodels.formula.api as smf\n",
    "import matplotlib as mpl\n",
    "import matplotlib.pyplot as plt\n",
    "\n",
    "Delta_C1 = []\n",
    "Delta_Y1 = []\n",
    "\n",
    "for t in range(280):\n",
    "    Delta_C1 = Delta_C1 + [(gdp_cons_df.PCECC96[t+1]-\n",
    "        gdp_cons_df.PCECC96[t])/gdp_cons_df.GDPC1[t]]\n",
    "    Delta_Y1 = Delta_Y1 + [(gdp_cons_df.GDPC1[t+1]-\n",
    "        gdp_cons_df.GDPC1[t])/gdp_cons_df.GDPC1[t]]\n",
    "\n",
    "Delta_C1 = Delta_C1 + [0] + [0] + [0] + [0]\n",
    "Delta_Y1 = Delta_Y1 + [0] + [0] + [0] + [0]\n",
    "\n",
    "gdp_cons_df['Delta_C1'] = Delta_C1\n",
    "gdp_cons_df['Delta_Y1'] = Delta_Y1\n",
    "\n",
    "plt.plot(gdp_cons_df.Delta_Y1[:280], gdp_cons_df.Delta_C1[:280], \"o\")"
   ]
  },
  {
   "cell_type": "code",
   "execution_count": 14,
   "metadata": {},
   "outputs": [
    {
     "name": "stdout",
     "output_type": "stream",
     "text": [
      "                            OLS Regression Results                            \n",
      "==============================================================================\n",
      "Dep. Variable:               Delta_C1   R-squared:                       0.347\n",
      "Model:                            OLS   Adj. R-squared:                  0.345\n",
      "Method:                 Least Squares   F-statistic:                     148.0\n",
      "Date:                Fri, 06 Apr 2018   Prob (F-statistic):           1.40e-27\n",
      "Time:                        15:22:50   Log-Likelihood:                 1143.2\n",
      "No. Observations:                 280   AIC:                            -2282.\n",
      "Df Residuals:                     278   BIC:                            -2275.\n",
      "Df Model:                           1                                         \n",
      "Covariance Type:            nonrobust                                         \n",
      "==============================================================================\n",
      "                 coef    std err          t      P>|t|      [0.025      0.975]\n",
      "------------------------------------------------------------------------------\n",
      "const          0.0027      0.000      8.562      0.000       0.002       0.003\n",
      "Delta_Y1       0.3129      0.026     12.164      0.000       0.262       0.364\n",
      "==============================================================================\n",
      "Omnibus:                      138.075   Durbin-Watson:                   2.456\n",
      "Prob(Omnibus):                  0.000   Jarque-Bera (JB):             1978.989\n",
      "Skew:                          -1.602   Prob(JB):                         0.00\n",
      "Kurtosis:                      15.624   Cond. No.                         105.\n",
      "==============================================================================\n",
      "\n",
      "Warnings:\n",
      "[1] Standard Errors assume that the covariance matrix of the errors is correctly specified.\n"
     ]
    }
   ],
   "source": [
    "# 1 quarter changes regression: full sample\n",
    "\n",
    "import numpy as np\n",
    "import statsmodels.api as sm\n",
    "import statsmodels.formula.api as smf\n",
    "\n",
    "Delta_C1 = gdp_cons_df.Delta_C1[:280]\n",
    "Delta_Y1 = gdp_cons_df.Delta_Y1[:280]\n",
    "Delta_Y1 = sm.add_constant(Delta_Y1)\n",
    "results = sm.OLS(Delta_Consumption, Delta_Income).fit()\n",
    "\n",
    "results = sm.OLS(Delta_C1, Delta_Y1).fit()\n",
    "\n",
    "print(results.summary())"
   ]
  },
  {
   "cell_type": "code",
   "execution_count": null,
   "metadata": {
    "collapsed": true
   },
   "outputs": [],
   "source": [
    "# Task H answers\n",
    "\n",
    "c_y_1_quarter =\n",
    "c_y_1_quarter_early_sample =\n",
    "c_y_1_quarter_late_sample ="
   ]
  },
  {
   "cell_type": "code",
   "execution_count": null,
   "metadata": {
    "collapsed": true
   },
   "outputs": [],
   "source": [
    "import numpy as np\n",
    "ok.grade('q05')"
   ]
  },
  {
   "cell_type": "code",
   "execution_count": null,
   "metadata": {
    "collapsed": true
   },
   "outputs": [],
   "source": [
    "_ = ok.submit()"
   ]
  }
 ],
 "metadata": {
  "celltoolbar": "Edit Metadata",
  "kernelspec": {
   "display_name": "Python 3",
   "language": "python",
   "name": "python3"
  },
  "language_info": {
   "codemirror_mode": {
    "name": "ipython",
    "version": 3
   },
   "file_extension": ".py",
   "mimetype": "text/x-python",
   "name": "python",
   "nbconvert_exporter": "python",
   "pygments_lexer": "ipython3",
   "version": "3.6.1"
  }
 },
 "nbformat": 4,
 "nbformat_minor": 2
}
