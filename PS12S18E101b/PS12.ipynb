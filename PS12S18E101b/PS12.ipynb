{
 "cells": [
  {
   "cell_type": "markdown",
   "metadata": {
    "slideshow": {
     "slide_type": "notes"
    }
   },
   "source": [
    "# 2018-04-17 Econ 101b Problem Set 12: Monetary Policy and Financial Crises"
   ]
  },
  {
   "cell_type": "markdown",
   "metadata": {},
   "source": [
    "### Problem set will be due M Apr 30 at midnight...\n",
    "\n",
    "#### Sections between Tu AM & Th AM lecture will be problem set section..."
   ]
  },
  {
   "cell_type": "markdown",
   "metadata": {},
   "source": [
    "## Setting up the Python/Jupyter environment"
   ]
  },
  {
   "cell_type": "code",
   "execution_count": 1,
   "metadata": {},
   "outputs": [
    {
     "data": {
      "application/javascript": [
       "\n",
       "IPython.OutputArea.prototype._should_scroll = function(lines) {\n",
       "    return false;}"
      ],
      "text/plain": [
       "<IPython.core.display.Javascript object>"
      ]
     },
     "metadata": {},
     "output_type": "display_data"
    }
   ],
   "source": [
    "%%javascript\n",
    "\n",
    "IPython.OutputArea.prototype._should_scroll = function(lines) {\n",
    "    return false;}"
   ]
  },
  {
   "cell_type": "code",
   "execution_count": 2,
   "metadata": {},
   "outputs": [],
   "source": [
    "# ABOVE CELL IS \"NO SCROLLING SUBWINDOWS\" SETUP\n",
    "#\n",
    "# keep output cells from shifting to autoscroll: little scrolling\n",
    "# subwindows within the notebook are an annoyance..."
   ]
  },
  {
   "cell_type": "code",
   "execution_count": 3,
   "metadata": {},
   "outputs": [],
   "source": [
    "# LOADING LIBRARIES WE MIGHT NEED...\n",
    "#\n",
    "# system\n",
    "\n",
    "import sys\n",
    "import os\n",
    "from urllib.request import urlretrieve"
   ]
  },
  {
   "cell_type": "code",
   "execution_count": 4,
   "metadata": {},
   "outputs": [],
   "source": [
    "# LOADING LIBRARIES WE MIGHT NEED...\n",
    "#\n",
    "# plotting\n",
    "\n",
    "import matplotlib as mpl\n",
    "import matplotlib.pyplot as plt\n",
    "from IPython.display import Image\n",
    "import seaborn as sns"
   ]
  },
  {
   "cell_type": "code",
   "execution_count": 5,
   "metadata": {},
   "outputs": [],
   "source": [
    "# LOADING LIBRARIES WE MIGHT NEED...\n",
    "#\n",
    "# data handling\n",
    "\n",
    "import pandas as pd\n",
    "from pandas import DataFrame, Series\n",
    "from datetime import datetime"
   ]
  },
  {
   "cell_type": "code",
   "execution_count": 6,
   "metadata": {},
   "outputs": [],
   "source": [
    "# LOADING LIBRARIES WE MIGHT NEED...\n",
    "#\n",
    "# math\n",
    "\n",
    "import scipy as sp\n",
    "import numpy as np\n",
    "import math\n",
    "import random"
   ]
  },
  {
   "cell_type": "code",
   "execution_count": 7,
   "metadata": {},
   "outputs": [
    {
     "name": "stderr",
     "output_type": "stream",
     "text": [
      "/Users/delong/anaconda3/lib/python3.6/site-packages/statsmodels/compat/pandas.py:56: FutureWarning: The pandas.core.datetools module is deprecated and will be removed in a future version. Please use the pandas.tseries module instead.\n",
      "  from pandas.core import datetools\n"
     ]
    }
   ],
   "source": [
    "# LOADING LIBRARIES WE MIGHT NEED...\n",
    "#\n",
    "# statistics\n",
    "\n",
    "import statsmodels\n",
    "import statsmodels.api as sm\n",
    "import statsmodels.formula.api as smf"
   ]
  },
  {
   "cell_type": "code",
   "execution_count": 8,
   "metadata": {},
   "outputs": [],
   "source": [
    "# PRETTIER GRAPHICS SETUP\n",
    "#\n",
    "# graphics setup: seaborn-whitegrid and figure size;\n",
    "# graphs in the notebook itself...\n",
    "\n",
    "%matplotlib inline \n",
    "\n",
    "plt.style.use('seaborn-whitegrid')\n",
    "\n",
    "figure_size = plt.rcParams[\"figure.figsize\"]\n",
    "figure_size[0] = 12\n",
    "figure_size[1] = 10\n",
    "plt.rcParams[\"figure.figsize\"] = figure_size"
   ]
  },
  {
   "cell_type": "code",
   "execution_count": 9,
   "metadata": {},
   "outputs": [
    {
     "name": "stdout",
     "output_type": "stream",
     "text": [
      "Requirement already up-to-date: okpy in /Users/delong/anaconda3/lib/python3.6/site-packages\n",
      "Requirement already up-to-date: coverage==3.7.1 in /Users/delong/anaconda3/lib/python3.6/site-packages (from okpy)\n",
      "Requirement already up-to-date: requests==2.12.4 in /Users/delong/anaconda3/lib/python3.6/site-packages (from okpy)\n",
      "\u001b[33mYou are using pip version 9.0.2, however version 10.0.0 is available.\n",
      "You should consider upgrading via the 'pip install --upgrade pip' command.\u001b[0m\n",
      "=====================================================================\n",
      "Assignment: PS12 Notebook\n",
      "OK, version v1.13.11\n",
      "=====================================================================\n",
      "\n",
      "\n",
      "Open the following URL:\n",
      "\n",
      "https://okpy.org/client/login/\n",
      "\n",
      "After logging in, copy the code from the web page and paste it into the box.\n",
      "Then press the \"Enter\" key on your keyboard.\n",
      "\n",
      "Paste your code here: NLUIvHrMgEg0BGO76POaXDK7oApcNS\n",
      "Successfully logged in as jbdelong@berkeley.edu\n"
     ]
    }
   ],
   "source": [
    "# THIS CELL IS THE KEY TO THE OKPY.ORG AUTOGRADER SYSTEM\n",
    "#\n",
    "# Don't change this cell; just run it. \n",
    "# The result will give you directions about how to log in to the submission system, called OK.\n",
    "# Once you're logged in, you can run this cell again, but it won't ask you who you are because\n",
    "# it remembers you. However, you will need to log in once per assignment.\n",
    "\n",
    "!pip install -U okpy\n",
    "\n",
    "from client.api.notebook import Notebook\n",
    "\n",
    "ok = Notebook('ps12.ok')\n",
    "_ = ok.auth(force=True, inline=True)"
   ]
  },
  {
   "cell_type": "markdown",
   "metadata": {},
   "source": [
    "### ⬆︎⬆︎⬆︎⬆︎⬆︎⬆︎⬆︎⬆︎⬆︎⬆︎⬆︎⬆︎⬆︎⬆︎⬆︎⬆︎\n",
    "### RUN THESE CELLS ABOVE FIRST"
   ]
  },
  {
   "cell_type": "markdown",
   "metadata": {},
   "source": [
    "# Problem Set 12: Monetary Policy and Financial Crises (Due M Apr 30 11:59:59 PM)\n",
    "\n",
    "----\n",
    "\n",
    "&nbsp;\n",
    "\n",
    "## Introduction\n",
    "\n",
    "The autograder, both in the tests you run along the way as you work on the problem set and in calculating the final score, looks in the same directory as the problem set notebook for an \"ok.tests\" directory, and then runs the tests in the \"q\\*\\*.py\" files in that directory (where \"\\*\\*\" denotes a two-digit number, possibly with a leading zero). Those tests take the form of comparing a variable that should be in your namespace and seeing if it is close to some desired value that we get when we do the problem set.\n",
    "\n",
    "Thus while the problem set instructions ask you to run simulations and plot graphs, what you are tested on is whether the appropriate variables in your namespace have (close to the) right values. We do not care what code you use in order to get those variables to the right values. \n",
    "\n",
    "You can run simulations and then pick appropriate values out by slicing a series in order to get the right number. \n",
    "\n",
    "You can use your knowledge of the algebraic solution to the model to have Python calculate the answer, having first set the parameters to the right values, as in:\n",
    "\n",
    "    s = 0.24 # (say)\n",
    "    n = 0.01\n",
    "    g = 0.02\n",
    "    delta = 0.03\n",
    "    Delta_n = -0.01\n",
    "    KoverYinitial = s/(n+g+delta)\n",
    "    KoverYalternative = s/(n+Delta_n+g+delta)\n",
    "    \n",
    "You can even do all of the calculations on pen and paper, and simply code up:\n",
    "\n",
    "    KoverYinitial = 4\n",
    "    KoverYalternative = 4.8\n",
    "    \n",
    "Perhaps we should ask you to do all three—start with simulations, or with algebraic equations with set parameter values, or with full pen-and-paper calculations with only the final results entered into the notebook—and then ask you to check your results from one mode by doing the other two. But: _ars longa, vita brevis_. Focus on what works _for you_: the key is to get a sense of how economists' center-of-gravity analyses of long-run growth work, so that when you encounter such an analysis later, outside the university, you have the right intellectual panoply to evaluate it.\n",
    "\n",
    "----\n",
    "\n",
    "&nbsp;"
   ]
  },
  {
   "cell_type": "markdown",
   "metadata": {},
   "source": [
    "## Programming Dos and Don'ts...\n",
    "\n",
    "### A Running List...\n",
    "\n",
    "1. **Do** restart your kernel and run cells up to your current working point every fifteen minutes or so. Yes, it takes a little time. But if you don't, sooner or later the machine's namespace will get confused, and then you will get confused about the state of the machine's namespace, and by assuming things about it that are false you will lose hours and hours...   \n",
    "&nbsp;\n",
    "\n",
    "2. **Do** reload the page when restarting the kernel does not seem to do the job...   \n",
    "&nbsp;\n",
    "\n",
    "3. **Do** edit code cells by copying them below your current version and then working on the copy: when you break everything in the current cell (as you will), you can then go back to the old cell and start fresh...   \n",
    "&nbsp;\n",
    "\n",
    "4. **Do** exercise agile development practices: if there is a line of code that you have not tested, test it. The best way to test is to ask the machine to echo back to you the thing you have just created in its namespace to make sure that it is what you want it to be. Only after you are **certain** that your namespace contains what you think it does should you write the next line of code. And then you should immediately test it...   \n",
    "&nbsp;\n",
    "\n",
    "5. **Do** take screenshots of your error messages...   \n",
    "&nbsp;\n",
    "\n",
    "6. **Do** google your error messages: Ms. Google is your best friend here...   \n",
    "&nbsp;\n",
    "\n",
    "7. **Do not** confuse assignment (\"=\") and test for equality (\"==\"). In general, if there is an \"if\" anywhere nearby, you should be testing for equality. If there is not, you should be assignment a variable in your namespace to a value. **Do** curse the mathematicians 500 years ago who did not realize that in the twenty-first century it would be very convenient if we had different and not confusable symbols for equals-as-assignment and equals-as-test...   \n",
    "&nbsp;\n",
    "\n",
    "----\n",
    "\n",
    "&nbsp;\n",
    "\n",
    "**Thanks to**: Felix Deng, Rachel Grossberg, Christopher Hench, Meghana Krishnakumer, Seth Lloyd, Ronald Walker..."
   ]
  },
  {
   "cell_type": "markdown",
   "metadata": {
    "deletable": false,
    "manual_grade": true,
    "manual_problem_id": "PS6TB"
   },
   "source": [
    "**(Task A) Programming Practices**\n",
    "\n",
    "If it strikes you that anything should be added to this list of programming dos and don'ts, please email it to me at <delong@econ.berkeley.edu>"
   ]
  },
  {
   "cell_type": "markdown",
   "metadata": {},
   "source": [
    "----"
   ]
  },
  {
   "cell_type": "markdown",
   "metadata": {},
   "source": [
    "### The Baseline Sticky-Price Model\n",
    "\n",
    "Start with the IS-Curve for the sticky-price model:\n",
    "\n",
    "&nbsp;&nbsp;&nbsp;&nbsp;&nbsp;&nbsp;&nbsp;&nbsp;&nbsp;\n",
    "$ Y = E = {\\mu}(c_o + I_o + G) + {\\mu}(x_{f}Y^f + x_{\\epsilon}{\\epsilon_o} + x_{\\epsilon}{\\epsilon_r}r^f) - {\\mu}(I_r + x_{\\epsilon}{\\epsilon_r})r $\n",
    "\n",
    "Remember: causation moves from right to left: the components of spending add up to aggregate demand or total expenditure E, and the inventory adjustment process then drives national income and product Y to aggregate demand.\n",
    "\n",
    "The symbols on the right-hand side of this equation are grouped into:\n",
    "\n",
    "_Expectations and Confidence:_\n",
    "\n",
    "* $ c_o $ :: consumer confidence\n",
    "* $ I_o $ :: business investment animal spirits\n",
    "* $ {\\epsilon_o} $ :: the confidence of foreign exchange speculators in the value of foreign currency\n",
    "\n",
    "&nbsp;\n",
    "\n",
    "_Behavioral Parameters:_\n",
    "\n",
    "* $ x_{f} $ :: the responsiveness of exports to foreign income\n",
    "* $ x_{\\epsilon} $ :: the responsiveness of exports to the exchange rate\n",
    "* $ {\\epsilon_r} $ :: the responsiveness of the exchange rate to the interest rate\n",
    "* $ I_r $ :: the responsiveness of investment to the interest rate\n",
    "* $ {\\mu} = \\frac{1}{1- c_{y}(1-t) + im_y} $ :: the multiplier, itself a function of:\n",
    "    * $ t $ :: the tax rate\n",
    "    * $ c_y $ :: the marginal propensity to consume\n",
    "    * $ im_y $ :: the marginal propensity to import\n",
    "\n",
    "&nbsp;\n",
    "\n",
    "_The Global Economic Environment:_\n",
    "\n",
    "* $ Y^f $ :: foreign national income\n",
    "* $ r^f $ :: the foreign long-term risky real interest rate\n",
    "\n",
    "&nbsp;\n",
    "\n",
    "_Policy Choices:_\n",
    "\n",
    "* $ G $ :: government purchases\n",
    "* $ r = i + \\rho - \\pi $ :: the long-term risky real interest rate, which itself will later on be a function of:\n",
    "    * $ i $ :: the short-term safe nominal interest rate, a policy choice\n",
    "    * $ \\rho $ :: the risk (and term) premium charged for lending long-term to companies that might go bankrupt rather than short-term to the government\n",
    "    * $ \\pi $ :: the expected inflation rate\n",
    "\n",
    "Assume parameter values:\n",
    "\n",
    "* $ c_o = 2 $\n",
    "* $ c_y = 5/8 $\n",
    "* $ I_o = 4.4 $\n",
    "* $ I_r = 10 $\n",
    "* $ t = 0.20 $\n",
    "* $ im_y = 1/6 $\n",
    "* $ x^f = 0.1 $\n",
    "* $ Y^f = 20 $\n",
    "* $ r^f = 0.04 $\n",
    "* $ x_{\\epsilon} = 4/3 $\n",
    "* $ \\epsilon_o = 1 $\n",
    "* $ \\epsilon_r = 5 $\n",
    "\n",
    "And assume that government purchases $ G = 4 $\n",
    "\n",
    "The code cell below sets parameter values and calculates the equilibrium value of the real interest rater r for this flexprice model IS Curve. It then calculates the values of hte other economic variables, in trillions:\n",
    "\n",
    "----\n",
    "\n",
    "&nbsp;"
   ]
  },
  {
   "cell_type": "code",
   "execution_count": 10,
   "metadata": {},
   "outputs": [
    {
     "name": "stdout",
     "output_type": "stream",
     "text": [
      "The real interest rate = 0.04\n",
      "\n",
      "The components of national income and product Y are:\n",
      "Consumption spending C =  12.0\n",
      "Investment spending I =  4.0\n",
      "Government purchases G =  4\n",
      "Net exports NX =  0.0\n",
      "\n",
      "Output Y =  20.0\n",
      "\n",
      "Gross exports GX =  3.333333333333333\n",
      "Imports IM =  3.333333333333333\n",
      "\n",
      "The real exchange rate ε =  1.0\n",
      "\n",
      "The multiplier μ =  1.5\n"
     ]
    }
   ],
   "source": [
    "# STICKY-PRICE MODEL INITIAL SCENARIO SETUP\n",
    "\n",
    "# Set initial parameter and variable values\n",
    "c_o = 2\n",
    "c_y = 5/8\n",
    "\n",
    "I_o = 4.4\n",
    "I_r = 10\n",
    "\n",
    "G = 4\n",
    "t = 0.20\n",
    "\n",
    "im_y = 1/6\n",
    "x_f = 0.1\n",
    "Y_f = 20\n",
    "r_f = 0.04\n",
    "\n",
    "x_epsilon = 4/3\n",
    "epsilon_o = 1\n",
    "epsilon_r = 5\n",
    "\n",
    "# Calculate the value of the multiplier\n",
    "mu = 1/(1-c_y*(1-t)+ im_y)\n",
    "\n",
    "# Set the real interest rate\n",
    "r = 0.04\n",
    "\n",
    "# Calculate the equilibrium value of Y from the IS Curve\n",
    "Y = mu * ((c_o + I_o + G) + \n",
    "    (x_f * Y_f + x_epsilon * epsilon_o + x_epsilon * epsilon_r * r_f) -\n",
    "    (I_r + x_epsilon * epsilon_r)* r) \n",
    "\n",
    "# calculcate the values of other economic variables \n",
    "# in this initial scenario\n",
    "C = c_o + c_y * (1-t) * Y\n",
    "I = I_o - I_r * r\n",
    "GX = x_f * Y_f + x_epsilon * epsilon_o + x_epsilon * epsilon_r * (r_f-r)\n",
    "IM = im_y * Y\n",
    "NX = GX - IM\n",
    "epsilon = epsilon_o + epsilon_r * (r_f-r)\n",
    "\n",
    "# print out the values of economic variables in \n",
    "# this initial scenario equilibrium\n",
    "print(\"The real interest rate =\", r)\n",
    "print(\"\")\n",
    "print(\"The components of national income and product Y are:\")\n",
    "print(\"Consumption spending C = \", C)\n",
    "print(\"Investment spending I = \", I)\n",
    "print(\"Government purchases G = \", G)\n",
    "print(\"Net exports NX = \", NX)\n",
    "print(\"\")\n",
    "print(\"Output Y = \", Y)\n",
    "print(\"\")\n",
    "print(\"Gross exports GX = \", GX)\n",
    "print(\"Imports IM = \", IM)\n",
    "print(\"\")\n",
    "print(\"The real exchange rate ε = \", epsilon)\n",
    "print(\"\")\n",
    "print(\"The multiplier μ = \", mu)\n",
    "\n",
    "# AFTER YOU RUN THIS CELL, DO NOT OVERWRITE THE VALUES OF THE\n",
    "# _ini VARIABLES!\n",
    "#\n",
    "# remember the values of the economic variables in this \n",
    "# initial scenario\n",
    "r_ini = r\n",
    "I_ini = I\n",
    "G_ini = G\n",
    "NX_ini = NX\n",
    "epsilon_ini = epsilon\n",
    "Y_ini = Y\n",
    "C_ini = C"
   ]
  },
  {
   "cell_type": "markdown",
   "metadata": {},
   "source": [
    "### (Task B) Sticky-Price: Moving Along the IS Curve: A Contraction via Higher Interest Rates to Fight Inflation (Initial)\n",
    "\n",
    "In the code cell below the setup cell, calculate the change in national product produced by the central bank's fighting infltiton via a 4 percentage point increase in the domestic interest rate $ {\\Delta}r = +0.04 $, holding constant the domestic real interest rate r, and set the value of the variable:\n",
    "\n",
    "    Delta_Y_PS12taskB\n",
    "    \n",
    "to that calculated change:"
   ]
  },
  {
   "cell_type": "code",
   "execution_count": 11,
   "metadata": {},
   "outputs": [],
   "source": [
    "# CODE CELL FOR TASK B INITIAL\n",
    "\n",
    "# Delta_r = +0.04\n",
    "\n",
    "# ...\n",
    "# ...\n",
    "# ...\n",
    "# ...\n",
    "\n",
    "# Delta_Y_PS12taskB = "
   ]
  },
  {
   "cell_type": "markdown",
   "metadata": {},
   "source": [
    "### Answer Markdown Cell for Task B Initial\n",
    "\n",
    "Start with the IS-Curve for the sticky-price model:\n",
    "\n",
    "&nbsp;&nbsp;&nbsp;&nbsp;&nbsp;&nbsp;&nbsp;&nbsp;&nbsp;\n",
    "$ Y = E = {\\mu}(c_o + I_o + G) + {\\mu}(x_{f}Y^f + x_{\\epsilon}{\\epsilon_o} + x_{\\epsilon}{\\epsilon_r}r^f) - {\\mu}(I_r + x_{\\epsilon}{\\epsilon_r})r $\n",
    "\n",
    "and:\n",
    "\n",
    "&nbsp;&nbsp;&nbsp;&nbsp;&nbsp;&nbsp;&nbsp;&nbsp;&nbsp;\n",
    "$ {\\Delta}r = +0.04 $\n",
    "\n",
    "to get:\n",
    "\n",
    "&nbsp;&nbsp;&nbsp;&nbsp;&nbsp;&nbsp;&nbsp;&nbsp;&nbsp;\n",
    "$ {\\Delta}Y = {\\Delta}E = - {\\mu}(I_r + x_{\\epsilon}{\\epsilon_r}){\\Delta}r $\n",
    "\n",
    "with:\n",
    "\n",
    "* $ c_y = 5/8 $\n",
    "* $ I_r = 10 $\n",
    "* $ t = 0.20 $\n",
    "* $ im_y = 1/6 $\n",
    "* $ x_{\\epsilon} = 4/3 $\n",
    "* $ \\epsilon_r = 5 $\n",
    "\n",
    "and thus:\n",
    "\n",
    "* $ \\mu = \\frac{1}{(1-c_y(1-t) + im_y)} = \\frac{1}{1-\\frac{5}{8}(1-0.2) + \\frac{1}{6}} = 1.5 $\n",
    "\n",
    "The answer is then:\n",
    "\n",
    "&nbsp;&nbsp;&nbsp;&nbsp;&nbsp;&nbsp;&nbsp;&nbsp;&nbsp;\n",
    "$ {\\Delta}Y = - (1.5)\\left(10 + \\left(\\frac{4}{3}\\right)(5)\\right)(0.04) = -1 $\n",
    "\n"
   ]
  },
  {
   "cell_type": "code",
   "execution_count": 12,
   "metadata": {},
   "outputs": [],
   "source": [
    "# ANSWER CODE CELL FOR TASK B INITIAL\n",
    "\n",
    "Delta_r = +0.04\n",
    "\n",
    "Delta_Y_PS12taskB = -1"
   ]
  },
  {
   "cell_type": "markdown",
   "metadata": {},
   "source": [
    "### (Task B) Sticky-Price: Moving Along the IS Curve: A Contraction via Higher Interest Rates to Fight Inflation (Continued)\n",
    "\n",
    "In the code cell below, write code or otherwise calculate and set the variables:\n",
    "\n",
    "    Delta_C_PS12taskB\n",
    "    Delta_I_PS12taskB\n",
    "    Delta_G_PS12taskB\n",
    "    Delta_NX_PS12taskB\n",
    "    Delta_epsilon_PS12taskB\n",
    "    Delta_r_PS12taskB =\n",
    "    \n",
    "to the changes in their values in the alternative scenario relative to the baseline"
   ]
  },
  {
   "cell_type": "code",
   "execution_count": 13,
   "metadata": {},
   "outputs": [],
   "source": [
    "# CODE CELL FOR TASK B CONTINUED\n",
    "\n",
    "# ...\n",
    "# ...\n",
    "# ...\n",
    "# ...\n",
    "# ...\n",
    "\n",
    "# Delta_C_PS12taskB =\n",
    "# Delta_I_PS12taskB = \n",
    "# Delta_G_PS12taskB = \n",
    "# Delta_NX_PS12taskB = \n",
    "# Delta_epsilon_PS12taskB =\n",
    "# Delta_r_PS12taskB ="
   ]
  },
  {
   "cell_type": "markdown",
   "metadata": {},
   "source": [
    "### Answer Markdown Cell for Task B (Continued)\n",
    "\n",
    "&nbsp;&nbsp;&nbsp;&nbsp;&nbsp;&nbsp;&nbsp;&nbsp;&nbsp;\n",
    "$ {\\Delta}C = {c_y}(1-t){\\Delta}Y = \\left(\\frac{5}{8}\\right)(1-0.2)(-1) = -0.5 $\n",
    "\n",
    "&nbsp;&nbsp;&nbsp;&nbsp;&nbsp;&nbsp;&nbsp;&nbsp;&nbsp;\n",
    "$ {\\Delta}I = -I_r\\Delta{r} = -(10)(0.04) = - 0.4 $\n",
    "\n",
    "&nbsp;&nbsp;&nbsp;&nbsp;&nbsp;&nbsp;&nbsp;&nbsp;&nbsp;\n",
    "$ {\\Delta}G = 0 $\n",
    "\n",
    "&nbsp;&nbsp;&nbsp;&nbsp;&nbsp;&nbsp;&nbsp;&nbsp;&nbsp;\n",
    "$ {\\Delta}GX = -x_{\\epsilon}{\\epsilon_r}{\\Delta}r = -(1.3333)(5)(0.04) = - 0.266667 $ \n",
    "\n",
    "&nbsp;&nbsp;&nbsp;&nbsp;&nbsp;&nbsp;&nbsp;&nbsp;&nbsp;\n",
    "$ {\\Delta}IM = im_y{\\Delta}Y = (0.16667)(-1) = -0.166667 $\n",
    "\n",
    "&nbsp;&nbsp;&nbsp;&nbsp;&nbsp;&nbsp;&nbsp;&nbsp;&nbsp;\n",
    "$ {\\Delta}NX = {\\Delta}GX - {\\Delta}IM = - 0.266667 + 0.166667 = -0.1 $\n",
    "\n",
    "&nbsp;&nbsp;&nbsp;&nbsp;&nbsp;&nbsp;&nbsp;&nbsp;&nbsp;\n",
    "$ \\Delta\\epsilon = {\\epsilon}_r{\\Delta}r = (5)(0.04) = +0.2 $\n",
    "\n",
    "&nbsp;&nbsp;&nbsp;&nbsp;&nbsp;&nbsp;&nbsp;&nbsp;&nbsp;\n",
    "$ {\\Delta}r = + 0.04 $"
   ]
  },
  {
   "cell_type": "code",
   "execution_count": 14,
   "metadata": {},
   "outputs": [],
   "source": [
    "# ANSWER CODE CELL FOR TASK B CONTINUED\n",
    "\n",
    "Delta_C_PS12taskB = -0.5\n",
    "Delta_I_PS12taskB = -0.4\n",
    "Delta_G_PS12taskB = +0.0\n",
    "Delta_NX_PS12taskB = -0.1\n",
    "Delta_epsilon_PS12taskB = +0.2\n",
    "Delta_r_PS12taskB = +0.04"
   ]
  },
  {
   "cell_type": "code",
   "execution_count": 15,
   "metadata": {},
   "outputs": [
    {
     "name": "stdout",
     "output_type": "stream",
     "text": [
      "~~~~~~~~~~~~~~~~~~~~~~~~~~~~~~~~~~~~~~~~~~~~~~~~~~~~~~~~~~~~~~~~~~~~~\n",
      "Running tests\n",
      "\n",
      "---------------------------------------------------------------------\n",
      "Test summary\n",
      "    Passed: 7\n",
      "    Failed: 0\n",
      "[ooooooooook] 100.0% passed\n",
      "\n"
     ]
    },
    {
     "data": {
      "text/plain": [
       "{'failed': 0, 'locked': 0, 'passed': 7}"
      ]
     },
     "execution_count": 15,
     "metadata": {},
     "output_type": "execute_result"
    }
   ],
   "source": [
    "# TASK B ANSWER CHECK\n",
    "\n",
    "import numpy as np\n",
    "ok.grade('q01')"
   ]
  },
  {
   "cell_type": "markdown",
   "metadata": {},
   "source": [
    "### (Task B) Sticky-Price: Moving Along the IS Curve: A Contraction via Tighter Monetary Policy and Higher Interest Rates Abroad (Conclusion)\n",
    "\n",
    "If everything worked out as it should, you would have identified the portions of the sticky-price IS Curve equation:\n",
    "\n",
    "&nbsp;&nbsp;&nbsp;&nbsp;&nbsp;&nbsp;&nbsp;&nbsp;&nbsp;\n",
    "$ Y = E = {\\mu}(c_o + I_o + G) + {\\mu}(x_{f}Y^f + x_{\\epsilon}{\\epsilon_o} + x_{\\epsilon}{\\epsilon_r}r^f) - {\\mu}(I_r + x_{\\epsilon}{\\epsilon_r})r $\n",
    "\n",
    "that are relevant to an increase $ {\\Delta}r $ in the domestic real interest rate. Those components are:\n",
    "\n",
    "&nbsp;&nbsp;&nbsp;&nbsp;&nbsp;&nbsp;&nbsp;&nbsp;&nbsp;\n",
    "$ {\\Delta}Y = {\\Delta}E = - {\\mu}(I_r + x_{\\epsilon}{\\epsilon_r})r $\n",
    "\n",
    "And from them—and the parameter values—you could calculate by hand the changes in other economic variables.\n",
    "\n",
    "Or you could have simply solved the model for the initial-scenario equilibrium, solved it for the alternative with the same parameter values except for $ r : {\\Delta}r = +0.04 $, and compared the results...\n",
    "\n",
    "What you should have found would be that contractionary monetary policy at home is, indeed, contrationary at home. As the domestic interest rates go up, investment falls. In addition, foreign currency becomes less valuable. As foreign currency becomes less valuable, domestic currency and thus domestically produced goods denominated in domestic currency become less attractive to foreign buyers. Thus gross exports fall as well.\n",
    "\n",
    "In addition, you would have found the standard Keynesian multiplier result: When national income and product Y is demand determined, as in the sticky price model, there is a multiplied effect of any change in autonomous spending on Y. The multiplier comes from the positive feedback channel by which lower national income Y induces lower consumption spending C. The multiplier effect is partially damped because some of the negative impact on consumption spending \"leaks\" abroad in the form of lower imports.\n",
    "\n",
    "----\n",
    "\n",
    "&nbsp;"
   ]
  },
  {
   "cell_type": "markdown",
   "metadata": {},
   "source": [
    "### (Task C) The Phillips Curve and Adaptive Expectations (Initial)\n",
    "\n",
    "Now let us switch gears. The IS Curve framework determines the level of real national income and product Y as a function of the economic environment and of economic policy—fiscal policy as measured by the tax rate t and the level of government purchases G, and monetary policy as measured by the (imperfectly controlled) long-term real risky interest rate r.\n",
    "\n",
    "Now let us move on to the Phillips Curve: Whether output Y is above or below potential output Y<sup>*</sup> determines whether unemployment u is above or below the NAIRU or \"natural\" rate of unemployment u<sup>*</sup> with an Okun's Law coefficient of about 2: a one percentage point deviation of unemployment from its NAIRU accompanies a 2 percent deviation of output from potential in the opposite direction. Whether unemployment is above or below its NAIRU then determines (with enormous amounts of noise and disturbances) whether infation will come in below or above the economy's expectations of what inflation will be.\n",
    "\n",
    "Algebraically, Phillips curve tells us that inflation $ \\pi $ in year t is:\n",
    "\n",
    "&nbsp;&nbsp;&nbsp;&nbsp;&nbsp;&nbsp;&nbsp;&nbsp;&nbsp;\n",
    "$ {\\pi}_t = {{\\pi}_t}^e - {\\beta}(u_t - {u_t}^*) + SS_t $\n",
    "\n",
    "where $ {\\pi}_t $ is the inflation rate, $ {{\\pi}_t}^e $ is expected inflation, $ {\\beta} $ is the \"slope\" of the Phillips Curve, $ u_t $ is the unemployment rate, $ {u_t}^* $ is the NAIRU, or the \"natural\" rate of unemployment, and $ SS_t $ is a upply shock term.\n",
    "\n",
    "The unemployment rate $ u_t $ (relative to the NAIRU $ {u_t}^* $) is related to production $ Y_t $ (relative to potential output $ {Y_t}^* $) by Okun's Law:\n",
    "\n",
    "&nbsp;&nbsp;&nbsp;&nbsp;&nbsp;&nbsp;&nbsp;&nbsp;&nbsp;\n",
    "$ \\frac{{Y_t}^* - {Y_t}}{{Y_t}^*} = 2(u_t - {u_t}^*) $\n",
    "\n",
    "And expected inflation can take on many different forms—either pure types:\n",
    "\n",
    "* Static: $ {{\\pi}_t}^e = {\\pi}^* $\n",
    "* Adaptive: $ {{\\pi}_t}^e = {\\pi}_{t-1} $\n",
    "* Rational: $ {{\\pi}_t}^e = E_{t-1}\\left({\\pi}_t\\right) $\n",
    "\n",
    "or mixtures thereof.\n",
    "\n",
    "Suppose inflation in year 0 is 12% per year—0.10. Suppose the parameters of the Phillips Curve are:\n",
    "\n",
    "&nbsp;&nbsp;&nbsp;&nbsp;&nbsp;&nbsp;&nbsp;&nbsp;&nbsp;\n",
    "$ u^* = 0.06 $   \n",
    "&nbsp;&nbsp;&nbsp;&nbsp;&nbsp;&nbsp;&nbsp;&nbsp;&nbsp;\n",
    "$ \\beta = \\frac{1}{3} $   \n",
    "\n",
    "And suppose that there are no supply shocks.\n",
    "\n",
    "Suppose further that inflation expectations are adaptive, with:\n",
    "\n",
    "&nbsp;&nbsp;&nbsp;&nbsp;&nbsp;&nbsp;&nbsp;&nbsp;&nbsp;\n",
    "$ {\\pi}^* = 0.02 $\n",
    "\n",
    "And suppose that the Federal Reserve, via contractionary monetary policy, raises the unemployment rate to 9%—0.09—in year 1 and keeps it there in years 2 through 10.\n",
    "\n",
    "In the code cell below, calculate the values of inflation in years 1 through 10 and set the variables:\n",
    "\n",
    "    pi_year1_PS12taskC\n",
    "    pi_year2_PS12taskC\n",
    "    pi_year3_PS12taskC\n",
    "    pi_year4_PS12taskC\n",
    "    pi_year5_PS12taskC\n",
    "    pi_year6_PS12taskC\n",
    "    pi_year7_PS12taskC\n",
    "    pi_year8_PS12taskC\n",
    "    pi_year9_PS12taskC\n",
    "    pi_year10_PS12taskC\n",
    "    \n",
    "to the appropriate calculated values:"
   ]
  },
  {
   "cell_type": "code",
   "execution_count": 16,
   "metadata": {},
   "outputs": [],
   "source": [
    "# CODE CELL FOR TASK C INITIAL\n",
    "\n",
    "# pi_zero = 0.12 \n",
    "\n",
    "# ...\n",
    "# ...\n",
    "# ...\n",
    "# ...\n",
    "\n",
    "# pi_year1_PS12taskC =\n",
    "# pi_year2_PS12taskC =\n",
    "# pi_year3_PS12taskC =\n",
    "# pi_year4_PS12taskC =\n",
    "# pi_year5_PS12taskC =\n",
    "# pi_year6_PS12taskC =\n",
    "# pi_year7_PS12taskC = \n",
    "# pi_year8_PS12taskC =\n",
    "# pi_year9_PS12taskC =\n",
    "# pi_year10_PS12taskC = "
   ]
  },
  {
   "cell_type": "markdown",
   "metadata": {},
   "source": [
    "### Answer Markdown Cell for Task C Initial\n",
    "\n",
    "&nbsp;&nbsp;&nbsp;&nbsp;&nbsp;&nbsp;&nbsp;&nbsp;&nbsp;\n",
    "$ {\\pi}_t = {{\\pi}_t}^e - {\\beta}(u_t - {u_t}^*) + SS_t $\n",
    "\n",
    "&nbsp;&nbsp;&nbsp;&nbsp;&nbsp;&nbsp;&nbsp;&nbsp;&nbsp;\n",
    "$ {{\\pi}_t}^e = {\\pi}_{t-1} $\n",
    "\n",
    "&nbsp;&nbsp;&nbsp;&nbsp;&nbsp;&nbsp;&nbsp;&nbsp;&nbsp;\n",
    "$ \\pi_0 = 0.12 $\n",
    "\n",
    "&nbsp;&nbsp;&nbsp;&nbsp;&nbsp;&nbsp;&nbsp;&nbsp;&nbsp;\n",
    "$ u^* = 0.06 $\n",
    "\n",
    "&nbsp;&nbsp;&nbsp;&nbsp;&nbsp;&nbsp;&nbsp;&nbsp;&nbsp;\n",
    "$ \\beta = \\frac{1}{3} $\n",
    "\n",
    "&nbsp;&nbsp;&nbsp;&nbsp;&nbsp;&nbsp;&nbsp;&nbsp;&nbsp;\n",
    "$ {\\pi}_t = {\\pi}_{t-1} - {\\beta}(u_t - {u_t}^*) $\n",
    "\n",
    "&nbsp;&nbsp;&nbsp;&nbsp;&nbsp;&nbsp;&nbsp;&nbsp;&nbsp;\n",
    "$ {\\pi}_t = {\\pi}_{t-1} - {\\beta}(u_t - {u_t}^*) = {\\pi}_{t-1} - \\left(\\frac{1}{3}\\right)(0.09 - 0.06) = {\\pi}_{t-1} - \\left(\\frac{1}{3}\\right)(0.03) = {\\pi}_{t-1} - 0.01 $"
   ]
  },
  {
   "cell_type": "code",
   "execution_count": 17,
   "metadata": {},
   "outputs": [],
   "source": [
    "# ANSWER CODE CELL FOR TASK C INITIAL\n",
    "\n",
    "pi_zero = 0.12 \n",
    "\n",
    "pi_year1_PS12taskC = 0.11\n",
    "pi_year2_PS12taskC = 0.10\n",
    "pi_year3_PS12taskC = 0.09\n",
    "pi_year4_PS12taskC = 0.08\n",
    "pi_year5_PS12taskC = 0.07\n",
    "pi_year6_PS12taskC = 0.06\n",
    "pi_year7_PS12taskC = 0.05\n",
    "pi_year8_PS12taskC = 0.04\n",
    "pi_year9_PS12taskC = 0.03\n",
    "pi_year10_PS12taskC = 0.02"
   ]
  },
  {
   "cell_type": "code",
   "execution_count": 18,
   "metadata": {},
   "outputs": [
    {
     "name": "stdout",
     "output_type": "stream",
     "text": [
      "~~~~~~~~~~~~~~~~~~~~~~~~~~~~~~~~~~~~~~~~~~~~~~~~~~~~~~~~~~~~~~~~~~~~~\n",
      "Running tests\n",
      "\n",
      "---------------------------------------------------------------------\n",
      "Test summary\n",
      "    Passed: 10\n",
      "    Failed: 0\n",
      "[ooooooooook] 100.0% passed\n",
      "\n"
     ]
    },
    {
     "data": {
      "text/plain": [
       "{'failed': 0, 'locked': 0, 'passed': 10}"
      ]
     },
     "execution_count": 18,
     "metadata": {},
     "output_type": "execute_result"
    }
   ],
   "source": [
    "# TASK C ANSWER CHECK\n",
    "\n",
    "import numpy as np\n",
    "ok.grade('q02')"
   ]
  },
  {
   "cell_type": "markdown",
   "metadata": {},
   "source": [
    "### (Task C)  The Phillips Curve and Adaptive Expectations (Conclusion)\n",
    "\n",
    "If everything went well, you should have found that inflation is always 3%. And over the decade the economy gains enormous dividends in terms of extra production and extra jobs. And then—as long as expectations remain static—the central bank could return the unemployment rate to 6% in year 11, and inflation would drop down to 2%, with no permanent harm done.\n",
    "\n",
    "Of course, that is not the way we think that it works. That is not how the experience of the 1970s leads us to think that it would work.\n",
    "\n",
    "----\n",
    "\n",
    "&nbsp;"
   ]
  },
  {
   "cell_type": "markdown",
   "metadata": {},
   "source": [
    "### (Task D) The Phillips Curve and Hybrid Expectations (Initial)\n",
    "\n",
    "Take the Phillips Curve in year t:\n",
    "\n",
    "&nbsp;&nbsp;&nbsp;&nbsp;&nbsp;&nbsp;&nbsp;&nbsp;&nbsp;\n",
    "$ {\\pi}_t = {{\\pi}_t}^e - {\\beta}(u_t - {u_t}^*) + SS_t $\n",
    "\n",
    "where $ {\\pi}_t $ is the inflation rate, $ {{\\pi}_t}^e $ is expected inflation, $ {\\beta} $ is the \"slope\" of the Phillips Curve, $ u_t $ is the unemployment rate, $ {u_t}^* $ is the NAIRU, or the \"natural\" rate of unemployment, and $ SS_t $ is a supply shock term.\n",
    "\n",
    "And assume expected inflation is somewhat rational and somewhat adaptive. That is, for some parameter $ \\lambda $:\n",
    "\n",
    "&nbsp;&nbsp;&nbsp;&nbsp;&nbsp;&nbsp;&nbsp;&nbsp;&nbsp;\n",
    "$ {{\\pi}_t}^e = \\lambda\\pi_t + (1 - \\lambda){\\pi}_{t-1} $\n",
    "\n",
    "Suppose inflation in year 0 is -2% per year: -0.02. Suppose the parameters of the Phillips Curve are:\n",
    "\n",
    "&nbsp;&nbsp;&nbsp;&nbsp;&nbsp;&nbsp;&nbsp;&nbsp;&nbsp;\n",
    "$ u^* = 0.06 $   \n",
    "&nbsp;&nbsp;&nbsp;&nbsp;&nbsp;&nbsp;&nbsp;&nbsp;&nbsp;\n",
    "$ \\beta = \\frac{1}{2} $   \n",
    "\n",
    "And suppose that there are no supply shocks.\n",
    "\n",
    "Suppose that in year zero—when expectations for $ {\\pi_1}^e $, expectations for what inflation will be in year one, are set—the Federal Reserve announces that it will, via expansionary monetary policy, drops the unemployment rate to 4%—0.04—in year 1 and keeps it there in years 2 through 10.\n",
    "\n",
    "Suppose further that $ \\lambda = 0.75 $.\n",
    "\n",
    "In the code cell below, calculate the values of inflation in years 1 through 10 and set the variables:\n",
    "\n",
    "    pi_year1_PS12taskD\n",
    "    pi_year2_PS12taskD\n",
    "    pi_year3_PS12taskD\n",
    "    pi_year4_PS12taskD\n",
    "    pi_year5_PS12taskD\n",
    "    pi_year6_PS12taskD\n",
    "    pi_year7_PS12taskD\n",
    "    pi_year8_PS12taskD\n",
    "    pi_year9_PS12taskD\n",
    "    pi_year10_PS12taskD\n",
    "    \n",
    "to the appropriate calculated values:"
   ]
  },
  {
   "cell_type": "code",
   "execution_count": 19,
   "metadata": {},
   "outputs": [],
   "source": [
    "# CODE CELL FOR TASK D INITIAL\n",
    "\n",
    "# pi_0 = -0.02\n",
    "#  \n",
    "\n",
    "# ...\n",
    "# ...\n",
    "# ...\n",
    "# ...\n",
    "\n",
    "# pi_year1_PS12taskD =\n",
    "# pi_year2_PS12taskD =\n",
    "# pi_year3_PS12taskD =\n",
    "# pi_year4_PS12taskD =\n",
    "# pi_year5_PS12taskD =\n",
    "# pi_year6_PS12taskD =\n",
    "# pi_year7_PS12taskD =\n",
    "# pi_year8_PS12taskD =\n",
    "# pi_year9_PS12taskD =\n",
    "# pi_year10_PS12taskD = "
   ]
  },
  {
   "cell_type": "markdown",
   "metadata": {},
   "source": [
    "### Markdown Answer Cell for Task D Initial\n",
    "\n",
    "&nbsp;&nbsp;&nbsp;&nbsp;&nbsp;&nbsp;&nbsp;&nbsp;&nbsp;\n",
    "$ {\\pi}_t = {{\\pi}_t}^e - {\\beta}(u_t - {u_t}^*) + SS_t $\n",
    "\n",
    "&nbsp;&nbsp;&nbsp;&nbsp;&nbsp;&nbsp;&nbsp;&nbsp;&nbsp;\n",
    "$ {{\\pi}_t}^e = {\\lambda}{\\pi}_{t-1} + (1-{\\lambda}){\\pi}_{t} $\n",
    "\n",
    "&nbsp;&nbsp;&nbsp;&nbsp;&nbsp;&nbsp;&nbsp;&nbsp;&nbsp;\n",
    "$ \\pi_0 = 0.12 $\n",
    "\n",
    "&nbsp;&nbsp;&nbsp;&nbsp;&nbsp;&nbsp;&nbsp;&nbsp;&nbsp;\n",
    "$ u^* = 0.06 $\n",
    "\n",
    "&nbsp;&nbsp;&nbsp;&nbsp;&nbsp;&nbsp;&nbsp;&nbsp;&nbsp;\n",
    "$ \\lambda = 0.75 $\n",
    "\n",
    "&nbsp;&nbsp;&nbsp;&nbsp;&nbsp;&nbsp;&nbsp;&nbsp;&nbsp;\n",
    "$ \\beta = \\frac{1}{2} $\n",
    "\n",
    "&nbsp;&nbsp;&nbsp;&nbsp;&nbsp;&nbsp;&nbsp;&nbsp;&nbsp;\n",
    "$ {\\pi}_t = (1-\\lambda){\\pi}_{t-1} + {\\lambda}{\\pi}_{t} - {\\beta}(u_t - {u_t}^*) $\n",
    "\n",
    "&nbsp;&nbsp;&nbsp;&nbsp;&nbsp;&nbsp;&nbsp;&nbsp;&nbsp;\n",
    "$ (1-\\lambda){\\pi}_t =(1-\\lambda){\\pi}_{t-1}- {\\beta}(u_t - {u_t}^*) $\n",
    "\n",
    "&nbsp;&nbsp;&nbsp;&nbsp;&nbsp;&nbsp;&nbsp;&nbsp;&nbsp;\n",
    "$ {\\pi}_t = {\\pi}_{t-1}- \\frac{{\\beta}(u_t - {u_t}^*)}{(1-\\lambda)} $\n",
    "\n",
    "&nbsp;&nbsp;&nbsp;&nbsp;&nbsp;&nbsp;&nbsp;&nbsp;&nbsp;\n",
    "$ {\\pi}_t = {\\pi}_{t-1} - {\\beta}(u_t - {u_t}^*) = {\\pi}_{t-1} - \\left(\\frac{1}{2}\\right)(0.04 - 0.06){(1-0.75)} = {\\pi}_{t-1} - \\left(\\frac{1}{2}\\right)(0.02)(4) = {\\pi}_{t-1} + 0.04 $"
   ]
  },
  {
   "cell_type": "code",
   "execution_count": 24,
   "metadata": {},
   "outputs": [
    {
     "data": {
      "text/plain": [
       "0.019999999999999993"
      ]
     },
     "execution_count": 24,
     "metadata": {},
     "output_type": "execute_result"
    }
   ],
   "source": [
    "# CODE ANSWER CELL FOR TASK D INITIAL\n",
    "\n",
    "pi_0 = -0.02 \n",
    "u_star = 0.06\n",
    "u_policy = 0.04\n",
    "beta = 1/2\n",
    "lambda_ =3/4\n",
    "\n",
    "pi = [pi_0]\n",
    "\n",
    "for t in range(1,11):\n",
    "    pi = pi + [pi[t-1]-beta*(u_policy-u_star)/(1-lambda_)]\n",
    "\n",
    "pi_year1_PS12taskD = pi[1]\n",
    "pi_year2_PS12taskD = pi[2]\n",
    "pi_year3_PS12taskD = pi[3]\n",
    "pi_year4_PS12taskD = pi[4]\n",
    "pi_year5_PS12taskD = pi[5]\n",
    "pi_year6_PS12taskD = pi[6]\n",
    "pi_year7_PS12taskD = pi[7]\n",
    "pi_year8_PS12taskD = pi[8]\n",
    "pi_year9_PS12taskD = pi[9]\n",
    "pi_year10_PS12taskD = pi[10] \n",
    "\n",
    "pi_year1_PS12taskD"
   ]
  },
  {
   "cell_type": "code",
   "execution_count": 25,
   "metadata": {},
   "outputs": [
    {
     "name": "stdout",
     "output_type": "stream",
     "text": [
      "~~~~~~~~~~~~~~~~~~~~~~~~~~~~~~~~~~~~~~~~~~~~~~~~~~~~~~~~~~~~~~~~~~~~~\n",
      "Running tests\n",
      "\n",
      "---------------------------------------------------------------------\n",
      "Test summary\n",
      "    Passed: 10\n",
      "    Failed: 0\n",
      "[ooooooooook] 100.0% passed\n",
      "\n"
     ]
    },
    {
     "data": {
      "text/plain": [
       "{'failed': 0, 'locked': 0, 'passed': 10}"
      ]
     },
     "execution_count": 25,
     "metadata": {},
     "output_type": "execute_result"
    }
   ],
   "source": [
    "# TASK D ANSWER CHECK\n",
    "\n",
    "import numpy as np\n",
    "ok.grade('q03')"
   ]
  },
  {
   "cell_type": "markdown",
   "metadata": {},
   "source": [
    "### (Task D): The Phillips Curve and Hybrid Expectations (Final)\n",
    "\n",
    "If everything worked out well, you would have found that each year inflation jumps not by:\n",
    "\n",
    "&nbsp;&nbsp;&nbsp;&nbsp;&nbsp;&nbsp;&nbsp;&nbsp;&nbsp;\n",
    "$ - \\beta (u - u^*) = -\\left(\\frac{1}{2}\\right)(0.04 - 0.06) = 0.01 $ \n",
    "\n",
    "but rather by:\n",
    "\n",
    "&nbsp;&nbsp;&nbsp;&nbsp;&nbsp;&nbsp;&nbsp;&nbsp;&nbsp;\n",
    "$ - \\frac{\\beta (u - u^*)}{1 - \\lambda} = \\frac{-\\left(\\frac{1}{2}\\right)(0.04 - 0.06) = 0.01}{1-0.75} = +0.04 $\n",
    "\n",
    "Why? Because three-quarters of inflation expectations are formed not in a backward but a forward looking manner: people take account of the fact that inflation is rising in forming their expectations, and then take account of the fact that people are taking account of the fact that inflation is rising, and then take account of the fact that people are taking account of the fact that people are taking account of the fact that inflation is rising, and so forth...\n",
    "\n",
    "It was the worry about this dynamic that led Paul Volcker back in the day, back at the end of the 1970s and beginning of the 1980s, to make controlling inflation job #1 at whatever cost in terms of a deep recession it generated. Dealing with inflation and unemployment when inflation was adaptive—when every upward kick in inflation from a supply shock get permanently incorporated into next year's inflation rate—was annoying. But should inflation expectations become substantially \"rational\" than the situation would become even less controllable.\n",
    "\n",
    "----\n",
    "\n",
    "&nbsp;"
   ]
  },
  {
   "cell_type": "markdown",
   "metadata": {},
   "source": [
    "### (Task E): Monetary Policy Reactions (Initial)\n",
    "\n",
    "Now let's switch gears from "
   ]
  },
  {
   "cell_type": "code",
   "execution_count": null,
   "metadata": {},
   "outputs": [],
   "source": [
    "# TASK G CODE \n",
    "\n",
    "# pi_year10lambapoint9_PS11taskG = "
   ]
  },
  {
   "cell_type": "code",
   "execution_count": null,
   "metadata": {},
   "outputs": [],
   "source": [
    "# TASK E ANSWER CHECK\n",
    "\n",
    "import numpy as np\n",
    "ok.grade('q46')"
   ]
  },
  {
   "cell_type": "markdown",
   "metadata": {},
   "source": [
    "### TASK E: Monetary Policy Reactions (Final)\n",
    "\n",
    "If everything worked out well, you would have found that each year inflation jumps not by $ - \\beta (u - u^*) $ but rather by:\n",
    "\n",
    "&nbsp;&nbsp;&nbsp;&nbsp;&nbsp;&nbsp;&nbsp;&nbsp;&nbsp;\n",
    "$ - \\frac{\\beta (u - u^*)}{1 - \\lambda} $\n",
    "\n",
    "Why? Because most of inflation expectations are formed not in a backward but a forward looking manner: people take account of the fact that inflation is rising in forming their expectations, and then take account of the fact that people are taking account of the fact that inflation is rising, and then take account of the fact that people are taking account of the fact that people are taking account of the fact that inflation is rising, and so forth..."
   ]
  },
  {
   "cell_type": "code",
   "execution_count": null,
   "metadata": {},
   "outputs": [],
   "source": [
    "_ = ok.submit()"
   ]
  }
 ],
 "metadata": {
  "celltoolbar": "Edit Metadata",
  "kernelspec": {
   "display_name": "Python 3",
   "language": "python",
   "name": "python3"
  },
  "language_info": {
   "codemirror_mode": {
    "name": "ipython",
    "version": 3
   },
   "file_extension": ".py",
   "mimetype": "text/x-python",
   "name": "python",
   "nbconvert_exporter": "python",
   "pygments_lexer": "ipython3",
   "version": "3.6.1"
  }
 },
 "nbformat": 4,
 "nbformat_minor": 2
}
