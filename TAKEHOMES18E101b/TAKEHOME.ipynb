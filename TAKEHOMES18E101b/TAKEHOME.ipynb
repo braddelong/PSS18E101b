{
 "cells": [
  {
   "cell_type": "markdown",
   "metadata": {
    "slideshow": {
     "slide_type": "notes"
    }
   },
   "source": [
    "# 2018-04-24 Econ 101b Take Home Exam"
   ]
  },
  {
   "cell_type": "markdown",
   "metadata": {},
   "source": [
    "### Take Home Exam Portion will be due Th May 10 at 7 pm..."
   ]
  },
  {
   "cell_type": "markdown",
   "metadata": {},
   "source": [
    "## Setting up the Python/Jupyter environment"
   ]
  },
  {
   "cell_type": "code",
   "execution_count": null,
   "metadata": {},
   "outputs": [],
   "source": [
    "%%javascript\n",
    "\n",
    "IPython.OutputArea.prototype._should_scroll = function(lines) {\n",
    "    return false;}"
   ]
  },
  {
   "cell_type": "code",
   "execution_count": null,
   "metadata": {},
   "outputs": [],
   "source": [
    "# ABOVE CELL IS \"NO SCROLLING SUBWINDOWS\" SETUP\n",
    "#\n",
    "# keep output cells from shifting to autoscroll: little scrolling\n",
    "# subwindows within the notebook are an annoyance..."
   ]
  },
  {
   "cell_type": "code",
   "execution_count": null,
   "metadata": {},
   "outputs": [],
   "source": [
    "import numpy as py\n",
    "import pandas as pd"
   ]
  },
  {
   "cell_type": "code",
   "execution_count": null,
   "metadata": {},
   "outputs": [],
   "source": [
    "# THIS CELL IS THE KEY TO THE OKPY.ORG AUTOGRADER SYSTEM\n",
    "#\n",
    "# Don't change this cell; just run it. \n",
    "# The result will give you directions about how to log in to the submission system, called OK.\n",
    "# Once you're logged in, you can run this cell again, but it won't ask you who you are because\n",
    "# it remembers you. However, you will need to log in once per assignment.\n",
    "\n",
    "!pip install -U okpy\n",
    "\n",
    "from client.api.notebook import Notebook\n",
    "\n",
    "ok = Notebook('ps13.ok')\n",
    "_ = ok.auth(force=True, inline=True)"
   ]
  },
  {
   "cell_type": "markdown",
   "metadata": {},
   "source": [
    "### ⬆︎⬆︎⬆︎⬆︎⬆︎⬆︎⬆︎⬆︎⬆︎⬆︎⬆︎⬆︎⬆︎⬆︎⬆︎⬆︎\n",
    "### RUN THESE CELLS ABOVE FIRST"
   ]
  },
  {
   "cell_type": "markdown",
   "metadata": {},
   "source": [
    "# Take Home Exam (Due Th May 10 06:59:59 PM)\n",
    "\n",
    "----\n",
    "\n",
    "&nbsp;"
   ]
  },
  {
   "cell_type": "markdown",
   "metadata": {},
   "source": [
    "### Flexible Price Model: Higher Interest Rates Abroad\n",
    "\n",
    "Start with the IS-Curve for the flexprice model:\n",
    "\n",
    "&nbsp;&nbsp;&nbsp;&nbsp;&nbsp;&nbsp;&nbsp;&nbsp;&nbsp;\n",
    "$ Y^* = Y = {\\mu}(c_o + I_o + G) + {\\mu}(x_{f}Y^f + x_{\\epsilon}{\\epsilon_o} + x_{\\epsilon}{\\epsilon_r}r^f) - {\\mu}(I_r + x_{\\epsilon}{\\epsilon_r})r $\n",
    "\n",
    "Assume that potential output $ Y^* $ is equal to real national income and product Y is equal to 30 trillion: \n",
    "\n",
    "&nbsp;&nbsp;&nbsp;&nbsp;&nbsp;&nbsp;&nbsp;&nbsp;&nbsp;\n",
    "$ Y^* = Y = 30 $\n",
    "\n",
    "Also assume parameter values:\n",
    "\n",
    "* $ c_o = 4 $\n",
    "* $ c_y = 2/3 $\n",
    "* $ I_o = 5.4 $\n",
    "* $ I_r = 10 $\n",
    "* $ t = 0.20 $\n",
    "* $ im_y = 1/6 $\n",
    "* $ x^f = 0.1 $\n",
    "* $ Y^f = 30 $\n",
    "* $ r^f = 0.04 $\n",
    "* $ x_{\\epsilon} = 1 $\n",
    "* $ \\epsilon_o = 1 $\n",
    "* $ \\epsilon_r = 5 $\n",
    "\n",
    "And assume that government purchases $ G = 6 $. \n",
    "\n",
    "Suppose the economy starts out in flexible price business cycle equilibrium. Supposethat overseas central banks raise their own interest rates out of a fear of rising inflation: that they raise their real interest rate $ r^f $ by:\n",
    "\n",
    "&nbsp;&nbsp;&nbsp;&nbsp;&nbsp;&nbsp;&nbsp;&nbsp;&nbsp;\n",
    "$ {\\Delta}r^f = +0.04 $\n",
    "\n",
    "In the code cell below, write code or otherwise calculate the model equilibrium and then set to its equilibrium value how much r, I, NX, and $ \\epsilon $ change in the flexible price model. Then in the markdown cell below the code cell, after the \"TH5\" prompt, explain to somebody who has never taken this course what the flexible price model predictions of the effect of an increase in interest rates abroad are, why the flexible price model predictions of the effect of an increase in interest rates abroad are what they are, and under what circumstances one should take these model predictions as a reasonable set of forecasts."
   ]
  },
  {
   "cell_type": "code",
   "execution_count": null,
   "metadata": {},
   "outputs": [],
   "source": [
    "Delta_r = \n",
    "Delta_I =\n",
    "Delta_NX =\n",
    "Delta_epsilon =\n",
    "\n",
    "TH1 = Delta_r # leave\n",
    "TH2 = Delta_I # these\n",
    "TH3 = Delta_NX  # lines\n",
    "TH4 = Delta_epsilon # alone"
   ]
  },
  {
   "cell_type": "markdown",
   "metadata": {},
   "source": [
    "TH5 answer:"
   ]
  },
  {
   "cell_type": "code",
   "execution_count": 46,
   "metadata": {},
   "outputs": [],
   "source": [
    "# ANSWER CODE CELL FOR TH1... TH4\n",
    "\n",
    "Ystar = Y = 30 \n",
    "r = 0.04\n",
    "\n",
    "c_o = 4 \n",
    "c_y = 2/3 \n",
    "I_o = 5.4 \n",
    "I_r = 10 \n",
    "t = 0.20 \n",
    "im_y = 1/6 \n",
    "x_f = 0.1 \n",
    "Yuf = 30 \n",
    "ruf = 0.04 \n",
    "x_epsilon = 1 \n",
    "epsilon_o = 1 \n",
    "epsilon_r = 5 \n",
    "\n",
    "mu = 1/(1 - c_y * (1-t) + im_y)\n",
    "\n",
    "G = 6\n",
    "\n",
    "r_ini = r\n",
    "C_ini = c_o + c_y * (1-t) * Y\n",
    "I_ini = I_o - I_r * r_ini\n",
    "GX_ini = x_f * Yuf + x_epsilon * (epsilon_o + epsilon_r * (ruf - r))\n",
    "IM_ini = im_y * Y\n",
    "epsilon_ini = epsilon_o + epsilon_r * (ruf - r)\n",
    "\n",
    "# now do the shift\n",
    "\n",
    "ruf = 0.08\n",
    "\n",
    "r_alt = (mu * (c_o + I_o + G + \n",
    "    (x_f * Yuf + x_epsilon * epsilon_o + x_epsilon * epsilon_r * ruf)) \n",
    "     - Y)/(mu * (I_r + x_epsilon * epsilon_r))\n",
    "\n",
    "C_alt = c_o + c_y * (1-t) * Y\n",
    "I_alt = I_o - I_r * r_alt\n",
    "GX_alt = x_f * Yuf + x_epsilon * (epsilon_o + epsilon_r * (ruf - r_alt))\n",
    "IM_alt = im_y * Y\n",
    "epsilon_alt = epsilon_o + epsilon_r * (ruf - r_alt)\n",
    "\n",
    "Delta_r = r_alt - r_ini\n",
    "Delta_I = I_alt - I_ini \n",
    "Delta_NX = GX_alt - GX_ini - (IM_alt - IM_ini)\n",
    "Delta_epsilon = epsilon_alt - epsilon_ini\n",
    "\n",
    "TH1 = Delta_r # leave 0.0133\n",
    "TH2 = Delta_I # these -0.133\n",
    "TH3 = Delta_NX  # lines 0.133\n",
    "TH4 = Delta_epsilon # alone 0.133"
   ]
  },
  {
   "cell_type": "markdown",
   "metadata": {},
   "source": [
    "### Cross-Country Productivity Differences and Relative Price Structures\n",
    "\n",
    "Consider a Solow Growth Model economy with a capital accumulation rate that depends on the relative price of capital goods $ p_k $, because a lower price of capital goods means that a similar amount of savings sY will translate into more investment in capital, thus:\n",
    "\n",
    "&nbsp;&nbsp;&nbsp;&nbsp;&nbsp;&nbsp;&nbsp;&nbsp;&nbsp;\n",
    "$ \\frac{d\\left(ln(K)\\right)}{dt} = \n",
    "\\left(\\frac{s}{p_k}\\right)\\left(\\frac{Y}{K}\\right) - \\delta $\n",
    "\n",
    "in which the relative price of capital goods depends on the efficiency of labor:\n",
    "\n",
    "&nbsp;&nbsp;&nbsp;&nbsp;&nbsp;&nbsp;&nbsp;&nbsp;&nbsp;\n",
    "$ p_k = E^{-\\eta} $\n",
    "\n",
    "with the Greek letter called \"eta\" $ \\eta $ being the parameter that determines how fast the relative price of capital goods drops as the efficiency of labor increases.\n",
    "\n",
    "Suppose the economy starts our at year zero with:\n",
    "\n",
    "* $ E_o = 1 $\n",
    "* $ L_o = 1 $\n",
    "* $ K_o = 3 $\n",
    "* $ \\alpha = 1/2 $\n",
    "* $ Y_o = (K_o)^{\\alpha}(E_o{L_o})^{1-\\alpha} = \\sqrt(3) $\n",
    "* $ s = 0.18 $\n",
    "* $ \\delta = 0.03 $\n",
    "* $ n = 0.01 $\n",
    "* $ g = 0.02 $\n",
    "\n",
    "and suppose that $ \\eta $ can take on two values: 0, and 1\n",
    "\n",
    "In the code cell below, first calculate the level of output per worker in this economy in year 100 if $ \\eta = 0 $ and assign that value to the variable:\n",
    "\n",
    "    YoL_100_eta0\n",
    "    \n",
    "Second, calculate the level of output per worker in this economy in year 100 if $ \\eta = 1 $ and assign that value to the variable:\n",
    "\n",
    "    YoL_100_etapoint5\n",
    "    \n",
    "Then in the markdown cell below the code cell, after the \"TH8\" prompt, explain to somebody who has never taken this course what the model predictions of the effect of the dependence of the relative price of capital goods on the efficiency of labor are what they are, why these predictions are what they are, and under what circumstances one should take these model predictions as a reasonable set of forecasts"
   ]
  },
  {
   "cell_type": "code",
   "execution_count": null,
   "metadata": {},
   "outputs": [],
   "source": [
    "YoL_100_eta0 =\n",
    "YoL_100_eta1 =\n",
    "\n",
    "\n",
    "TH6 = YoL_100_eta0 # leave these 7.242\n",
    "TH7 = YoL_100_eta1 # lines alone 10.410"
   ]
  },
  {
   "cell_type": "code",
   "execution_count": null,
   "metadata": {},
   "outputs": [],
   "source": [
    "TH8 answer:"
   ]
  },
  {
   "cell_type": "code",
   "execution_count": 45,
   "metadata": {},
   "outputs": [
    {
     "data": {
      "text/plain": [
       "10.818519225370615"
      ]
     },
     "execution_count": 45,
     "metadata": {},
     "output_type": "execute_result"
    }
   ],
   "source": [
    "# ANSWER CODE CELL FOR TH6... TH7\n",
    "\n",
    "import numpy as np\n",
    "\n",
    "E_o = 1/3 \n",
    "L_o = 1 \n",
    "K_o = 3 \n",
    "alpha = 1/2 \n",
    "Y_o = (K_o)**alpha * (E_o * L_o)**(1-alpha)\n",
    "pk_o = 1\n",
    "\n",
    "E = [E_o]\n",
    "L = [L_o]\n",
    "K = [K_o]\n",
    "Y = [Y_o]\n",
    "YoL = [Y_o/L_o]\n",
    "pk = [pk_o]\n",
    "\n",
    "s = 0.18\n",
    "delta = 0.03\n",
    "n = 0.01\n",
    "g = 0.02\n",
    "eta = 1\n",
    "\n",
    "for t in range(100):\n",
    "    E = E + [E[t]* np.exp(g)]\n",
    "    pk = pk + [E[t]**(-eta)]\n",
    "    L = L + [L[t]* np.exp(n)]\n",
    "    K = K + [K[t]* np.exp(-delta) + Y[t]*s/pk[t]]\n",
    "    Y = Y + [K[t+1]**alpha * (E[t+1] * L[t+1])**(1-alpha)]\n",
    "    YoL = YoL + [Y[t+1]/L[t+1]]\n",
    "\n",
    "YoL[100]"
   ]
  },
  {
   "cell_type": "markdown",
   "metadata": {},
   "source": [
    "### The Phillips Curve and Hybrid Expectations\n",
    "\n",
    "Take the Phillips Curve in year t:\n",
    "\n",
    "&nbsp;&nbsp;&nbsp;&nbsp;&nbsp;&nbsp;&nbsp;&nbsp;&nbsp;\n",
    "$ {\\pi}_t = {{\\pi}_t}^e - {\\beta}(u_t - {u_t}^*) + SS_t $\n",
    "\n",
    "where $ {\\pi}_t $ is the inflation rate, $ {{\\pi}_t}^e $ is expected inflation, $ {\\beta} $ is the \"slope\" of the Phillips Curve, $ u_t $ is the unemployment rate, $ {u_t}^* $ is the NAIRU, or the \"natural\" rate of unemployment, and $ SS_t $ is a supply shock term.\n",
    "\n",
    "Consider three alternative possibilities for expected inflation. In alternative 1, inflation expectations are half static with an inflation anchor $ \\pi^* $ and half adaptive:\n",
    "\n",
    "&nbsp;&nbsp;&nbsp;&nbsp;&nbsp;&nbsp;&nbsp;&nbsp;&nbsp;\n",
    "$ {{\\pi}_t}^e = \\left(\\frac{1}{2}\\right)\\pi^* + \\left(\\frac{1}{2}\\right){\\pi}_{t-1} $\n",
    "\n",
    "In alternative 2, inflation expectations are adaptive:\n",
    "\n",
    "&nbsp;&nbsp;&nbsp;&nbsp;&nbsp;&nbsp;&nbsp;&nbsp;&nbsp;\n",
    "$ {{\\pi}_t}^e = {\\pi}_{t-1} $\n",
    "\n",
    "In alternative 3, inflation expectations are half perfect-foresight rational and half adaptive:\n",
    "\n",
    "&nbsp;&nbsp;&nbsp;&nbsp;&nbsp;&nbsp;&nbsp;&nbsp;&nbsp;\n",
    "$ {{\\pi}_t}^e = \\left(\\frac{1}{2}\\right)\\pi_t + \\left(\\frac{1}{2}\\right){\\pi}_{t-1} $\n",
    "\n",
    "Suppose inflation in year 0 is 2% per year: 0.02. Suppose unemployment in year 0 is 6% per year. Suppose that the static inflation anchor $ \\pi^* = 0.02 $: 2% per year. Suppose that the unemployment rate NAIRU $ u^* = 0.06 $: 6%. Suppose further that in year 1 a 4% upward supply shock hits the Phillips Curve: $ SS_1 = + 0.04 $. Suppose no subsequent supply shocks affect the economy. Suppose that the slope of the Phillips Curve $ \\beta = \\frac{1}{2}.\n",
    "\n",
    "In the code cell below, first calculate the inflation rate in year 10 for this model economy in all three alternative scenarios assuming that the central bank keeps the unemployment rate at 6%. Set to the appropriate values the variables:\n",
    "\n",
    "    pi_alt1_10\n",
    "    pi_alt2_10\n",
    "    pi_alt3_10\n",
    "\n",
    "Then, also in the code cell below, calculate the inflation rate in year 10 for this model economy in all three alternative scenarios assuming that the Federal Reserve follows the monetary policy reaction function that, in combination with the IS Curve, gives us this relationship between unemployment this year and inflation last year:\n",
    "\n",
    "&nbsp;&nbsp;&nbsp;&nbsp;&nbsp;&nbsp;\n",
    "$ u_t = 0.06 + \\left(\\frac{1}{2}\\right)(\\pi_{t-1} - 0.02) $\n",
    "\n",
    "Set to the appropriate values the variables:\n",
    "\n",
    "    pi_alt1_10_mprf\n",
    "    pi_alt2_10_mprf\n",
    "    pi_alt3_10_mprf\n",
    "    \n",
    "Then, in the markdown cell below the code cell, after the \"TH15\" prompt, explain to somebody who has never taken this course why a central bank interested in maximum feasible employment and price stability would rather face a Phillips Curve in which inflation expectations are close to static and thus, as the Federal Reserve puts it, \"well anchored\"."
   ]
  },
  {
   "cell_type": "code",
   "execution_count": null,
   "metadata": {},
   "outputs": [],
   "source": [
    "pi_alt1_10 =\n",
    "pi_alt2_10 =\n",
    "pi_alt3_10 =\n",
    "pi_alt1_10_mprf =\n",
    "pi_alt2_10_mprf =\n",
    "pi_alt3_10_mprf =\n",
    "\n",
    "TH9 = pi_alt1_10 # leave\n",
    "TH10 = pi_alt2_10 # these\n",
    "TH11 = pi_alt3_10 # six\n",
    "TH12 = pi_alt1_10_mprf # lines\n",
    "TH13 = pi_alt2_10_mprf# of code\n",
    "TH14 = pi_alt3_10_mprf # alone"
   ]
  },
  {
   "cell_type": "markdown",
   "metadata": {},
   "source": [
    "TH15 answer:"
   ]
  },
  {
   "cell_type": "code",
   "execution_count": 56,
   "metadata": {},
   "outputs": [
    {
     "name": "stdout",
     "output_type": "stream",
     "text": [
      "1 0.06 0.06 0.1\n",
      "2 0.04 0.06 0.1\n",
      "3 0.020000000000000004 0.05 0.06\n",
      "4 0.015000000000000006 0.04000000000000001 0.01999999999999999\n",
      "5 0.0175 0.03250000000000001 0.0\n",
      "6 0.02 0.027500000000000004 6.938893903907228e-18\n",
      "7 0.020625 0.024375 0.010000000000000009\n",
      "8 0.0203125 0.0225 0.020000000000000004\n",
      "9 0.02 0.021406249999999998 0.025\n",
      "10 0.019921875000000002 0.020781249999999998 0.025\n"
     ]
    }
   ],
   "source": [
    "# ANSWER CODE CELL FOR TH9... TH14\n",
    "\n",
    "pi_alt1 = [0.02]\n",
    "pi_alt2 = [0.02]\n",
    "pi_alt3 = [0.02]\n",
    "u = [0.06]\n",
    "ustar = 0.06\n",
    "pistar = 0.02\n",
    "beta = 1/2\n",
    "SS = [0,0,0,0,0,0,0,0,0,0,0,0]\n",
    "SS[1] = +0.04\n",
    "\n",
    "for t in range(10):\n",
    "    u = u + [0.06]\n",
    "    pi_alt1 = pi_alt1 + [0.5*pistar + 0.5*pi_alt1[t] - beta * (u[t] - ustar) + SS[t+1]]\n",
    "    pi_alt2 = pi_alt2 + [pi_alt2[t] - beta * (u[t] - ustar) + SS[t+1]]\n",
    "    pi_alt3 = pi_alt3 + [pi_alt3[t] - beta * (u[t] - ustar)*2 + SS[t+1]*2]\n",
    "    print(t+1, pi_alt1[t+1], pi_alt2[t+1], pi_alt3[t+1])\n",
    "\n",
    "pi_alt1_10 = pi_alt1[10]\n",
    "pi_alt2_10 = pi_alt2[10]\n",
    "pi_alt3_10 = pi_alt3[10]\n",
    "\n",
    "u_alt1 = [0.06]\n",
    "u_alt2 = [0.06]\n",
    "u_alt3 = [0.06]\n",
    "\n",
    "for t in range(10):\n",
    "    u_alt1 = u_alt1 + [0.06 + 0.5 * (pi_alt1[t]-0.02)]\n",
    "    u_alt2 = u_alt2 + [0.06 + 0.5 * (pi_alt2[t]-0.02)]\n",
    "    u_alt3 = u_alt3 + [0.06 + 0.5 * (pi_alt3[t]-0.02)]\n",
    "    pi_alt1 = pi_alt1 + [0.5*pistar + 0.5*pi_alt1[t] - beta * (u_alt1[t] - ustar) + SS[t+1]]\n",
    "    pi_alt2 = pi_alt2 + [pi_alt2[t] - beta * (u_alt2[t] - ustar) + SS[t+1]]\n",
    "    pi_alt3 = pi_alt3 + [pi_alt3[t] - beta * (u_alt3[t] - ustar)*2 + SS[t+1]*2]\n",
    "    print(t+1, pi_alt1[t+1], pi_alt2[t+1], pi_alt3[t+1])\n",
    "\n",
    "pi_alt1_10_mprf = pi_alt1[10]\n",
    "pi_alt2_10_mprf = pi_alt2[10]\n",
    "pi_alt3_10_mprf = pi_alt3[10]\n",
    "\n",
    "TH9 = pi_alt1_10 # 0.0201\n",
    "TH10 = pi_alt2_10 # 0.06\n",
    "TH11 = pi_alt3_10 # 0.10\n",
    "TH12 = pi_alt1_10_mprf # 0.020\n",
    "TH13 = pi_alt2_10_mprf # 0.021\n",
    "TH14 = pi_alt3_10_mprf # 0.025"
   ]
  },
  {
   "cell_type": "markdown",
   "metadata": {},
   "source": [
    "### The Keynesian Multiplier\n",
    "\n",
    "Suppose you were told that the marginal propensity to consume was three-quarters, that the tax rate was one-fifth, that imports were a stable one-quarter of national income, and that interest rates were at the zero lower bound. What would be your answer if asked what the effect on the level of real GDP would be of a 500 billion stimulus program? Set your answer, in hundreds of billions to the variable TH16 in the code cell below:"
   ]
  },
  {
   "cell_type": "code",
   "execution_count": null,
   "metadata": {},
   "outputs": [],
   "source": [
    "TH16 = "
   ]
  },
  {
   "cell_type": "markdown",
   "metadata": {},
   "source": [
    "### The Malthusian Economy\n",
    "\n",
    "Suppose that you were told that back in the Malthusian era the number of live births was proportional to income, and that in the Malthusian era 20% of people born survived to reproduce in Eurasia and 25% survived to reproduce in the pre-conquest Americas because of the more virulent disease pool in Eurasis. What multiple of Eurasian living standards would you expect the pre-conquest Americas to have? Set your answer to the variable TH17 in the code cell below:"
   ]
  },
  {
   "cell_type": "code",
   "execution_count": null,
   "metadata": {},
   "outputs": [],
   "source": [
    "TH17 = # 0.8"
   ]
  },
  {
   "cell_type": "markdown",
   "metadata": {},
   "source": [
    "### Investment Accelerator\n",
    "\n",
    "Suppose that in the sticky-price Keynesian model we had the investment function:\n",
    "\n",
    "&nbsp;&nbsp;&nbsp;&nbsp;&nbsp;&nbsp;\n",
    "$ I = I_o - I_r{r} + I_y{Y} $\n",
    "\n",
    "rather than the standard:\n",
    "\n",
    "&nbsp;&nbsp;&nbsp;&nbsp;&nbsp;&nbsp;\n",
    "$ I = I_o - I_r{r} + I_y{Y} $\n",
    "\n",
    "In this non-standard investment function, investment spending depends not just on animal spirits and on the real interest rate but also depends directly on firm profits—and firm profits rise when national income rises. Suppose that you are told that the standard Keynesian multiplier would be 2 in the absence of this \"investment accelerator\" effect, but that there is good reason to believe that it is present, and that the parameter $ I_y = 0.1 $. Now you are asked to forecast the effect on the level of real GDP of a 500 billion fical stimulus program assuming that the Federal Reserve does not react to it by changing interset rates.\n",
    "\n",
    "Set your answer, in hundreds of billions to the variable TH18 in the code cell below:"
   ]
  },
  {
   "cell_type": "code",
   "execution_count": null,
   "metadata": {},
   "outputs": [],
   "source": [
    "TH18 = # 1250"
   ]
  },
  {
   "cell_type": "markdown",
   "metadata": {},
   "source": [
    "### The Keynesian Multiplier with Monetary Policy\n",
    "\n",
    "Suppose you were told that the marginal propensity to consume was three-quarters, that imports were a stable one-quarter of national income, and that interest rates were at the zero lower bound.\n",
    "\n",
    "Suppose, however, that you are also told that the Federal Reserve has strong views, believes that unemployment is currently at the natural rate, and does not want to see and will not tolerate any increase in inflation even in the short term.\n",
    "\n",
    "What would be your answer if asked what the effect on the level of real GDP would be of a 500 billion stimulus program? Set your answer, in hundreds of billions to the variable TH19 in the code cell below:"
   ]
  },
  {
   "cell_type": "code",
   "execution_count": null,
   "metadata": {},
   "outputs": [],
   "source": [
    "TH19 = # 0"
   ]
  },
  {
   "cell_type": "markdown",
   "metadata": {},
   "source": [
    "### Forecasting the Future\n",
    "\n",
    "Suppose somebody who has not taken this course were to ask you what you have learned in it about the likely future of economic growth in the world economy. Write your answer in the markdown cell below after the TH20 prompt"
   ]
  },
  {
   "cell_type": "markdown",
   "metadata": {},
   "source": [
    "TH20 answer "
   ]
  },
  {
   "cell_type": "code",
   "execution_count": null,
   "metadata": {},
   "outputs": [],
   "source": [
    "_ = ok.submit()"
   ]
  }
 ],
 "metadata": {
  "celltoolbar": "Edit Metadata",
  "kernelspec": {
   "display_name": "Python 3",
   "language": "python",
   "name": "python3"
  },
  "language_info": {
   "codemirror_mode": {
    "name": "ipython",
    "version": 3
   },
   "file_extension": ".py",
   "mimetype": "text/x-python",
   "name": "python",
   "nbconvert_exporter": "python",
   "pygments_lexer": "ipython3",
   "version": "3.6.1"
  }
 },
 "nbformat": 4,
 "nbformat_minor": 2
}
