{
 "cells": [
  {
   "cell_type": "markdown",
   "metadata": {
    "slideshow": {
     "slide_type": "notes"
    }
   },
   "source": [
    "# 2018-04-24 Econ 101b Take Home Exam"
   ]
  },
  {
   "cell_type": "markdown",
   "metadata": {},
   "source": [
    "### Problem set will be due Th May 10 at 7 pm..."
   ]
  },
  {
   "cell_type": "markdown",
   "metadata": {},
   "source": [
    "## Setting up the Python/Jupyter environment"
   ]
  },
  {
   "cell_type": "code",
   "execution_count": null,
   "metadata": {},
   "outputs": [],
   "source": [
    "%%javascript\n",
    "\n",
    "IPython.OutputArea.prototype._should_scroll = function(lines) {\n",
    "    return false;}"
   ]
  },
  {
   "cell_type": "code",
   "execution_count": null,
   "metadata": {},
   "outputs": [],
   "source": [
    "# ABOVE CELL IS \"NO SCROLLING SUBWINDOWS\" SETUP\n",
    "#\n",
    "# keep output cells from shifting to autoscroll: little scrolling\n",
    "# subwindows within the notebook are an annoyance..."
   ]
  },
  {
   "cell_type": "code",
   "execution_count": null,
   "metadata": {},
   "outputs": [],
   "source": [
    "# THIS CELL IS THE KEY TO THE OKPY.ORG AUTOGRADER SYSTEM\n",
    "#\n",
    "# Don't change this cell; just run it. \n",
    "# The result will give you directions about how to log in to the submission system, called OK.\n",
    "# Once you're logged in, you can run this cell again, but it won't ask you who you are because\n",
    "# it remembers you. However, you will need to log in once per assignment.\n",
    "\n",
    "!pip install -U okpy\n",
    "\n",
    "from client.api.notebook import Notebook\n",
    "\n",
    "ok = Notebook('ps13.ok')\n",
    "_ = ok.auth(force=True, inline=True)"
   ]
  },
  {
   "cell_type": "markdown",
   "metadata": {},
   "source": [
    "### ⬆︎⬆︎⬆︎⬆︎⬆︎⬆︎⬆︎⬆︎⬆︎⬆︎⬆︎⬆︎⬆︎⬆︎⬆︎⬆︎\n",
    "### RUN THESE CELLS ABOVE FIRST"
   ]
  },
  {
   "cell_type": "markdown",
   "metadata": {},
   "source": [
    "# Take Home Exam (Due Th May 10 06:59:59 PM)\n",
    "\n",
    "----\n",
    "\n",
    "&nbsp;"
   ]
  },
  {
   "cell_type": "markdown",
   "metadata": {},
   "source": [
    "**Task 5: The Effects of a Jump in the Savings Rate**:\n",
    "\n",
    "Do calculations and assign the appropriate values to the variables in the code cells below:"
   ]
  },
  {
   "cell_type": "code",
   "execution_count": null,
   "metadata": {
    "collapsed": true
   },
   "outputs": [],
   "source": [
    "# when α = 0.15, the proportional jump in BGP K/Y\n",
    "# that takes place when the savings rate doubles\n",
    "# as a number: doubling is 2, tripling is 3:\n",
    "\n",
    "KY_when_s_doubles_pointfifteen = ___"
   ]
  },
  {
   "cell_type": "code",
   "execution_count": null,
   "metadata": {
    "collapsed": true
   },
   "outputs": [],
   "source": [
    "ok.grade('q03')"
   ]
  },
  {
   "cell_type": "code",
   "execution_count": null,
   "metadata": {
    "collapsed": true
   },
   "outputs": [],
   "source": [
    "# when α = 0.30, the proportional jump in BGP K/Y\n",
    "# that takes place when the savings rate doubles:\n",
    "\n",
    "KY_when_s_doubles_pointthirty = ___"
   ]
  },
  {
   "cell_type": "code",
   "execution_count": null,
   "metadata": {
    "collapsed": true
   },
   "outputs": [],
   "source": [
    "# when α = 0.45, the proportional jump in BGP K/Y\n",
    "# that takes place when the savings rate doubles:\n",
    "\n",
    "KY_when_s_doubles_pointfortyfive = ___"
   ]
  },
  {
   "cell_type": "code",
   "execution_count": null,
   "metadata": {
    "collapsed": true
   },
   "outputs": [],
   "source": [
    "# when α = 0.60, the proportional jump in BGP K/Y\n",
    "# that takes place when the savings rate doubles:\n",
    "\n",
    "KY_when_s_doubles_pointsixty = ___"
   ]
  },
  {
   "cell_type": "code",
   "execution_count": null,
   "metadata": {
    "collapsed": true
   },
   "outputs": [],
   "source": [
    "# when α = 0.75, the proportional jump in BGP K/Y\n",
    "# that takes place when the savings rate doubles:\n",
    "\n",
    "KY_when_s_doubles_pointseventyfive = ___"
   ]
  },
  {
   "cell_type": "code",
   "execution_count": null,
   "metadata": {
    "collapsed": true
   },
   "outputs": [],
   "source": [
    "# when α = 0.90, the proportional jump in BGP K/Y\n",
    "# that takes place when the savings rate doubles:\n",
    "\n",
    "KY_when_s_doubles_pointninety = ___"
   ]
  },
  {
   "cell_type": "code",
   "execution_count": null,
   "metadata": {
    "collapsed": true
   },
   "outputs": [],
   "source": [
    "# FUNCTION FOR CALCULATING AND GRAPHING THE LEVELS OF \n",
    "# SOLOW GROWTH MODEL VARIABLES IN SIMULATIONS\n",
    "#\n",
    "# might as well put \"check that common libraries are active\" as a default header\n",
    "# in every long python code cell...\n",
    "\n",
    "import matplotlib as mpl\n",
    "import matplotlib.pyplot as plt\n",
    "import pandas as pd\n",
    "import scipy as sp\n",
    "import numpy as np\n",
    "%matplotlib inline\n",
    "\n",
    "# we are going to want to see what happens for lots of\n",
    "# different model parameter values and initial conditions,\n",
    "# so stuff our small simulation program inside a function, so \n",
    "# we can then invoke it with a single line...\n",
    "#\n",
    "# we are going to assume the economy starts on its initial\n",
    "# balanced growth path...\n",
    "#\n",
    "# we are going to want to keep track not just of what the\n",
    "# economy's variables are at each point in time, but also \n",
    "# what the initial and alternative balanced-growth path \n",
    "# values of variables are. Given the parameters, the new BGP \n",
    "# is attracting the economy to it at the speed (1-α)(n+g+δ), \n",
    "# closing that fraction of the gap between its current state \n",
    "# and the balanced growth path attractor every period...\n",
    "\n",
    "def sgm_bgp_100yr_run(L0, E0, n=0.01, g=0.02, s=0.24, \n",
    "    alpha=0.5, delta=0.03, Delta_s=0, Delta_g=0, Delta_n=0, \n",
    "    T = 100):\n",
    "\n",
    "    sg_df = pd.DataFrame(index=range(T),columns=['Labor', \n",
    "        'Efficiency',\n",
    "        'Capital',\n",
    "        'Output',\n",
    "        'Output_per_Worker',\n",
    "        'Capital_Output_Ratio',\n",
    "        'BGP_initial_Output',\n",
    "        'BGP_initial_Output_per_Worker',\n",
    "        'BGP_initial_Capital_Output_Ratio',\n",
    "        'BGP_initial_Capital',\n",
    "        'BGP_final_Output',\n",
    "        'BGP_final_Output_per_Worker',\n",
    "        'BGP_final_Capital_Output_Ratio',\n",
    "        'BGP_final_Capital'],\n",
    "        dtype='float')\n",
    "\n",
    "    sg_df.Labor[0] = L0\n",
    "    sg_df.Efficiency[0] = E0\n",
    "    KoverY_initial_steady_state = s/(n+g+delta)\n",
    "    YoverL_initial_steady_state = ((s/(n+g+delta))**(alpha/(1-alpha)) \n",
    "        * E0)\n",
    "    KoverL_initial_steady_state = (YoverL_initial_steady_state *\n",
    "        KoverY_initial_steady_state)\n",
    "    sg_df.Capital[0] = KoverL_initial_steady_state * L0\n",
    "    sg_df.Output[0] = (sg_df.Capital[0]**alpha * (sg_df.Labor[0] * \n",
    "        sg_df.Efficiency[0])**(1-alpha))\n",
    "    sg_df.Output_per_Worker[0] = sg_df.Output[0]/sg_df.Labor[0]\n",
    "    sg_df.Capital_Output_Ratio[0] = sg_df.Capital[0]/sg_df.Output[0]\n",
    "    \n",
    "    sg_df.BGP_initial_Capital_Output_Ratio[0] = (s / (n + g + delta))\n",
    "    sg_df.BGP_initial_Output_per_Worker[0] = sg_df.Efficiency[0] * (\n",
    "        sg_df.BGP_initial_Capital_Output_Ratio[0]*(alpha/(1 - alpha)))\n",
    "    sg_df.BGP_initial_Output[0] = sg_df.BGP_initial_Output_per_Worker[0] * sg_df.Labor[0]\n",
    "    sg_df.BGP_initial_Capital[0] = sg_df.Labor[0] * sg_df.Efficiency[0] * (\n",
    "        sg_df.BGP_initial_Capital_Output_Ratio[0]*(1/(1 - alpha)))\n",
    "    \n",
    "    sg_df.BGP_final_Capital_Output_Ratio[0] = ((s + Delta_s) / \n",
    "        (n + Delta_n + g + Delta_g + delta))\n",
    "    sg_df.BGP_final_Output_per_Worker[0] = sg_df.Efficiency[0] * (\n",
    "        sg_df.BGP_final_Capital_Output_Ratio[0]*(alpha/(1 - alpha)))\n",
    "    sg_df.BGP_final_Output[0] = sg_df.BGP_final_Output_per_Worker[0] * sg_df.Labor[0]\n",
    "    sg_df.BGP_final_Capital[0] = sg_df.Labor[0] * sg_df.Efficiency[0] * (\n",
    "        sg_df.BGP_final_Capital_Output_Ratio[0]*(1/(1 - alpha)))\n",
    "    \n",
    "\n",
    "    for i in range(T):\n",
    "        sg_df.Labor[i+1] = (sg_df.Labor[i] * np.exp(n + Delta_n))\n",
    "        sg_df.Efficiency[i+1] = (sg_df.Efficiency[i] * np.exp(g + Delta_g))\n",
    "        KoverY_current = sg_df.Capital[i]/sg_df.Output[i]\n",
    "        sg_df.Capital[i+1] = (sg_df.Capital[i] * np.exp((s+Delta_s)/ \n",
    "            KoverY_current - delta))\n",
    "        sg_df.Output[i+1] = (sg_df.Capital[i+1]**alpha * \n",
    "            (sg_df.Labor[i+1] * sg_df.Efficiency[i+1])**(1-alpha))\n",
    "        sg_df.Output_per_Worker[i+1] = sg_df.Output[i+1]/sg_df.Labor[i+1]\n",
    "        sg_df.Capital_Output_Ratio[i+1] = (sg_df.Capital[i+1]/\n",
    "            sg_df.Output[i+1])\n",
    "        \n",
    "        sg_df.BGP_initial_Capital_Output_Ratio[i+1] = (s / (n + g + delta))\n",
    "        sg_df.BGP_initial_Output_per_Worker[i+1] = sg_df.Efficiency[i+1] * (\n",
    "            sg_df.BGP_initial_Capital_Output_Ratio[i+1]**(alpha/(1 - alpha)))\n",
    "        sg_df.BGP_initial_Output[i+1] = (sg_df.BGP_initial_Output_per_Worker[i+1] * \n",
    "            sg_df.Labor[i+1])\n",
    "        sg_df.BGP_initial_Capital[i+1] = (s / (n + g + delta))**(1/(1-alpha)) * (\n",
    "            sg_df.Efficiency[i+1] * sg_df.Labor[i+1])\n",
    "        \n",
    "        sg_df.BGP_final_Capital_Output_Ratio[i+1] = ((s+ Delta_s) / \n",
    "            (n + Delta_n + g + Delta_g + delta))\n",
    "        sg_df.BGP_final_Output_per_Worker[i+1] = sg_df.Efficiency[i+1] * (\n",
    "            sg_df.BGP_final_Capital_Output_Ratio[i+1]**(alpha/(1 - alpha)))\n",
    "        sg_df.BGP_final_Output[i+1] = (sg_df.BGP_final_Output_per_Worker[i+1] * \n",
    "            sg_df.Labor[i+1])\n",
    "        sg_df.BGP_final_Capital[i+1] = (s / (n + g + delta))**(1/(1-alpha)) * (\n",
    "            sg_df.Efficiency[i+1] * sg_df.Labor[i+1])\n",
    "        \n",
    "    fig = plt.figure(figsize=(12, 12))\n",
    "\n",
    "    ax1 = plt.subplot(3,2,1)\n",
    "    sg_df.Labor.plot(ax = ax1, title = \"Labor Force\")\n",
    "    plt.ylabel(\"Parameters\")\n",
    "    plt.ylim(0, )\n",
    "\n",
    "    ax2 = plt.subplot(3,2,2)\n",
    "    sg_df.Efficiency.plot(ax = ax2, title = \"Efficiency of Labor\")\n",
    "    plt.ylim(0, )\n",
    "    \n",
    "    ax3 = plt.subplot(3,2,3)\n",
    "    sg_df.BGP_initial_Capital.plot(ax = ax3, title = \"BGP (Initial) Capital Stock\")\n",
    "    sg_df.BGP_final_Capital.plot(ax = ax3, title = \"BGP (Final) Capital Stock\")\n",
    "    sg_df.Capital.plot(ax = ax3, title = \"Capital Stock\")\n",
    "    plt.ylabel(\"Values\")\n",
    "    plt.ylim(0, )\n",
    "\n",
    "    ax4 = plt.subplot(3,2,4)\n",
    "    sg_df.BGP_initial_Output.plot(ax = ax4, title = \"BGP (Initial) Output\")\n",
    "    sg_df.BGP_final_Output.plot(ax = ax4, title = \"BGP (Final) Output\")\n",
    "    sg_df.Output.plot(ax = ax4, title = \"Output\")\n",
    "    plt.ylim(0, )\n",
    "\n",
    "    ax5 = plt.subplot(3,2,5)\n",
    "    sg_df.BGP_initial_Output_per_Worker.plot(ax = ax5, title = \"BGP (Initial) Output per Worker\")\n",
    "    sg_df.BGP_final_Output_per_Worker.plot(ax = ax5, title = \"BGP (Final) Output per Worker\")\n",
    "    sg_df.Output_per_Worker.plot(ax = ax5, title = \"Output per Worker\")\n",
    "    plt.xlabel(\"Years\")\n",
    "    plt.ylabel(\"Ratios\")\n",
    "    plt.ylim(0, )\n",
    "\n",
    "    ax6 = plt.subplot(3,2,6)\n",
    "    sg_df.BGP_initial_Capital_Output_Ratio.plot(ax = ax6, \n",
    "        title = \"BGP (Initial) Capital-Output Ratio\")\n",
    "    sg_df.BGP_final_Capital_Output_Ratio.plot(ax = ax6, \n",
    "        title = \"BGP (Final) Capital-Output Ratio\")\n",
    "    sg_df.Capital_Output_Ratio.plot(ax = ax6, \n",
    "        title = \"Capital-Output Ratio\")\n",
    "    plt.xlabel(\"Years\")\n",
    "    plt.ylim(0, )\n",
    "\n",
    "    plt.suptitle('Solow Growth Model: Simulation Run', size = 20)\n",
    "\n",
    "    plt.show()\n",
    "    \n",
    "    print(n + Delta_n, \"is the labor force growth rate\")\n",
    "    print(g + Delta_g, \"is the efficiency of labor growth rate\")\n",
    "    print(delta, \"is the depreciation rate\")\n",
    "    print(s + Delta_s, \"is the savings rate\")\n",
    "    print(alpha, \"is the decreasing-returns-to-scale parameter\")"
   ]
  },
  {
   "cell_type": "markdown",
   "metadata": {},
   "source": [
    "**(Task C): Different Values of the Production Function Parameter $\\alpha$**\n",
    "\n",
    "Still working with our two simulation functions:\n",
    "\n",
    "    sgm_bgp_100yr_run(L0, E0, n=0.01, g=0.02, s=0.24,\n",
    "    alpha=0.5, delta=0.03, Delta_s=0, Delta_g=0, Delta_n=0, \n",
    "    T = 100)\n",
    "    \n",
    "and:\n",
    "\n",
    "    log_sgm_bgp_100yr_run(L0, E0, n=0.01, g=0.02, s=0.24, \n",
    "    alpha=0.5, delta=0.03, Delta_s=0, Delta_g=0, Delta_n=0, \n",
    "    T = 100)\n",
    "    \n",
    "Insert code cells immediately below to calculate—logs and levels—the effect in the Solow growth model, starting from our default base case balanced growth path, of a permanent six percentage point increase in the savings-investment rate s for five different values of the production function curvature parameter alpha ($\\alpha$): 1/4, 1/3, 1/2, 2/3, and 3/4. \n",
    "\n",
    "Also calculate the values of log(K/Y) in the 50th year of the simulation for each of your  simulations. In the subsequent code cell \"Task C answer variables\" set the variables equal to their values in your five respective simulation runs.\n",
    "\n",
    "In the subsequent markdown cell \"Task C Answer Discussion\", write two paragraphs about what these simulation runs tell you about the differences between economies in which diminishing returns to scale set in quickly (alpha low, near zero), and economies in which diminishing returns set in slowly because capital has a high weight share in the production function (alpha high, near one):"
   ]
  },
  {
   "cell_type": "markdown",
   "metadata": {},
   "source": [
    "----"
   ]
  },
  {
   "cell_type": "markdown",
   "metadata": {},
   "source": [
    "**(Task D) Zero Population Growth**\n",
    "\n",
    "Many observers project that by the end of the twenty-first century the population of the United States will be stable. Using the Solow growth model, what would such a downward shift in the growth rate of the labor force do to the growth of output per worker and to the growth of total output if zero labor force growth came suddenly and permanently in 2050? Consider both the effect on the balanced-growth equilibrium path and the transition from the “old” positive population growth to the “new” zero population growth balanced-growth path.\n",
    "\n",
    "Answer this question by setting the appropriate variables to their values in the code cell below. The initial balanced growth path steady state of the economy has:\n",
    "\n",
    "* Rate of population growth n = 1% per year\n",
    "* Rate of efficiency-of-labor growth g = 1.5% per year\n",
    "* Depreciation rate $ \\delta $ (delta) = 3% per year\n",
    "* Savings-investment effort as a share of output s = 22% per year\n",
    "* Diminishing returns to investment production function parameter $ \\alpha $ (alpha) = 0.5\n",
    "* Level of the efficiency of labor today $ E_{2018} = 65000 $"
   ]
  },
  {
   "cell_type": "markdown",
   "metadata": {},
   "source": [
    "**(Task F) Long Run Human Populations: Levels and Growth**\n",
    "\n",
    "Run the code cell below, unchanged, to enter Michael Kremer's data—his estimates of human population and its growth, updated to 2015, into the pandas dataframe \"Pop_df\". Then proceed to do the tasks in the markdown cells further down:"
   ]
  },
  {
   "cell_type": "code",
   "execution_count": null,
   "metadata": {
    "collapsed": true
   },
   "outputs": [],
   "source": [
    "# Task C answer variables\n",
    "\n",
    "KoverY_50_alphaquarter = __ # In the simulation run boosting the savings rate \n",
    "                            # with alpha=0.25, the value of the capital output\n",
    "                            # ratio in the 50th year goes here\n",
    "\n",
    "KoverY_50_alphathird = __ # In the simulation run boosting the savings rate \n",
    "                          # with alpha=1/3, the value of the capital output\n",
    "                          # ratio in the 50th year goes here\n",
    "\n",
    "KoverY_50_alphahalf = __ # In the simulation run boosting the savings rate \n",
    "                         # with alpha=0.5, the value of the capital output\n",
    "                         # ratio in the 50th year goes here\n",
    "\n",
    "KoverY_50_alphatwothirds = __ # In the simulation run boosting the savings rate \n",
    "                              # with alpha=2/3, the value of the capital output\n",
    "                              # ratio in the 50th year goes here\n",
    "        \n",
    "KoverY_50_alphathreequarters = __ # In the simulation run boosting the savings rate \n",
    "                                  # with alpha=3/4, the value of the capital output\n",
    "                                  # ratio in the 50th year goes here\n"
   ]
  },
  {
   "cell_type": "code",
   "execution_count": 7,
   "metadata": {
    "collapsed": true
   },
   "outputs": [],
   "source": [
    "# HUMAN POPULATION OVER THE LAST 10000 YEARS\n",
    "#\n",
    "# make sure the standard libraries are active\n",
    "\n",
    "import numpy as np\n",
    "import pandas as pd\n",
    "import matplotlib as mpl\n",
    "import matplotlib.pyplot as plt\n",
    "from IPython.display import Image\n",
    "\n",
    "Population = (\n",
    "    [-8000,5],\n",
    "    [-4000, 7],\n",
    "    [-2000, 27],\n",
    "    [-1000, 50],\n",
    "    [-500, 100],\n",
    "    [-200, 150],\n",
    "    [0, 170],\n",
    "    [200, 190],\n",
    "    [400, 190],\n",
    "    [600, 200],\n",
    "    [800, 230],\n",
    "    [1000, 265],\n",
    "    [1200, 360],\n",
    "    [1400, 350],\n",
    "    [1500, 425],\n",
    "    [1600, 545],\n",
    "    [1700, 610],\n",
    "    [1750, 720],\n",
    "    [1800, 900],\n",
    "    [1850, 1200],\n",
    "    [1875, 1325],\n",
    "    [1900, 1625],\n",
    "    [1925, 1875],\n",
    "    [1950, 2516],\n",
    "    [1975, 4000],\n",
    "    [2000, 6100],\n",
    "    [2015, 7250])"
   ]
  },
  {
   "cell_type": "code",
   "execution_count": 8,
   "metadata": {
    "collapsed": true
   },
   "outputs": [],
   "source": [
    "Population = np.array(Population)"
   ]
  },
  {
   "cell_type": "code",
   "execution_count": 9,
   "metadata": {
    "collapsed": true
   },
   "outputs": [],
   "source": [
    "Pop_df = pd.DataFrame(Population) "
   ]
  },
  {
   "cell_type": "code",
   "execution_count": 10,
   "metadata": {
    "collapsed": true
   },
   "outputs": [],
   "source": [
    "Pop_df.columns = ['Date', 'Population']"
   ]
  },
  {
   "cell_type": "code",
   "execution_count": 11,
   "metadata": {},
   "outputs": [
    {
     "name": "stderr",
     "output_type": "stream",
     "text": [
      "/Users/delong/anaconda3/lib/python3.6/site-packages/ipykernel_launcher.py:4: SettingWithCopyWarning: \n",
      "A value is trying to be set on a copy of a slice from a DataFrame\n",
      "\n",
      "See the caveats in the documentation: http://pandas.pydata.org/pandas-docs/stable/indexing.html#indexing-view-versus-copy\n",
      "  after removing the cwd from sys.path.\n"
     ]
    }
   ],
   "source": [
    "Pop_df['Year'] = 0.0\n",
    "\n",
    "for i in range(26):\n",
    "    Pop_df.Year[i] = Pop_df.Date[i]\n",
    "    "
   ]
  },
  {
   "cell_type": "code",
   "execution_count": null,
   "metadata": {
    "collapsed": true
   },
   "outputs": [],
   "source": [
    "Pop_df = Pop_df.set_index('Date')"
   ]
  },
  {
   "cell_type": "markdown",
   "metadata": {},
   "source": [
    "Now let us compare growth rates of human populations across different time periods. Set the variables in the code cell below to their appropriate values:"
   ]
  },
  {
   "cell_type": "code",
   "execution_count": null,
   "metadata": {
    "collapsed": true
   },
   "outputs": [],
   "source": [
    "Growth_Rate_1000BC_to_1000AD =\n",
    "Growth_Rate_1400_to_1600 =\n",
    "Growth_Rate_1900_to_1950 ="
   ]
  },
  {
   "cell_type": "code",
   "execution_count": null,
   "metadata": {
    "collapsed": true
   },
   "outputs": [],
   "source": [
    "ok.grade('q03')"
   ]
  },
  {
   "cell_type": "markdown",
   "metadata": {},
   "source": [
    "Now suppose that we are in a Malthusian population régime, in which the rate of population growth is linearly proportional to the relative deviation of typical standards of living from 750 dollars a year, with population growth at zero when output per capita is 750 dollars per year and 1 percent per year when output per worker is 1500. What would you think typical standards of living were in the 1400 to 1600 period and the in the 1900 to 1950 period? Enter the appropriate values for the variables in the code cell below:"
   ]
  },
  {
   "cell_type": "markdown",
   "metadata": {},
   "source": [
    "**(Task C) Cross-Country Productivity Differences I**\n",
    "\n",
    "Consider a Solow growth model economy with a capital accumulation rate that depends on the relative price of capital goods $ p_k $, because a lower price of capital goods means that a similar amount of savings sY will translate into more investment in capital, thus:\n",
    "\n",
    "&nbsp;&nbsp;&nbsp;&nbsp;&nbsp;&nbsp;&nbsp;&nbsp;&nbsp;\n",
    "$ \\frac{d\\left(ln(K)\\right)}{dt} = \n",
    "\\left(\\frac{s}{p_k}\\right)\\left(\\frac{Y}{K}\\right) - \\delta $\n",
    "\n",
    "in which the relative price of capital goods is:\n",
    "\n",
    "&nbsp;&nbsp;&nbsp;&nbsp;&nbsp;&nbsp;&nbsp;&nbsp;&nbsp;\n",
    "$ p_k = \\left(\\frac{Y}{L}\\right)^{-\\eta} $\n",
    "\n",
    "with $ \\eta $ being the Greek letter called \"eta\".\n",
    "\n",
    "The steady-state balanced-growth path capital-output ratio would then be:\n",
    "\n",
    "&nbsp;&nbsp;&nbsp;&nbsp;&nbsp;&nbsp;&nbsp;&nbsp;&nbsp;\n",
    "$ \\left(\\frac{K}{Y}\\right)^* =\n",
    "\\frac{s/p_k}{n+g+\\delta} $\n",
    "\n",
    "and output per worker along the steady-state balanced-growth path would then be:\n",
    "\n",
    "&nbsp;&nbsp;&nbsp;&nbsp;&nbsp;&nbsp;&nbsp;&nbsp;&nbsp;\n",
    "$ \\left(\\frac{Y}{L}\\right)^* =\n",
    "\\left(\\frac{s/p_k}{n+g+\\delta}\\right)\n",
    "^{\\frac{\\alpha}{1-\\alpha}}\n",
    "E $\n",
    "\n",
    "In this environment—in which high levels of the effiency of labor and output per worker carry with them a reduction in the relative price of capital goods—we seek to analyze what difference this dependence of the price of capita on prosperity makes. For this question, assume further that the economy's capital-output ratio and output per worker level is on its balanced growth path. And assume for this Task that the current level of the efficiency of labor E is equal to 1.\n",
    "\n",
    "----\n",
    "\n",
    "(1) Let the savings rate s=18%, the labor force growth rate n = 1% per year, the labor efficiency growth rate g = 2% per year, the depreciation rate $ \\delta $ = 3% per year, and the production function parameter $ \\alpha $ = 1/2.\n",
    "\n",
    "(a) what is current balanced-growth path output per worker if $ \\eta = 0 $? Set the variable YoLbg20 equal to your answer in the Code Cell for Answers for Task (C) below.\n",
    "\n",
    "(b) what is current balanced-growth path output per worker if $ \\eta = 0.1 $? Set the variable YoLbg21 equal to your answer in the Code Cell for Answers for Task (C) below.\n",
    "\n",
    "(c) what is current balanced-growth path output per worker if $ \\eta = 0.2 $? Set the variable YoLbg22 equal to your answer in the Code Cell for Answers for Task (C) below.\n",
    "\n",
    "(d) what is current balanced-growth path output per worker if $ \\eta = 0.3 $? Set the variable YoLbg23 equal to your answer in the Code Cell for Answers for Task (C) below.\n",
    "\n",
    "(e) what is current balanced-growth path output per worker if $ \\eta = 0.4 $? Set the variable YoLbg24 equal to your answer in the Code Cell for Answers for Task (C) below.\n",
    "\n",
    "(f) what is current balanced-growth path output per worker if $ \\eta = 0.5 $? Set the variable YoLbg25 equal to your answer in the Code Cell for Answers for Task (C) below.\n",
    "\n",
    "----\n",
    "\n",
    "(2) Let the savings rate s=18%, the labor force growth rate n = 1% per year, the labor efficiency growth rate g = 2% per year, the depreciation rate $ \\delta $ = 3% per year, and the production function parameter $ \\alpha $ = 3/4.\n",
    "\n",
    "(a) what is current balanced-growth path output per worker if $ \\eta = 0 $? Set the variable YoLbg30 equal to your answer in the Code Cell for Answers for Task (C) below.\n",
    "\n",
    "(b) what is current balanced-growth path output per worker if $ \\eta = 0.1 $? Set the variable YoLbg31 equal to your answer in the Code Cell for Answers for Task (C) below.\n",
    "\n",
    "(c) what is current balanced-growth path output per worker if $ \\eta = 0.2 $? Set the variable YoLbg32 equal to your answer in the Code Cell for Answers for Task (C) below.\n",
    "\n",
    "----\n",
    "\n",
    "(3) Is this method—take the Solow model balanced growth path and assume that the economy is going to be on it—a reasonable way to proceed in analyzing the question of how much difference an association of prosperity with low capital goods prices make? How might it lead to wrong conclusions? How would you test whether thoe conclusions are wrong? Write your answer in the Markdown Cell for Answers to Task C below."
   ]
  },
  {
   "cell_type": "code",
   "execution_count": null,
   "metadata": {
    "collapsed": true
   },
   "outputs": [],
   "source": [
    "# Code Cell for Answers for Task C\n",
    "\n",
    "YoLbg20 =   # (1)(a)\n",
    "YoLbg21 =   # (1)(b)\n",
    "YoLbg22 =   # (1)(c)\n",
    "YoLbg23 =   # (1)(d)\n",
    "YoLbg24 =   # (1)(e)\n",
    "YoLbg25 =   # (1)(f)\n",
    "\n",
    "YoLbg30 =   # (1)(a)\n",
    "YoLbg31 =   # (1)(b)\n",
    "YoLbg32 =   # (1)(c)"
   ]
  },
  {
   "cell_type": "markdown",
   "metadata": {
    "deletable": false,
    "manual_grade": true,
    "manual_problem_id": "PS7TEC"
   },
   "source": [
    "### Markdown Cell for Answer to Task C(3)\n",
    "\n",
    "&nbsp;\n",
    "\n",
    "ANSWER:<font color=\"blue\"> </font>"
   ]
  },
  {
   "cell_type": "markdown",
   "metadata": {},
   "source": [
    "### (Task C) The Effects of an Increase in the Government Deficit at Full Employment 1\n",
    "\n",
    "Let's calculate the effects of a 500 billion dollar increase in the annual deficit produced by expanded government spending on the state of the economy. \n",
    "\n",
    "1. In the code cell below, write code to increase the government purchases variable G from 4 to 4.5.\n",
    "\n",
    "2. Write code to calculate private savings S_p, government savings S_g, foreign savings S_f, and the variable GAP0, what the gap between investment spending and total savings would be if that were to be the only change in the economy.\n",
    "\n",
    "3. Print out this initial round-zero GAP0 variable. Examine it\n",
    "\n",
    "The economy is no longer at its equilibrium. The government is draining savings out of the flow of funds, leaving an excess demand for finance to pay for business investment spending. The economy will adjust—the real interest rate will rise."
   ]
  },
  {
   "cell_type": "code",
   "execution_count": null,
   "metadata": {
    "collapsed": true
   },
   "outputs": [],
   "source": [
    "# Raise government purchases, and calculate the\n",
    "# savings-investment gap\n",
    "\n",
    "G_ini = 4\n",
    "G = G_ini + 0.5\n",
    "T = t * Y\n",
    "\n",
    "S_g = \n",
    "S_f = \n",
    "S_p = \n",
    "\n",
    "GAP0 = I - (S_p + S_g + S_f)"
   ]
  },
  {
   "cell_type": "code",
   "execution_count": null,
   "metadata": {
    "collapsed": true
   },
   "outputs": [],
   "source": [
    "import numpy as np\n",
    "ok.grade('q02')"
   ]
  },
  {
   "cell_type": "markdown",
   "metadata": {},
   "source": [
    "### (Task D) The Effects of an Increase in the Government Deficit at Full Employment 2\n",
    "\n",
    "Suppose that in response to this disequilibrium in the flow-of-funds market created by Task C, r by would increase by 1/10 of this GAP0. \n",
    "\n",
    "1. Adjust r upward by 1/20 of this GAP0.\n",
    "2. Write code to calculate what now private savings S_p, government savings S_g, foreign savings S_f, and the variable GAP1 are.\n",
    "3. Print out this initial round-zero GAP1 variable. Examine it. Is the economy back at equilibrium? Set the variable at_equilibrium to True or False"
   ]
  },
  {
   "cell_type": "code",
   "execution_count": null,
   "metadata": {
    "collapsed": true
   },
   "outputs": [],
   "source": [
    "r_o = 0\n",
    "r = r_o + 0.05 * GAP0\n",
    "\n",
    "I = \n",
    "eps = \n",
    "GX = \n",
    "IM = \n",
    "NX = \n",
    "\n",
    "S_g = \n",
    "S_f = \n",
    "S_p = \n",
    "\n",
    "GAP1 = I - (S_p + S_g + S_f)\n",
    "print(GAP1)\n",
    "\n",
    "at_equilibrium = "
   ]
  },
  {
   "cell_type": "code",
   "execution_count": null,
   "metadata": {
    "collapsed": true
   },
   "outputs": [],
   "source": [
    "import numpy as np\n",
    "ok.grade('q03')"
   ]
  },
  {
   "cell_type": "markdown",
   "metadata": {},
   "source": [
    "### (Task E) The Effects of an Increase in the Government Deficit at Full Employment 3\n",
    "\n",
    "If the economy was not in equilibrium at the end of (Task D), in the code cell below calculate the new equilibrium. In any event, print out and examine consumption spending C, investment spending I, gross exports GX, imports IM, net exports NX, the real interest rate r, and the exchange rate $ \\epsilon $. \n",
    "\n",
    "In the markdown cell further below, explain why the effects of this unfunded increase in government purchases are what they are."
   ]
  },
  {
   "cell_type": "code",
   "execution_count": null,
   "metadata": {
    "collapsed": true
   },
   "outputs": [],
   "source": [
    "# add your code below here..."
   ]
  },
  {
   "cell_type": "markdown",
   "metadata": {
    "deletable": false,
    "manual_grade": true,
    "manual_problem_id": "delong_9"
   },
   "source": [
    "Explanation: <font color='blue'>ANSWER: ___ </font>"
   ]
  },
  {
   "cell_type": "code",
   "execution_count": null,
   "metadata": {
    "collapsed": true
   },
   "outputs": [],
   "source": [
    "SoLtypical1400to1600 =\n",
    "SoLtypical1900to1950 ="
   ]
  },
  {
   "cell_type": "markdown",
   "metadata": {},
   "source": [
    "### The Baseline Sticky-Price Model\n",
    "\n",
    "Start with the IS-Curve for the sticky-price model:\n",
    "\n",
    "&nbsp;&nbsp;&nbsp;&nbsp;&nbsp;&nbsp;&nbsp;&nbsp;&nbsp;\n",
    "$ Y = E = {\\mu}(c_o + I_o + G) + {\\mu}(x_{f}Y^f + x_{\\epsilon}{\\epsilon_o} + x_{\\epsilon}{\\epsilon_r}r^f) - {\\mu}(I_r + x_{\\epsilon}{\\epsilon_r})r $\n",
    "\n",
    "Remember: causation moves from right to left: the components of spending add up to aggregate demand or total expenditure E, and the inventory adjustment process then drives national income and product Y to aggregate demand.\n",
    "\n",
    "The symbols on the right-hand side of this equation are grouped into:\n",
    "\n",
    "_Expectations and Confidence:_\n",
    "\n",
    "* $ c_o $ :: consumer confidence\n",
    "* $ I_o $ :: business investment animal spirits\n",
    "* $ {\\epsilon_o} $ :: the confidence of foreign exchange speculators in the value of foreign currency\n",
    "\n",
    "&nbsp;\n",
    "\n",
    "_Behavioral Parameters:_\n",
    "\n",
    "* $ x_{f} $ :: the responsiveness of exports to foreign income\n",
    "* $ x_{\\epsilon} $ :: the responsiveness of exports to the exchange rate\n",
    "* $ {\\epsilon_r} $ :: the responsiveness of the exchange rate to the interest rate\n",
    "* $ I_r $ :: the responsiveness of investment to the interest rate\n",
    "* $ {\\mu} = \\frac{1}{1- c_{y}(1-t) + im_y} $ :: the multiplier, itself a function of:\n",
    "    * $ t $ :: the tax rate\n",
    "    * $ c_y $ :: the marginal propensity to consume\n",
    "    * $ im_y $ :: the marginal propensity to import\n",
    "\n",
    "&nbsp;\n",
    "\n",
    "_The Global Economic Environment:_\n",
    "\n",
    "* $ Y^f $ :: foreign national income\n",
    "* $ r^f $ :: the foreign long-term risky real interest rate\n",
    "\n",
    "&nbsp;\n",
    "\n",
    "_Policy Choices:_\n",
    "\n",
    "* $ G $ :: government purchases\n",
    "* $ r = i + \\rho - \\pi $ :: the long-term risky real interest rate, which itself will later on be a function of:\n",
    "    * $ i $ :: the short-term safe nominal interest rate, a policy choice\n",
    "    * $ \\rho $ :: the risk (and term) premium charged for lending long-term to companies that might go bankrupt rather than short-term to the government\n",
    "    * $ \\pi $ :: the expected inflation rate\n",
    "\n",
    "Assume parameter values:\n",
    "\n",
    "* $ c_o = 2 $\n",
    "* $ c_y = 5/8 $\n",
    "* $ I_o = 4.4 $\n",
    "* $ I_r = 10 $\n",
    "* $ t = 0.20 $\n",
    "* $ im_y = 1/6 $\n",
    "* $ x^f = 0.1 $\n",
    "* $ Y^f = 20 $\n",
    "* $ r^f = 0.04 $\n",
    "* $ x_{\\epsilon} = 4/3 $\n",
    "* $ \\epsilon_o = 1 $\n",
    "* $ \\epsilon_r = 5 $\n",
    "\n",
    "And assume that government purchases $ G = 4 $\n",
    "\n",
    "The code cell below sets parameter values and calculates the equilibrium value of the real interest rater r for this flexprice model IS Curve. It then calculates the values of hte other economic variables, in trillions:\n",
    "\n",
    "----\n",
    "\n",
    "&nbsp;"
   ]
  },
  {
   "cell_type": "code",
   "execution_count": null,
   "metadata": {},
   "outputs": [],
   "source": [
    "# STICKY-PRICE MODEL INITIAL SCENARIO SETUP\n",
    "\n",
    "# Set initial parameter and variable values\n",
    "c_o = 2\n",
    "c_y = 5/8\n",
    "\n",
    "I_o = 4.4\n",
    "I_r = 10\n",
    "\n",
    "G = 4\n",
    "t = 0.20\n",
    "\n",
    "im_y = 1/6\n",
    "x_f = 0.1\n",
    "Y_f = 20\n",
    "r_f = 0.04\n",
    "\n",
    "x_epsilon = 4/3\n",
    "epsilon_o = 1\n",
    "epsilon_r = 5\n",
    "\n",
    "# Calculate the value of the multiplier\n",
    "mu = 1/(1-c_y*(1-t)+ im_y)\n",
    "\n",
    "# Set the real interest rate\n",
    "r = 0.04\n",
    "\n",
    "# Calculate the equilibrium value of Y from the IS Curve\n",
    "Y = mu * ((c_o + I_o + G) + \n",
    "    (x_f * Y_f + x_epsilon * epsilon_o + x_epsilon * epsilon_r * r_f) -\n",
    "    (I_r + x_epsilon * epsilon_r)* r) \n",
    "\n",
    "# calculcate the values of other economic variables \n",
    "# in this initial scenario\n",
    "C = c_o + c_y * (1-t) * Y\n",
    "I = I_o - I_r * r\n",
    "GX = x_f * Y_f + x_epsilon * epsilon_o + x_epsilon * epsilon_r * (r_f-r)\n",
    "IM = im_y * Y\n",
    "NX = GX - IM\n",
    "epsilon = epsilon_o + epsilon_r * (r_f-r)\n",
    "\n",
    "# print out the values of economic variables in \n",
    "# this initial scenario equilibrium\n",
    "print(\"The real interest rate =\", r)\n",
    "print(\"\")\n",
    "print(\"The components of national income and product Y are:\")\n",
    "print(\"Consumption spending C = \", C)\n",
    "print(\"Investment spending I = \", I)\n",
    "print(\"Government purchases G = \", G)\n",
    "print(\"Net exports NX = \", NX)\n",
    "print(\"\")\n",
    "print(\"Output Y = \", Y)\n",
    "print(\"\")\n",
    "print(\"Gross exports GX = \", GX)\n",
    "print(\"Imports IM = \", IM)\n",
    "print(\"\")\n",
    "print(\"The real exchange rate ε = \", epsilon)\n",
    "print(\"\")\n",
    "print(\"The multiplier μ = \", mu)\n",
    "\n",
    "# AFTER YOU RUN THIS CELL, DO NOT OVERWRITE THE VALUES OF THE\n",
    "# _ini VARIABLES!\n",
    "#\n",
    "# remember the values of the economic variables in this \n",
    "# initial scenario\n",
    "r_ini = r\n",
    "I_ini = I\n",
    "G_ini = G\n",
    "NX_ini = NX\n",
    "epsilon_ini = epsilon\n",
    "Y_ini = Y\n",
    "C_ini = C"
   ]
  },
  {
   "cell_type": "markdown",
   "metadata": {},
   "source": [
    "### (Task B) Sticky-Price: Moving Along the IS Curve: A Contraction via Higher Interest Rates to Fight Inflation (Initial)\n",
    "\n",
    "In the code cell below the setup cell, calculate the change in national product produced by the central bank's fighting infltiton via a 4 percentage point increase in the domestic interest rate $ {\\Delta}r = +0.04 $, holding constant the domestic real interest rate r, and set the value of the variable:\n",
    "\n",
    "    Delta_Y_PS12taskB\n",
    "    \n",
    "to that calculated change:"
   ]
  },
  {
   "cell_type": "code",
   "execution_count": null,
   "metadata": {},
   "outputs": [],
   "source": [
    "# CODE CELL FOR TASK B INITIAL\n",
    "\n",
    "# Delta_r = +0.04\n",
    "\n",
    "# ...\n",
    "# ...\n",
    "# ...\n",
    "# ...\n",
    "\n",
    "# Delta_Y_PS12taskB = "
   ]
  },
  {
   "cell_type": "markdown",
   "metadata": {},
   "source": [
    "### (Task B) Sticky-Price: Moving Along the IS Curve: A Contraction via Higher Interest Rates to Fight Inflation (Continued)\n",
    "\n",
    "In the code cell below, write code or otherwise calculate and set the variables:\n",
    "\n",
    "    Delta_C_PS12taskB\n",
    "    Delta_I_PS12taskB\n",
    "    Delta_G_PS12taskB\n",
    "    Delta_NX_PS12taskB\n",
    "    Delta_epsilon_PS12taskB\n",
    "    Delta_r_PS12taskB =\n",
    "    \n",
    "to the changes in their values in the alternative scenario relative to the baseline"
   ]
  },
  {
   "cell_type": "code",
   "execution_count": null,
   "metadata": {},
   "outputs": [],
   "source": [
    "# CODE CELL FOR TASK B CONTINUED\n",
    "\n",
    "# ...\n",
    "# ...\n",
    "# ...\n",
    "# ...\n",
    "# ...\n",
    "\n",
    "# Delta_C_PS12taskB =\n",
    "# Delta_I_PS12taskB = \n",
    "# Delta_G_PS12taskB = \n",
    "# Delta_NX_PS12taskB = \n",
    "# Delta_epsilon_PS12taskB =\n",
    "# Delta_r_PS12taskB ="
   ]
  },
  {
   "cell_type": "code",
   "execution_count": null,
   "metadata": {},
   "outputs": [],
   "source": [
    "# TASK B ANSWER CHECK\n",
    "\n",
    "import numpy as np\n",
    "ok.grade('q01')"
   ]
  },
  {
   "cell_type": "markdown",
   "metadata": {},
   "source": [
    "### (Task B) Sticky-Price: Moving Along the IS Curve: A Contraction via Tighter Monetary Policy and Higher Interest Rates Abroad (Conclusion)\n",
    "\n",
    "If everything worked out as it should, you would have identified the portions of the sticky-price IS Curve equation:\n",
    "\n",
    "&nbsp;&nbsp;&nbsp;&nbsp;&nbsp;&nbsp;&nbsp;&nbsp;&nbsp;\n",
    "$ Y = E = {\\mu}(c_o + I_o + G) + {\\mu}(x_{f}Y^f + x_{\\epsilon}{\\epsilon_o} + x_{\\epsilon}{\\epsilon_r}r^f) - {\\mu}(I_r + x_{\\epsilon}{\\epsilon_r})r $\n",
    "\n",
    "that are relevant to an increase $ {\\Delta}r $ in the domestic real interest rate. Those components are:\n",
    "\n",
    "&nbsp;&nbsp;&nbsp;&nbsp;&nbsp;&nbsp;&nbsp;&nbsp;&nbsp;\n",
    "$ {\\Delta}Y = {\\Delta}E = - {\\mu}(I_r + x_{\\epsilon}{\\epsilon_r})r $\n",
    "\n",
    "And from them—and the parameter values—you could calculate by hand the changes in other economic variables.\n",
    "\n",
    "Or you could have simply solved the model for the initial-scenario equilibrium, solved it for the alternative with the same parameter values except for $ r : {\\Delta}r = +0.04 $, and compared the results...\n",
    "\n",
    "What you should have found would be that contractionary monetary policy at home is, indeed, contrationary at home. As the domestic interest rates go up, investment falls. In addition, foreign currency becomes less valuable. As foreign currency becomes less valuable, domestic currency and thus domestically produced goods denominated in domestic currency become less attractive to foreign buyers. Thus gross exports fall as well.\n",
    "\n",
    "In addition, you would have found the standard Keynesian multiplier result: When national income and product Y is demand determined, as in the sticky price model, there is a multiplied effect of any change in autonomous spending on Y. The multiplier comes from the positive feedback channel by which lower national income Y induces lower consumption spending C. The multiplier effect is partially damped because some of the negative impact on consumption spending \"leaks\" abroad in the form of lower imports.\n",
    "\n",
    "----\n",
    "\n",
    "&nbsp;"
   ]
  },
  {
   "cell_type": "markdown",
   "metadata": {},
   "source": [
    "### (Task C) The Phillips Curve and Adaptive Expectations (Initial)\n",
    "\n",
    "Now let us switch gears. The IS Curve framework determines the level of real national income and product Y as a function of the economic environment and of economic policy—fiscal policy as measured by the tax rate t and the level of government purchases G, and monetary policy as measured by the (imperfectly controlled) long-term real risky interest rate r.\n",
    "\n",
    "Now let us move on to Okun's Law: Whether output Y is above or below potential output Y<sup>*</sup> determines whether unemployment u is above or below the NAIRU or \"natural\" rate of unemployment u<sup>*</sup> with an Okun's Law coefficient of about 2: a one percentage point deviation of unemployment from its NAIRU accompanies a 2 percent deviation of output from potential in the opposite direction:\n",
    "\n",
    "&nbsp;&nbsp;&nbsp;&nbsp;&nbsp;&nbsp;&nbsp;&nbsp;&nbsp;\n",
    "$ \\frac{{Y_t}^* - {Y_t}}{{Y_t}^*} = 2(u_t - {u_t}^*) $\n",
    "\n",
    "Now let us move on to the Phillips Curve: Whether unemployment is above or below its NAIRU then determines (with enormous amounts of noise and disturbances) whether infation will come in below or above the economy's expectations of what inflation will be.\n",
    "\n",
    "Algebraically, Phillips curve tells us that inflation $ \\pi $ in year t is:\n",
    "\n",
    "&nbsp;&nbsp;&nbsp;&nbsp;&nbsp;&nbsp;&nbsp;&nbsp;&nbsp;\n",
    "$ {\\pi}_t = {{\\pi}_t}^e - {\\beta}(u_t - {u_t}^*) + SS_t $\n",
    "\n",
    "where $ {\\pi}_t $ is the inflation rate, $ {{\\pi}_t}^e $ is expected inflation, $ {\\beta} $ is the \"slope\" of the Phillips Curve, $ u_t $ is the unemployment rate, $ {u_t}^* $ is the NAIRU, or the \"natural\" rate of unemployment, and $ SS_t $ is a upply shock term.\n",
    "\n",
    "Expected inflation can take on many different forms, where we write $ E_{t-1}(X_t) $ to stand for the average _expectation_ in the economy of what an economic price or quantity X will be at time t:\n",
    "\n",
    "* Static: $ {{\\pi}_t}^e = {\\pi}^* $\n",
    "* Adaptive: $ {{\\pi}_t}^e = {\\pi}_{t-1} $\n",
    "* Rational: $ {{\\pi}_t}^e = E_{t-1}\\left({\\pi}_t\\right) $\n",
    "* Hybrid—a mixture of static and adaptive: $ {{\\pi}_t}^e = {\\lambda}{\\pi}_{t-1} + (1-\\lambda){\\pi}^* $\n",
    "* Hybrid—a mixture of adaptive and rational: $ {{\\pi}_t}^e = {\\lambda}E_{t-1}\\left({\\pi}_t\\right) + (1-\\lambda){\\pi}_{t-1} $\n",
    "\n",
    "Suppose inflation in year 0 is 12% per year—0.10. Suppose the parameters of the Phillips Curve are:\n",
    "\n",
    "&nbsp;&nbsp;&nbsp;&nbsp;&nbsp;&nbsp;&nbsp;&nbsp;&nbsp;\n",
    "$ u^* = 0.06 $   \n",
    "&nbsp;&nbsp;&nbsp;&nbsp;&nbsp;&nbsp;&nbsp;&nbsp;&nbsp;\n",
    "$ \\beta = \\frac{1}{3} $   \n",
    "\n",
    "And suppose that there are no supply shocks.\n",
    "\n",
    "Suppose further that inflation expectations are adaptive, with:\n",
    "\n",
    "&nbsp;&nbsp;&nbsp;&nbsp;&nbsp;&nbsp;&nbsp;&nbsp;&nbsp;\n",
    "$ {\\pi}^* = 0.02 $\n",
    "\n",
    "And suppose that the Federal Reserve, via contractionary monetary policy, raises the unemployment rate to 9%—0.09—in year 1 and keeps it there in years 2 through 10.\n",
    "\n",
    "In the code cell below, calculate the values of inflation in years 1 through 10 and set the variables:\n",
    "\n",
    "    pi_year1_PS12taskC\n",
    "    pi_year2_PS12taskC\n",
    "    pi_year3_PS12taskC\n",
    "    pi_year4_PS12taskC\n",
    "    pi_year5_PS12taskC\n",
    "    pi_year6_PS12taskC\n",
    "    pi_year7_PS12taskC\n",
    "    pi_year8_PS12taskC\n",
    "    pi_year9_PS12taskC\n",
    "    pi_year10_PS12taskC\n",
    "    \n",
    "to the appropriate calculated values:"
   ]
  },
  {
   "cell_type": "code",
   "execution_count": null,
   "metadata": {},
   "outputs": [],
   "source": [
    "# CODE CELL FOR TASK C INITIAL\n",
    "\n",
    "# pi_zero = 0.12 \n",
    "\n",
    "# ...\n",
    "# ...\n",
    "# ...\n",
    "# ...\n",
    "\n",
    "# pi_year1_PS12taskC =\n",
    "# pi_year2_PS12taskC =\n",
    "# pi_year3_PS12taskC =\n",
    "# pi_year4_PS12taskC =\n",
    "# pi_year5_PS12taskC =\n",
    "# pi_year6_PS12taskC =\n",
    "# pi_year7_PS12taskC = \n",
    "# pi_year8_PS12taskC =\n",
    "# pi_year9_PS12taskC =\n",
    "# pi_year10_PS12taskC = "
   ]
  },
  {
   "cell_type": "code",
   "execution_count": null,
   "metadata": {},
   "outputs": [],
   "source": [
    "# TASK C ANSWER CHECK\n",
    "\n",
    "import numpy as np\n",
    "ok.grade('q02')"
   ]
  },
  {
   "cell_type": "markdown",
   "metadata": {},
   "source": [
    "### (Task C)  The Phillips Curve and Adaptive Expectations (Conclusion)\n",
    "\n",
    "If everything went well, you should have found that inflation is always 3%. And over the decade the economy gains enormous dividends in terms of extra production and extra jobs. And then—as long as expectations remain static—the central bank could return the unemployment rate to 6% in year 11, and inflation would drop down to 2%, with no permanent harm done.\n",
    "\n",
    "Of course, that is not the way we think that it works. That is not how the experience of the 1970s leads us to think that it would work.\n",
    "\n",
    "----\n",
    "\n",
    "&nbsp;"
   ]
  },
  {
   "cell_type": "markdown",
   "metadata": {},
   "source": [
    "### (Task D) The Phillips Curve and Hybrid Expectations (Initial)\n",
    "\n",
    "Take the Phillips Curve in year t:\n",
    "\n",
    "&nbsp;&nbsp;&nbsp;&nbsp;&nbsp;&nbsp;&nbsp;&nbsp;&nbsp;\n",
    "$ {\\pi}_t = {{\\pi}_t}^e - {\\beta}(u_t - {u_t}^*) + SS_t $\n",
    "\n",
    "where $ {\\pi}_t $ is the inflation rate, $ {{\\pi}_t}^e $ is expected inflation, $ {\\beta} $ is the \"slope\" of the Phillips Curve, $ u_t $ is the unemployment rate, $ {u_t}^* $ is the NAIRU, or the \"natural\" rate of unemployment, and $ SS_t $ is a supply shock term.\n",
    "\n",
    "And assume expected inflation is somewhat rational and somewhat adaptive. That is, for some parameter $ \\lambda $:\n",
    "\n",
    "&nbsp;&nbsp;&nbsp;&nbsp;&nbsp;&nbsp;&nbsp;&nbsp;&nbsp;\n",
    "$ {{\\pi}_t}^e = \\lambda\\pi_t + (1 - \\lambda){\\pi}_{t-1} $\n",
    "\n",
    "Suppose inflation in year 0 is -2% per year: -0.02. Suppose the parameters of the Phillips Curve are:\n",
    "\n",
    "&nbsp;&nbsp;&nbsp;&nbsp;&nbsp;&nbsp;&nbsp;&nbsp;&nbsp;\n",
    "$ u^* = 0.06 $   \n",
    "&nbsp;&nbsp;&nbsp;&nbsp;&nbsp;&nbsp;&nbsp;&nbsp;&nbsp;\n",
    "$ \\beta = \\frac{1}{2} $   \n",
    "\n",
    "And suppose that there are no supply shocks.\n",
    "\n",
    "Suppose that in year zero—when expectations for $ {\\pi_1}^e $, expectations for what inflation will be in year one, are set—the Federal Reserve announces that it will, via expansionary monetary policy, drops the unemployment rate to 4%—0.04—in year 1 and keeps it there in years 2 through 10.\n",
    "\n",
    "Suppose further that $ \\lambda = 0.75 $.\n",
    "\n",
    "In the code cell below, calculate the values of inflation in years 1 through 10 and set the variables:\n",
    "\n",
    "    pi_year1_PS12taskD\n",
    "    pi_year2_PS12taskD\n",
    "    pi_year3_PS12taskD\n",
    "    pi_year4_PS12taskD\n",
    "    pi_year5_PS12taskD\n",
    "    pi_year6_PS12taskD\n",
    "    pi_year7_PS12taskD\n",
    "    pi_year8_PS12taskD\n",
    "    pi_year9_PS12taskD\n",
    "    pi_year10_PS12taskD\n",
    "    \n",
    "to the appropriate calculated values:"
   ]
  },
  {
   "cell_type": "code",
   "execution_count": null,
   "metadata": {},
   "outputs": [],
   "source": [
    "# CODE CELL FOR TASK D INITIAL\n",
    "\n",
    "# pi_0 = -0.02\n",
    "#  \n",
    "\n",
    "# ...\n",
    "# ...\n",
    "# ...\n",
    "# ...\n",
    "\n",
    "# pi_year1_PS12taskD =\n",
    "# pi_year2_PS12taskD =\n",
    "# pi_year3_PS12taskD =\n",
    "# pi_year4_PS12taskD =\n",
    "# pi_year5_PS12taskD =\n",
    "# pi_year6_PS12taskD =\n",
    "# pi_year7_PS12taskD =\n",
    "# pi_year8_PS12taskD =\n",
    "# pi_year9_PS12taskD =\n",
    "# pi_year10_PS12taskD = "
   ]
  },
  {
   "cell_type": "code",
   "execution_count": null,
   "metadata": {},
   "outputs": [],
   "source": [
    "# TASK D ANSWER CHECK\n",
    "\n",
    "import numpy as np\n",
    "ok.grade('q03')"
   ]
  },
  {
   "cell_type": "markdown",
   "metadata": {},
   "source": [
    "### (Task D): The Phillips Curve and Hybrid Expectations (Final)\n",
    "\n",
    "If everything worked out well, you would have found that each year inflation jumps not by:\n",
    "\n",
    "&nbsp;&nbsp;&nbsp;&nbsp;&nbsp;&nbsp;&nbsp;&nbsp;&nbsp;\n",
    "$ - \\beta (u - u^*) = -\\left(\\frac{1}{2}\\right)(0.04 - 0.06) = 0.01 $ \n",
    "\n",
    "but rather by:\n",
    "\n",
    "&nbsp;&nbsp;&nbsp;&nbsp;&nbsp;&nbsp;&nbsp;&nbsp;&nbsp;\n",
    "$ - \\frac{\\beta (u - u^*)}{1 - \\lambda} = \\frac{-\\left(\\frac{1}{2}\\right)(0.04 - 0.06) = 0.01}{1-0.75} = +0.04 $\n",
    "\n",
    "Why? Because three-quarters of inflation expectations are formed not in a backward but a forward looking manner: people take account of the fact that inflation is rising in forming their expectations, and then take account of the fact that people are taking account of the fact that inflation is rising, and then take account of the fact that people are taking account of the fact that people are taking account of the fact that inflation is rising, and so forth...\n",
    "\n",
    "It was the worry about this dynamic that led Paul Volcker back in the day, back at the end of the 1970s and beginning of the 1980s, to make controlling inflation job #1 at whatever cost in terms of a deep recession it generated. Dealing with inflation and unemployment when inflation was adaptive—when every upward kick in inflation from a supply shock get permanently incorporated into next year's inflation rate—was annoying. But should inflation expectations become substantially \"rational\" than the situation would become even less controllable.\n",
    "\n",
    "----\n",
    "\n",
    "&nbsp;"
   ]
  },
  {
   "cell_type": "markdown",
   "metadata": {},
   "source": [
    "### Monetary Policy Reactions Setup\n",
    "\n",
    "Now let's switch gears again. Recall our Phillips Curve:\n",
    "\n",
    "&nbsp;&nbsp;&nbsp;&nbsp;&nbsp;&nbsp;&nbsp;&nbsp;&nbsp;\n",
    "$ {\\pi}_t = {{\\pi}_t}^e - {\\beta}(u_t - {u_t}^*) + SS_t $\n",
    "\n",
    "where $ {\\pi}_t $ is the inflation rate, $ {{\\pi}_t}^e $ is expected inflation, $ {\\beta} $ is the \"slope\" of the Phillips Curve, $ u_t $ is the unemployment rate, $ {u_t}^* $ is the NAIRU, or the \"natural\" rate of unemployment, and $ SS_t $ is a upply shock term.\n",
    "\n",
    "Expected inflation can take on many different forms, where we write $ E_{t-1}(X_t) $ to stand for the average _expectation_ in the economy of what an economic price or quantity X will be at time t:\n",
    "\n",
    "* Static: $ {{\\pi}_t}^e = {\\pi}^* $\n",
    "* Adaptive: $ {{\\pi}_t}^e = {\\pi}_{t-1} $\n",
    "* Rational: $ {{\\pi}_t}^e = E_{t-1}\\left({\\pi}_t\\right) $\n",
    "* Hybrid—a mixture of static and adaptive: $ {{\\pi}_t}^e = {\\lambda}{\\pi}_{t-1} + (1-\\lambda){\\pi}^* $\n",
    "* Hybrid—a mixture of adaptive and rational: $ {{\\pi}_t}^e = {\\lambda}E_{t-1}\\left({\\pi}_t\\right) + (1-\\lambda){\\pi}_{t-1} $\n",
    "\n",
    "Now we add to our Phillips Curve a Monetary Policy Reaction Function. First, the central bank will (attempt to) set the real risky long-term interest rate r to \"lean against the wind\" given its target for inflation and its estimate of what the NAIRU is:\n",
    "\n",
    "&nbsp;&nbsp;&nbsp;&nbsp;&nbsp;&nbsp;&nbsp;&nbsp;&nbsp;\n",
    "$ r_t = r^{**} + r_\\pi(\\pi_t - \\pi^T) - r_u(u_t - u^{**}) $\n",
    "\n",
    "where:\n",
    "\n",
    "* $ r_t $ is the real risky long-term interest rate\n",
    "* $ r^{**} $ is the central bank's belief about what the \"neutral\" interest rate $ r^* $ is, at which unemployment will be equal to the natural rate and production equal to potential output\n",
    "* $ r_\\pi $ is how much the central bank reacts via raising interest rates to a deviation of inflation from the central bank's target\n",
    "* $ \\pi^T $ is the central bank's inflation target\n",
    "* $ r_u $ is how much the central bank reacts by raising interest rates to a downward deviation of unemployment from its belief about the natural rate\n",
    "* $ u^{**} $ is the central bank's belief about the natural rate\n",
    "\n",
    "Note that the central bank's belief about the natural rate $ u^{**} $ may be different from the true NAIRU or natural rate $ u^* $\n",
    "\n",
    "Note that a level of $ r $ above or below the true \"neutral\" interest rate $ r^* $ leads to a depression or boom via the IS Curve mechanism:\n",
    "\n",
    "&nbsp;&nbsp;&nbsp;&nbsp;&nbsp;&nbsp;&nbsp;&nbsp;&nbsp;\n",
    "$ Y - Y^{*} = -\\mu\\left(I_r + x_{\\epsilon}{\\epsilon}_r\\right)(r - r^*) $\n",
    "\n",
    "And from Okun's Law:\n",
    "\n",
    "&nbsp;&nbsp;&nbsp;&nbsp;&nbsp;&nbsp;&nbsp;&nbsp;&nbsp;\n",
    "$ \\frac{Y - Y^{*}}{Y*} = - 2(u - u^*) $\n",
    "\n",
    "&nbsp;&nbsp;&nbsp;&nbsp;&nbsp;&nbsp;&nbsp;&nbsp;&nbsp;\n",
    "$ u - u{*} = \\left(\\frac{\\mu\\left(I_r + x_{\\epsilon}{\\epsilon}_r\\right)}{2}\\right) (r - r^*) $\n",
    "\n",
    "Let's call this responsiveness of unemployment $ u $ to the long-term risky real interest rate $ r $ by the Greek letter $ \\phi $ (phi):\n",
    "\n",
    "&nbsp;&nbsp;&nbsp;&nbsp;&nbsp;&nbsp;&nbsp;&nbsp;&nbsp;\n",
    "$ \\phi = \\frac{\\mu\\left(I_r + x_{\\epsilon}{\\epsilon}_r\\right)}{2} $\n",
    "\n",
    "&nbsp;&nbsp;&nbsp;&nbsp;&nbsp;&nbsp;&nbsp;&nbsp;&nbsp;\n",
    "$ u - u^{*} = {\\phi}(r - r^*) $\n",
    "\n",
    "Combine the responsiveness of unemployment to the interest rate with the central bank's monetary policy rule to get the reaction function:\n",
    "\n",
    "&nbsp;&nbsp;&nbsp;&nbsp;&nbsp;&nbsp;&nbsp;&nbsp;&nbsp;\n",
    "$ u - u^{*} = {\\phi}(r^{**} + r_\\pi(\\pi - \\pi^T) - r_u(u - u^{**}) - r^*) $\n",
    "\n",
    "&nbsp;&nbsp;&nbsp;&nbsp;&nbsp;&nbsp;&nbsp;&nbsp;&nbsp;\n",
    "$ u - u^{*} = {\\phi}r_\\pi(\\pi - \\pi^T) - {\\phi}r_u(u - u^{**}) + {\\phi}(r^{**}-r^*) $\n",
    "\n",
    "Since it takes time for shifts in the interest rate to affect the economy, add on time subscripts to reflect the fact that the unemployment outcome this year is on the right hand side while the variables on the left hand side are their values last year when the central bank was making its decisions:\n",
    "\n",
    "&nbsp;&nbsp;&nbsp;&nbsp;&nbsp;&nbsp;&nbsp;&nbsp;&nbsp;\n",
    "$ u_t - u^{*} = {\\phi}r_\\pi(\\pi_{t-1} - \\pi^T) - {\\phi}r_u(u_{t-1} - u^{**}) + {\\phi}(r^{**}-r^*) $\n",
    "\n",
    "Add on our Phillips Curvean equation for how expectations of inflation $ {{\\pi}_t}^e $ are determined, and we have a system whose behavior can be investigated.\n",
    "\n",
    "----\n",
    "\n",
    "&nbsp;"
   ]
  },
  {
   "cell_type": "markdown",
   "metadata": {},
   "source": [
    "### (Task E): Monetary Policy Reactions Under Static Expectations Initialization\n",
    "\n",
    "Our system is:\n",
    "\n",
    "&nbsp;&nbsp;&nbsp;&nbsp;&nbsp;&nbsp;&nbsp;&nbsp;&nbsp;\n",
    "$ u_t - u^{*} = {\\phi}r_\\pi(\\pi_{t-1} - \\pi^T) - {\\phi}r_u(u_{t-1} - u^{**}) + {\\phi}(r^{**}-r^*) $ (Monetary Policy Reaction Function)\n",
    "\n",
    "&nbsp;&nbsp;&nbsp;&nbsp;&nbsp;&nbsp;&nbsp;&nbsp;&nbsp;\n",
    "$ {\\pi}_t = {{\\pi}_t}^e - {\\beta}(u_t - u^{*}) $ (Phillips Curve)\n",
    "\n",
    "&nbsp;&nbsp;&nbsp;&nbsp;&nbsp;&nbsp;&nbsp;&nbsp;&nbsp;\n",
    "$ {{\\pi}_t}^e = {\\pi}^* $ (Static Inflation Expectations)\n",
    "\n",
    "Let's start out with some parameter values and initial conditions:\n",
    "\n",
    "The \"Task E Initialization\" code cell immediately below sets out a simple model that tracks this system, starting from initial conditions in year zero, through year 10. The \"Task E Initialization\" code cell has initial conditions:\n",
    "\n",
    "* $ u_0 = 0.06 $ :: (u_0)\n",
    "* $ {\\pi^e}_0 = 0.02 $ :: (pie_0)\n",
    "* $ \\pi_0 = 0.02 $ :: (pi_0)\n",
    "\n",
    "Run the initialization cell. In the code cell \"Task E Initialization Check\" further below, stuff the three time-series variables of the unemployment rate $ u $ (u), the expected inflation rate $ \\pi^e $ (pie), and the inflation rate $ \\pi $ into a dataframe. Plot the dataframe to make sure that the unemployment rate variable is constant at a value of 0.06 and that both expected and realized inflation are constant at a value of 0.02."
   ]
  },
  {
   "cell_type": "code",
   "execution_count": null,
   "metadata": {},
   "outputs": [],
   "source": [
    "# TASK E INITIALIZATION\n",
    "\n",
    "u_star = 0.06\n",
    "phi = 1\n",
    "pi_T = 0.02\n",
    "r_star = 0.05\n",
    "beta = 1/2\n",
    "pi_star = 0.02\n",
    "r_pi = 0.5\n",
    "r_u = 0.25\n",
    "\n",
    "u_star2 = 0.06\n",
    "r_star2 = 0.05\n",
    "\n",
    "\n",
    "# Initial conditions\n",
    "\n",
    "u_0 = 0.06\n",
    "pie_0 = 0.02\n",
    "pi_0 = 0.02\n",
    "\n",
    "\n",
    "# Run the model\n",
    "\n",
    "u = [u_0]\n",
    "pie = [pie_0]\n",
    "pi = [pi_0]\n",
    "\n",
    "for t in range(1,11):\n",
    "    u = u + [(u_star + phi*r_pi*(pi[t-1]- pi_T) - phi*r_u*((u[t-1] - u_star2))\n",
    "              + phi*(r_star2-r_star))]\n",
    "    pie = pie + [pi_star]\n",
    "    pi = pi + [pie[t] - beta*(u[t]-u_star)]\n",
    "             "
   ]
  },
  {
   "cell_type": "code",
   "execution_count": null,
   "metadata": {},
   "outputs": [],
   "source": [
    "# TASK E INITIALIZATION CHECK CODE CELL"
   ]
  },
  {
   "cell_type": "markdown",
   "metadata": {},
   "source": [
    "### (Task E): Monetary Policy Reactions Under Static Expectations (Initial)\n",
    "\n",
    "In the code cell below, run the static expectations model for the initial conditions:\n",
    "\n",
    "* $ u_0 = 0.06 $ (u_0)\n",
    "* $ {pi^e}_0 = 0.02 $ (pie_0)\n",
    "* $ pi_0 = 0.06 (pi_0)\n",
    "\n",
    "I.e., an initial inflation rate in year zero of not 2% per year but rather 6% per year. Stuff the generated inflation rate for the years from zero through year 10 into the series variable static_df.pi"
   ]
  },
  {
   "cell_type": "code",
   "execution_count": null,
   "metadata": {},
   "outputs": [],
   "source": [
    "# TASK E CODE\n",
    "\n",
    "# Initial conditions\n",
    "\n",
    "# u_0 = \n",
    "# pie_0 = \n",
    "# pi_0 = \n",
    "\n",
    "# Run the model\n",
    "\n",
    "u = [u_0]\n",
    "pie = [pie_0]\n",
    "pi = [pi_0]\n",
    "\n",
    "for t in range(1,11):\n",
    "    u = u + [(u_star + phi*r_pi*(pi[t-1]- pi_T) - phi*r_u*((u[t-1] - u_star2))\n",
    "              + phi*(r_star2-r_star))]\n",
    "    pie = pie + [pi_star]\n",
    "    pi = pi + [pie[t] - beta*(u[t]-u_star)]\n",
    "             \n",
    "static_df = pd.DataFrame({'u' : u,\n",
    "                          'pi_e' : pie,\n",
    "                          'pi' : pi},\n",
    "                         columns = ['u', 'pi_e', 'pi'])\n",
    "\n",
    "static_df.plot(ylim=(0., 0.1))\n",
    "print(static_df)"
   ]
  },
  {
   "cell_type": "code",
   "execution_count": null,
   "metadata": {},
   "outputs": [],
   "source": [
    "# TASK E ANSWER CHECK\n",
    "\n",
    "import numpy as np\n",
    "\n",
    "ok.grade('q04')"
   ]
  },
  {
   "cell_type": "markdown",
   "metadata": {},
   "source": [
    "### (Task E): Monetary Policy Reactions Under Static Expectations (Final)\n",
    "\n",
    "We had the static expectations model with the initial conditions:\n",
    "\n",
    "* $ u_0 = 0.06 $ :: (u_0)\n",
    "* $ {\\pi^e}_0 = 0.02 $ :: (pie_0)\n",
    "* $ \\pi_0 = 0.06 $ :: (pi_0)\n",
    "\n",
    "I.e., an initial inflation rate in year zero of not 2% but 6% per year and an initial unemployment rate of 6% per year.\n",
    "\n",
    "If everything went well, you saw the central bank react to actual inflation at 6% per yar far above its target of 2% by raising interest rates to create excess aggregate supply and push down inflation. Thus year 1 saw inflation below the natural rate and unemployment above its target. The central bank then reacted to that by pushing real interest rates below the neutral rate. Thus year 2 saw inflation above the natural rate and unemployment below the target. These oscillating two year cycles then continued, dampling themselves out quickly.\n",
    "\n",
    "----\n",
    "\n",
    "&nbsp;"
   ]
  },
  {
   "cell_type": "markdown",
   "metadata": {},
   "source": [
    "### (Task F): Monetary Policy Reactions Under Adaptive Expectations (Initial)\n",
    "\n",
    "Now let's change gears to adaptive inflation expectations. Our system now is:\n",
    "\n",
    "&nbsp;&nbsp;&nbsp;&nbsp;&nbsp;&nbsp;&nbsp;&nbsp;&nbsp;\n",
    "$ u_t - u^{*} = {\\phi}r_\\pi(\\pi_{t-1} - \\pi^T) - {\\phi}r_u(u_{t-1} - u^{**}) + {\\phi}(r^{**}-r^*) $ (Monetary Policy Reaction Function)\n",
    "\n",
    "&nbsp;&nbsp;&nbsp;&nbsp;&nbsp;&nbsp;&nbsp;&nbsp;&nbsp;\n",
    "$ {\\pi}_t = {{\\pi}_t}^e - {\\beta}(u_t - u^{*}) $ (Phillips Curve)\n",
    "\n",
    "&nbsp;&nbsp;&nbsp;&nbsp;&nbsp;&nbsp;&nbsp;&nbsp;&nbsp;\n",
    "$ {{\\pi}_t}^e = {\\pi}_{t-1} $ (Adaptive Inflation Expectations)\n",
    "\n",
    "The code cell below models this system.\n",
    "\n",
    "In the code cell below, note that the model equation inside the loop for inflation expectations is now:\n",
    "\n",
    "    pie = pie + [pi[t-1]]\n",
    "    \n",
    "That is, each time through the loop the computer adds an additional element to the \"pie\" list that is the time series of inflation expedtations—the \"+\" sign here stands for not addition but, rather, concatenation. The t'th element it adds to the expectations list is simply what the t-1'st value of actual inflation was. Under static expectations, this equation for inflation expectations was the static:\n",
    "\n",
    "    pie = pie + [pi_star]\n",
    "    \n",
    "Each time through the loop the computer added an additional element to the \"pie\" list that is the time series of inflation expedtations. But the value it added was simply the static $ \\pi^* $.\n",
    "\n",
    "In the code cell below, set the initial conditions for unemployment, inflation, and expected inflation in year 0 to 0.06. Run the model. Then stuff the generated inflation rate for the years from zero through year 10 into the series variable adaptive_df.pi"
   ]
  },
  {
   "cell_type": "code",
   "execution_count": null,
   "metadata": {},
   "outputs": [],
   "source": [
    "# TASK F CODE\n",
    "\n",
    "# Initial conditions\n",
    "\n",
    "u_0 = \n",
    "pie_0 = \n",
    "pi_0 = \n",
    "\n",
    "\n",
    "# Parameters\n",
    "\n",
    "u_star = 0.06\n",
    "phi = 1\n",
    "pi_T = 0.02\n",
    "r_star = 0.05\n",
    "beta = 1/2\n",
    "pi_star = 0.02\n",
    "r_pi = 0.5\n",
    "r_u = 0.25\n",
    "\n",
    "u_star2 = 0.06\n",
    "r_star2 = 0.05\n",
    "\n",
    "\n",
    "# Run the model\n",
    "\n",
    "u = [u_0]\n",
    "pie = [pie_0]\n",
    "pi = [pi_0]\n",
    "      \n",
    "for t in range(1,11):\n",
    "    u = u + [(u_star + phi*r_pi*(pi[t-1]- pi_T) - phi*r_u*((u[t-1] - u_star2))\n",
    "              + phi*(r_star2-r_star))]\n",
    "    pie = pie + [pi[t-1]]\n",
    "    pi = pi + [pie[t] - beta*(u[t]-u_star)]"
   ]
  },
  {
   "cell_type": "code",
   "execution_count": null,
   "metadata": {
    "scrolled": true
   },
   "outputs": [],
   "source": [
    "# TASK F ANSWER CHECK\n",
    "\n",
    "import numpy as np\n",
    "ok.grade('q05')"
   ]
  },
  {
   "cell_type": "markdown",
   "metadata": {},
   "source": [
    "### (Task F): Monetary Policy Reactions Under Adaptive Expectations (Final)\n",
    "\n",
    "We had the adaptive expectations model with the initial conditions:\n",
    "\n",
    "* $ u_0 = 0.06 $ :: (u_0)\n",
    "* $ {\\pi^e}_0 = 0.06 $ :: (pie_0)\n",
    "* $ \\pi_0 = 0.06 $ :: (pi_0)\n",
    "\n",
    "I.e., an initial inflation rate in year zero of 6% per year and an initial unemployment rate of 2% per year.\n",
    "\n",
    "If everything went well, you saw the central bank react to actual inflation at 6% per yar far above its target of 2% by raising interest rates to create excess aggregate supply and push down inflation. Because inflation expectations were adaptive, expected inflation fell only gradually, lagging behind the fall in actual inflation. Thus there was a long time period during which interest rates are elevated, unemployment is above its natural rate, and inflation is above its target—albeit falling.\n",
    "\n",
    "The fear of getting into such a situation, of higher inflation than the desired target and high unemployment, was one of the principal reasons that central banks have been hesitant to try to drive economies rapidly to full employment over the past decade.\n",
    "\n",
    "----\n",
    "\n",
    "&nbsp;"
   ]
  },
  {
   "cell_type": "markdown",
   "metadata": {},
   "source": [
    "### (Task G): Monetary Policy Reactions Under Hybrid Expectations (Initial)\n",
    "\n",
    "Now let's change gears to hybrid mix of adaptive and perfect-foresight rational inflation expectations. Our system now is:\n",
    "\n",
    "&nbsp;&nbsp;&nbsp;&nbsp;&nbsp;&nbsp;&nbsp;&nbsp;&nbsp;\n",
    "$ u_t - u^{*} = {\\phi}r_\\pi(\\pi_{t-1} - \\pi^T) - {\\phi}r_u(u_{t-1} - u^{**}) + {\\phi}(r^{**}-r^*) $ (Monetary Policy Reaction Function)\n",
    "\n",
    "&nbsp;&nbsp;&nbsp;&nbsp;&nbsp;&nbsp;&nbsp;&nbsp;&nbsp;\n",
    "$ {\\pi}_t = {{\\pi}_t}^e - {\\beta}(u_t - u^{*}) $ (Phillips Curve)\n",
    "\n",
    "&nbsp;&nbsp;&nbsp;&nbsp;&nbsp;&nbsp;&nbsp;&nbsp;&nbsp;\n",
    "$ {{\\pi}_t}^e = \\lambda{\\pi}_t + (1-\\lambda){\\pi}_{t-1} $ (Hybrid Inflation Expectations)\n",
    "\n",
    "The code cell below models this system.\n",
    "\n",
    "In the code cell below, note that the model equation inside the loop for inflation expectations is now:\n",
    "\n",
    "    pie = pie + [pi[t-1]]/(1-lambda_)\n",
    "    \n",
    "That is, each time through the loop the computer adds an additional element to the \"pie\" list that is the time series of inflation expedtations—the \"+\" sign here stands for not addition but, rather, concatenation. Under adaptive expectations, this equation for inflation expectations was the adaptive:\n",
    "\n",
    "    pie = pie + [pi[t-1]]\n",
    "    \n",
    "Each time through the loop the computer added an additional element to the \"pie\" list that is the time series of inflation expedtations. But the value it added was simply the adaptive $ \\pi_{t-1} $.\n",
    "\n",
    "In the code cell below, set the initial conditions for unemployment, inflation, and expected inflation in year 0 to 0.06. Run the model. Then stuff the generated inflation rate for the years from zero through year 10 into the series variable hybrid_df.pi"
   ]
  },
  {
   "cell_type": "code",
   "execution_count": null,
   "metadata": {},
   "outputs": [],
   "source": [
    "# TASK G CODE\n",
    "\n",
    "# Initial conditions\n",
    "\n",
    "u_0 =\n",
    "pie_0 = \n",
    "pi_0 =\n",
    "\n",
    "\n",
    "# Parameters\n",
    "\n",
    "u_star = 0.06\n",
    "phi = 1\n",
    "pi_T = 0.02\n",
    "r_star = 0.05\n",
    "beta = 1/2\n",
    "pi_star = 0.02\n",
    "r_pi = 0.5\n",
    "r_u = 0.25\n",
    "lambda_ = 0.75\n",
    "\n",
    "u_star2 = 0.06\n",
    "r_star2 = 0.05\n",
    "\n",
    "u = [u_0]\n",
    "pie = [pie_0]\n",
    "pi = [pi_0]\n",
    "\n",
    "for t in range(1,11):\n",
    "    u = u + [(u_star + phi*r_pi*(pi[t-1]- pi_T) - phi*r_u*((u[t-1] - u_star2))\n",
    "              + phi*(r_star2-r_star))]\n",
    "    pi = pi + [pi[t-1] - beta*(u[t]-u_star)/(1-lambda_)]\n",
    "    pie = pie + [lambda_*pi[t] + (1-lambda_)*pi[t-1]]\n",
    "             \n"
   ]
  },
  {
   "cell_type": "code",
   "execution_count": null,
   "metadata": {},
   "outputs": [],
   "source": [
    "# TASK G ANSWER CHECK\n",
    "\n",
    "import numpy as np\n",
    "ok.grade('q06')"
   ]
  },
  {
   "cell_type": "markdown",
   "metadata": {},
   "source": [
    "### (Task G): Monetary Policy Reactions Under Hybrid Expectations (Final)\n",
    "\n",
    "We had the hybrid expectations model with the initial conditions:\n",
    "\n",
    "* $ u_0 = 0.06 $ :: (u_0)\n",
    "* $ {\\pi^e}_0 = 0.06 $ :: (pie_0)\n",
    "* $ \\pi_0 = 0.06 $ :: (pi_0)\n",
    "\n",
    "I.e., an initial inflation rate in year zero of not 6% per year and an initial unemployment rate of 2% per year.\n",
    "\n",
    "If everything went well, you saw the central bank react to actual inflation at 6% per yar far above its target of 2% by raising interest rates to create excess aggregate supply and push down inflation. Because inflation expectations were a hybrid of backward looking adaptive and forward looking, expected inflation fell rapidly, close to matching the fall in actual inflation. Thus the economy very quickly returned to its desired equilibrium, with unemployment near the NAIRU and inflation close to target.\n",
    "\n",
    "----\n",
    "\n",
    "&nbsp;"
   ]
  },
  {
   "cell_type": "code",
   "execution_count": null,
   "metadata": {},
   "outputs": [],
   "source": [
    "_ = ok.submit()"
   ]
  },
  {
   "cell_type": "markdown",
   "metadata": {},
   "source": [
    "### The Baseline Sticky-Price Model\n",
    "\n",
    "Start with the IS-Curve for the sticky-price model:\n",
    "\n",
    "&nbsp;&nbsp;&nbsp;&nbsp;&nbsp;&nbsp;&nbsp;&nbsp;&nbsp;\n",
    "$ Y = E = {\\mu}(c_o + I_o + G) + {\\mu}(x_{f}Y^f + x_{\\epsilon}{\\epsilon_o} + x_{\\epsilon}{\\epsilon_r}r^f) - {\\mu}(I_r + x_{\\epsilon}{\\epsilon_r})r $\n",
    "\n",
    "Remember: causation moves from right to left: the components of spending add up to aggregate demand or total expenditure E, and the inventory adjustment process then drives national income and product Y to aggregate demand.\n",
    "\n",
    "The symbols on the right-hand side of this equation are grouped into:\n",
    "\n",
    "_Expectations and Confidence:_\n",
    "\n",
    "* $ c_o $ :: consumer confidence\n",
    "* $ I_o $ :: business investment animal spirits\n",
    "* $ {\\epsilon_o} $ :: the confidence of foreign exchange speculators in the value of foreign currency\n",
    "\n",
    "&nbsp;\n",
    "\n",
    "_Behavioral Parameters:_\n",
    "\n",
    "* $ x_{f} $ :: the responsiveness of exports to foreign income\n",
    "* $ x_{\\epsilon} $ :: the responsiveness of exports to the exchange rate\n",
    "* $ {\\epsilon_r} $ :: the responsiveness of the exchange rate to the interest rate\n",
    "* $ I_r $ :: the responsiveness of investment to the interest rate\n",
    "* $ {\\mu} = \\frac{1}{1- c_{y}(1-t) + im_y} $ :: the multiplier, itself a function of:\n",
    "    * $ t $ :: the tax rate\n",
    "    * $ c_y $ :: the marginal propensity to consume\n",
    "    * $ im_y $ :: the marginal propensity to import\n",
    "\n",
    "&nbsp;\n",
    "\n",
    "_The Global Economic Environment:_\n",
    "\n",
    "* $ Y^f $ :: foreign national income\n",
    "* $ r^f $ :: the foreign long-term risky real interest rate\n",
    "\n",
    "&nbsp;\n",
    "\n",
    "_Policy Choices:_\n",
    "\n",
    "* $ G $ :: government purchases\n",
    "* $ r = i + \\rho - \\pi $ :: the long-term risky real interest rate, which itself will later on be a function of:\n",
    "    * $ i $ :: the short-term safe nominal interest rate, a policy choice\n",
    "    * $ \\rho $ :: the risk (and term) premium charged for lending long-term to companies that might go bankrupt rather than short-term to the government\n",
    "    * $ \\pi $ :: the expected inflation rate\n",
    "\n",
    "Assume parameter values:\n",
    "\n",
    "* $ c_o = 2 $\n",
    "* $ c_y = 5/8 $\n",
    "* $ I_o = 4.4 $\n",
    "* $ I_r = 10 $\n",
    "* $ t = 0.20 $\n",
    "* $ im_y = 1/6 $\n",
    "* $ x^f = 0.1 $\n",
    "* $ Y^f = 20 $\n",
    "* $ r^f = 0.04 $\n",
    "* $ x_{\\epsilon} = 4/3 $\n",
    "* $ \\epsilon_o = 1 $\n",
    "* $ \\epsilon_r = 5 $\n",
    "\n",
    "And assume that government purchases $ G = 4 $\n",
    "\n",
    "The code cell below sets parameter values and calculates the equilibrium value of the real interest rater r for this flexprice model IS Curve. It then calculates the values of hte other economic variables, in trillions:\n",
    "\n",
    "----\n",
    "\n",
    "&nbsp;"
   ]
  },
  {
   "cell_type": "code",
   "execution_count": null,
   "metadata": {
    "collapsed": true
   },
   "outputs": [],
   "source": [
    "# STICKY-PRICE MODEL INITIAL SCENARIO SETUP\n",
    "\n",
    "# Set initial parameter and variable values\n",
    "c_o = 2\n",
    "c_y = 5/8\n",
    "\n",
    "I_o = 4.4\n",
    "I_r = 10\n",
    "\n",
    "G = 4\n",
    "t = 0.20\n",
    "\n",
    "im_y = 1/6\n",
    "x_f = 0.1\n",
    "Y_f = 20\n",
    "r_f = 0.04\n",
    "\n",
    "x_epsilon = 4/3\n",
    "epsilon_o = 1\n",
    "epsilon_r = 5\n",
    "\n",
    "# Calculate the value of the multiplier\n",
    "mu = 1/(1-c_y*(1-t)+ im_y)\n",
    "\n",
    "# Set the real interest rate\n",
    "r = 0.04\n",
    "\n",
    "# Calculate the equilibrium value of Y from the IS Curve\n",
    "Y = mu * ((c_o + I_o + G) + \n",
    "    (x_f * Y_f + x_epsilon * epsilon_o + x_epsilon * epsilon_r * r_f) -\n",
    "    (I_r + x_epsilon * epsilon_r)* r) \n",
    "\n",
    "# calculcate the values of other economic variables \n",
    "# in this initial scenario\n",
    "C = c_o + c_y * (1-t) * Y\n",
    "I = I_o - I_r * r\n",
    "GX = x_f * Y_f + x_epsilon * epsilon_o + x_epsilon * epsilon_r * (r_f-r)\n",
    "IM = im_y * Y\n",
    "NX = GX - IM\n",
    "epsilon = epsilon_o + epsilon_r * (r_f-r)\n",
    "\n",
    "# print out the values of economic variables in \n",
    "# this initial scenario equilibrium\n",
    "print(\"The real interest rate =\", r)\n",
    "print(\"\")\n",
    "print(\"The components of national income and product Y are:\")\n",
    "print(\"Consumption spending C = \", C)\n",
    "print(\"Investment spending I = \", I)\n",
    "print(\"Government purchases G = \", G)\n",
    "print(\"Net exports NX = \", NX)\n",
    "print(\"\")\n",
    "print(\"Output Y = \", Y)\n",
    "print(\"\")\n",
    "print(\"Gross exports GX = \", GX)\n",
    "print(\"Imports IM = \", IM)\n",
    "print(\"\")\n",
    "print(\"The real exchange rate ε = \", epsilon)\n",
    "print(\"\")\n",
    "print(\"The multiplier μ = \", mu)\n",
    "\n",
    "# AFTER YOU RUN THIS CELL, DO NOT OVERWRITE THE VALUES OF THE\n",
    "# _ini VARIABLES!\n",
    "#\n",
    "# remember the values of the economic variables in this \n",
    "# initial scenario\n",
    "r_ini = r\n",
    "I_ini = I\n",
    "G_ini = G\n",
    "NX_ini = NX\n",
    "epsilon_ini = epsilon\n",
    "Y_ini = Y\n",
    "C_ini = C"
   ]
  },
  {
   "cell_type": "markdown",
   "metadata": {},
   "source": [
    "### (Task B) Sticky-Price: A Boost via Higher Interest Rates Abroad (Initial)\n",
    "\n",
    "In the code cell below the setup cell, calculate the change in national product produced by a 2 percentage point increase in the foreign savings rate $ {\\Delta}r^f = +0.02 $, holding constant the domestic real interest rate r, and set the value of the variable:\n",
    "\n",
    "    Delta_Y_PS11taskB\n",
    "    \n",
    "to that calculated change:"
   ]
  },
  {
   "cell_type": "code",
   "execution_count": null,
   "metadata": {
    "collapsed": true
   },
   "outputs": [],
   "source": [
    "# CODE CELL FOR TASK B INITIAL\n",
    "\n",
    "# Delta_r_f = +0.02\n",
    "\n",
    "# ...\n",
    "# ...\n",
    "# ...\n",
    "# ...\n",
    "\n",
    "# Delta_Y_PS11taskB = "
   ]
  },
  {
   "cell_type": "markdown",
   "metadata": {},
   "source": [
    "### (Task B) Sticky-Price: A Boost via Tighter Monetary Policy and Higher Interest Rates Abroad (Continued)\n",
    "\n",
    "In the code cell below, write code or otherwise calculate and set the variables:\n",
    "\n",
    "    Delta_C_PS11taskB\n",
    "    Delta_I_PS11taskB\n",
    "    Delta_G_PS11taskB\n",
    "    Delta_NX_PS11taskB\n",
    "    Delta_epsilon_PS11taskB\n",
    "    Delta_r_PS11taskB =\n",
    "    \n",
    "to the changes in their values in the alternative scenario relative ot the baseline"
   ]
  },
  {
   "cell_type": "code",
   "execution_count": null,
   "metadata": {
    "collapsed": true
   },
   "outputs": [],
   "source": [
    "# CODE CELL FOR TASK B CONTINUED\n",
    "\n",
    "# ...\n",
    "# ...\n",
    "# ...\n",
    "# ...\n",
    "# ...\n",
    "\n",
    "# Delta_C_PS11taskB =\n",
    "# Delta_I_PS11taskB = \n",
    "# Delta_G_PS11taskB = \n",
    "# Delta_NX_PS11taskB = \n",
    "# Delta_epsilon_PS11taskB =\n",
    "# Delta_r_PS11taskB ="
   ]
  },
  {
   "cell_type": "code",
   "execution_count": null,
   "metadata": {
    "collapsed": true
   },
   "outputs": [],
   "source": [
    "# TASK B ANSWER CHECK\n",
    "\n",
    "import numpy as np\n",
    "ok.grade('q01')"
   ]
  },
  {
   "cell_type": "markdown",
   "metadata": {},
   "source": [
    "### (Task B) Sticky-Price: A Boost via Tighter Monetary Policy and Higher Interest Rates Abroad (Conclusion)\n",
    "\n",
    "If everything worked out as it should, you would have identified the portions of the sticky-price IS Curve equation:\n",
    "\n",
    "&nbsp;&nbsp;&nbsp;&nbsp;&nbsp;&nbsp;&nbsp;&nbsp;&nbsp;\n",
    "$ Y = E = {\\mu}(c_o + I_o + G) + {\\mu}(x_{f}Y^f + x_{\\epsilon}{\\epsilon_o} + x_{\\epsilon}{\\epsilon_r}r^f) - {\\mu}(I_r + x_{\\epsilon}{\\epsilon_r})r $\n",
    "\n",
    "that are relevant to an increase $ {\\Delta}r^f $ in foreign interest rates holding the domestic real interest rate constant. Those components are:\n",
    "\n",
    "&nbsp;&nbsp;&nbsp;&nbsp;&nbsp;&nbsp;&nbsp;&nbsp;&nbsp;\n",
    "$ {\\Delta}Y = {\\Delta}E = {\\mu}x_{\\epsilon}{\\epsilon_r}r^f $\n",
    "\n",
    "And from them—and the parameter values—you could calculate by hand the changes in other economic variables.\n",
    "\n",
    "Or you could have simply solved the model for the initial-scenario equilibrium, solved it for the alternative with the same parameter values except for $ r^f : {\\Delta}r^f = +0.02 $, and compared the results...\n",
    "\n",
    "What you should have found would be that contractionary monetary policy abroad is expansionary at home. As foreign interest rates go up, foreign currency becomes more valuable. As foreign currency becomes more valuable, domestic currency and thus domestically produced goods denominated in domestic currency become more attractive to foreign buyers. Thus net exports increase.\n",
    "\n",
    "In addition, you would have found the standard Keynesian multiplier result: When national income and product Y is demand determined, as in the sticky price model, there is a multiplied effect of any change in autonomous spending on Y. The multiplier comes from the positive feedback channel by which higher national income Y induces higher consumption spending C. The multiplier effect is partially damped because some of the flow of spending \"leaks\" abroad in the form of higher imports. In this case, the multiplier is triggered by the fact that tighter monetary policy—higher interest rates abroad—raises the value of the exchange rate parameter, the price of foreign currency, and so triggers an expansion of exports.\n",
    "\n",
    "----\n",
    "\n",
    "&nbsp;"
   ]
  },
  {
   "cell_type": "markdown",
   "metadata": {},
   "source": [
    "### (Task C) Moving Along the Sticky-Price IS-Curve via Tighter Monetary Policy (Initial)\n",
    "\n",
    "Start with the IS-Curve for the sticky-price model:\n",
    "\n",
    "&nbsp;&nbsp;&nbsp;&nbsp;&nbsp;&nbsp;&nbsp;&nbsp;&nbsp;\n",
    "$ Y = E = {\\mu}(c_o + I_o + G) + {\\mu}(x_{f}Y^f + x_{\\epsilon}{\\epsilon_o} + x_{\\epsilon}{\\epsilon_r}r^f) - {\\mu}(I_r + x_{\\epsilon}{\\epsilon_r})r $\n",
    "\n",
    "Remember: causation now moves from right to left: the components of spending add up to aggregate demand or total expenditure E, and the inventory adjustment process then drives national income and product Y to aggregate demand.\n",
    "\n",
    "Unless otherwise specified, assume all parameter values as in the initial setup for Task B.\n",
    "\n",
    "In the code cell below, calculate the change in national product produced by a shift in the real interest rate r: by a change $ {\\Delta}r = + 0.02 $ raising the real interest rate from 1% to 3% to fight inflation. Set the value of the variable:\n",
    "\n",
    "    Delta_Y_PS11taskC\n",
    "    \n",
    "to that calculated change:"
   ]
  },
  {
   "cell_type": "code",
   "execution_count": null,
   "metadata": {
    "collapsed": true
   },
   "outputs": [],
   "source": [
    "# CODE CELL FOR TASK C INITIAL\n",
    "\n",
    "# Delta_r = 0.02\n",
    "\n",
    "# ...\n",
    "# ...\n",
    "# ...\n",
    "# ...\n",
    "\n",
    "# Delta_Y_PS11taskC = "
   ]
  },
  {
   "cell_type": "markdown",
   "metadata": {},
   "source": [
    "### (Task C) Moving Along the Sticky-Price IS-Curve via Tighter Monetary Policy (Continued)\n",
    "\n",
    "In the code cell below, write code or otherwise calculate and set the variables:\n",
    "\n",
    "    Delta_C_PS11taskC\n",
    "    Delta_I_PS11taskC\n",
    "    Delta_G_PS11taskC\n",
    "    Delta_NX_PS11taskC\n",
    "    Delta_epsilon_PS11taskC\n",
    "    Delta_r_PS11taskC\n",
    "    \n",
    "to the changes in their values in the alternative scenario relative ot the baseline"
   ]
  },
  {
   "cell_type": "code",
   "execution_count": null,
   "metadata": {
    "collapsed": true
   },
   "outputs": [],
   "source": [
    "# CODE CELL FOR TASK C CONTINUED\n",
    "\n",
    "# ...\n",
    "# ...\n",
    "# ...\n",
    "# ...\n",
    "# ...\n",
    "\n",
    "# Delta_r_PS11taskC\n",
    "# Delta_C_PS11taskC\n",
    "# Delta_I_PS11taskC\n",
    "# Delta_G_PS11taskC\n",
    "# Delta_NX_PS11taskC\n",
    "# Delta_epsilon_PS11taskC"
   ]
  },
  {
   "cell_type": "code",
   "execution_count": null,
   "metadata": {
    "collapsed": true
   },
   "outputs": [],
   "source": [
    "# TASK C ANSWER CHECK\n",
    "\n",
    "import numpy as np\n",
    "ok.grade('q02')"
   ]
  },
  {
   "cell_type": "markdown",
   "metadata": {},
   "source": [
    "### (Task C) Moving Along the Sticky-Price IS-Curve via Tighter Monetary Policy (Conclusion)\n",
    "\n",
    "If everything worked out as it should, you would have identified the portions of the sticky-price IS Curve equation:\n",
    "\n",
    "&nbsp;&nbsp;&nbsp;&nbsp;&nbsp;&nbsp;&nbsp;&nbsp;&nbsp;\n",
    "$ Y = E = {\\mu}(c_o + I_o + G) + {\\mu}(x_{f}Y^f + x_{\\epsilon}{\\epsilon_o} + x_{\\epsilon}{\\epsilon_r}r^f) - {\\mu}(I_r + x_{\\epsilon}{\\epsilon_r})r $\n",
    "\n",
    "that are relevant to an increase in the real interest rate $ {\\Delta}r $. Those components are:\n",
    "\n",
    "&nbsp;&nbsp;&nbsp;&nbsp;&nbsp;&nbsp;&nbsp;&nbsp;&nbsp;\n",
    "$ {\\Delta}Y = {\\Delta}E = {\\mu}(I_r + x_{\\epsilon}{\\epsilon_r}){\\Delta}r $\n",
    "\n",
    "And from them—and the parameter values—you could calculate by hand the changes in other economic variables.\n",
    "\n",
    "Or you could have simply solved the model for the initial-scenario equilibrium, solved it for the alternative with the same parameter values except for $ r : {\\Delta}r = +0.02 $, and compared the results...\n",
    "\n",
    "What you should have found would be the standard IS-Curve multiplier result: When national income and product Y is demand determined, as in the sticky price model, there is a multiplied effect of any change in autonomous spending from the positive feedback channel by which higher national income Y induces higher consumption spending C. The multiplier effect is partially damped because some of the flow of spending \"leaks\" abroad in the form of higher imports. And this multiplier is then applied to the change in autonomous spending produced by an increase in the real interest rate.\n",
    "\n",
    "That change in autonomous spending has two components:\n",
    "\n",
    "* A reduction in investment spending by an amount $ {\\mu}I_r{\\Delta}r $ from the direct effect of the increase $ {\\Delta}r $ in the real interest rate\n",
    "\n",
    "* A reduction in exports by an amount $ {\\mu}x_{\\epsilon}{\\epsilon_r}r $ from the fact that the interest rate increase raises the value of the dollar through foreign exchange arbitrage, and so reduces foreigners' willingness to purchase domestic exports.\n",
    "\n",
    "----\n",
    "\n",
    "&nbsp;"
   ]
  },
  {
   "cell_type": "markdown",
   "metadata": {},
   "source": [
    "### (Task D) The Phillips Curve and Static Expectations (Initial)\n",
    "\n",
    "Let us move on to the Phillips Curve: In year t:\n",
    "\n",
    "&nbsp;&nbsp;&nbsp;&nbsp;&nbsp;&nbsp;&nbsp;&nbsp;&nbsp;\n",
    "$ {\\pi}_t = {{\\pi}_t}^e - {\\beta}(u_t - {u_t}^*) + SS_t $\n",
    "\n",
    "where $ {\\pi}_t $ is the inflation rate, $ {{\\pi}_t}^e $ is expected inflation, $ {\\beta} $ is the \"slope\" of the Phillips Curve, $ u_t $ is the unemployment rate, $ {u_t}^* $ is the NAIRU, or the \"natural\" rate of unemployment, and $ SS_t $ is a upply shock term.\n",
    "\n",
    "The unemployment rate $ u_t $ (relative to the NAIRU $ {u_t}^* $) is related to production $ Y_t $ (relative to potential output $ {Y_t}^* $) by Okun's Law:\n",
    "\n",
    "&nbsp;&nbsp;&nbsp;&nbsp;&nbsp;&nbsp;&nbsp;&nbsp;&nbsp;\n",
    "$ \\frac{{Y_t}^* - {Y_t}}{{Y_t}^*} = 2(u_t - {u_t}^*) $\n",
    "\n",
    "And expected inflation can take on many different forms—either pure types:\n",
    "\n",
    "* Static: $ {{\\pi}_t}^e = {\\pi}^* $\n",
    "* Adaptive: $ {{\\pi}_t}^e = {\\pi}_{t-1} $\n",
    "* Rational: $ {{\\pi}_t}^e = E_{t-1}\\left({\\pi}_t\\right) $\n",
    "\n",
    "or mixtures thereof.\n",
    "\n",
    "Suppose inflation in year 0 is 2% per year—0.02. Suppose the parameters of the Phillips Curve are:\n",
    "\n",
    "&nbsp;&nbsp;&nbsp;&nbsp;&nbsp;&nbsp;&nbsp;&nbsp;&nbsp;\n",
    "$ u^* = 0.06 $   \n",
    "&nbsp;&nbsp;&nbsp;&nbsp;&nbsp;&nbsp;&nbsp;&nbsp;&nbsp;\n",
    "$ \\beta = \\frac{1}{2} $   \n",
    "\n",
    "And suppose that there are no supply shocks.\n",
    "\n",
    "Suppose further that inflation expectations are static, with:\n",
    "\n",
    "&nbsp;&nbsp;&nbsp;&nbsp;&nbsp;&nbsp;&nbsp;&nbsp;&nbsp;\n",
    "$ {\\pi}^* = 0.02 $\n",
    "\n",
    "And suppose that the Federal Reserve, via expansionary monetary policy, drops the unemployment rate to 4%—0.04—in year 1 and keeps it there in years 2 through 10.\n",
    "\n",
    "In the code cell below, calculate the values of inflation in years 1 through 10 and set the variables:\n",
    "\n",
    "    pi_year1_PS11taskD\n",
    "    pi_year2_PS11taskD\n",
    "    pi_year3_PS11taskD\n",
    "    pi_year4_PS11taskD\n",
    "    pi_year5_PS11taskD\n",
    "    pi_year6_PS11taskD\n",
    "    pi_year7_PS11taskD\n",
    "    pi_year8_PS11taskD\n",
    "    pi_year9_PS11taskD\n",
    "    pi_year10_PS11taskD\n",
    "    \n",
    "to the appropriate calculated values:"
   ]
  },
  {
   "cell_type": "code",
   "execution_count": null,
   "metadata": {
    "collapsed": true
   },
   "outputs": [],
   "source": [
    "# CODE CELL FOR TASK D INITIAL\n",
    "\n",
    "# pi_star = 0.02 \n",
    "\n",
    "# ...\n",
    "# ...\n",
    "# ...\n",
    "# ...\n",
    "\n",
    "# pi_year1_PS11taskD = \n",
    "# pi_year2_PS11taskD = \n",
    "# pi_year3_PS11taskD = \n",
    "# pi_year4_PS11taskD = \n",
    "# pi_year5_PS11taskD = \n",
    "# pi_year6_PS11taskD = \n",
    "# pi_year7_PS11taskD = \n",
    "# pi_year8_PS11taskD = \n",
    "# pi_year9_PS11taskD = \n",
    "# pi_year10_PS11taskD = "
   ]
  },
  {
   "cell_type": "code",
   "execution_count": null,
   "metadata": {
    "collapsed": true
   },
   "outputs": [],
   "source": [
    "# TASK D ANSWER CHECK\n",
    "\n",
    "import numpy as np\n",
    "ok.grade('q03')"
   ]
  },
  {
   "cell_type": "markdown",
   "metadata": {},
   "source": [
    "### (Task D)  The Phillips Curve and Static Expectations (Conclusion)\n",
    "\n",
    "If everything went well, you should have found that inflation is always 3%. And over the decade the economy gains enormous dividends in terms of extra production and extra jobs. And then—as long as expectations remain static—the central bank could return the unemployment rate to 6% in year 11, and inflation would drop down to 2%, with no permanent harm done.\n",
    "\n",
    "Of course, that is not the way we think that it works. That is not how the experience of the 1970s leads us to think that it would work.\n",
    "\n",
    "----\n",
    "\n",
    "&nbsp;"
   ]
  },
  {
   "cell_type": "markdown",
   "metadata": {},
   "source": [
    "### (Task E) The Phillips Curve and Adaptive Expectations (Initial)\n",
    "\n",
    "Take the Phillips Curve in year t:\n",
    "\n",
    "&nbsp;&nbsp;&nbsp;&nbsp;&nbsp;&nbsp;&nbsp;&nbsp;&nbsp;\n",
    "$ {\\pi}_t = {{\\pi}_t}^e - {\\beta}(u_t - {u_t}^*) + SS_t $\n",
    "\n",
    "where $ {\\pi}_t $ is the inflation rate, $ {{\\pi}_t}^e $ is expected inflation, $ {\\beta} $ is the \"slope\" of the Phillips Curve, $ u_t $ is the unemployment rate, $ {u_t}^* $ is the NAIRU, or the \"natural\" rate of unemployment, and $ SS_t $ is a upply shock term.\n",
    "\n",
    "And assume expected inflation is adaptive:\n",
    "\n",
    "&nbsp;&nbsp;&nbsp;&nbsp;&nbsp;&nbsp;&nbsp;&nbsp;&nbsp;\n",
    "$ {{\\pi}_t}^e = {\\pi}_{t-1} $\n",
    "\n",
    "Suppose inflation in year 0 is 2% per year—0.02. Suppose the parameters of the Phillips Curve are:\n",
    "\n",
    "&nbsp;&nbsp;&nbsp;&nbsp;&nbsp;&nbsp;&nbsp;&nbsp;&nbsp;\n",
    "$ u^* = 0.06 $   \n",
    "&nbsp;&nbsp;&nbsp;&nbsp;&nbsp;&nbsp;&nbsp;&nbsp;&nbsp;\n",
    "$ \\beta = \\frac{1}{2} $   \n",
    "\n",
    "And suppose that there are no supply shocks.\n",
    "\n",
    "Suppose that the Federal Reserve, via expansionary monetary policy, drops the unemployment rate to 4%—0.04—in year 1 and keeps it there in years 2 through 10.\n",
    "\n",
    "In the code cell below, calculate the values of inflation in years 1 through 10 and set the variables:\n",
    "\n",
    "    pi_year1_PS11taskE\n",
    "    pi_year2_PS11taskE\n",
    "    pi_year3_PS11taskE\n",
    "    pi_year4_PS11taskE\n",
    "    pi_year5_PS11taskE\n",
    "    pi_year6_PS11taskE\n",
    "    pi_year7_PS11taskE\n",
    "    pi_year8_PS11taskE\n",
    "    pi_year9_PS11taskE\n",
    "    pi_year10_PS11taskE\n",
    "    \n",
    "to the appropriate calculated values:"
   ]
  },
  {
   "cell_type": "code",
   "execution_count": null,
   "metadata": {
    "collapsed": true
   },
   "outputs": [],
   "source": [
    "# CODE CELL FOR TASK E INITIAL\n",
    "\n",
    "# pi_star = 0.02 \n",
    "\n",
    "# ...\n",
    "# ...\n",
    "# ...\n",
    "# ...\n",
    "\n",
    "# pi_year1_PS11taskE = \n",
    "# pi_year2_PS11taskE = \n",
    "# pi_year3_PS11taskE = \n",
    "# pi_year4_PS11taskE = \n",
    "# pi_year5_PS11taskE = \n",
    "# pi_year6_PS11taskE = \n",
    "# pi_year7_PS11taskE = \n",
    "# pi_year8_PS11taskE = \n",
    "# pi_year9_PS11taskE = \n",
    "# pi_year10_PS11taskE = "
   ]
  },
  {
   "cell_type": "code",
   "execution_count": null,
   "metadata": {
    "collapsed": true,
    "scrolled": true
   },
   "outputs": [],
   "source": [
    "# TASK E ANSWER CHECK\n",
    "\n",
    "import numpy as np\n",
    "ok.grade('q04')"
   ]
  },
  {
   "cell_type": "markdown",
   "metadata": {},
   "source": [
    "### (Task E) The Phillips Curve and Adaptive Expectations (Final)\n",
    "\n",
    "If everything went well, you should have found that inflation accelerates—but accelerates slowly. it takes a full decade with the unemployment substantially below the NAIRU for annual inflation to rise from 2% per year to 12% per year. And in the meantime the economy gains enormous dividends in terms of extra production and extra jobs. And then—as long as expectations remain static—the central bank could return the unemployment rate to 6% in year 11, and inflation would be stable at 12%.\n",
    "\n",
    "Of course, that is not the way we think that it works. That is not how the experience of the 1970s leads us to think that it would work.\n",
    "\n",
    "----\n",
    "\n",
    "&nbsp;"
   ]
  },
  {
   "cell_type": "markdown",
   "metadata": {},
   "source": [
    "### (Task F) The Phillips Curve and Hybrid Expectations (Initial)\n",
    "\n",
    "Take the Phillips Curve in year t:\n",
    "\n",
    "&nbsp;&nbsp;&nbsp;&nbsp;&nbsp;&nbsp;&nbsp;&nbsp;&nbsp;\n",
    "$ {\\pi}_t = {{\\pi}_t}^e - {\\beta}(u_t - {u_t}^*) + SS_t $\n",
    "\n",
    "where $ {\\pi}_t $ is the inflation rate, $ {{\\pi}_t}^e $ is expected inflation, $ {\\beta} $ is the \"slope\" of the Phillips Curve, $ u_t $ is the unemployment rate, $ {u_t}^* $ is the NAIRU, or the \"natural\" rate of unemployment, and $ SS_t $ is a upply shock term.\n",
    "\n",
    "And assume expected inflation is somewhat rational and somewhat adaptive. That is, for some parameter $ \\lambda $:\n",
    "\n",
    "&nbsp;&nbsp;&nbsp;&nbsp;&nbsp;&nbsp;&nbsp;&nbsp;&nbsp;\n",
    "$ {{\\pi}_t}^e = \\lambda\\pi_t + (1 - \\lambda){\\pi}_{t-1} $\n",
    "\n",
    "Suppose inflation in year 0 is 2% per year—0.02. Suppose the parameters of the Phillips Curve are:\n",
    "\n",
    "&nbsp;&nbsp;&nbsp;&nbsp;&nbsp;&nbsp;&nbsp;&nbsp;&nbsp;\n",
    "$ u^* = 0.06 $   \n",
    "&nbsp;&nbsp;&nbsp;&nbsp;&nbsp;&nbsp;&nbsp;&nbsp;&nbsp;\n",
    "$ \\beta = \\frac{1}{2} $   \n",
    "\n",
    "And suppose that there are no supply shocks.\n",
    "\n",
    "Suppose that in year zero—when expectations for $ {\\pi_1}^* $, expectations for what inflation will be in year one, are set—the Federal Reserve announces that it will, via expansionary monetary policy, drops the unemployment rate to 4%—0.04—in year 1 and keeps it there in years 2 through 10.\n",
    "\n",
    "Suppose further that $ \\lambda = 0.5 $.\n",
    "\n",
    "In the code cell below, calculate the values of inflation in years 1 through 10 and set the variables:\n",
    "\n",
    "    pi_year1_PS11taskF\n",
    "    pi_year2_PS11taskF\n",
    "    pi_year3_PS11taskF\n",
    "    pi_year4_PS11taskF\n",
    "    pi_year5_PS11taskF\n",
    "    pi_year6_PS11taskF\n",
    "    pi_year7_PS11taskF\n",
    "    pi_year8_PS11taskF\n",
    "    pi_year9_PS11taskF\n",
    "    pi_year10_PS11taskF\n",
    "    \n",
    "to the appropriate calculated values:"
   ]
  },
  {
   "cell_type": "code",
   "execution_count": null,
   "metadata": {
    "collapsed": true
   },
   "outputs": [],
   "source": [
    "# CODE CELL FOR TASK F INITIAL\n",
    "\n",
    "# pi_star = 0.02 \n",
    "\n",
    "# ...\n",
    "# ...\n",
    "# ...\n",
    "# ...\n",
    "\n",
    "# pi_year1_PS11taskF = \n",
    "# pi_year2_PS11taskF = \n",
    "# pi_year3_PS11taskF = \n",
    "# pi_year4_PS11taskF = \n",
    "# pi_year5_PS11taskF = \n",
    "# pi_year6_PS11taskF = \n",
    "# pi_year7_PS11taskF = \n",
    "# pi_year8_PS11taskF = \n",
    "# pi_year9_PS11taskF = \n",
    "# pi_year10_PS11taskF = "
   ]
  },
  {
   "cell_type": "code",
   "execution_count": null,
   "metadata": {
    "collapsed": true
   },
   "outputs": [],
   "source": [
    "# TASK F ANSWER CHECK\n",
    "\n",
    "import numpy as np\n",
    "ok.grade('q05')"
   ]
  },
  {
   "cell_type": "markdown",
   "metadata": {},
   "source": [
    "### (Task F): The Phillips Curve and Hybrid Expectations (Final)\n",
    "\n",
    "If everything worked out well, you would have found that each year inflation jumps not by $ - \\beta (u - u^*) $ but rather by:\n",
    "\n",
    "&nbsp;&nbsp;&nbsp;&nbsp;&nbsp;&nbsp;&nbsp;&nbsp;&nbsp;\n",
    "$ - \\frac{\\beta (u - u^*)}{1 - \\lambda} $\n",
    "\n",
    "Why? Because some of inflation expectations are formed not in a backward but a forward looking manner: people take account of the fact that inflation is rising in forming their expectations, and then take account of the fact that people are taking account of the fact that inflation is rising, and then take account of the fact that people are taking account of the fact that people are taking account of the fact that inflation is rising, and so forth...\n",
    "\n",
    "It was the worry about this dynamic that led Paul Volcker back in the day, back at the end of the 1970s and beginning of the 1980s, to make controlling inflation job #1 at whatever cost in terms of a deep recession it generated. Dealing with inflation and unemployment when inflation was adaptive—when every upward kick in inflation from a supply shock get permanently incorporated into next year's inflation rate—was annoying. But should inflation expectations become substantially \"rational\" than the situation would become even less controllable.\n",
    "\n",
    "----\n",
    "\n",
    "&nbsp;"
   ]
  },
  {
   "cell_type": "markdown",
   "metadata": {},
   "source": [
    "### (Task G): Near-Rational Inflation Expectations (Initial)\n",
    "\n",
    "What would inflation be in year 10 $ {\\pi}_{10} $ if $\\lambda $ were 0.9? Set\n",
    "\n",
    "    pi_year10lambdapoint9_PS11taskG\n",
    "    \n",
    "to the appropriate value in the code cell below"
   ]
  },
  {
   "cell_type": "code",
   "execution_count": null,
   "metadata": {
    "collapsed": true
   },
   "outputs": [],
   "source": [
    "# TASK G CODE \n",
    "\n",
    "# pi_year10lambdapoint9_PS11taskG = "
   ]
  },
  {
   "cell_type": "code",
   "execution_count": null,
   "metadata": {
    "collapsed": true
   },
   "outputs": [],
   "source": [
    "# TASK G ANSWER CHECK\n",
    "\n",
    "import numpy as np\n",
    "ok.grade('q06')"
   ]
  },
  {
   "cell_type": "markdown",
   "metadata": {},
   "source": [
    "### TASK G: Near-Rational Inflation Expectations (Final)\n",
    "\n",
    "If everything worked out well, you would have found that each year inflation jumps not by $ - \\beta (u - u^*) $ but rather by:\n",
    "\n",
    "&nbsp;&nbsp;&nbsp;&nbsp;&nbsp;&nbsp;&nbsp;&nbsp;&nbsp;\n",
    "$ - \\frac{\\beta (u - u^*)}{1 - \\lambda} $\n",
    "\n",
    "Why? Because most of inflation expectations are formed not in a backward but a forward looking manner: people take account of the fact that inflation is rising in forming their expectations, and then take account of the fact that people are taking account of the fact that inflation is rising, and then take account of the fact that people are taking account of the fact that people are taking account of the fact that inflation is rising, and so forth..."
   ]
  },
  {
   "cell_type": "markdown",
   "metadata": {},
   "source": [
    "### The Baseline Flexprice Model\n",
    "\n",
    "We first saw the IS-Curve equation when we analyzed the sticky-price model. We looked at all the determinants of the components of spending—consumption spending by households C, investment spending by businesses I, government purchases G, and the balancing item of net exports NX—added them up to equal total expenditure or aggregate demand E, and then said that inventory adjustment would lead producers to set output and thus national income Y equal to aggregate demand:\n",
    "\n",
    "&nbsp;&nbsp;&nbsp;&nbsp;&nbsp;&nbsp;&nbsp;&nbsp;&nbsp;\n",
    "$ Y = E = {\\mu}(c_o + I_o + G) + {\\mu}(x_{f}Y^f + x_{\\epsilon}{\\epsilon_o} + x_{\\epsilon}{\\epsilon_r}r^f) - {\\mu}(I_r + x_{\\epsilon}{\\epsilon_r})r $\n",
    "\n",
    "However, the equation itself is as valid for the flexprice model as for the sticky-price model. The interpretation, however, is different. The sticking point is that the right-hand side does not cause the left. Rather, the left-hand side is equal to potential output $ Y^* $ and so constrains the right-hand side:\n",
    "\n",
    "&nbsp;&nbsp;&nbsp;&nbsp;&nbsp;&nbsp;&nbsp;&nbsp;&nbsp;\n",
    "$ Y^* = Y = {\\mu}(c_o + I_o + G) + {\\mu}(x_{f}Y^f + x_{\\epsilon}{\\epsilon_o} + x_{\\epsilon}{\\epsilon_r}r^f) - {\\mu}(I_r + x_{\\epsilon}{\\epsilon_r})r $\n",
    "\n",
    "Given this constraint, you can then use this equation to solve for what happens in the flexprice model to sequential or counterfactual shifts in economic policy and the economic environment.\n",
    "\n",
    "The symbols on the right-hand side of this equation are grouped into:\n",
    "\n",
    "_Expectations and Confidence:_\n",
    "\n",
    "* $ c_o $ :: consumer confidence\n",
    "* $ I_o $ :: business investment animal spirits\n",
    "* $ {\\epsilon_o} $ :: the confidence of foreign exchange speculators in the value of foreign currency\n",
    "\n",
    "&nbsp;\n",
    "\n",
    "_Behavioral Parameters:_\n",
    "\n",
    "* $ x_{f} $ :: the responsiveness of exports to foreign income\n",
    "* $ x_{\\epsilon} $ :: the responsiveness of exports to the exchange rate\n",
    "* $ {\\epsilon_r} $ :: the responsiveness of the exchange rate to the interest rate\n",
    "* $ I_r $ :: the responsiveness of investment to the interest rate\n",
    "* $ {\\mu} = \\frac{1}{1- c_{y}(1-t) + im_y} $ :: the multiplier, itself a function of:\n",
    "    * $ t $ :: the tax rate\n",
    "    * $ c_y $ :: the marginal propensity to consume\n",
    "    * $ im_y $ :: the marginal propensity to import\n",
    "\n",
    "&nbsp;\n",
    "\n",
    "_The Global Economic Environment:_\n",
    "\n",
    "* $ Y^f $ :: foreign national income\n",
    "* $ r^f $ :: the foreign long-term risky real interest rate\n",
    "\n",
    "&nbsp;\n",
    "\n",
    "_Policy Choices:_\n",
    "\n",
    "* $ G $ :: government purchases\n",
    "* $ r = i + \\rho - \\pi $ :: the long-term risky real interest rate, which itself will later on be a function of:\n",
    "    * $ i $ :: the short-term safe nominal interest rate, a policy choice\n",
    "    * $ \\rho $ :: the risk (and term) premium charged for lending long-term to companies that might go bankrupt rather than short-term to the government\n",
    "    * $ \\pi $ :: the expected inflation rate\n",
    "\n",
    "----\n",
    "\n",
    "&nbsp;\n",
    "\n",
    "The code cell below sets parameter values and calculates the equilibrium value of the real interest rater r for this flexprice model IS Curve. It then calculates the values of hte other economic variables, in trillions:"
   ]
  },
  {
   "cell_type": "code",
   "execution_count": null,
   "metadata": {
    "collapsed": true
   },
   "outputs": [],
   "source": [
    "# FLEXPRICE MODEL INITIAL SCENARIO SETUP FOR 20 = Y* = Y\n",
    "\n",
    "Ystar = 20\n",
    "Y = Ystar\n",
    "\n",
    "# Set initial parameter and variable values\n",
    "c_o = 2\n",
    "c_y = 5/8\n",
    "\n",
    "I_o = 4.4\n",
    "I_r = 10\n",
    "\n",
    "G = 4\n",
    "t = 0.20\n",
    "\n",
    "im_y = 1/6\n",
    "x_f = 0.1\n",
    "Y_f = 20\n",
    "r_f = 0.04\n",
    "\n",
    "x_epsilon = 4/3\n",
    "epsilon_o = 1\n",
    "epsilon_r = 5\n",
    "\n",
    "# Calculate the value of the multiplier\n",
    "mu = 1/(1-c_y*(1-t)+ im_y)\n",
    "\n",
    "# Use the solved IS Curve equation to calculate the real \n",
    "# interest rate r\n",
    "r = (((c_o + I_o + G) + \n",
    "    (x_f * Y_f + x_epsilon * epsilon_o + x_epsilon * epsilon_r * r_f) -\n",
    "     Y/mu)/\n",
    "     (I_r + x_epsilon * epsilon_r))\n",
    "\n",
    "# calculcate the values of other economic variables \n",
    "# in this initial scenario\n",
    "C = c_o + c_y * (1-t) * Y\n",
    "I = I_o - I_r * r\n",
    "GX = x_f * Y_f + x_epsilon * epsilon_o + x_epsilon * epsilon_r * (r_f-r)\n",
    "IM = im_y * Y\n",
    "NX = GX - IM\n",
    "epsilon = epsilon_o + epsilon_r * (r_f-r)\n",
    "\n",
    "# print out the values of economic variables in \n",
    "# this initial scenario equilibrium\n",
    "print(\"The equilibrium real interest rate =\", r)\n",
    "print(\"\")\n",
    "print(\"The components of national income and product Y are:\")\n",
    "print(\"Consumption spending C = \", C)\n",
    "print(\"Investment spending I = \", I)\n",
    "print(\"Government purchases G = \", G)\n",
    "print(\"Net exports NX = \", NX)\n",
    "print(\"\")\n",
    "print(\"Potential output Y* = Output Y = \", Y)\n",
    "print(\"\")\n",
    "print(\"Gross exports GX = \", GX)\n",
    "print(\"Imports IM = \", IM)\n",
    "print(\"\")\n",
    "print(\"The real exchange rate ε = \", epsilon)\n",
    "print(\"\")\n",
    "print(\"The multiplier μ = \", mu)\n",
    "\n",
    "# AFTER YOU RUN THIS CELL, DO NOT OVERWRITE THE VALUES OF THE\n",
    "# _ini VARIABLES!\n",
    "#\n",
    "# remember the values of the economic variables in this \n",
    "# initial scenario\n",
    "r_ini = r\n",
    "I_ini = I\n",
    "G_ini = G\n",
    "NX_ini = NX\n",
    "epsilon_ini = epsilon"
   ]
  },
  {
   "cell_type": "markdown",
   "metadata": {},
   "source": [
    "### (Task B) Flexprice: A Capital Inflow (Initial)\n",
    "\n",
    "Start with the IS-Curve for the flexprice model:\n",
    "\n",
    "&nbsp;&nbsp;&nbsp;&nbsp;&nbsp;&nbsp;&nbsp;&nbsp;&nbsp;\n",
    "$ Y^* = Y = {\\mu}(c_o + I_o + G) + {\\mu}(x_{f}Y^f + x_{\\epsilon}{\\epsilon_o} + x_{\\epsilon}{\\epsilon_r}r^f) - {\\mu}(I_r + x_{\\epsilon}{\\epsilon_r})r $\n",
    "\n",
    "Assume that potential output is equal to real national income and product is equal to 20 trillion: \n",
    "\n",
    "&nbsp;&nbsp;&nbsp;&nbsp;&nbsp;&nbsp;&nbsp;&nbsp;&nbsp;\n",
    "$ Y^* = Y = 20 $\n",
    "\n",
    "And assume parameter values:\n",
    "\n",
    "* $ c_o = 2 $\n",
    "* $ c_y = 5/8 $\n",
    "* $ I_o = 4.4 $\n",
    "* $ I_r = 10 $\n",
    "* $ t = 0.20 $\n",
    "* $ im_y = 1/6 $\n",
    "* $ x^f = 0.1 $\n",
    "* $ Y^f = 20 $\n",
    "* $ r^f = 0.04 $\n",
    "* $ x_{\\epsilon} = 4/3 $\n",
    "* $ \\epsilon_o = 1 $\n",
    "* $ \\epsilon_r = 5 $\n",
    "\n",
    "And assume that government purchases $ G = 4 $\n",
    "\n",
    "What if foreign exchange speculators lose confidence in the value of foreign currency and wish to invest their money in the home country, and so the foreign exchange speculator expectations coefficient $ {\\epsilon}_o $ drops by 10 percent—from 1 to 0.9?\n",
    "\n",
    "In the code cell below, write code or otherwise calculate the model equilibrium and then set to its equilibrium value the variable:\n",
    "\n",
    "    Delta_r_PS10taskB\n",
    "    \n",
    "the amount by which the real interest rate r changes in the alternative capital inflow scenario relative to the baseline"
   ]
  },
  {
   "cell_type": "code",
   "execution_count": null,
   "metadata": {
    "collapsed": true
   },
   "outputs": [],
   "source": [
    "# CODE CELL FOR TASK B INITIAL\n",
    "\n",
    "# Delta_epsilon_o = -0.1\n",
    "\n",
    "# ...\n",
    "# ...\n",
    "# ...\n",
    "# ...\n",
    "\n",
    "# Delta_r_PS10taskB = "
   ]
  },
  {
   "cell_type": "markdown",
   "metadata": {},
   "source": [
    "### (Task B) Flexprice: A Capital Inflow (Continued)\n",
    "\n",
    "In the code cell below, write code or otherwise calculate and set the variables:\n",
    "\n",
    "    Delta_I_PS10taskB\n",
    "    Delta_G_PS10taskB\n",
    "    Delta_NX_PS10taskB\n",
    "    Delta_epsilon_PS10taskB\n",
    "    \n",
    "to the changes in their values in the alternative scenario relative ot the baseline"
   ]
  },
  {
   "cell_type": "code",
   "execution_count": null,
   "metadata": {
    "collapsed": true
   },
   "outputs": [],
   "source": [
    "# CODE CELL FOR TASK B CONTINUED\n",
    "\n",
    "# ...\n",
    "# ...\n",
    "# ...\n",
    "# ...\n",
    "# ...\n",
    "\n",
    "# Delta_I_PS10taskB = \n",
    "# Delta_G_PS10taskB = \n",
    "# Delta_NX_PS10taskB = \n",
    "# Delta_epsilon_PS10taskB ="
   ]
  },
  {
   "cell_type": "code",
   "execution_count": null,
   "metadata": {
    "collapsed": true
   },
   "outputs": [],
   "source": [
    "# TASK B ANSWER CHECK\n",
    "\n",
    "import numpy as np\n",
    "ok.grade('q01')"
   ]
  },
  {
   "cell_type": "markdown",
   "metadata": {},
   "source": [
    "### (Task B) Flexprice: A Capital Inflow (Conclusion)\n",
    "\n",
    "If everything worked out as it should, you would have identified the portions of the IS Curve equation:\n",
    "\n",
    "&nbsp;&nbsp;&nbsp;&nbsp;&nbsp;&nbsp;&nbsp;&nbsp;&nbsp;\n",
    "$ Y^* = Y = {\\mu}(c_o + I_o + G) + {\\mu}(x_{f}Y^f + x_{\\epsilon}{\\epsilon_o} + x_{\\epsilon}{\\epsilon_r}r^f) - {\\mu}(I_r + x_{\\epsilon}{\\epsilon_r})r $\n",
    "\n",
    "that are relevant to a negative change $ {\\Delta}{\\epsilon}_o $ in foreign exchange speculators' assessments that produces an inflow of capital from abroad. Those components are:\n",
    "\n",
    "&nbsp;&nbsp;&nbsp;&nbsp;&nbsp;&nbsp;&nbsp;&nbsp;&nbsp;\n",
    "$ 0 = {\\Delta}Y^* = {\\mu}x_{\\epsilon}{\\epsilon_o} - {\\mu}(I_r + x_{\\epsilon}{\\epsilon_r})r $\n",
    "\n",
    "And from them—and the parameter values—you could calculate by hand the changes in the variables: $ {\\Delta}r, {\\Delta}I, {\\Delta}G, {\\Delta}NX, and {\\Delta}{\\epsilon} $\n",
    "\n",
    "Or you could have simply solved the model for the initial-scenario equilibrium, solved it for the alternative with the same parameter values except for $ {\\epsilon}_o : {\\Delta}{\\epsilon}_o = -0.1 $, and compared the results...\n",
    "\n",
    "What you should have found would be that the capital inflow—speculators' loss of confidence in the value of foreign currency—would have gone to lower the exchange rate variable (the value of foreign currency), lower real interest rates here at home, and thus boost investment spending by an amount offsetting the reduction in net exports that is the necessary accounting counterpart of an inflow of capital. This is the flexprice model: pieces of the flow of spending that shrink must be balanced by other prices that increase to offset and keep total spending equal to potential output.\n",
    "\n",
    "----\n",
    "\n",
    "&nbsp;"
   ]
  },
  {
   "cell_type": "markdown",
   "metadata": {},
   "source": [
    "### (Task C) Flexprice: The Collapse of an Investment Boom (Initial)\n",
    "\n",
    "Start with the IS-Curve for the flexprice model:\n",
    "\n",
    "&nbsp;&nbsp;&nbsp;&nbsp;&nbsp;&nbsp;&nbsp;&nbsp;&nbsp;\n",
    "$ Y^* = Y = {\\mu}(c_o + I_o + G) + {\\mu}(x_{f}Y^f + x_{\\epsilon}{\\epsilon_o} + x_{\\epsilon}{\\epsilon_r}r^f) - {\\mu}(I_r + x_{\\epsilon}{\\epsilon_r})r $\n",
    "\n",
    "Assume that potential output is equal to real national income and product is equal to 20 trillion: \n",
    "\n",
    "&nbsp;&nbsp;&nbsp;&nbsp;&nbsp;&nbsp;&nbsp;&nbsp;&nbsp;\n",
    "$ Y^* = Y = 20 $\n",
    "\n",
    "And assume all parameter values as in the initial scenario setup for Task B.\n",
    "\n",
    "Suppose that there is a collapse in business investment committees' \"animal spirits\" $ I_o $: that those making the investment decisions are no longer eager to gamble but rather fear that future profits will be low, so that $ I_o $ falls by 500 billion dollars, with:\n",
    "\n",
    "&nbsp;&nbsp;&nbsp;&nbsp;&nbsp;&nbsp;&nbsp;&nbsp;&nbsp;\n",
    "$ {\\Delta}I_o = -0.5 $\n",
    "\n",
    "In the code cell below, write code or otherwise calculate the model equilibrium and then set to its equilibrium value the variable:\n",
    "\n",
    "    Delta_r_PS10taskC\n",
    "\n",
    "the amount by which the real interest rate r changes in the alternative capital inflow scenario relative to the baseline:"
   ]
  },
  {
   "cell_type": "code",
   "execution_count": null,
   "metadata": {
    "collapsed": true
   },
   "outputs": [],
   "source": [
    "# CODE CELL FOR TASK C INITIAL\n",
    "\n",
    "# Delta_I_o = -0.5\n",
    "\n",
    "# ...\n",
    "# ...\n",
    "# ...\n",
    "# ...\n",
    "\n",
    "# Delta_r_PS10taskC = "
   ]
  },
  {
   "cell_type": "markdown",
   "metadata": {},
   "source": [
    "### (Task C) Flexprice: The Collapse of an Investment Boom (Continued)\n",
    "\n",
    "In the code cell below, write code or otherwise calculate and set the variables:\n",
    "\n",
    "    Delta_I_PS10taskC\n",
    "    Delta_G_PS10taskC\n",
    "    Delta_NX_PS10taskC\n",
    "    Delta_epsilon_PS10taskC\n",
    "    \n",
    "to the changes in their values in the alternative scenario relative ot the baseline"
   ]
  },
  {
   "cell_type": "code",
   "execution_count": null,
   "metadata": {
    "collapsed": true
   },
   "outputs": [],
   "source": [
    "# CODE CELL FOR TASK C CONTINUED\n",
    "\n",
    "# ...\n",
    "# ...\n",
    "# ...\n",
    "# ...\n",
    "# ...\n",
    "\n",
    "# Delta_I_PS10taskC = \n",
    "# Delta_G_PS10taskC = \n",
    "# Delta_NX_PS10taskC = \n",
    "# Delta_epsilon_PS10taskC ="
   ]
  },
  {
   "cell_type": "code",
   "execution_count": null,
   "metadata": {
    "collapsed": true
   },
   "outputs": [],
   "source": [
    "# Task C answer check\n",
    "\n",
    "import numpy as np\n",
    "ok.grade('q02')"
   ]
  },
  {
   "cell_type": "markdown",
   "metadata": {},
   "source": [
    "### (Task C) The Collapse of an Investment Boom (Conclusion)\n",
    "\n",
    "If everything worked out as it should, you would have identified the portions of the IS Curve equation:\n",
    "\n",
    "&nbsp;&nbsp;&nbsp;&nbsp;&nbsp;&nbsp;&nbsp;&nbsp;&nbsp;\n",
    "$ Y^* = Y = {\\mu}(c_o + I_o + G) + {\\mu}(x_{f}Y^f + x_{\\epsilon}{\\epsilon_o} + x_{\\epsilon}{\\epsilon_r}r^f) - {\\mu}(I_r + x_{\\epsilon}{\\epsilon_r})r $\n",
    "\n",
    "that are relevant to a negative change $ {\\Delta}I_o $ in business investment committees' \"animal spirits\", their willingness to bet on future profits from expanding their firms. Those components are:\n",
    "\n",
    "&nbsp;&nbsp;&nbsp;&nbsp;&nbsp;&nbsp;&nbsp;&nbsp;&nbsp;\n",
    "$ 0 = {\\Delta}Y^* = {\\mu}I_o - {\\mu}(I_r + x_{\\epsilon}{\\epsilon_r})r $\n",
    "\n",
    "And from them—and the parameter values—you could calculate by hand the changes in the variables: $ {\\Delta}r, {\\Delta}I, {\\Delta}G, {\\Delta}NX, and {\\Delta}{\\epsilon} $\n",
    "\n",
    "Or you could have simply solved the model for the initial-scenario equilibrium, solved it for the alternative with the same parameter values except for $ I_o : {\\Delta}I_o = -0.5 $, and compared the results...\n",
    "\n",
    "What you should have found would be that the collapse of animal spirts would have gone to lower real interest rates here at home, and thus raise the exchange rate variable (the value of foreign currency). Lower investment spending would have thus been offset by the expansion in net exports that is the necessary accounting counterpart of an outflow of capital as savings that cannot find a use at home flows abroad. This is the flexprice model: pieces of the flow of spending that shrink must be balanced by other prices that increase to offset and keep total spending equal to potential output.\n",
    "\n",
    "----\n",
    "\n",
    "&nbsp;"
   ]
  },
  {
   "cell_type": "markdown",
   "metadata": {},
   "source": [
    "### (Task D) Flexprice: Higher Interest Rates Abroad (Initial)\n",
    "\n",
    "Start with the IS-Curve for the flexprice model:\n",
    "\n",
    "&nbsp;&nbsp;&nbsp;&nbsp;&nbsp;&nbsp;&nbsp;&nbsp;&nbsp;\n",
    "$ Y^* = Y = {\\mu}(c_o + I_o + G) + {\\mu}(x_{f}Y^f + x_{\\epsilon}{\\epsilon_o} + x_{\\epsilon}{\\epsilon_r}r^f) - {\\mu}(I_r + x_{\\epsilon}{\\epsilon_r})r $\n",
    "\n",
    "Assume that potential output is equal to real national income and product is equal to 20 trillion: \n",
    "\n",
    "&nbsp;&nbsp;&nbsp;&nbsp;&nbsp;&nbsp;&nbsp;&nbsp;&nbsp;\n",
    "$ Y^* = Y = 20 $\n",
    "\n",
    "And assume all parameter values as in the initial scenario setup for Task B.\n",
    "\n",
    "Suppose that overseas central banks begin raising their own interest rates out of a fear of rising inflation: that they raise their real interest rate $ r^f $ by:\n",
    "\n",
    "&nbsp;&nbsp;&nbsp;&nbsp;&nbsp;&nbsp;&nbsp;&nbsp;&nbsp;\n",
    "$ {\\Delta}r^f = +0.02 $\n",
    "\n",
    "In the code cell below, write code or otherwise calculate the model equilibrium and then set to its equilibrium value the variable:\n",
    "\n",
    "    Delta_r_PS10taskD\n",
    "\n",
    "the amount by which the real interest rate r changes in the alternative capital inflow scenario relative to the baseline:"
   ]
  },
  {
   "cell_type": "code",
   "execution_count": null,
   "metadata": {
    "collapsed": true
   },
   "outputs": [],
   "source": [
    "# CODE CELL FOR TASK D INITIAL\n",
    "\n",
    "# Delta_r_f = +0.02\n",
    "\n",
    "# ...\n",
    "# ...\n",
    "# ...\n",
    "# ...\n",
    "\n",
    "# Delta_r_PS10taskD = "
   ]
  },
  {
   "cell_type": "markdown",
   "metadata": {},
   "source": [
    "### (Task D) Flexprice: Higher Interest Rates Abroad (Continued)\n",
    "\n",
    "In the code cell below, write code or otherwise calculate and set the variables:\n",
    "\n",
    "    Delta_I_PS10taskD\n",
    "    Delta_G_PS10taskD\n",
    "    Delta_NX_PS10taskD\n",
    "    Delta_epsilon_PS10taskD\n",
    "    \n",
    "to the changes in their values in the alternative scenario relative ot the baseline"
   ]
  },
  {
   "cell_type": "code",
   "execution_count": null,
   "metadata": {
    "collapsed": true
   },
   "outputs": [],
   "source": [
    "# CODE CELL FOR TASK D CONTINUED\n",
    "\n",
    "# ...\n",
    "# ...\n",
    "# ...\n",
    "# ...\n",
    "# ...\n",
    "\n",
    "# Delta_I_PS10taskD = \n",
    "# Delta_G_PS10taskD = \n",
    "# Delta_NX_PS10taskD = \n",
    "# Delta_epsilon_PS10taskD ="
   ]
  },
  {
   "cell_type": "code",
   "execution_count": null,
   "metadata": {
    "collapsed": true
   },
   "outputs": [],
   "source": [
    "# TASK D ANSWER CHECK\n",
    "\n",
    "import numpy as np\n",
    "ok.grade('q03')"
   ]
  },
  {
   "cell_type": "markdown",
   "metadata": {},
   "source": [
    "### (Task D) Flexprice: Higher Interest Rates Abroad (Conclusion)\n",
    "\n",
    "If everything worked out as it should, you would have identified the portions of the IS Curve equation:\n",
    "\n",
    "&nbsp;&nbsp;&nbsp;&nbsp;&nbsp;&nbsp;&nbsp;&nbsp;&nbsp;\n",
    "$ Y^* = Y = {\\mu}(c_o + I_o + G) + {\\mu}(x_{f}Y^f + x_{\\epsilon}{\\epsilon_o} + x_{\\epsilon}{\\epsilon_r}r^f) - {\\mu}(I_r + x_{\\epsilon}{\\epsilon_r})r $\n",
    "\n",
    "that are relevant to a change $ {\\Delta}r^f $ in interest rates abroad as foreign central banks tighten monetary policy in order to fight inflation. Those components are:\n",
    "\n",
    "&nbsp;&nbsp;&nbsp;&nbsp;&nbsp;&nbsp;&nbsp;&nbsp;&nbsp;\n",
    "$ 0 = {\\Delta}Y^* = {\\mu}(x_{\\epsilon}{\\epsilon_r}){\\Delta}r^f - {\\mu}(I_r + x_{\\epsilon}{\\epsilon_r}){\\Delta}r $\n",
    "\n",
    "And from them—and the parameter values—you could calculate by hand the changes in the variables: $ {\\Delta}r, {\\Delta}I, {\\Delta}G, {\\Delta}NX $, and $ {\\Delta}{\\epsilon} $\n",
    "\n",
    "Or you could have simply solved the model for the initial-scenario equilibrium, solved it for the alternative with the same parameter values except for $ r^f $, and compared the results...\n",
    "\n",
    "What you should have found would be that higher interest rates abroad would have raised the value of the exchange rate variable (the value of foreign currency) as the greed of foreign exchange speculators seeking higher interest rates led them to move money out of the home country. Thus there would have been an export boom. As finance flowed out, however, the domestic interest rate would have risen. The result would have been lower investment spending here at home. This lower investment spending would have thus been the offset of the expansion in net exports that is the necessary accounting counterpart of an outflow of capital. This is the flexprice model: pieces of the flow of spending that shrink must be balanced by other prices that increase to offset and keep total spending equal to potential output.\n",
    "\n",
    "----\n",
    "\n",
    "&nbsp;"
   ]
  },
  {
   "cell_type": "markdown",
   "metadata": {},
   "source": [
    "### (Task E) Sticky-Price: A Fiscal Boost via Expanded Government Purchases (Initial)\n",
    "\n",
    "Start with the IS-Curve for the sticky-price model:\n",
    "\n",
    "&nbsp;&nbsp;&nbsp;&nbsp;&nbsp;&nbsp;&nbsp;&nbsp;&nbsp;\n",
    "$ Y = E = {\\mu}(c_o + I_o + G) + {\\mu}(x_{f}Y^f + x_{\\epsilon}{\\epsilon_o} + x_{\\epsilon}{\\epsilon_r}r^f) - {\\mu}(I_r + x_{\\epsilon}{\\epsilon_r})r $\n",
    "\n",
    "Remember: causation now moves from right to left: the components of spending add up to aggregate demand or total expenditure E, and the inventory adjustment process then drives national income and product Y to aggregate demand.\n",
    "\n",
    "Otherwise, assume all parameter values as in the initial setup for Task B.\n",
    "\n",
    "The code cell immediately below sets the values of the parameters and calculates the components of aggregate demand, the level of national income and product, and the level of the exchange rate variable $ \\epsilon $ for an initial value of the real interest rate r = 4%.\n",
    "\n",
    "In the code cell below the setup cell, calculate the change in national product produced by a 500 billion increase in government purchases $ {\\Delta}G = +0.5 $, holding constant the real interest rate r, and set the value of the variable:\n",
    "\n",
    "    Delta_Y_PS10taskE\n",
    "    \n",
    "to that calculated change:"
   ]
  },
  {
   "cell_type": "code",
   "execution_count": null,
   "metadata": {
    "collapsed": true
   },
   "outputs": [],
   "source": [
    "# STICKY-PRICE MODEL INITIAL SCENARIO SETUP\n",
    "\n",
    "# Set initial parameter and variable values\n",
    "c_o = 2\n",
    "c_y = 5/8\n",
    "\n",
    "I_o = 4.4\n",
    "I_r = 10\n",
    "\n",
    "G = 4\n",
    "t = 0.20\n",
    "\n",
    "im_y = 1/6\n",
    "x_f = 0.1\n",
    "Y_f = 20\n",
    "r_f = 0.04\n",
    "\n",
    "x_epsilon = 4/3\n",
    "epsilon_o = 1\n",
    "epsilon_r = 5\n",
    "\n",
    "# Calculate the value of the multiplier\n",
    "mu = 1/(1-c_y*(1-t)+ im_y)\n",
    "\n",
    "# Set the real interest rate\n",
    "r = 0.04\n",
    "\n",
    "# Calculate the equilibrium value of Y from the IS Curve\n",
    "Y = mu * ((c_o + I_o + G) + \n",
    "    (x_f * Y_f + x_epsilon * epsilon_o + x_epsilon * epsilon_r * r_f) -\n",
    "    (I_r + x_epsilon * epsilon_r)* r) \n",
    "\n",
    "# calculcate the values of other economic variables \n",
    "# in this initial scenario\n",
    "C = c_o + c_y * (1-t) * Y\n",
    "I = I_o - I_r * r\n",
    "GX = x_f * Y_f + x_epsilon * epsilon_o + x_epsilon * epsilon_r * (r_f-r)\n",
    "IM = im_y * Y\n",
    "NX = GX - IM\n",
    "epsilon = epsilon_o + epsilon_r * (r_f-r)\n",
    "\n",
    "# print out the values of economic variables in \n",
    "# this initial scenario equilibrium\n",
    "print(\"The real interest rate =\", r)\n",
    "print(\"\")\n",
    "print(\"The components of national income and product Y are:\")\n",
    "print(\"Consumption spending C = \", C)\n",
    "print(\"Investment spending I = \", I)\n",
    "print(\"Government purchases G = \", G)\n",
    "print(\"Net exports NX = \", NX)\n",
    "print(\"\")\n",
    "print(\"Output Y = \", Y)\n",
    "print(\"\")\n",
    "print(\"Gross exports GX = \", GX)\n",
    "print(\"Imports IM = \", IM)\n",
    "print(\"\")\n",
    "print(\"The real exchange rate ε = \", epsilon)\n",
    "print(\"\")\n",
    "print(\"The multiplier μ = \", mu)\n",
    "\n",
    "# AFTER YOU RUN THIS CELL, DO NOT OVERWRITE THE VALUES OF THE\n",
    "# _ini VARIABLES!\n",
    "#\n",
    "# remember the values of the economic variables in this \n",
    "# initial scenario\n",
    "r_ini = r\n",
    "I_ini = I\n",
    "G_ini = G\n",
    "NX_ini = NX\n",
    "epsilon_ini = epsilon\n",
    "Y_ini = Y\n",
    "C_ini = C"
   ]
  },
  {
   "cell_type": "code",
   "execution_count": null,
   "metadata": {
    "collapsed": true
   },
   "outputs": [],
   "source": [
    "# CODE CELL FOR TASK E INITIAL\n",
    "\n",
    "# Delta_G = +0.5\n",
    "\n",
    "# ...\n",
    "# ...\n",
    "# ...\n",
    "# ...\n",
    "\n",
    "# Delta_Y_PS10taskE = "
   ]
  },
  {
   "cell_type": "markdown",
   "metadata": {},
   "source": [
    "### (Task E) Sticky-Price: A Fiscal Boost via Expanded Government Purchases (Continued)\n",
    "\n",
    "In the code cell below, write code or otherwise calculate and set the variables:\n",
    "\n",
    "    Delta_C_PS10taskE\n",
    "    Delta_I_PS10taskE\n",
    "    Delta_G_PS10taskE\n",
    "    Delta_NX_PS10taskE\n",
    "    Delta_epsilon_PS10taskE\n",
    "    \n",
    "to the changes in their values in the alternative scenario relative to the baseline"
   ]
  },
  {
   "cell_type": "code",
   "execution_count": null,
   "metadata": {
    "collapsed": true
   },
   "outputs": [],
   "source": [
    "# CODE CELL FOR TASK E CONTINUED\n",
    "\n",
    "# ...\n",
    "# ...\n",
    "# ...\n",
    "# ...\n",
    "# ...\n",
    "\n",
    "# Delta_C_PS10taskE =\n",
    "# Delta_I_PS10taskE = \n",
    "# Delta_G_PS10taskE = \n",
    "# Delta_NX_PS10taskE = \n",
    "# Delta_epsilon_PS10taskE =\n",
    "# Delta_r_PS10taskE ="
   ]
  },
  {
   "cell_type": "code",
   "execution_count": null,
   "metadata": {
    "collapsed": true
   },
   "outputs": [],
   "source": [
    "# TASK E ANSWER CHECK\n",
    "\n",
    "import numpy as np\n",
    "ok.grade('q04')"
   ]
  },
  {
   "cell_type": "markdown",
   "metadata": {},
   "source": [
    "### (Task E) Sticky-Price: A Fiscal Boost via Expanded Government Purchases (Conclusion)\n",
    "\n",
    "If everything worked out as it should, you would have identified the portions of the sticky-price IS Curve equation:\n",
    "\n",
    "&nbsp;&nbsp;&nbsp;&nbsp;&nbsp;&nbsp;&nbsp;&nbsp;&nbsp;\n",
    "$ Y = E = {\\mu}(c_o + I_o + G) + {\\mu}(x_{f}Y^f + x_{\\epsilon}{\\epsilon_o} + x_{\\epsilon}{\\epsilon_r}r^f) - {\\mu}(I_r + x_{\\epsilon}{\\epsilon_r})r $\n",
    "\n",
    "that are relevant to an increase $ {\\Delta}G $ in government purchases holding the real interest rate constant. Those components are:\n",
    "\n",
    "&nbsp;&nbsp;&nbsp;&nbsp;&nbsp;&nbsp;&nbsp;&nbsp;&nbsp;\n",
    "$ {\\Delta}Y = {\\Delta}E = {\\mu}{\\Delta}G) $\n",
    "\n",
    "And from them—and the parameter values—you could calculate by hand the changes in other economic variables.\n",
    "\n",
    "Or you could have simply solved the model for the initial-scenario equilibrium, solved it for the alternative with the same parameter values except for $ G : {\\Delta}G = +0.5 $, and compared the results...\n",
    "\n",
    "What you should have found would be the standard Keynesian multiplier result: When national income and product Y is demand determined, as in the sticky price model, there is a multiplied effect of any change in autonomous spending on Y. The multiplier comes from the positive feedback channel by which higher national income Y induces higher consumption spending C. The multiplier effect is partially damped because some of the flow of spending \"leaks\" abroad in the form of higher imports.\n",
    "\n",
    "----\n",
    "\n",
    "&nbsp;"
   ]
  },
  {
   "cell_type": "markdown",
   "metadata": {},
   "source": [
    "### (Task F) Moving Along the Sticky-Price IS-Curve via Tighter Monetary Policy (Initial)\n",
    "\n",
    "Start with the IS-Curve for the sticky-price model:\n",
    "\n",
    "&nbsp;&nbsp;&nbsp;&nbsp;&nbsp;&nbsp;&nbsp;&nbsp;&nbsp;\n",
    "$ Y = E = {\\mu}(c_o + I_o + G) + {\\mu}(x_{f}Y^f + x_{\\epsilon}{\\epsilon_o} + x_{\\epsilon}{\\epsilon_r}r^f) - {\\mu}(I_r + x_{\\epsilon}{\\epsilon_r})r $\n",
    "\n",
    "Remember: causation now moves from right to left: the components of spending add up to aggregate demand or total expenditure E, and the inventory adjustment process then drives national income and product Y to aggregate demand.\n",
    "\n",
    "Otherwise, assume all parameter values as in the initial setup for Task B.\n",
    "\n",
    "The code cell immediately below sets the values of the parameters and calculates the components of aggregate demand, the level of national income and product, and the level of the exchange rate variable $ \\epsilon $ for an initial value of the real interest rate r = 4%.\n",
    "\n",
    "In the code cell below the setup cell, calculate the change in national product produced by a shift in the real interest rate r: by a change $ {\\Delta}r = + 0.04 $ raising the real interest rate from 4% to 8% to fight inflation. Set the value of the variable:\n",
    "\n",
    "    Delta_Y_PS10taskF\n",
    "    \n",
    "to that calculated change:"
   ]
  },
  {
   "cell_type": "code",
   "execution_count": null,
   "metadata": {
    "collapsed": true
   },
   "outputs": [],
   "source": [
    "# STICKY-PRICE MODEL INITIAL SCENARIO SETUP\n",
    "\n",
    "# Set initial parameter and variable values\n",
    "c_o = 2\n",
    "c_y = 5/8\n",
    "\n",
    "I_o = 4.4\n",
    "I_r = 10\n",
    "\n",
    "G = 4\n",
    "t = 0.20\n",
    "\n",
    "im_y = 1/6\n",
    "x_f = 0.1\n",
    "Y_f = 20\n",
    "r_f = 0.04\n",
    "\n",
    "x_epsilon = 4/3\n",
    "epsilon_o = 1\n",
    "epsilon_r = 5\n",
    "\n",
    "# Calculate the value of the multiplier\n",
    "mu = 1/(1-c_y*(1-t)+ im_y)\n",
    "\n",
    "# Set the real interest rate\n",
    "r = 0.04\n",
    "\n",
    "# Calculate the equilibrium value of Y from the IS Curve\n",
    "Y = mu * ((c_o + I_o + G) + \n",
    "    (x_f * Y_f + x_epsilon * epsilon_o + x_epsilon * epsilon_r * r_f) -\n",
    "    (I_r + x_epsilon * epsilon_r)* r) \n",
    "\n",
    "# calculcate the values of other economic variables \n",
    "# in this initial scenario\n",
    "C = c_o + c_y * (1-t) * Y\n",
    "I = I_o - I_r * r\n",
    "GX = x_f * Y_f + x_epsilon * epsilon_o + x_epsilon * epsilon_r * (r_f-r)\n",
    "IM = im_y * Y\n",
    "NX = GX - IM\n",
    "epsilon = epsilon_o + epsilon_r * (r_f-r)\n",
    "\n",
    "# print out the values of economic variables in \n",
    "# this initial scenario equilibrium\n",
    "print(\"The real interest rate =\", r)\n",
    "print(\"\")\n",
    "print(\"The components of national income and product Y are:\")\n",
    "print(\"Consumption spending C = \", C)\n",
    "print(\"Investment spending I = \", I)\n",
    "print(\"Government purchases G = \", G)\n",
    "print(\"Net exports NX = \", NX)\n",
    "print(\"\")\n",
    "print(\"Output Y = \", Y)\n",
    "print(\"\")\n",
    "print(\"Gross exports GX = \", GX)\n",
    "print(\"Imports IM = \", IM)\n",
    "print(\"\")\n",
    "print(\"The real exchange rate ε = \", epsilon)\n",
    "print(\"\")\n",
    "print(\"The multiplier μ = \", mu)\n",
    "\n",
    "# AFTER YOU RUN THIS CELL, DO NOT OVERWRITE THE VALUES OF THE\n",
    "# _ini VARIABLES!\n",
    "#\n",
    "# remember the values of the economic variables in this \n",
    "# initial scenario\n",
    "r_ini = r\n",
    "I_ini = I\n",
    "G_ini = G\n",
    "NX_ini = NX\n",
    "epsilon_ini = epsilon\n",
    "Y_ini = Y\n",
    "C_ini = C"
   ]
  },
  {
   "cell_type": "code",
   "execution_count": null,
   "metadata": {
    "collapsed": true
   },
   "outputs": [],
   "source": [
    "# CODE CELL FOR TASK F INITIAL\n",
    "\n",
    "# Delta_r = 0.04\n",
    "\n",
    "# ...\n",
    "# ...\n",
    "# ...\n",
    "# ...\n",
    "\n",
    "# Delta_Y_PS10taskF = "
   ]
  },
  {
   "cell_type": "markdown",
   "metadata": {},
   "source": [
    "### (Task F) Moving Along the Sticky-Price IS-Curve via Tighter Monetary Policy (Continued)\n",
    "\n",
    "In the code cell below, write code or otherwise calculate and set the variables:\n",
    "\n",
    "    Delta_C_PS10taskF\n",
    "    Delta_I_PS10taskF\n",
    "    Delta_G_PS10taskF\n",
    "    Delta_NX_PS10taskF\n",
    "    Delta_epsilon_PS10taskF\n",
    "    \n",
    "to the changes in their values in the alternative scenario relative ot the baseline"
   ]
  },
  {
   "cell_type": "code",
   "execution_count": null,
   "metadata": {
    "collapsed": true
   },
   "outputs": [],
   "source": [
    "# CODE CELL FOR TASK F CONTINUED\n",
    "\n",
    "# ...\n",
    "# ...\n",
    "# ...\n",
    "# ...\n",
    "# ...\n",
    "\n",
    "# Delta_C_PS10taskF =\n",
    "# Delta_I_PS10taskF = \n",
    "# Delta_G_PS10taskF = \n",
    "# Delta_NX_PS10taskF = \n",
    "# Delta_epsilon_PS10taskF =\n",
    "# Delta_r_PS10taskF ="
   ]
  },
  {
   "cell_type": "code",
   "execution_count": null,
   "metadata": {
    "collapsed": true
   },
   "outputs": [],
   "source": [
    "# TASK F ANSWER CHECK\n",
    "\n",
    "import numpy as np\n",
    "ok.grade('q05')"
   ]
  },
  {
   "cell_type": "markdown",
   "metadata": {},
   "source": [
    "### (Task B) The Baseline Flexprice Model\n",
    "\n",
    "**Let us set out the equations for the basic flexprice business cycle model**:\n",
    "\n",
    "And let us set out some baseline values to describe the American economy today, in trillions of dollars:\n",
    "\n",
    "National income: $ Y^* = Y = 20 $ :: Output $ Y $ equal production function potential $ Y^* $\n",
    "\n",
    "In the code cell below, set variables Ystar for potential output and Y for output—national income and product—their appropriate values: "
   ]
  },
  {
   "cell_type": "code",
   "execution_count": null,
   "metadata": {
    "collapsed": true
   },
   "outputs": [],
   "source": [
    "Ystar = \n",
    "Y = "
   ]
  },
  {
   "cell_type": "markdown",
   "metadata": {},
   "source": [
    "**The Consumption Function**:\n",
    "\n",
    "The consumption function: $ C = 13 = c_o + {c_y}(1-t)Y $ :: consumption spending\n",
    "* $ c_o = 3 $ :: consumer confidence, or baseline consumption spending\n",
    "* $ {c_y} = 0.625 $ :: marginal propensity to consume\n",
    "* $ t = 0.2 $ :: tax-and-transfer rate   \n",
    "&nbsp;\n",
    "\n",
    "In the code cell below, set variables for c_o, c_y, and t for baseline consumption, the marginal propensity to consume, and the tax rate to their appropriate values. Then write an equation to calculate C, consumption spending:"
   ]
  },
  {
   "cell_type": "code",
   "execution_count": null,
   "metadata": {
    "collapsed": true
   },
   "outputs": [],
   "source": [
    "c_o = \n",
    "c_y = \n",
    "t = \n",
    "\n",
    "C = \n",
    "print(C, \"= C, consumption spending\")"
   ]
  },
  {
   "cell_type": "markdown",
   "metadata": {},
   "source": [
    "**Investment Spending**:\n",
    "\n",
    "Investment spending: $ I = 3.2 = I_o - {I_r}r $  \n",
    "* $ r = 0 $ :: risky real interest rate\n",
    "* $ I_o = 3.2 $ :: investors' \"animal spirits\"\n",
    "* $ {I_r} = 10 $ :: sensitivity of investment to the real interest rate   \n",
    "&nbsp;\n",
    "\n",
    "In the code cell below, set variables for I_o and I_r for the animal spirits of business and for the sensitivity of investment spending to the real interest rate. Then write an equation to calculate I, investment spending:"
   ]
  },
  {
   "cell_type": "code",
   "execution_count": null,
   "metadata": {
    "collapsed": true
   },
   "outputs": [],
   "source": [
    "r = \n",
    "I_o\n",
    "I_r \n",
    "\n",
    "I = \n",
    "\n",
    "print(I, \"= I, investment spending\")"
   ]
  },
  {
   "cell_type": "markdown",
   "metadata": {},
   "source": [
    "**Government Purchases**:\n",
    "\n",
    "Government purchases: $ G = 4 $    \n",
    "&nbsp;\n",
    "\n",
    "In the code cell below, set the variables for government purchases G to the appropriate value:"
   ]
  },
  {
   "cell_type": "code",
   "execution_count": null,
   "metadata": {
    "collapsed": true
   },
   "outputs": [],
   "source": [
    "G \n",
    "\n",
    "print(G, \"= G, government purchases\")"
   ]
  },
  {
   "cell_type": "markdown",
   "metadata": {},
   "source": [
    "**The International Sector**:\n",
    "\n",
    "The exchange rate: $ \\epsilon = {\\epsilon}_o + {\\epsilon}_r\\left(r^f - r\\right) $ :: measured as a deviation from baseline\n",
    "* $ {\\epsilon}_o = 0 $\n",
    "* $ {\\epsilon}_r = 5 $\n",
    "* $ r^f = 0 $\n",
    "\n",
    "International trade: $ NX = -0.6 = GX - IM $\n",
    "\n",
    ">$ GX = x_fY^f + {x_{\\epsilon}}{\\epsilon} $\n",
    ">* $ x_f = 0.1 $\n",
    ">* $ Y_f = 26 $\n",
    ">* $ x_eps = 2 $\n",
    "\n",
    ">$ IM = im_yY $\n",
    ">* $ im_y = 0.16 $\n",
    "&nbsp;\n",
    "    \n",
    "In the code cell below, set the following variables to their appropriate values:\n",
    "\n",
    "* x_f :: sensivity of exports to foreign national income\n",
    "* Y_f :: foreign national income\n",
    "* x_eps :: sensitivity of exports to the exchange rate\n",
    "* im_y :: sensitivity of imports to domestic national income\n",
    "* eps_o :: exchange rate speculators' opinions\n",
    "* eps_r :: sensitivity of the exchange rate to interest rate differentials\n",
    "* r_f :: the foreign real interest rate\n",
    "\n",
    "Then write equations to calculate the exchange rate, eps, gross exports, GX, imports, IM, and net exports, NX:"
   ]
  },
  {
   "cell_type": "code",
   "execution_count": null,
   "metadata": {
    "collapsed": true
   },
   "outputs": [],
   "source": [
    "eps_o = \n",
    "eps_r = \n",
    "r_f = \n",
    "x_f = \n",
    "Y_f = \n",
    "x_eps = \n",
    "im_y = \n",
    "\n",
    "eps = \n",
    "GX = \n",
    "IM = \n",
    "NX = \n",
    "\n",
    "print(NX, \"= NX, net exports\")"
   ]
  },
  {
   "cell_type": "code",
   "execution_count": null,
   "metadata": {
    "collapsed": true
   },
   "outputs": [],
   "source": [
    "import numpy as np\n",
    "ok.grade('q01')"
   ]
  },
  {
   "cell_type": "markdown",
   "metadata": {},
   "source": [
    "### (Task C) The Effects of an Increase in the Government Deficit at Full Employment 1\n",
    "\n",
    "Let's calculate the effects of a 500 billion dollar increase in the annual deficit produced by expanded government spending on the state of the economy. \n",
    "\n",
    "1. In the code cell below, write code to increase the government purchases variable G from 4 to 4.5.\n",
    "\n",
    "2. Write code to calculate private savings S_p, government savings S_g, foreign savings S_f, and the variable GAP0, what the gap between investment spending and total savings would be if that were to be the only change in the economy.\n",
    "\n",
    "3. Print out this initial round-zero GAP0 variable. Examine it\n",
    "\n",
    "The economy is no longer at its equilibrium. The government is draining savings out of the flow of funds, leaving an excess demand for finance to pay for business investment spending. The economy will adjust—the real interest rate will rise."
   ]
  },
  {
   "cell_type": "code",
   "execution_count": null,
   "metadata": {
    "collapsed": true
   },
   "outputs": [],
   "source": [
    "# Raise government purchases, and calculate the\n",
    "# savings-investment gap\n",
    "\n",
    "G_ini = 4\n",
    "G = G_ini + 0.5\n",
    "T = t * Y\n",
    "\n",
    "S_g = \n",
    "S_f = \n",
    "S_p = \n",
    "\n",
    "GAP0 = I - (S_p + S_g + S_f)"
   ]
  },
  {
   "cell_type": "code",
   "execution_count": null,
   "metadata": {
    "collapsed": true
   },
   "outputs": [],
   "source": [
    "import numpy as np\n",
    "ok.grade('q02')"
   ]
  },
  {
   "cell_type": "markdown",
   "metadata": {},
   "source": [
    "### (Task D) The Effects of an Increase in the Government Deficit at Full Employment 2\n",
    "\n",
    "Suppose that in response to this disequilibrium in the flow-of-funds market created by Task C, r by would increase by 1/10 of this GAP0. \n",
    "\n",
    "1. Adjust r upward by 1/20 of this GAP0.\n",
    "2. Write code to calculate what now private savings S_p, government savings S_g, foreign savings S_f, and the variable GAP1 are.\n",
    "3. Print out this initial round-zero GAP1 variable. Examine it. Is the economy back at equilibrium? Set the variable at_equilibrium to True or False"
   ]
  },
  {
   "cell_type": "code",
   "execution_count": null,
   "metadata": {
    "collapsed": true
   },
   "outputs": [],
   "source": [
    "r_o = 0\n",
    "r = r_o + 0.05 * GAP0\n",
    "\n",
    "I = \n",
    "eps = \n",
    "GX = \n",
    "IM = \n",
    "NX = \n",
    "\n",
    "S_g = \n",
    "S_f = \n",
    "S_p = \n",
    "\n",
    "GAP1 = I - (S_p + S_g + S_f)\n",
    "print(GAP1)\n",
    "\n",
    "at_equilibrium = "
   ]
  },
  {
   "cell_type": "code",
   "execution_count": null,
   "metadata": {
    "collapsed": true
   },
   "outputs": [],
   "source": [
    "import numpy as np\n",
    "ok.grade('q03')"
   ]
  },
  {
   "cell_type": "markdown",
   "metadata": {},
   "source": [
    "### (Task E) The Effects of an Increase in the Government Deficit at Full Employment 3\n",
    "\n",
    "If the economy was not in equilibrium at the end of (Task D), in the code cell below calculate the new equilibrium. In any event, print out and examine consumption spending C, investment spending I, gross exports GX, imports IM, net exports NX, the real interest rate r, and the exchange rate $ \\epsilon $. \n",
    "\n",
    "In the markdown cell further below, explain why the effects of this unfunded increase in government purchases are what they are."
   ]
  },
  {
   "cell_type": "code",
   "execution_count": null,
   "metadata": {
    "collapsed": true
   },
   "outputs": [],
   "source": [
    "# add your code below here..."
   ]
  },
  {
   "cell_type": "markdown",
   "metadata": {
    "deletable": false,
    "manual_grade": true,
    "manual_problem_id": "delong_9"
   },
   "source": [
    "Explanation: <font color='blue'>ANSWER: ___ </font>"
   ]
  },
  {
   "cell_type": "markdown",
   "metadata": {},
   "source": [
    "### (Task F) Moving Along the Sticky-Price IS-Curve via Tighter Monetary Policy (Conclusion)\n",
    "\n",
    "If everything worked out as it should, you would have identified the portions of the sticky-price IS Curve equation:\n",
    "\n",
    "&nbsp;&nbsp;&nbsp;&nbsp;&nbsp;&nbsp;&nbsp;&nbsp;&nbsp;\n",
    "$ Y = E = {\\mu}(c_o + I_o + G) + {\\mu}(x_{f}Y^f + x_{\\epsilon}{\\epsilon_o} + x_{\\epsilon}{\\epsilon_r}r^f) - {\\mu}(I_r + x_{\\epsilon}{\\epsilon_r})r $\n",
    "\n",
    "that are relevant to an increase $ {\\Delta}G $ in government purchases holding the real interest rate constant. Those components are:\n",
    "\n",
    "&nbsp;&nbsp;&nbsp;&nbsp;&nbsp;&nbsp;&nbsp;&nbsp;&nbsp;\n",
    "$ {\\Delta}Y = {\\Delta}E = {\\mu}{\\Delta}G) $\n",
    "\n",
    "And from them—and the parameter values—you could calculate by hand the changes in other economic variables.\n",
    "\n",
    "Or you could have simply solved the model for the initial-scenario equilibrium, solved it for the alternative with the same parameter values except for $ G : {\\Delta}G = +0.5 $, and compared the results...\n",
    "\n",
    "What you should have found would be the standard Keynesian multiplier result: When national income and product Y is demand determined, as in the sticky price model, there is a multiplied effect of any change in autonomous spending on Y. The multiplier comes from the positive feedback channel by which higher national income Y induces higher consumption spending C. The multiplier effect is partially damped because some of the flow of spending \"leaks\" abroad in the form of higher imports.\n",
    "\n",
    "----\n",
    "\n",
    "&nbsp;"
   ]
  },
  {
   "cell_type": "markdown",
   "metadata": {},
   "source": [
    "**(Task B) Consumption Series I**\n",
    "\n",
    "1. Websurf over to http://fred.stlouisfed.org\n",
    "2. Type \"consumption\" into the search box and press return\n",
    "3. Scan down the list of variables, focusing on variables that are \"real\", \"seasonally adjusted\", and \"monthly\".\n",
    "4. Find \"Real Personal Consumption Expenditures: Billions of Chained 2009 Dollars, Monthly, Seasonally Adjusted Annual Rate\". Click on the box to select it. Click on the \"Add to Graph\" button near the top.\n",
    "5. Click the \"DOWNLOAD\" button and then the \"CSV (Data)\" option\n",
    "6. Open the file you have just downloaded, PCEC96.csv, in a text editor. Look at it. Does it look like the right thing? If not, email me at delong@econ.berkeley.edu with the subject line: \"Econ 101b S2018 PS8: PCEC96.csv Does Not Look Right\""
   ]
  },
  {
   "cell_type": "markdown",
   "metadata": {},
   "source": [
    "**(Task C) Consumption Series II**\n",
    "\n",
    "1. I have put a copy of PCEC96.csv up on the web at URL: http://delong.typepad.com/pcec96.csv\n",
    "2. Run the code cell \"# Consumption Series Import Cell\" below to load the \"Real Personal Consumption Expenditures\" data into your namespace in the cons_df object.\n",
    "3. In the \"# Examine Consumption Series\" code cell further below, write code to examine what is in the \"cons_df\" object.\n",
    "4. Plot the Real Personal Consumption Expenditures series PCEC96:\n",
    "In the \"# Task C Answers\" code cell further below set the variables \"Cons_Jan_2000\" and \"Cons_Jan_2010\" to their correct values"
   ]
  },
  {
   "cell_type": "code",
   "execution_count": null,
   "metadata": {
    "collapsed": true
   },
   "outputs": [],
   "source": [
    "# Consumption Series Import Cell\n",
    "\n",
    "import pandas as pd\n",
    "\n",
    "Source_URL = 'http://delong.typepad.com/pcec96.csv' \n",
    "\n",
    "cons_df = pd.read_csv(\n",
    "    Source_URL, \n",
    "    converters = {'Source': str, 'Source_URL': str}, \n",
    "    parse_dates = True,\n",
    "    index_col = 0)\n"
   ]
  },
  {
   "cell_type": "code",
   "execution_count": null,
   "metadata": {
    "collapsed": true
   },
   "outputs": [],
   "source": [
    "# Examine Consumption Series\n",
    "\n",
    "print(cons_df.head())\n",
    "print(cons_df.PCEC96.head())\n",
    "cons_df.PCEC96.plot()"
   ]
  },
  {
   "cell_type": "code",
   "execution_count": null,
   "metadata": {
    "collapsed": true
   },
   "outputs": [],
   "source": [
    "# Task C Answers\n",
    "\n",
    "cons_Jan_2000 = \n",
    "cons_Jan_2010 = "
   ]
  },
  {
   "cell_type": "code",
   "execution_count": null,
   "metadata": {
    "collapsed": true
   },
   "outputs": [],
   "source": [
    "import numpy as np\n",
    "ok.grade('q01')"
   ]
  },
  {
   "cell_type": "markdown",
   "metadata": {},
   "source": [
    "----\n",
    "\n",
    "&nbsp;"
   ]
  },
  {
   "cell_type": "markdown",
   "metadata": {},
   "source": [
    "**(Task D) GDP Series I**\n",
    "\n",
    "1. Websurf over to http://fred.stlouisfed.org\n",
    "2. Type \"real gdp\" into the search box and press return\n",
    "3. Scan down the list of variables, focusing on variables that are \"real\", \"seasonally adjusted\", and \"quarterly\".\n",
    "4. Find \"Real Gross Domestic Product: Billions of Chained 2009 Dollars, Quarterly, Seasonally Adjusted Annual Rate\". Click on the box to select it. Click on the \"Add to Graph\" button near the top.\n",
    "5. Enter '1999-01-01' into the left of the two date boxes to the left of the red \"EDIT GRAPH\" button and press return\n",
    "6. Click the \"DOWNLOAD\" button and then the \"CSV (Data)\" option\n",
    "7. Open the file you have just downloaded, GDPC1.csv, in a text editor. Look at it. Does it look like the right thing? If not, email me at delong@econ.berkeley.edu with the subject line: \"Econ 101b S2018 PS8: GDPC1.csv Does Not Look Right\""
   ]
  },
  {
   "cell_type": "markdown",
   "metadata": {},
   "source": [
    "**(Task E) GDP Series II**\n",
    "\n",
    "1. I have put a copy of GDPC1.csv up on the web at URL: http://delong.typepad.com/gdpc1.csv\n",
    "2. Run the code cell \"# GDP Series Import Cell\" below to load the \"Real GDP\" data into your namespace in the cons_df object.\n",
    "3. In the \"# Examine GDP Series\" code cell further below, write code to examine what is in the \"cons_df\" object.\n",
    "4. Plot the Real Personal Consumption Expenditures series PCEC96:\n",
    "In the \"# Task D Answers\" code cell further below set the variables \"Cons_Jan_2000\" and \"Cons_Jan_2010\" to their correct values"
   ]
  },
  {
   "cell_type": "code",
   "execution_count": null,
   "metadata": {
    "collapsed": true
   },
   "outputs": [],
   "source": [
    "# GDP Series Import Cell\n",
    "\n",
    "import pandas as pd\n",
    "\n",
    "Source_URL = 'http://delong.typepad.com/gdpc1.csv' \n",
    "\n",
    "gdp_df = pd.read_csv(\n",
    "    Source_URL, \n",
    "    converters = {'Source': str, 'Source_URL': str}, \n",
    "    parse_dates = True,\n",
    "    index_col = 0)\n"
   ]
  },
  {
   "cell_type": "code",
   "execution_count": null,
   "metadata": {
    "collapsed": true
   },
   "outputs": [],
   "source": [
    "# Examine GDP Series"
   ]
  },
  {
   "cell_type": "code",
   "execution_count": null,
   "metadata": {
    "collapsed": true
   },
   "outputs": [],
   "source": [
    "# Task D Answers\n",
    "\n",
    "gdp_Jan_2000 =\n",
    "gdp_Jan_2010 ="
   ]
  },
  {
   "cell_type": "code",
   "execution_count": null,
   "metadata": {
    "collapsed": true
   },
   "outputs": [],
   "source": [
    "import numpy as np\n",
    "ok.grade('q02')"
   ]
  },
  {
   "cell_type": "markdown",
   "metadata": {},
   "source": [
    "----\n",
    "\n",
    "&nbsp;"
   ]
  },
  {
   "cell_type": "markdown",
   "metadata": {},
   "source": [
    "**(Task F) The Consumption Function I**:\n",
    "\n",
    "1. Run the code cell \"Graph consumption vs. income\" immediately below, importing and plotting real consumption spending and real GDP since the early post-WWII period into a single dataframe. Examine the plot. Email me at delong@econ.berkeley.edu with the subject line \"Econ 101b S2018 PS8: gdp_cons_df Does Not Look Right\" if anything looks wrong to you\n",
    "2. Run the code cell \"Graph consumption vs. income\" further below. That code cell performs a regression analysis: if consumption spending C is a simple linear function of GDP—national income—Y of the form $ C = a + bY + \\epsilon $, where $ \\epsilon $ are a host of additional variables not predictable from Y, what are the most likely values of the coefficients a and b, and how good a job do those coefficients and that function do at capturing the determinants of C?\n",
    "3. The regression analysis tells us that the estimated value of the slope coefficient b from the regression of consumption spending C on income Y is 0.6607. What is the relationship between this coefficient and the MPC—the parameter $ c_y $ in our simple flexprice business cycle model? Assume that the tax rate t in the simple model is 0.25. In the code cell further below \"Task F answers\", set the variable c_y equal to your estimate of what the value of b tells us that the MPC is. "
   ]
  },
  {
   "cell_type": "code",
   "execution_count": 3,
   "metadata": {},
   "outputs": [
    {
     "name": "stdout",
     "output_type": "stream",
     "text": [
      "         DATE   PCECC96     GDPC1\n",
      "0  1947-01-01  1199.413  1934.471\n",
      "1  1947-04-01  1219.329  1932.281\n",
      "2  1947-07-01  1223.266  1930.315\n",
      "3  1947-10-01  1223.649  1960.705\n",
      "4  1948-01-01  1229.757  1989.535\n"
     ]
    },
    {
     "data": {
      "text/plain": [
       "<matplotlib.axes._subplots.AxesSubplot at 0x10e426cf8>"
      ]
     },
     "execution_count": 3,
     "metadata": {},
     "output_type": "execute_result"
    }
   ],
   "source": [
    "# Graph consumption vs. income\n",
    "\n",
    "import pandas as pd\n",
    "\n",
    "Source_URL = 'http://delong.typepad.com/gdp_cons.csv'\n",
    "\n",
    "gdp_cons_df = pd.read_csv(\n",
    "    Source_URL, \n",
    "    converters = {'Source': str, 'Source_URL': str}, \n",
    "    parse_dates = True\n",
    "    )\n",
    "\n",
    "print(gdp_cons_df.head())\n",
    "\n",
    "gdp_cons_df.plot()"
   ]
  },
  {
   "cell_type": "code",
   "execution_count": 4,
   "metadata": {},
   "outputs": [
    {
     "name": "stdout",
     "output_type": "stream",
     "text": [
      "                            OLS Regression Results                            \n",
      "==============================================================================\n",
      "Dep. Variable:                PCECC96   R-squared:                       0.998\n",
      "Model:                            OLS   Adj. R-squared:                  0.998\n",
      "Method:                 Least Squares   F-statistic:                 1.465e+05\n",
      "Date:                Fri, 06 Apr 2018   Prob (F-statistic):               0.00\n",
      "Time:                        15:17:29   Log-Likelihood:                -1811.1\n",
      "No. Observations:                 284   AIC:                             3626.\n",
      "Df Residuals:                     282   BIC:                             3634.\n",
      "Df Model:                           1                                         \n",
      "Covariance Type:            nonrobust                                         \n",
      "==============================================================================\n",
      "                 coef    std err          t      P>|t|      [0.025      0.975]\n",
      "------------------------------------------------------------------------------\n",
      "const       -363.0965     16.811    -21.599      0.000    -396.187    -330.006\n",
      "GDPC1          0.6945      0.002    382.803      0.000       0.691       0.698\n",
      "==============================================================================\n",
      "Omnibus:                        3.098   Durbin-Watson:                   0.053\n",
      "Prob(Omnibus):                  0.212   Jarque-Bera (JB):                3.147\n",
      "Skew:                           0.229   Prob(JB):                        0.207\n",
      "Kurtosis:                       2.762   Cond. No.                     1.84e+04\n",
      "==============================================================================\n",
      "\n",
      "Warnings:\n",
      "[1] Standard Errors assume that the covariance matrix of the errors is correctly specified.\n",
      "[2] The condition number is large, 1.84e+04. This might indicate that there are\n",
      "strong multicollinearity or other numerical problems.\n"
     ]
    }
   ],
   "source": [
    "import numpy as np\n",
    "import statsmodels.api as sm\n",
    "import statsmodels.formula.api as smf\n",
    "\n",
    "Consumption = gdp_cons_df.PCECC96\n",
    "Income = gdp_cons_df.GDPC1\n",
    "Income = sm.add_constant(Income)\n",
    "results = sm.OLS(Consumption, Income).fit()\n",
    "\n",
    "print(results.summary())"
   ]
  },
  {
   "cell_type": "code",
   "execution_count": null,
   "metadata": {
    "collapsed": true
   },
   "outputs": [],
   "source": [
    "# Task F answers\n",
    "\n",
    "c_y = "
   ]
  },
  {
   "cell_type": "code",
   "execution_count": null,
   "metadata": {
    "collapsed": true
   },
   "outputs": [],
   "source": [
    "import numpy as np\n",
    "ok.grade('q03')"
   ]
  },
  {
   "cell_type": "markdown",
   "metadata": {},
   "source": [
    "----\n",
    "\n",
    "&nbsp;"
   ]
  },
  {
   "cell_type": "markdown",
   "metadata": {},
   "source": [
    "**(Task G) Consumption Function II**\n",
    "\n",
    "Task F produced a very high estimate of the marginal propensity to consume, MPC, $ c_y $. It seemed to indicate that households do not smooth spending very much at all—that they take virtually all of a change in their income and spend it. This estimate was obtained because the overwhelming bulk of the identifying variance in the regression analysis of Task F consisted of permanent, long run changes in actual and expected income. Now let us look at shorter run, more temporary changes. We do this by performing a regression analysis in which the dependent and independent variables are not the simple levels of consumption spending C and national income Y, but rather one year changes in those variables scaled by the then-current level of real national income.\n",
    "\n",
    "1. Run the code cell below \"Calculating one year changes\", which calculates and then plots one year changes in consumption spending C and national income Y, both of them as fractions of the then-current level of national income Y. Examine the plot. Email me at delong@econ.berkeley.edu with the subject line \"Econ 101b S2018 PS8: Delta_C and Delta_Y DO Not Look Right\" if anything looks wrong to you.\n",
    "2. Run the code cell further below \"1 year changes regression: full sample\". Use the estimated b coefficient—the number immediately to the right of the \"Delta_Y\" under the heading \"coef\"—to calculate the estimate of the MPC $ c_y $ produced from examining one year changes. Assume once again that the tax rate t is 0.25. In the code cell \"Task G answers\", set the variable c_y_1_year equal to the estimate of the MPC.\n",
    "3. Duplicate the code cell \"Calculating one year changes\". Then paste it immediately below. Alter the first line of the pasted version to read \"# Calculating one year changes: earlier half of the sample\"\n",
    "4. Change the code in \"# Calculating one year changes: earlier half of the sample\" so that it runs the regression analysis for 1 year changes for only the first half of our 280 observation-long post-WWII data. In the code cell \"Task G answers\", set the variable c_y_1_year_early_sample equal to the estimate of the MPC for the first half of the sample.\n",
    "5. Duplicate the code cell \"Calculating one year changes\". Then paste it immediately below. Alter the first line of the pasted version to read \"# Calculating one year changes: later half of the sample\"\n",
    "6. Change the code in \"# Calculating one year changes: later half of the sample\" so that it runs the regression analysis for 1 year changes for only the second half of our 280 observation-long post-WWII data. In the code cell \"Task G answers\", set the variable c_y_1_year_late_sample equal to the estimate of the MPC for the second half of the sample."
   ]
  },
  {
   "cell_type": "code",
   "execution_count": 10,
   "metadata": {},
   "outputs": [
    {
     "name": "stdout",
     "output_type": "stream",
     "text": [
      "         DATE   PCECC96     GDPC1   Delta_C   Delta_Y\n",
      "0  1947-01-01  1199.413  1934.471  0.015686  0.028465\n",
      "1  1947-04-01  1219.329  1932.281  0.012799  0.046355\n",
      "2  1947-07-01  1223.266  1930.315  0.011722  0.053276\n",
      "3  1947-10-01  1223.649  1960.705  0.016416  0.038060\n",
      "4  1948-01-01  1229.757  1989.535  0.014130  0.009041\n"
     ]
    },
    {
     "data": {
      "text/plain": [
       "[<matplotlib.lines.Line2D at 0x111ea5eb8>]"
      ]
     },
     "execution_count": 10,
     "metadata": {},
     "output_type": "execute_result"
    },
    {
     "data": {
      "image/png": "[encoded data removed]",
      "text/plain": [
       "<matplotlib.figure.Figure at 0x111dee2e8>"
      ]
     },
     "metadata": {},
     "output_type": "display_data"
    }
   ],
   "source": [
    "# Calculating one year changes\n",
    "\n",
    "import matplotlib as mpl\n",
    "import matplotlib.pyplot as plt\n",
    "\n",
    "Delta_C = []\n",
    "Delta_Y = []\n",
    "\n",
    "for t in range(280):\n",
    "    Delta_C = Delta_C + [(gdp_cons_df.PCECC96[t+4]-\n",
    "        gdp_cons_df.PCECC96[t])/gdp_cons_df.GDPC1[t]]\n",
    "    Delta_Y = Delta_Y + [(gdp_cons_df.GDPC1[t+4]-\n",
    "        gdp_cons_df.GDPC1[t])/gdp_cons_df.GDPC1[t]]\n",
    "\n",
    "Delta_C = Delta_C + [0] + [0] + [0] + [0]\n",
    "Delta_Y = Delta_Y + [0] + [0] + [0] + [0]\n",
    "\n",
    "gdp_cons_df['Delta_C'] = Delta_C\n",
    "gdp_cons_df['Delta_Y'] = Delta_Y\n",
    "\n",
    "print(gdp_cons_df.head())\n",
    "\n",
    "plt.plot(gdp_cons_df.Delta_Y[:280], gdp_cons_df.Delta_C[:280], \"o\")"
   ]
  },
  {
   "cell_type": "code",
   "execution_count": 12,
   "metadata": {},
   "outputs": [
    {
     "name": "stdout",
     "output_type": "stream",
     "text": [
      "                            OLS Regression Results                            \n",
      "==============================================================================\n",
      "Dep. Variable:                Delta_C   R-squared:                       0.616\n",
      "Model:                            OLS   Adj. R-squared:                  0.615\n",
      "Method:                 Least Squares   F-statistic:                     446.1\n",
      "Date:                Fri, 06 Apr 2018   Prob (F-statistic):           9.78e-60\n",
      "Time:                        15:20:35   Log-Likelihood:                 961.08\n",
      "No. Observations:                 280   AIC:                            -1918.\n",
      "Df Residuals:                     278   BIC:                            -1911.\n",
      "Df Model:                           1                                         \n",
      "Covariance Type:            nonrobust                                         \n",
      "==============================================================================\n",
      "                 coef    std err          t      P>|t|      [0.025      0.975]\n",
      "------------------------------------------------------------------------------\n",
      "const          0.0088      0.001     11.831      0.000       0.007       0.010\n",
      "Delta_Y        0.3802      0.018     21.122      0.000       0.345       0.416\n",
      "==============================================================================\n",
      "Omnibus:                      128.109   Durbin-Watson:                   0.658\n",
      "Prob(Omnibus):                  0.000   Jarque-Bera (JB):              902.326\n",
      "Skew:                          -1.704   Prob(JB):                    1.15e-196\n",
      "Kurtosis:                      11.107   Cond. No.                         38.4\n",
      "==============================================================================\n",
      "\n",
      "Warnings:\n",
      "[1] Standard Errors assume that the covariance matrix of the errors is correctly specified.\n"
     ]
    }
   ],
   "source": [
    "# 1 year changes regression: full sample\n",
    "\n",
    "import numpy as np\n",
    "import statsmodels.api as sm\n",
    "import statsmodels.formula.api as smf\n",
    "\n",
    "Delta_Consumption = gdp_cons_df.Delta_C[:280]\n",
    "Delta_Income = gdp_cons_df.Delta_Y[:280]\n",
    "Delta_Income = sm.add_constant(Delta_Income)\n",
    "results = sm.OLS(Delta_Consumption, Delta_Income).fit()\n",
    "\n",
    "print(results.summary())"
   ]
  },
  {
   "cell_type": "code",
   "execution_count": null,
   "metadata": {
    "collapsed": true
   },
   "outputs": [],
   "source": [
    "# Task G answers\n",
    "\n",
    "c_y_1_year =\n",
    "c_y_1_year_early_sample = \n",
    "c_y_1_year_late_sample = "
   ]
  },
  {
   "cell_type": "code",
   "execution_count": null,
   "metadata": {
    "collapsed": true
   },
   "outputs": [],
   "source": [
    "import numpy as np\n",
    "ok.grade('q04')"
   ]
  },
  {
   "cell_type": "markdown",
   "metadata": {},
   "source": [
    "----\n",
    "\n",
    "&nbsp;"
   ]
  },
  {
   "cell_type": "markdown",
   "metadata": {},
   "source": [
    "**(Task H) Consumption Function III**\n",
    "\n",
    "Task F produced a very high estimate of the marginal propensity to consume out of disposable income, MPC, $ c_y $, indicating that households do not smooth spending very much at all—that they take virtually all of a change in their income and spend it. This estimate captures the MPC in response to permanent, long run changes in actual and expected income. But the MPC that is relevant for business cycle analysis is a short run MPC: the response of consumption to surprise, transitory changes in national income.\n",
    "\n",
    "Task G produed somewhat smaller estimates of the MPC by looking at the reaction of consumption spending to one-year changes in national income.\n",
    "\n",
    "Now let us look at one quarter changes. We do this by performing a regression analysis in which the dependent and independent variables are oen quarter changes in those variables scaled by the then-current level of real national income.\n",
    "\n",
    "1. Run the code cell below \"Calculating one quarter changes\", which calculates and then plots one year changes in consumption spending C and national income Y, both of them as fractions of the then-current level of national income Y. Examine the plot. Email me at delong@econ.berkeley.edu with the subject line \"Econ 101b S2018 PS8: Delta_C and Delta_Y DO Not Look Right\" if anything looks wrong to you.\n",
    "2. Run the code cell further below \"1 quarter changes regression: full sample\". Use the estimated b coefficient—the number immediately to the right of the \"Delta_Y\" under the heading \"coef\"—to calculate the estimate of the MPC $ c_y $ produced from examining one year changes. Assume once again that the tax rate t is 0.25. In the code cell \"Task G answers\", set the variable c_y_1_quarter equal to the estimate of the MPC.\n",
    "3. Duplicate the code cell \"Calculating one quarter changes\". Then paste it immediately below. Alter the first line of the pasted version to read \"# Calculating one quarter changes: earlier half of the sample\"\n",
    "4. Change the code in \"# Calculating one quarter changes: earlier half of the sample\" so that it runs the regression analysis for 1 year changes for only the first half of our 280 observation-long post-WWII data. In the code cell \"Task G answers\", set the variable c_y_1_quarter_early_sample equal to the estimate of the MPC for the first half of the sample.\n",
    "5. Duplicate the code cell \"Calculating one quarter changes\". Then paste it immediately below. Alter the first line of the pasted version to read \"# Calculating one quarter changes: later half of the sample\"\n",
    "6. Change the code in \"# Calculating one quarter changes: later half of the sample\" so that it runs the regression analysis for 1 year changes for only the seconc half of our 280 observation-long post-WWII data. In the code cell \"Task G answers\", set the variable c_y_1_quarter_late_sample equal to the estimate of the MPC for the second half of the sample."
   ]
  },
  {
   "cell_type": "code",
   "execution_count": 13,
   "metadata": {},
   "outputs": [
    {
     "data": {
      "text/plain": [
       "[<matplotlib.lines.Line2D at 0x112502e80>]"
      ]
     },
     "execution_count": 13,
     "metadata": {},
     "output_type": "execute_result"
    },
    {
     "data": {
      "image/png": "[encoded data removed]",
      "text/plain": [
       "<matplotlib.figure.Figure at 0x111dfada0>"
      ]
     },
     "metadata": {},
     "output_type": "display_data"
    }
   ],
   "source": [
    "# Calculating one quarter changes\n",
    "import numpy as np\n",
    "import statsmodels.api as sm\n",
    "import statsmodels.formula.api as smf\n",
    "import matplotlib as mpl\n",
    "import matplotlib.pyplot as plt\n",
    "\n",
    "Delta_C1 = []\n",
    "Delta_Y1 = []\n",
    "\n",
    "for t in range(280):\n",
    "    Delta_C1 = Delta_C1 + [(gdp_cons_df.PCECC96[t+1]-\n",
    "        gdp_cons_df.PCECC96[t])/gdp_cons_df.GDPC1[t]]\n",
    "    Delta_Y1 = Delta_Y1 + [(gdp_cons_df.GDPC1[t+1]-\n",
    "        gdp_cons_df.GDPC1[t])/gdp_cons_df.GDPC1[t]]\n",
    "\n",
    "Delta_C1 = Delta_C1 + [0] + [0] + [0] + [0]\n",
    "Delta_Y1 = Delta_Y1 + [0] + [0] + [0] + [0]\n",
    "\n",
    "gdp_cons_df['Delta_C1'] = Delta_C1\n",
    "gdp_cons_df['Delta_Y1'] = Delta_Y1\n",
    "\n",
    "plt.plot(gdp_cons_df.Delta_Y1[:280], gdp_cons_df.Delta_C1[:280], \"o\")"
   ]
  },
  {
   "cell_type": "code",
   "execution_count": 14,
   "metadata": {},
   "outputs": [
    {
     "name": "stdout",
     "output_type": "stream",
     "text": [
      "                            OLS Regression Results                            \n",
      "==============================================================================\n",
      "Dep. Variable:               Delta_C1   R-squared:                       0.347\n",
      "Model:                            OLS   Adj. R-squared:                  0.345\n",
      "Method:                 Least Squares   F-statistic:                     148.0\n",
      "Date:                Fri, 06 Apr 2018   Prob (F-statistic):           1.40e-27\n",
      "Time:                        15:22:50   Log-Likelihood:                 1143.2\n",
      "No. Observations:                 280   AIC:                            -2282.\n",
      "Df Residuals:                     278   BIC:                            -2275.\n",
      "Df Model:                           1                                         \n",
      "Covariance Type:            nonrobust                                         \n",
      "==============================================================================\n",
      "                 coef    std err          t      P>|t|      [0.025      0.975]\n",
      "------------------------------------------------------------------------------\n",
      "const          0.0027      0.000      8.562      0.000       0.002       0.003\n",
      "Delta_Y1       0.3129      0.026     12.164      0.000       0.262       0.364\n",
      "==============================================================================\n",
      "Omnibus:                      138.075   Durbin-Watson:                   2.456\n",
      "Prob(Omnibus):                  0.000   Jarque-Bera (JB):             1978.989\n",
      "Skew:                          -1.602   Prob(JB):                         0.00\n",
      "Kurtosis:                      15.624   Cond. No.                         105.\n",
      "==============================================================================\n",
      "\n",
      "Warnings:\n",
      "[1] Standard Errors assume that the covariance matrix of the errors is correctly specified.\n"
     ]
    }
   ],
   "source": [
    "# 1 quarter changes regression: full sample\n",
    "\n",
    "import numpy as np\n",
    "import statsmodels.api as sm\n",
    "import statsmodels.formula.api as smf\n",
    "\n",
    "Delta_C1 = gdp_cons_df.Delta_C1[:280]\n",
    "Delta_Y1 = gdp_cons_df.Delta_Y1[:280]\n",
    "Delta_Y1 = sm.add_constant(Delta_Y1)\n",
    "results = sm.OLS(Delta_Consumption, Delta_Income).fit()\n",
    "\n",
    "results = sm.OLS(Delta_C1, Delta_Y1).fit()\n",
    "\n",
    "print(results.summary())"
   ]
  },
  {
   "cell_type": "code",
   "execution_count": null,
   "metadata": {
    "collapsed": true
   },
   "outputs": [],
   "source": [
    "# Task H answers\n",
    "\n",
    "c_y_1_quarter =\n",
    "c_y_1_quarter_early_sample =\n",
    "c_y_1_quarter_late_sample ="
   ]
  },
  {
   "cell_type": "markdown",
   "metadata": {},
   "source": [
    "**(Task B) Demographic Transtion**\n",
    "\n",
    "How much of a difference successfully passing through the demographic transition makes for an economy depends critically on the value of the production function parameter $ \\alpha $. A high value makes the demographic burdens of rapid population and labor force growth extremely expensive for an economy.\n",
    "\n",
    "Recall our steady-state balanced growth path equations for the Solow growth model:\n",
    "\n",
    "&nbsp;&nbsp;&nbsp;&nbsp;&nbsp;&nbsp;&nbsp;&nbsp;&nbsp;\n",
    "$ \\left(\\frac{K}{Y}\\right)^* =\n",
    "\\frac{s}{n+g+\\delta} $\n",
    "\n",
    "and:\n",
    "\n",
    "&nbsp;&nbsp;&nbsp;&nbsp;&nbsp;&nbsp;&nbsp;&nbsp;&nbsp;\n",
    "$ \\left(\\frac{Y}{L}\\right)^* =\n",
    "{\\left(\\frac{K}{Y}\\right)^*}\n",
    "^\\left(\\frac{\\alpha}{1-\\alpha}\\right)\n",
    "E $\n",
    "\n",
    "Assume s = 15%, g = 2% per year, $ \\delta $ = 3% per year, the initial pre-transion $ n_{ini} $ = 3% per year, the alternative post-transition $ n_{alt} $ = 0% per year. Calculate the quotient of output per worker along the steady state balanced growth path for the alternative post-transition scenario divided by output per worker for the iniital pre-transition scenario for the following value of $ \\alpha $:\n",
    "\n",
    "* $ \\alpha $ = 0.2\n",
    "* $ \\alpha $ = 0.4\n",
    "* $ \\alpha $ = 0.6\n",
    "* $ \\alpha $ = 0.8\n",
    "\n",
    "Assign your calculated values to the appropriate variables in the Code Cell for Answers for Task (B) below"
   ]
  },
  {
   "cell_type": "code",
   "execution_count": null,
   "metadata": {
    "collapsed": true
   },
   "outputs": [],
   "source": [
    "# Code Cell for Answers for Task B\n",
    "\n",
    "quotientalpha2 =\n",
    "quotientalpha4 =\n",
    "quotientalpha6 =\n",
    "quotientalpha8 ="
   ]
  },
  {
   "cell_type": "code",
   "execution_count": null,
   "metadata": {
    "collapsed": true
   },
   "outputs": [],
   "source": [
    "import numpy as np\n",
    "ok.grade('q01')"
   ]
  },
  {
   "cell_type": "markdown",
   "metadata": {},
   "source": [
    "----\n",
    "\n",
    "&nbsp;"
   ]
  },
  {
   "cell_type": "markdown",
   "metadata": {},
   "source": [
    "**(Task C) Cross-Country Productivity Differences I**\n",
    "\n",
    "Consider a Solow growth model economy with a capital accumulation rate that depends on the relative price of capital goods $ p_k $, because a lower price of capital goods means that a similar amount of savings sY will translate into more investment in capital, thus:\n",
    "\n",
    "&nbsp;&nbsp;&nbsp;&nbsp;&nbsp;&nbsp;&nbsp;&nbsp;&nbsp;\n",
    "$ \\frac{d\\left(ln(K)\\right)}{dt} = \n",
    "\\left(\\frac{s}{p_k}\\right)\\left(\\frac{Y}{K}\\right) - \\delta $\n",
    "\n",
    "in which the relative price of capital goods is:\n",
    "\n",
    "&nbsp;&nbsp;&nbsp;&nbsp;&nbsp;&nbsp;&nbsp;&nbsp;&nbsp;\n",
    "$ p_k = \\left(\\frac{Y}{L}\\right)^{-\\eta} $\n",
    "\n",
    "with $ \\eta $ being the Greek letter called \"eta\".\n",
    "\n",
    "The steady-state balanced-growth path capital-output ratio would then be:\n",
    "\n",
    "&nbsp;&nbsp;&nbsp;&nbsp;&nbsp;&nbsp;&nbsp;&nbsp;&nbsp;\n",
    "$ \\left(\\frac{K}{Y}\\right)^* =\n",
    "\\frac{s/p_k}{n+g+\\delta} $\n",
    "\n",
    "and output per worker along the steady-state balanced-growth path would then be:\n",
    "\n",
    "&nbsp;&nbsp;&nbsp;&nbsp;&nbsp;&nbsp;&nbsp;&nbsp;&nbsp;\n",
    "$ \\left(\\frac{Y}{L}\\right)^* =\n",
    "\\left(\\frac{s/p_k}{n+g+\\delta}\\right)\n",
    "^{\\frac{\\alpha}{1-\\alpha}}\n",
    "E $\n",
    "\n",
    "In this environment—in which high levels of the effiency of labor and output per worker carry with them a reduction in the relative price of capital goods—we seek to analyze what difference this dependence of the price of capita on prosperity makes. For this question, assume further that the economy's capital-output ratio and output per worker level is on its balanced growth path. And assume for this Task that the current level of the efficiency of labor E is equal to 1.\n",
    "\n",
    "----\n",
    "\n",
    "(1) Let the savings rate s=18%, the labor force growth rate n = 1% per year, the labor efficiency growth rate g = 2% per year, the depreciation rate $ \\delta $ = 3% per year, and the production function parameter $ \\alpha $ = 1/2.\n",
    "\n",
    "(a) what is current balanced-growth path output per worker if $ \\eta = 0 $? Set the variable YoLbg20 equal to your answer in the Code Cell for Answers for Task (C) below.\n",
    "\n",
    "(b) what is current balanced-growth path output per worker if $ \\eta = 0.1 $? Set the variable YoLbg21 equal to your answer in the Code Cell for Answers for Task (C) below.\n",
    "\n",
    "(c) what is current balanced-growth path output per worker if $ \\eta = 0.2 $? Set the variable YoLbg22 equal to your answer in the Code Cell for Answers for Task (C) below.\n",
    "\n",
    "(d) what is current balanced-growth path output per worker if $ \\eta = 0.3 $? Set the variable YoLbg23 equal to your answer in the Code Cell for Answers for Task (C) below.\n",
    "\n",
    "(e) what is current balanced-growth path output per worker if $ \\eta = 0.4 $? Set the variable YoLbg24 equal to your answer in the Code Cell for Answers for Task (C) below.\n",
    "\n",
    "(f) what is current balanced-growth path output per worker if $ \\eta = 0.5 $? Set the variable YoLbg25 equal to your answer in the Code Cell for Answers for Task (C) below.\n",
    "\n",
    "----\n",
    "\n",
    "(2) Let the savings rate s=18%, the labor force growth rate n = 1% per year, the labor efficiency growth rate g = 2% per year, the depreciation rate $ \\delta $ = 3% per year, and the production function parameter $ \\alpha $ = 3/4.\n",
    "\n",
    "(a) what is current balanced-growth path output per worker if $ \\eta = 0 $? Set the variable YoLbg30 equal to your answer in the Code Cell for Answers for Task (C) below.\n",
    "\n",
    "(b) what is current balanced-growth path output per worker if $ \\eta = 0.1 $? Set the variable YoLbg31 equal to your answer in the Code Cell for Answers for Task (C) below.\n",
    "\n",
    "(c) what is current balanced-growth path output per worker if $ \\eta = 0.2 $? Set the variable YoLbg32 equal to your answer in the Code Cell for Answers for Task (C) below.\n",
    "\n",
    "----\n",
    "\n",
    "(3) Is this method—take the Solow model balanced growth path and assume that the economy is going to be on it—a reasonable way to proceed in analyzing the question of how much difference an association of prosperity with low capital goods prices make? How might it lead to wrong conclusions? How would you test whether thoe conclusions are wrong? Write your answer in the Markdown Cell for Answers to Task C below."
   ]
  },
  {
   "cell_type": "code",
   "execution_count": null,
   "metadata": {
    "collapsed": true
   },
   "outputs": [],
   "source": [
    "# Code Cell for Answers for Task C\n",
    "\n",
    "YoLbg20 =   # (1)(a)\n",
    "YoLbg21 =   # (1)(b)\n",
    "YoLbg22 =   # (1)(c)\n",
    "YoLbg23 =   # (1)(d)\n",
    "YoLbg24 =   # (1)(e)\n",
    "YoLbg25 =   # (1)(f)\n",
    "\n",
    "YoLbg30 =   # (1)(a)\n",
    "YoLbg31 =   # (1)(b)\n",
    "YoLbg32 =   # (1)(c)"
   ]
  },
  {
   "cell_type": "markdown",
   "metadata": {
    "deletable": false,
    "manual_grade": true,
    "manual_problem_id": "PS7TEC"
   },
   "source": [
    "### Markdown Cell for Answer to Task C(3)\n",
    "\n",
    "&nbsp;\n",
    "\n",
    "ANSWER:<font color=\"blue\"> </font>"
   ]
  },
  {
   "cell_type": "code",
   "execution_count": null,
   "metadata": {
    "collapsed": true
   },
   "outputs": [],
   "source": [
    "import numpy as np\n",
    "ok.grade('q02')"
   ]
  },
  {
   "cell_type": "markdown",
   "metadata": {},
   "source": [
    "----\n",
    "\n",
    "&nbsp;"
   ]
  },
  {
   "cell_type": "markdown",
   "metadata": {},
   "source": [
    "**(Task D) Cross-Country Productivity Differences II**\n",
    "\n",
    "Consider an economy with a capital accumulation rate that depends on the relative price of capital goods $ p_k $ thus:\n",
    "\n",
    "&nbsp;&nbsp;&nbsp;&nbsp;&nbsp;&nbsp;&nbsp;&nbsp;&nbsp;\n",
    "$ \\frac{d\\left(ln(K)\\right)}{dt} = \n",
    "\\left(\\frac{s}{p_k}\\right)\\left(\\frac{Y}{K}\\right) - \\delta $\n",
    "\n",
    "in which the relative price of capital goods is a function of the efficiency of labor:\n",
    "\n",
    "&nbsp;&nbsp;&nbsp;&nbsp;&nbsp;&nbsp;&nbsp;&nbsp;&nbsp;\n",
    "$ p_k = E^{-\\eta} $\n",
    "\n",
    "and which has an initial efficiency of labor $ E_0 $, an initial capital-output ratio $ K_0/Y_0 $, a constant efficiency of labor growth rate g, a constant population growth rate n, and a production function:\n",
    "\n",
    "&nbsp;&nbsp;&nbsp;&nbsp;&nbsp;&nbsp;&nbsp;&nbsp;&nbsp;\n",
    "$ \\frac{Y}{L} = \\left(\\frac{K}{Y}\\right)^{\\frac{\\alpha}{1-\\alpha}}E $\n",
    "\n",
    "The code cell below contains a small program to simulate this model for different parameter values and initial conditions. It is initially set up with:\n",
    "\n",
    "* s = 0.18\n",
    "* g = 0.02\n",
    "* n = 0.01\n",
    "* $ \\delta = 0.03 $\n",
    "* $ \\eta = 0.0 $\n",
    "* $ \\alpha = 1/3 $\n",
    "* $ L_0 = 1 $\n",
    "* $ E_0 = 1 $\n",
    "* $ \\frac{K_0}{Y_0} = 3\n",
    "\n",
    "Run the cell to check that it is working. Then alter the code to consider the cases:\n",
    "\n",
    "* $ \\eta = 0.0 $\n",
    "* $ \\eta = 0.2 $\n",
    "* $ \\eta = 0.4 $\n",
    "* $ \\eta = 0.6 $\n",
    "\n",
    "Examine the results. Assign the appropriate values for output per worker and the capital-output ratio in the hundredth year of the simulation in the code cell \"Code Cell fo rAnswers for Task D\" further below. "
   ]
  },
  {
   "cell_type": "code",
   "execution_count": null,
   "metadata": {
    "collapsed": true
   },
   "outputs": [],
   "source": [
    "# Code cell for simulation for Task (D)\n",
    "\n",
    "# check to see if libraries are in the current kernel\n",
    "import numpy as np\n",
    "import pandas as pd\n",
    "import matplotlib as mpl\n",
    "import matplotlib.pyplot as plt\n",
    "from IPython.display import Image\n",
    "\n",
    "# simulation length\n",
    "T = 100\n",
    "\n",
    "# parameters\n",
    "s = 0.18\n",
    "g = 0.02\n",
    "n = 0.01\n",
    "delta = 0.03\n",
    "eta = 0.6\n",
    "alpha = 1/3\n",
    "\n",
    "# initial conditions\n",
    "L_0 = 1\n",
    "E_0 = 1\n",
    "KoY_0 = 3\n",
    "\n",
    "\n",
    "sg_df = pd.DataFrame(index=range(T),columns=['Labor', \n",
    "    'Efficiency',\n",
    "    'Capital',\n",
    "    'Output',\n",
    "    'Output_per_Worker',\n",
    "    'Capital_Output_Ratio',\n",
    "    'Price_of_Capital'],\n",
    "    dtype='float')\n",
    "\n",
    "sg_df.Labor[0] = L_0\n",
    "sg_df.Efficiency[0] = E_0\n",
    "sg_df.Price_of_Capital[0] = sg_df.Efficiency[0]**(-eta)\n",
    "sg_df.Capital_Output_Ratio[0] = KoY_0\n",
    "sg_df.Output_per_Worker[0] = (sg_df.Capital_Output_Ratio[0]**(alpha/(1-alpha)) *\n",
    "                             sg_df.Efficiency[0])\n",
    "sg_df.Output[0] = sg_df.Output_per_Worker[0] * sg_df.Labor[0]\n",
    "sg_df.Capital[0] = sg_df.Output[0] * sg_df.Capital_Output_Ratio[0]\n",
    "\n",
    "for i in range(T):\n",
    "    sg_df.Labor[i+1] = (sg_df.Labor[i] * np.exp(n))\n",
    "    sg_df.Efficiency[i+1] = (sg_df.Efficiency[i] * np.exp(g))\n",
    "    sg_df.Capital[i+1] = (sg_df.Capital[i] * np.exp(s\n",
    "        *sg_df.Output[i]/(sg_df.Capital[i]*sg_df.Price_of_Capital[i]) - \n",
    "        delta))\n",
    "    sg_df.Output[i+1] = (sg_df.Capital[i+1]**alpha * \n",
    "        (sg_df.Labor[i+1] * sg_df.Efficiency[i+1])**(1-alpha))\n",
    "    sg_df.Output_per_Worker[i+1] = sg_df.Output[i+1]/sg_df.Labor[i+1]\n",
    "    sg_df.Capital_Output_Ratio[i+1] = (sg_df.Capital[i+1]/\n",
    "        sg_df.Output[i+1])\n",
    "    sg_df.Price_of_Capital[i+1] = sg_df.Efficiency[i+1]**(-eta)\n",
    "\n",
    "fig = plt.figure(figsize=(12, 8))\n",
    "\n",
    "ax1 = plt.subplot(2,3,1)\n",
    "sg_df.Labor.plot(ax = ax1, title = \"Labor Force\")\n",
    "plt.ylabel(\"Values\")\n",
    "plt.ylim(0, )\n",
    "\n",
    "ax2 = plt.subplot(2,3,2)\n",
    "sg_df.Efficiency.plot(ax = ax2, title = \"Efficiency of Labor\")\n",
    "plt.ylim(0, )\n",
    "    \n",
    "ax3 = plt.subplot(2,3,3)\n",
    "sg_df.Capital.plot(ax = ax3, title = \"Capital Stock\")\n",
    "plt.ylim(0, )\n",
    "\n",
    "ax4 = plt.subplot(2,3,4)\n",
    "sg_df.Output.plot(ax = ax4, title = \"Output\")\n",
    "plt.ylim(0, )\n",
    "plt.xlabel(\"Years\")\n",
    "plt.ylabel(\"Values\")\n",
    "\n",
    "ax5 = plt.subplot(2,3,5)\n",
    "sg_df.Output_per_Worker.plot(ax = ax5, title = \"Output per Worker\")\n",
    "plt.xlabel(\"Years\")\n",
    "plt.ylim(0, )\n",
    "\n",
    "ax6 = plt.subplot(2,3,6)\n",
    "sg_df.Capital_Output_Ratio.plot(ax = ax6, \n",
    "    title = \"Capital-Output Ratio\")\n",
    "plt.xlabel(\"Years\")\n",
    "plt.ylim(0, )\n",
    "\n",
    "plt.suptitle('Solow Growth Model: Simulation Run', size = 20)\n",
    "\n",
    "plt.show()"
   ]
  },
  {
   "cell_type": "code",
   "execution_count": null,
   "metadata": {
    "collapsed": true
   },
   "outputs": [],
   "source": [
    "# Code Cell for Answers for Task D\n",
    "\n",
    "YoL100eta0 = \n",
    "YoL100eta2 =\n",
    "YoL100eta4 =\n",
    "YoL100eta6 =\n",
    "\n",
    "KoY100eta0 =\n",
    "KoY100eta2 =\n",
    "KoY100eta4 =\n",
    "KoY100eta6 ="
   ]
  },
  {
   "cell_type": "code",
   "execution_count": null,
   "metadata": {
    "collapsed": true
   },
   "outputs": [],
   "source": [
    "import numpy as np\n",
    "ok.grade('q03')"
   ]
  },
  {
   "cell_type": "markdown",
   "metadata": {},
   "source": [
    "----\n",
    "\n",
    "&nbsp;"
   ]
  },
  {
   "cell_type": "markdown",
   "metadata": {},
   "source": [
    "**(Task E) Cross-Country Productivity Differences III**\n",
    "\n",
    "As we said in lecture, it is a scandal that the world today is so unequal—so much more unequal than it was two centuries ago—and that 1.5 billion out of our 7 billion or so fellow human beings still live lives not all that distinguishable from those of our pre-Industrial Revolution ancestors, and only 1 billion or so participate fully in the wealth of today's Global North.\n",
    "\n",
    "The bare Solow growth model does not do a good job of accounting for this \"Divergence, Big Time\". With the standard estimate of the production function parameter $ \\alpha = 1/3 $ and with the presumption that the efficiency of labor E is principally determined by ideas about technology and organization that can be easily communicated and learned, the underlying bias of the Solow growth model is toward one of anticipating relatively rapid economic convergence to Global North productivity levels. That has not happened.\n",
    "\n",
    "This problem set has indicated two modifications to the Solow model that have some promise for explaining some of the \"Divergence, Big Time\" that characterizes our world: the demographic burdens placed on emerging markets that are still undergoing pre-Demographic Transition rapid population growth, and the association of a high efficiency of labor with a relative price structure that makes boosting productivity through investment easy.\n",
    "\n",
    "In the appropriate space in \"Markdown Cell for Answer to Task E\" below, write an essay of about 250 words indicating what you think would be possibly fruitful directions to further extend and modify the Solow growth model so that it can teach us more about why today's economic world is such an unequal place.\n",
    "\n",
    "----\n",
    "\n",
    "&nbsp;"
   ]
  },
  {
   "cell_type": "markdown",
   "metadata": {
    "manual_grade": true,
    "manual_problem_id": "PS7E"
   },
   "source": [
    "### Markdown Cell for Answer to Task E\n",
    "\n",
    "&nbsp;\n",
    "\n",
    "ANSWER:<font color=\"blue\"> </font>"
   ]
  },
  {
   "cell_type": "markdown",
   "metadata": {
    "deletable": false,
    "manual_grade": true,
    "manual_problem_id": "PS6TB"
   },
   "source": [
    "**(Task B) Savings and Investment**\n",
    "\n",
    "_Would an increase in the saving and investment share of U.S. total output raise or lower output per worker growth and living standards? Double-click on this markdown cell and write your answer below:_\n",
    "\n",
    "&nbsp;\n",
    "\n",
    "<font color=\"blue\">ANSWER: </font>\n",
    "\n",
    "----\n",
    "\n",
    "&nbsp;"
   ]
  },
  {
   "cell_type": "markdown",
   "metadata": {
    "deletable": false,
    "manual_grade": true,
    "manual_problem_id": "PS6TC"
   },
   "source": [
    "**(Task C) Escape from the Malthusian Trap**\n",
    "\n",
    "_Suppose somebody who hasn’t taken any economics courses asks you why humanity escaped from the Malthusian trap of very low standards of living and slow popula  tion growth rates, which nevertheless put pressure on available natural resources and kept output per worker from rising, in which humanity found itself between 8000 BC and AD 1800. What answer would you give? Double-click on this markdown cell and write your answer below:_\n",
    "\n",
    "&nbsp;\n",
    "\n",
    "<font color=\"blue\">ANSWER: </font>\n",
    "\n",
    "----\n",
    "\n",
    "&nbsp;"
   ]
  },
  {
   "cell_type": "markdown",
   "metadata": {},
   "source": [
    "**(Task D) Zero Population Growth**\n",
    "\n",
    "Many observers project that by the end of the twenty-first century the population of the United States will be stable. Using the Solow growth model, what would such a downward shift in the growth rate of the labor force do to the growth of output per worker and to the growth of total output if zero labor force growth came suddenly and permanently in 2050? Consider both the effect on the balanced-growth equilibrium path and the transition from the “old” positive population growth to the “new” zero population growth balanced-growth path.\n",
    "\n",
    "Answer this question by setting the appropriate variables to their values in the code cell below. The initial balanced growth path steady state of the economy has:\n",
    "\n",
    "* Rate of population growth n = 1% per year\n",
    "* Rate of efficiency-of-labor growth g = 1.5% per year\n",
    "* Depreciation rate $ \\delta $ (delta) = 3% per year\n",
    "* Savings-investment effort as a share of output s = 22% per year\n",
    "* Diminishing returns to investment production function parameter $ \\alpha $ (alpha) = 0.5\n",
    "* Level of the efficiency of labor today $ E_{2018} = 65000 $"
   ]
  },
  {
   "cell_type": "code",
   "execution_count": null,
   "metadata": {
    "collapsed": true
   },
   "outputs": [],
   "source": [
    "Output_per_worker2050 =\n",
    "Output_per_worker2100 =\n",
    "Output_per_worker2150 =\n",
    "Capital_output_ratio2050 =\n",
    "Capital_output_ratio2100 =\n",
    "Capital_output_ratio2150 ="
   ]
  },
  {
   "cell_type": "code",
   "execution_count": null,
   "metadata": {
    "collapsed": true
   },
   "outputs": [],
   "source": [
    "ok.grade('q01')"
   ]
  },
  {
   "cell_type": "markdown",
   "metadata": {},
   "source": [
    "----\n",
    "\n",
    "&nbsp;"
   ]
  },
  {
   "cell_type": "markdown",
   "metadata": {
    "deletable": false,
    "manual_grade": true,
    "manual_problem_id": "PS6TE"
   },
   "source": [
    "**(Task E) Savings and Investment**\n",
    "\n",
    "_Suppose somebody who hasn’t taken any economics courses asks you why some countries are so very, very much poorer than others in the world today. What an  swer would you give? Double-click on this markdown cell and write your answer below:_\n",
    "\n",
    "&nbsp;\n",
    "\n",
    "<font color=\"blue\">ANSWER: </font>\n",
    "\n",
    "----\n",
    "\n",
    "&nbsp;"
   ]
  },
  {
   "cell_type": "markdown",
   "metadata": {},
   "source": [
    "**(Task F) Long Run Human Populations: Levels and Growth**\n",
    "\n",
    "Run the code cell below, unchanged, to enter Michael Kremer's data—his estimates of human population and its growth, updated to 2015, into the pandas dataframe \"Pop_df\". Then proceed to do the tasks in the markdown cells further down:"
   ]
  },
  {
   "cell_type": "code",
   "execution_count": 7,
   "metadata": {
    "collapsed": true
   },
   "outputs": [],
   "source": [
    "# HUMAN POPULATION OVER THE LAST 10000 YEARS\n",
    "#\n",
    "# make sure the standard libraries are active\n",
    "\n",
    "import numpy as np\n",
    "import pandas as pd\n",
    "import matplotlib as mpl\n",
    "import matplotlib.pyplot as plt\n",
    "from IPython.display import Image\n",
    "\n",
    "Population = (\n",
    "    [-8000,5],\n",
    "    [-4000, 7],\n",
    "    [-2000, 27],\n",
    "    [-1000, 50],\n",
    "    [-500, 100],\n",
    "    [-200, 150],\n",
    "    [0, 170],\n",
    "    [200, 190],\n",
    "    [400, 190],\n",
    "    [600, 200],\n",
    "    [800, 230],\n",
    "    [1000, 265],\n",
    "    [1200, 360],\n",
    "    [1400, 350],\n",
    "    [1500, 425],\n",
    "    [1600, 545],\n",
    "    [1700, 610],\n",
    "    [1750, 720],\n",
    "    [1800, 900],\n",
    "    [1850, 1200],\n",
    "    [1875, 1325],\n",
    "    [1900, 1625],\n",
    "    [1925, 1875],\n",
    "    [1950, 2516],\n",
    "    [1975, 4000],\n",
    "    [2000, 6100],\n",
    "    [2015, 7250])"
   ]
  },
  {
   "cell_type": "code",
   "execution_count": 8,
   "metadata": {
    "collapsed": true
   },
   "outputs": [],
   "source": [
    "Population = np.array(Population)"
   ]
  },
  {
   "cell_type": "code",
   "execution_count": 9,
   "metadata": {
    "collapsed": true
   },
   "outputs": [],
   "source": [
    "Pop_df = pd.DataFrame(Population) "
   ]
  },
  {
   "cell_type": "code",
   "execution_count": 10,
   "metadata": {
    "collapsed": true
   },
   "outputs": [],
   "source": [
    "Pop_df.columns = ['Date', 'Population']"
   ]
  },
  {
   "cell_type": "code",
   "execution_count": 11,
   "metadata": {},
   "outputs": [
    {
     "name": "stderr",
     "output_type": "stream",
     "text": [
      "/Users/delong/anaconda3/lib/python3.6/site-packages/ipykernel_launcher.py:4: SettingWithCopyWarning: \n",
      "A value is trying to be set on a copy of a slice from a DataFrame\n",
      "\n",
      "See the caveats in the documentation: http://pandas.pydata.org/pandas-docs/stable/indexing.html#indexing-view-versus-copy\n",
      "  after removing the cwd from sys.path.\n"
     ]
    }
   ],
   "source": [
    "Pop_df['Year'] = 0.0\n",
    "\n",
    "for i in range(26):\n",
    "    Pop_df.Year[i] = Pop_df.Date[i]\n",
    "    "
   ]
  },
  {
   "cell_type": "code",
   "execution_count": null,
   "metadata": {
    "collapsed": true
   },
   "outputs": [],
   "source": [
    "Pop_df = Pop_df.set_index('Date')"
   ]
  },
  {
   "cell_type": "markdown",
   "metadata": {},
   "source": [
    "Now let us compare growth rates of human populations across different time periods. Set the variables in the code cell below to their appropriate values:"
   ]
  },
  {
   "cell_type": "code",
   "execution_count": null,
   "metadata": {
    "collapsed": true
   },
   "outputs": [],
   "source": [
    "Growth_Rate_1000BC_to_1000AD =\n",
    "Growth_Rate_1400_to_1600 =\n",
    "Growth_Rate_1900_to_1950 ="
   ]
  },
  {
   "cell_type": "code",
   "execution_count": null,
   "metadata": {
    "collapsed": true
   },
   "outputs": [],
   "source": [
    "ok.grade('q03')"
   ]
  },
  {
   "cell_type": "markdown",
   "metadata": {},
   "source": [
    "Now suppose that we are in a Malthusian population régime, in which the rate of population growth is linearly proportional to the relative deviation of typical standards of living from 750 dollars a year, with population growth at zero when output per capita is 750 dollars per year and 1 percent per year when output per worker is 1500. What would you think typical standards of living were in the 1400 to 1600 period and the in the 1900 to 1950 period? Enter the appropriate values for the variables in the code cell below:"
   ]
  },
  {
   "cell_type": "code",
   "execution_count": null,
   "metadata": {
    "collapsed": true
   },
   "outputs": [],
   "source": [
    "SoLtypical1400to1600 =\n",
    "SoLtypical1900to1950 ="
   ]
  },
  {
   "cell_type": "code",
   "execution_count": null,
   "metadata": {
    "collapsed": true
   },
   "outputs": [],
   "source": [
    "ok.grade('q04')"
   ]
  },
  {
   "cell_type": "markdown",
   "metadata": {},
   "source": [
    "----\n",
    "\n",
    "&nbsp;"
   ]
  },
  {
   "cell_type": "markdown",
   "metadata": {},
   "source": [
    "**(Task G) American and British Economic Growth**\n",
    "\n",
    "Run the code cell below, unchanged, to enter Measuring Worth data for the United Kingdom and the United States into the pandas dataframes \"uklongrun_df\" and \"uslongrun_df\" and the pandas dictionaries \"uklongrun_dict\" and \"uslongrun_dict\". Then proceed to do the tasks in the markdown cell further down:"
   ]
  },
  {
   "cell_type": "code",
   "execution_count": null,
   "metadata": {
    "collapsed": true
   },
   "outputs": [],
   "source": [
    "# CODE\n",
    "\n",
    "# British long run real GDP per capita growth\n",
    "# From Sam Williamson and Louis Johnston, Measuring Worth\n",
    "# Data\n",
    "\n",
    "sourceURL = \"http://delong.typepad.com/2018-02-18_ukgdp_1700-2017.csv\"\n",
    "uklongrun_df = pd.read_csv(sourceURL, index_col = 0)\n",
    "\n",
    "uklongrun_dict = {}\n",
    "uklongrun_dict[\"df\"] = uklongrun_df\n",
    "uklongrun_dict[\"sourceURL\"] = sourceURL\n",
    "uklongrun_dict[\"sourceDescription\"] = \"Ryland Thomas and Samuel H. Williamson, 'What Was the Consistent U.K. GDP Then?' MeasuringWorth 2018\"   \n",
    "uklongrun_dict[\"sourceNotes\"] = \"http://www.measuringworth.com/ukgdp/\"\n",
    "\n",
    "# ----\n",
    "\n",
    "# U.S. long run economic growth of real GDP per capita: data cell\n",
    "# From Sam Williamson and Louis Johnston, Measuring Worth\n",
    "\n",
    "sourceURL = \"http://delong.typepad.com/2018-02-18_usgdp_1790-2016.csv\"\n",
    "uslongrun_df = pd.read_csv(sourceURL, index_col = 0)\n",
    "\n",
    "uslongrun_dict = {}\n",
    "uslongrun_dict[\"df\"] = uslongrun_df\n",
    "uslongrun_dict[\"sourceURL\"] = sourceURL\n",
    "uslongrun_dict[\"sourceDescription\"] = \"Louis Johnston and Samuel H. Williamson, 'What Was the U.S. GDP Then?' MeasuringWorth, 2018\"   \n",
    "uslongrun_dict[\"sourceNotes\"] = \"https://www.measuringworth.com/usgdp/\""
   ]
  },
  {
   "cell_type": "markdown",
   "metadata": {
    "deletable": false,
    "manual_grade": true,
    "manual_problem_id": "PS6TG"
   },
   "source": [
    "Now, using the code cell below, plot United Kingdom economic growth in estimated GDP per capita since 1700. And, using the code below that, plot United States economic growth in estimated GDP per capita since 1790 What would you say the key dividing points in the past several centuries economic growth have been for both countries? What key breakpoints do they share? What key breakpoints are confined to one or the other alone? After running your code and looking at your graphs, double-click on this markdown cell and write your answer below:\n",
    "\n",
    "&nbsp;\n",
    "\n",
    "<font color=\"blue\">ANSWER: </font>"
   ]
  },
  {
   "cell_type": "code",
   "execution_count": null,
   "metadata": {
    "collapsed": true
   },
   "outputs": [],
   "source": [
    "# CODE"
   ]
  },
  {
   "cell_type": "code",
   "execution_count": null,
   "metadata": {
    "collapsed": true
   },
   "outputs": [],
   "source": [
    "# CODE"
   ]
  },
  {
   "cell_type": "markdown",
   "metadata": {
    "deletable": false,
    "manual_grade": true,
    "manual_problem_id": "PS6TH"
   },
   "source": [
    "**(Task H) Malthusian Economies**\n",
    "\n",
    "Below we have a function code cell that performs a simulation for the Malthusian economy discussed in lecture and in §5.1 of the DRAFT 3rd edition of DeLong and Olney: _Macroeconomics_, with an interact link to the texbook file at: <http://datahub.berkeley.edu/user-redirect/interact?account=braddelong&repo=LSS18E101b&branch=master&path=m%26O3ed/ch5/2018-02-06_DeLong_and_Olney_Macro_3rd_Ch_5.1%20The%20Reality%20of%20Economic%20Growth-Before%20Modern%20Economic%20Growth.ipynb>\n",
    "\n",
    "This version of the Malthusian model has:\n",
    "\n",
    "* _resource scarcity_: labor efficiency E depends on both the stock of ideas H and natural resources per worker N/L\n",
    "* _Malthusian population response_: up to a point, a higher level of output per worker Y/L calls forth a faster rate of growth of population and the labor force\n",
    "* _Two heads are better than one_: up to a point, a higher population means a greater proportional growth rate of the ideas stock H\n",
    "* _Demographic transition_: Population and labor force growth reaches its maximum when output per worker is twice subsistence, and thereafter declines to zero population growth\n",
    "* _Speed limit on modern economic growth_: the ideas stock H cannot grow faster than 2 percent per year\n",
    "\n",
    "Run the function code cell below\n",
    "\n",
    "The code cell after the function code cell presents a baseline run of this simulation, with parameters calibrated to more-or-less reproduce human economic history from the invention of agriculture up to the year 1, running for 800 decades—8000 years from 8000 BC to the year 1 (set in the function call by setting T=801). \n",
    "\n",
    "1. Run this second code cell to check that it does indeed track human history, with income per worker in year 1 at about 1700 dollars per year and the labor force in year 1 at about 80 million.\n",
    "\n",
    "2. Copy and paste the function call code cell, and edit it by altering the \"T=\" declaration that determines how long the simulation runs for to add more decades in order to track the simulated economy up to the year 2500. When, for these baselien parameter values, does the Industrial Revolution take place?\n",
    "\n",
    "3. Copy and paste the function call code cell, and edit it by altering the \"h=\" declaration that determines how ingenious humans are in their economy to make us and our predecessors more ingenious—choose h=0.00012 instead of the baseline h=0.0000805. When, for these parameter values, does the Industrial Revolution take place?\n",
    "\n",
    "4. Copy and paste the function call code cell, and edit it by altering the \"h=\" declaration that determines how ingenious humans are in their economy to make us and our predecessors less ingenious—choose h=0.00005 instead of the baseline h=0.0000805. When, for these parameter values, does the Industrial Revolution take place?\n",
    "\n",
    "Write your answers to (2), (3), and (4) below in this markdown cell:\n",
    "\n",
    "&nbsp;\n",
    "\n",
    "<font color=\"blue\">ANSWER: </font>\n",
    "\n",
    "----\n",
    "\n",
    "&nbsp;"
   ]
  },
  {
   "cell_type": "code",
   "execution_count": null,
   "metadata": {
    "collapsed": true
   },
   "outputs": [],
   "source": [
    "# FUNCTION FOR CALCULATING AND GRAPHING THE LEVELS OF \n",
    "# SOLOW GROWTH MODEL VARIABLES IN MALTHUSIAN SIMULATIONS\n",
    "#\n",
    "# ADDING IN TWO HEADS ARE BETTER THAN ONE: TECHNOLOGICAL PROGRESS \n",
    "# PROPORTIONAL TO POPULATION RAISED TO THE POWER LAMBDA...\n",
    "# \n",
    "# IDEAS GROWTH NEVER GREATER THAN 2% PER YEAR\n",
    "#\n",
    "# ADDING IN DEMOGRAPHIC TRANSITION: POPULATION GROWTH SLOWS\n",
    "# AFTER REAL INCOMES REACH 2000 DOLLARS PER YEAR\n",
    "#\n",
    "# might as well put \"check that common libraries are active\" as a default header\n",
    "# in every long python code cell...\n",
    "\n",
    "import matplotlib as mpl\n",
    "import matplotlib.pyplot as plt\n",
    "import pandas as pd\n",
    "import scipy as sp\n",
    "import numpy as np\n",
    "%matplotlib inline\n",
    "\n",
    "# we are going to want to see what happens for lots of\n",
    "# different model parameter values and ini conditions,\n",
    "# so stuff our small simulation program inside a function, so \n",
    "# we can then invoke it with a single line...\n",
    "#\n",
    "# we are going to assume the economy starts on its ini\n",
    "# balanced growth path...\n",
    "#\n",
    "# we are going to want to keep track not just of what the\n",
    "# economy's variables are at each point in time, but also \n",
    "# what the ini and alternative balanced-growth path \n",
    "# values of variables are. Given the parameters, the new BGP \n",
    "# is attracting the economy to it at the speed (1-α)(n+g+δ), \n",
    "# closing that fraction of the gap between its current state \n",
    "# and the balanced growth path attractor every period...\n",
    "#\n",
    "\n",
    "def sgm_malthus_run(H0=900, N0=2250, gamma=2, L0=2.5, n=0.000442, h=0.0000805, s=0.10, \n",
    "    alpha=1/3, delta=0.04, Delta_s=0, Delta_g=0, Delta_n=0, phi=0.01, ybar = 1500,\n",
    "    lambda_i = 0.5, T = 1001, figure_title = \"Ideas: Two Heads Are (Somewhat) Better than One\"):\n",
    "\n",
    "    sg_df = pd.DataFrame(index=range(T),columns=[\n",
    "        'Year',\n",
    "        'Labor', \n",
    "        'Efficiency',\n",
    "        'Capital',\n",
    "        'Output',\n",
    "        'Output_per_Worker',\n",
    "        'Capital_Output_Ratio',\n",
    "        'Ideas',\n",
    "        'Resources',\n",
    "        'BGP_ini_Labor',\n",
    "        'BGP_ini_Eff',\n",
    "        'BGP_ini_Capital',\n",
    "        'BGP_ini_Output',\n",
    "        'BGP_ini_Output_per_Worker',\n",
    "        'BGP_ini_Capital_Output_Ratio',\n",
    "        'BGP_alt_Labor',\n",
    "        'BGP_alt_Eff',\n",
    "        'BGP_alt_Capital',\n",
    "        'BGP_alt_Output',\n",
    "        'BGP_alt_Output_per_Worker',\n",
    "        'BGP_alt_Capital_Output_Ratio'],\n",
    "        dtype='float')\n",
    "\n",
    "    g = (gamma/(1+gamma))*h - (1/(1+gamma))*n\n",
    "    sg_df.Ideas[0] = H0\n",
    "    sg_df.Resources[0] = N0\n",
    "    E0 = sg_df.Ideas[0]**(gamma/(1+gamma))*(sg_df.Resources[0]/L0)**(1/(1+gamma))\n",
    "    sg_df.Labor[0] = L0\n",
    "    sg_df.BGP_ini_Labor[0] = L0\n",
    "    sg_df.BGP_alt_Labor[0] = L0\n",
    "    sg_df.Efficiency[0] = E0\n",
    "    sg_df.BGP_ini_Eff[0] = E0\n",
    "    sg_df.BGP_alt_Eff[0] = E0\n",
    "    KoverY_ini_steady_state = s/(n+g+delta)\n",
    "    YoverL_ini_steady_state = ((s/(n+g+delta))**(alpha/(1-alpha)) \n",
    "        * E0)\n",
    "    KoverL_ini_steady_state = (YoverL_ini_steady_state *\n",
    "        KoverY_ini_steady_state)\n",
    "    sg_df.Capital[0] = KoverL_ini_steady_state * L0\n",
    "    sg_df.Output[0] = (sg_df.Capital[0]**alpha * (sg_df.Labor[0] * \n",
    "        sg_df.Efficiency[0])**(1-alpha))\n",
    "    sg_df.Output_per_Worker[0] = sg_df.Output[0]/sg_df.Labor[0]\n",
    "    sg_df.Capital_Output_Ratio[0] = sg_df.Capital[0]/sg_df.Output[0]\n",
    "    \n",
    "    sg_df.BGP_ini_Capital_Output_Ratio[0] = (s / (n + g + delta))\n",
    "    sg_df.BGP_ini_Output_per_Worker[0] = sg_df.Efficiency[0] * (\n",
    "        sg_df.BGP_ini_Capital_Output_Ratio[0]*(alpha/(1 - alpha)))\n",
    "    sg_df.BGP_ini_Output[0] = sg_df.BGP_ini_Output_per_Worker[0] * sg_df.Labor[0]\n",
    "    sg_df.BGP_ini_Capital[0] = sg_df.Labor[0] * sg_df.Efficiency[0] * (\n",
    "        sg_df.BGP_ini_Capital_Output_Ratio[0]*(1/(1 - alpha)))\n",
    "    \n",
    "    sg_df.BGP_alt_Capital_Output_Ratio[0] = ((s + Delta_s) / \n",
    "        (n + Delta_n + g + Delta_g + delta))\n",
    "    sg_df.BGP_alt_Output_per_Worker[0] = sg_df.Efficiency[0] * (\n",
    "        sg_df.BGP_alt_Capital_Output_Ratio[0]*(alpha/(1 - alpha)))\n",
    "    sg_df.BGP_alt_Output[0] = sg_df.BGP_alt_Output_per_Worker[0] * sg_df.Labor[0]\n",
    "    sg_df.BGP_alt_Capital[0] = sg_df.Labor[0] * sg_df.Efficiency[0] * (\n",
    "        sg_df.BGP_alt_Capital_Output_Ratio[0]*(1/(1 - alpha)))\n",
    "    \n",
    "\n",
    "    for i in range(T):\n",
    "        if (sg_df.Output_per_Worker[i] < 2*ybar):\n",
    "            n = phi * np.log(sg_df.Output_per_Worker[i]/ybar)\n",
    "        else:\n",
    "            n = phi * np.log(2)*np.exp(-sg_df.Output_per_Worker[i]/(2*ybar) + 1)\n",
    "        sg_df.Labor[i+1] = (sg_df.Labor[i] * np.exp(10*(n + Delta_n)))\n",
    "        sg_df.Ideas[i+1] = sg_df.Ideas[i]*np.exp(10*min((h*sg_df.Labor[i]**lambda_i), 0.02))\n",
    "        sg_df.Resources[i+1] = sg_df.Resources[i]\n",
    "        KoverY_current = sg_df.Capital[i]/sg_df.Output[i]\n",
    "        sg_df.Capital[i+1] = (sg_df.Capital[i] * np.exp(10*(s+Delta_s)/ \n",
    "            KoverY_current - 10*delta))\n",
    "        \n",
    "        sg_df.Efficiency[i+1] = (sg_df.Ideas[i+1]**(gamma/(1+gamma)) * \n",
    "            (sg_df.Resources[i+1]/sg_df.Labor[i+1])**(1/(1+gamma)))\n",
    "        sg_df.Output[i+1] = (sg_df.Capital[i+1]**alpha * \n",
    "            (sg_df.Labor[i+1] * sg_df.Efficiency[i+1])**(1-alpha))\n",
    "        sg_df.Output_per_Worker[i+1] = sg_df.Output[i+1]/sg_df.Labor[i+1]\n",
    "        sg_df.Capital_Output_Ratio[i+1] = (sg_df.Capital[i+1]/\n",
    "            sg_df.Output[i+1])\n",
    "        \n",
    "        sg_df.BGP_ini_Labor[i+1] = (sg_df.BGP_ini_Labor[i] * np.exp(n))\n",
    "        sg_df.BGP_ini_Eff[i+1] = (sg_df.BGP_ini_Eff[i] * np.exp(g))\n",
    "        sg_df.BGP_ini_Capital_Output_Ratio[i+1] = (s / (n + g + delta))\n",
    "        sg_df.BGP_ini_Output_per_Worker[i+1] = sg_df.BGP_ini_Eff[i+1] * (\n",
    "            sg_df.BGP_ini_Capital_Output_Ratio[i+1]**(alpha/(1 - alpha)))\n",
    "        sg_df.BGP_ini_Output[i+1] = (sg_df.BGP_ini_Output_per_Worker[i+1] * \n",
    "            sg_df.BGP_ini_Labor[i+1])\n",
    "        sg_df.BGP_ini_Capital[i+1] = (s / (n + g + delta))**(1/(1-alpha)) * (\n",
    "            sg_df.BGP_ini_Eff[i+1] * sg_df.BGP_ini_Labor[i+1])\n",
    "        \n",
    "        sg_df.BGP_alt_Labor[i+1] = (sg_df.BGP_alt_Labor[i] * np.exp(n+ Delta_n))\n",
    "        sg_df.BGP_alt_Eff[i+1] = (sg_df.BGP_alt_Eff[i] * np.exp(g+ Delta_g))\n",
    "        sg_df.BGP_alt_Capital_Output_Ratio[i+1] = ((s+ Delta_s) / \n",
    "            (n + Delta_n + g + Delta_g + delta))\n",
    "        sg_df.BGP_alt_Output_per_Worker[i+1] = sg_df.BGP_alt_Eff[i+1] * (\n",
    "            sg_df.BGP_alt_Capital_Output_Ratio[i+1]**(alpha/(1 - alpha)))\n",
    "        sg_df.BGP_alt_Output[i+1] = (sg_df.BGP_alt_Output_per_Worker[i+1] * \n",
    "            sg_df.BGP_alt_Labor[i+1])\n",
    "        sg_df.BGP_alt_Capital[i+1] = ((s + Delta_s) / (n + Delta_n + \n",
    "            g + Delta_g + delta))**(1/(1-alpha)) * (\n",
    "            sg_df.BGP_alt_Eff[i+1] * sg_df.BGP_alt_Labor[i+1])\n",
    "    \n",
    "    sg_df.Year = range(-8000, -8000 + 10*T, 10)\n",
    "    \n",
    "    sg_df = sg_df.set_index('Year')\n",
    "        \n",
    "    fig = plt.figure(figsize=(12, 9))\n",
    "\n",
    "    ax1 = plt.subplot(2,3,1)\n",
    "    sg_df.Labor.plot(ax = ax1, title = \"Labor Force\")\n",
    "    plt.ylabel(\"Values\")\n",
    "    plt.ylim(0, )\n",
    "\n",
    "    ax2 = plt.subplot(2,3,2)\n",
    "    sg_df.Efficiency.plot(ax = ax2, title = \"Efficiency of Labor\")\n",
    "    plt.ylim(0, )\n",
    "    \n",
    "    ax3 = plt.subplot(2,3,3)\n",
    "    sg_df.Capital.plot(ax = ax3, title = \"Capital Stock\")\n",
    "    plt.ylim(0, )\n",
    "\n",
    "    ax4 = plt.subplot(2,3,4)\n",
    "    sg_df.Output.plot(ax = ax4, title = \"Output\")\n",
    "    plt.ylabel(\"Values\")\n",
    "    plt.xlabel(\"Years\")\n",
    "    plt.ylim(0, )\n",
    "\n",
    "    ax5 = plt.subplot(2,3,5)\n",
    "    sg_df.Output_per_Worker.plot(ax = ax5, title = \"Output per Worker\")\n",
    "    plt.xlabel(\"Years\")\n",
    "    plt.ylim(0, )\n",
    "\n",
    "    ax6 = plt.subplot(2,3,6)\n",
    "    sg_df.Capital_Output_Ratio.plot(ax = ax6, \n",
    "        title = \"Capital-Output Ratio\")\n",
    "    plt.xlabel(\"Years\")\n",
    "    plt.ylim(0, 6)\n",
    "\n",
    "    plt.suptitle(figure_title, size = 20)\n",
    "\n",
    "    plt.show()\n",
    "    \n",
    "    print(n + Delta_n, \"is the labor force growth rate\")\n",
    "    print(g + Delta_g, \"is the efficiency of labor growth rate\")\n",
    "    print(delta, \"is the depreciation rate\")\n",
    "    print(s + Delta_s, \"is the savings rate\")\n",
    "    print(alpha, \"is the decreasing-returns-to-scale parameter\")\n",
    "    print(\" \")\n",
    "    print(sg_df.Labor[0], \"is the labor force in year 0\")\n",
    "    print(sg_df.Output_per_Worker[0], \"is output per worker in year 0\")\n",
    "    print(\" \")\n",
    "    "
   ]
  },
  {
   "cell_type": "code",
   "execution_count": null,
   "metadata": {
    "collapsed": true
   },
   "outputs": [],
   "source": [
    "sgm_malthus_run(T=801, figure_title = \"Demographic Transition\", \n",
    "    h=0.0000805, phi=0.01, ybar = 1500)"
   ]
  },
  {
   "cell_type": "markdown",
   "metadata": {},
   "source": [
    "**(Task B) Getting a Sense of How the Solow Growth Model Behaves Via Simulation**\n",
    "\n",
    "We start out with us giving you two functions:\n",
    "\n",
    "    sgm_bgp_100yr_run(L0, E0, n=0.01, g=0.02, s=0.24,\n",
    "    alpha=0.5, delta=0.03, Delta_s=0, Delta_g=0, Delta_n=0, \n",
    "    T = 100)\n",
    "\n",
    "calculating and plotting levels of Solow growth model variables, and:\n",
    "\n",
    "    log_sgm_bgp_100yr_run(L0, E0, n=0.01, g=0.02, s=0.24, \n",
    "    alpha=0.5, delta=0.03, Delta_s=0, Delta_g=0, Delta_n=0, \n",
    "    T = 100)\n",
    "\n",
    "calculating and plotting the logarithms of Solow growth model variables.\n",
    "    \n",
    "Required arguments are the initial level of the labor force, L0, the first argument of the function, and the initial level of the efficiency of labor, E0, the second argument of the\n",
    "function.\n",
    "\n",
    "Optional arguments are the curvature of the production function parameter alpha (or $ \\alpha $), the depreciation rate delta (or $ \\delta $), and the time T for which the simulation is to be run; plus:\n",
    "\n",
    "* the value of labor force growth n for the initial balanced-growth path that the economy is on, and the value Delta_n (or $ {\\Delta}n $) of the differential between the initial and the final (if we are considering a jump in n that takes place over time) or the alternative (if we are considering an alternative scenario, an alternate world, with a different value of n);   \n",
    "&nbsp;\n",
    "\n",
    "* the value of efficiency of labor growth g for the initial balanced-growth path that the economy is on, and the value Delta_g (or $ {\\Delta}g $) of the differential between the initial and the final (if we are considering a jump in g that takes place over time) or the alternative (if we are considering an alternative scenario, an alternate world, with a different value of g);   \n",
    "&nbsp;\n",
    "\n",
    "* the value of the savings-investment share s for the initial balanced-growth path that the economy is on, and the value Delta_s (or $ {\\Delta}s $) of the differential between the initial and the final (if we are considering a jump in s that takes place over time) or the alternative (if we are considering an alternative scenario, an alternate world, with a different value of s);   \n",
    "&nbsp;\n",
    "\n",
    "If optional arguments are not given, then they take on their default values:\n",
    "\n",
    "* Zero for three Deltas (or $ \\Delta $s), Delta_s, Delta_n, and Delta_g ($ {\\Delta}s, {\\Delta}n, {\\Delta}g) $.\n",
    "* n=0.01, g=0.02, s=0.24\n",
    "* T = 100\n",
    "* ($ \\alpha $) alpha=0.5, ($ \\delta $) delta=0.03\n",
    "\n",
    "Check the functions, run the base cases with the two percentage point boost to annual labor force growth Delta_n = 0.02 ($ {\\Delta}n = 0.02 $) and report any bugs you find.\n",
    "\n",
    "Then go on to the descriptions and tasks further down..."
   ]
  },
  {
   "cell_type": "code",
   "execution_count": null,
   "metadata": {
    "collapsed": true
   },
   "outputs": [],
   "source": [
    "# FUNCTION FOR CALCULATING AND GRAPHING THE LEVELS OF \n",
    "# SOLOW GROWTH MODEL VARIABLES IN SIMULATIONS\n",
    "#\n",
    "# might as well put \"check that common libraries are active\" as a default header\n",
    "# in every long python code cell...\n",
    "\n",
    "import matplotlib as mpl\n",
    "import matplotlib.pyplot as plt\n",
    "import pandas as pd\n",
    "import scipy as sp\n",
    "import numpy as np\n",
    "%matplotlib inline\n",
    "\n",
    "# we are going to want to see what happens for lots of\n",
    "# different model parameter values and initial conditions,\n",
    "# so stuff our small simulation program inside a function, so \n",
    "# we can then invoke it with a single line...\n",
    "#\n",
    "# we are going to assume the economy starts on its initial\n",
    "# balanced growth path...\n",
    "#\n",
    "# we are going to want to keep track not just of what the\n",
    "# economy's variables are at each point in time, but also \n",
    "# what the initial and alternative balanced-growth path \n",
    "# values of variables are. Given the parameters, the new BGP \n",
    "# is attracting the economy to it at the speed (1-α)(n+g+δ), \n",
    "# closing that fraction of the gap between its current state \n",
    "# and the balanced growth path attractor every period...\n",
    "\n",
    "def sgm_bgp_100yr_run(L0, E0, n=0.01, g=0.02, s=0.24, \n",
    "    alpha=0.5, delta=0.03, Delta_s=0, Delta_g=0, Delta_n=0, \n",
    "    T = 100):\n",
    "\n",
    "    sg_df = pd.DataFrame(index=range(T),columns=['Labor', \n",
    "        'Efficiency',\n",
    "        'Capital',\n",
    "        'Output',\n",
    "        'Output_per_Worker',\n",
    "        'Capital_Output_Ratio',\n",
    "        'BGP_initial_Output',\n",
    "        'BGP_initial_Output_per_Worker',\n",
    "        'BGP_initial_Capital_Output_Ratio',\n",
    "        'BGP_initial_Capital',\n",
    "        'BGP_final_Output',\n",
    "        'BGP_final_Output_per_Worker',\n",
    "        'BGP_final_Capital_Output_Ratio',\n",
    "        'BGP_final_Capital'],\n",
    "        dtype='float')\n",
    "\n",
    "    sg_df.Labor[0] = L0\n",
    "    sg_df.Efficiency[0] = E0\n",
    "    KoverY_initial_steady_state = s/(n+g+delta)\n",
    "    YoverL_initial_steady_state = ((s/(n+g+delta))**(alpha/(1-alpha)) \n",
    "        * E0)\n",
    "    KoverL_initial_steady_state = (YoverL_initial_steady_state *\n",
    "        KoverY_initial_steady_state)\n",
    "    sg_df.Capital[0] = KoverL_initial_steady_state * L0\n",
    "    sg_df.Output[0] = (sg_df.Capital[0]**alpha * (sg_df.Labor[0] * \n",
    "        sg_df.Efficiency[0])**(1-alpha))\n",
    "    sg_df.Output_per_Worker[0] = sg_df.Output[0]/sg_df.Labor[0]\n",
    "    sg_df.Capital_Output_Ratio[0] = sg_df.Capital[0]/sg_df.Output[0]\n",
    "    \n",
    "    sg_df.BGP_initial_Capital_Output_Ratio[0] = (s / (n + g + delta))\n",
    "    sg_df.BGP_initial_Output_per_Worker[0] = sg_df.Efficiency[0] * (\n",
    "        sg_df.BGP_initial_Capital_Output_Ratio[0]*(alpha/(1 - alpha)))\n",
    "    sg_df.BGP_initial_Output[0] = sg_df.BGP_initial_Output_per_Worker[0] * sg_df.Labor[0]\n",
    "    sg_df.BGP_initial_Capital[0] = sg_df.Labor[0] * sg_df.Efficiency[0] * (\n",
    "        sg_df.BGP_initial_Capital_Output_Ratio[0]*(1/(1 - alpha)))\n",
    "    \n",
    "    sg_df.BGP_final_Capital_Output_Ratio[0] = ((s + Delta_s) / \n",
    "        (n + Delta_n + g + Delta_g + delta))\n",
    "    sg_df.BGP_final_Output_per_Worker[0] = sg_df.Efficiency[0] * (\n",
    "        sg_df.BGP_final_Capital_Output_Ratio[0]*(alpha/(1 - alpha)))\n",
    "    sg_df.BGP_final_Output[0] = sg_df.BGP_final_Output_per_Worker[0] * sg_df.Labor[0]\n",
    "    sg_df.BGP_final_Capital[0] = sg_df.Labor[0] * sg_df.Efficiency[0] * (\n",
    "        sg_df.BGP_final_Capital_Output_Ratio[0]*(1/(1 - alpha)))\n",
    "    \n",
    "\n",
    "    for i in range(T):\n",
    "        sg_df.Labor[i+1] = (sg_df.Labor[i] * np.exp(n + Delta_n))\n",
    "        sg_df.Efficiency[i+1] = (sg_df.Efficiency[i] * np.exp(g + Delta_g))\n",
    "        KoverY_current = sg_df.Capital[i]/sg_df.Output[i]\n",
    "        sg_df.Capital[i+1] = (sg_df.Capital[i] * np.exp((s+Delta_s)/ \n",
    "            KoverY_current - delta))\n",
    "        sg_df.Output[i+1] = (sg_df.Capital[i+1]**alpha * \n",
    "            (sg_df.Labor[i+1] * sg_df.Efficiency[i+1])**(1-alpha))\n",
    "        sg_df.Output_per_Worker[i+1] = sg_df.Output[i+1]/sg_df.Labor[i+1]\n",
    "        sg_df.Capital_Output_Ratio[i+1] = (sg_df.Capital[i+1]/\n",
    "            sg_df.Output[i+1])\n",
    "        \n",
    "        sg_df.BGP_initial_Capital_Output_Ratio[i+1] = (s / (n + g + delta))\n",
    "        sg_df.BGP_initial_Output_per_Worker[i+1] = sg_df.Efficiency[i+1] * (\n",
    "            sg_df.BGP_initial_Capital_Output_Ratio[i+1]**(alpha/(1 - alpha)))\n",
    "        sg_df.BGP_initial_Output[i+1] = (sg_df.BGP_initial_Output_per_Worker[i+1] * \n",
    "            sg_df.Labor[i+1])\n",
    "        sg_df.BGP_initial_Capital[i+1] = (s / (n + g + delta))**(1/(1-alpha)) * (\n",
    "            sg_df.Efficiency[i+1] * sg_df.Labor[i+1])\n",
    "        \n",
    "        sg_df.BGP_final_Capital_Output_Ratio[i+1] = ((s+ Delta_s) / \n",
    "            (n + Delta_n + g + Delta_g + delta))\n",
    "        sg_df.BGP_final_Output_per_Worker[i+1] = sg_df.Efficiency[i+1] * (\n",
    "            sg_df.BGP_final_Capital_Output_Ratio[i+1]**(alpha/(1 - alpha)))\n",
    "        sg_df.BGP_final_Output[i+1] = (sg_df.BGP_final_Output_per_Worker[i+1] * \n",
    "            sg_df.Labor[i+1])\n",
    "        sg_df.BGP_final_Capital[i+1] = (s / (n + g + delta))**(1/(1-alpha)) * (\n",
    "            sg_df.Efficiency[i+1] * sg_df.Labor[i+1])\n",
    "        \n",
    "    fig = plt.figure(figsize=(12, 12))\n",
    "\n",
    "    ax1 = plt.subplot(3,2,1)\n",
    "    sg_df.Labor.plot(ax = ax1, title = \"Labor Force\")\n",
    "    plt.ylabel(\"Parameters\")\n",
    "    plt.ylim(0, )\n",
    "\n",
    "    ax2 = plt.subplot(3,2,2)\n",
    "    sg_df.Efficiency.plot(ax = ax2, title = \"Efficiency of Labor\")\n",
    "    plt.ylim(0, )\n",
    "    \n",
    "    ax3 = plt.subplot(3,2,3)\n",
    "    sg_df.BGP_initial_Capital.plot(ax = ax3, title = \"BGP (Initial) Capital Stock\")\n",
    "    sg_df.BGP_final_Capital.plot(ax = ax3, title = \"BGP (Final) Capital Stock\")\n",
    "    sg_df.Capital.plot(ax = ax3, title = \"Capital Stock\")\n",
    "    plt.ylabel(\"Values\")\n",
    "    plt.ylim(0, )\n",
    "\n",
    "    ax4 = plt.subplot(3,2,4)\n",
    "    sg_df.BGP_initial_Output.plot(ax = ax4, title = \"BGP (Initial) Output\")\n",
    "    sg_df.BGP_final_Output.plot(ax = ax4, title = \"BGP (Final) Output\")\n",
    "    sg_df.Output.plot(ax = ax4, title = \"Output\")\n",
    "    plt.ylim(0, )\n",
    "\n",
    "    ax5 = plt.subplot(3,2,5)\n",
    "    sg_df.BGP_initial_Output_per_Worker.plot(ax = ax5, title = \"BGP (Initial) Output per Worker\")\n",
    "    sg_df.BGP_final_Output_per_Worker.plot(ax = ax5, title = \"BGP (Final) Output per Worker\")\n",
    "    sg_df.Output_per_Worker.plot(ax = ax5, title = \"Output per Worker\")\n",
    "    plt.xlabel(\"Years\")\n",
    "    plt.ylabel(\"Ratios\")\n",
    "    plt.ylim(0, )\n",
    "\n",
    "    ax6 = plt.subplot(3,2,6)\n",
    "    sg_df.BGP_initial_Capital_Output_Ratio.plot(ax = ax6, \n",
    "        title = \"BGP (Initial) Capital-Output Ratio\")\n",
    "    sg_df.BGP_final_Capital_Output_Ratio.plot(ax = ax6, \n",
    "        title = \"BGP (Final) Capital-Output Ratio\")\n",
    "    sg_df.Capital_Output_Ratio.plot(ax = ax6, \n",
    "        title = \"Capital-Output Ratio\")\n",
    "    plt.xlabel(\"Years\")\n",
    "    plt.ylim(0, )\n",
    "\n",
    "    plt.suptitle('Solow Growth Model: Simulation Run', size = 20)\n",
    "\n",
    "    plt.show()\n",
    "    \n",
    "    print(n + Delta_n, \"is the labor force growth rate\")\n",
    "    print(g + Delta_g, \"is the efficiency of labor growth rate\")\n",
    "    print(delta, \"is the depreciation rate\")\n",
    "    print(s + Delta_s, \"is the savings rate\")\n",
    "    print(alpha, \"is the decreasing-returns-to-scale parameter\")"
   ]
  },
  {
   "cell_type": "code",
   "execution_count": null,
   "metadata": {
    "collapsed": true
   },
   "outputs": [],
   "source": [
    "# Now let's see how this works in a base case, and with the labor\n",
    "# force growth rate boosted by 2% per year in the alternative case...\n",
    "\n",
    "sgm_bgp_100yr_run(L0 = 1000, E0 = 1, Delta_n = 0.02)"
   ]
  },
  {
   "cell_type": "code",
   "execution_count": null,
   "metadata": {
    "collapsed": true
   },
   "outputs": [],
   "source": [
    "# FUNCTION FOR CALCULATING AND GRAPHING THE LOGS OF OF SOLOW GROWTH \n",
    "# MODEL VARIABLES IN THE SIMULATIONS \n",
    "#\n",
    "# might as well put \"check that common libraries are active\" as a default header\n",
    "# in every long python code cell...\n",
    "\n",
    "import matplotlib as mpl\n",
    "import matplotlib.pyplot as plt\n",
    "import pandas as pd\n",
    "import scipy as sp\n",
    "import numpy as np\n",
    "%matplotlib inline\n",
    "\n",
    "# we are going to want to see what happens for lots of\n",
    "# different model parameter values and initial conditions,\n",
    "# so stuff our small simulation program inside a function, so \n",
    "# we can then invoke it with a single line...\n",
    "#\n",
    "# we are going to assume the economy starts on its initial\n",
    "# balanced growth path...\n",
    "#\n",
    "# we are going to want to keep track not just of what the\n",
    "# economy's variables are at each point in time, but also \n",
    "# what the initial and alternative balanced-growth path \n",
    "# values of variables are. Given the parameters, the new BGP \n",
    "# is attracting the economy to it at the speed (1-α)(n+g+δ), \n",
    "# closing that fraction of the gap between its current state \n",
    "# and the balanced growth path attractor every period...\n",
    "\n",
    "def log_sgm_bgp_100yr_run(L0, E0, n=0.01, g=0.02, s=0.24, \n",
    "    alpha=0.5, delta=0.03, Delta_s=0, Delta_g=0, Delta_n=0, \n",
    "    T = 100):\n",
    "\n",
    "    sg_df = pd.DataFrame(index=range(T),columns=['Labor', \n",
    "        'Efficiency',\n",
    "        'Capital',\n",
    "        'Output',\n",
    "        'Output_per_Worker',\n",
    "        'Capital_Output_Ratio',\n",
    "        'BGP_initial_Output',\n",
    "        'BGP_initial_Output_per_Worker',\n",
    "        'BGP_initial_Capital_Output_Ratio',\n",
    "        'BGP_initial_Capital',\n",
    "        'BGP_final_Output',\n",
    "        'BGP_final_Output_per_Worker',\n",
    "        'BGP_final_Capital_Output_Ratio',\n",
    "        'BGP_final_Capital'],\n",
    "        dtype='float')\n",
    "\n",
    "    sg_df.Labor[0] = L0\n",
    "    sg_df.Efficiency[0] = E0\n",
    "    KoverY_initial_steady_state = s/(n+g+delta)\n",
    "    YoverL_initial_steady_state = ((s/(n+g+delta))**(alpha/(1-alpha)) \n",
    "        * E0)\n",
    "    KoverL_initial_steady_state = (YoverL_initial_steady_state *\n",
    "        KoverY_initial_steady_state)\n",
    "    sg_df.Capital[0] = KoverL_initial_steady_state * L0\n",
    "    sg_df.Output[0] = (sg_df.Capital[0]**alpha * (sg_df.Labor[0] * \n",
    "        sg_df.Efficiency[0])**(1-alpha))\n",
    "    sg_df.Output_per_Worker[0] = sg_df.Output[0]/sg_df.Labor[0]\n",
    "    sg_df.Capital_Output_Ratio[0] = sg_df.Capital[0]/sg_df.Output[0]\n",
    "    \n",
    "    sg_df.BGP_initial_Capital_Output_Ratio[0] = (s / (n + g + delta))\n",
    "    sg_df.BGP_initial_Output_per_Worker[0] = sg_df.Efficiency[0] * (\n",
    "        sg_df.BGP_initial_Capital_Output_Ratio[0]*(alpha/(1 - alpha)))\n",
    "    sg_df.BGP_initial_Output[0] = sg_df.BGP_initial_Output_per_Worker[0] * sg_df.Labor[0]\n",
    "    sg_df.BGP_initial_Capital[0] = sg_df.Labor[0] * sg_df.Efficiency[0] * (\n",
    "        sg_df.BGP_initial_Capital_Output_Ratio[0]*(1/(1 - alpha)))\n",
    "    \n",
    "    sg_df.BGP_final_Capital_Output_Ratio[0] = ((s + Delta_s) / \n",
    "        (n + Delta_n + g + Delta_g + delta))\n",
    "    sg_df.BGP_final_Output_per_Worker[0] = sg_df.Efficiency[0] * (\n",
    "        sg_df.BGP_final_Capital_Output_Ratio[0]*(alpha/(1 - alpha)))\n",
    "    sg_df.BGP_final_Output[0] = sg_df.BGP_final_Output_per_Worker[0] * sg_df.Labor[0]\n",
    "    sg_df.BGP_final_Capital[0] = sg_df.Labor[0] * sg_df.Efficiency[0] * (\n",
    "        sg_df.BGP_final_Capital_Output_Ratio[0]*(1/(1 - alpha)))\n",
    "    \n",
    "\n",
    "    for i in range(T):\n",
    "        sg_df.Labor[i+1] = (sg_df.Labor[i] * np.exp(n + Delta_n))\n",
    "        sg_df.Efficiency[i+1] = (sg_df.Efficiency[i] * np.exp(g + Delta_g))\n",
    "        KoverY_current = sg_df.Capital[i]/sg_df.Output[i]\n",
    "        sg_df.Capital[i+1] = (sg_df.Capital[i] * np.exp((s+Delta_s)/ \n",
    "            KoverY_current - delta))\n",
    "        sg_df.Output[i+1] = (sg_df.Capital[i+1]**alpha * \n",
    "            (sg_df.Labor[i+1] * sg_df.Efficiency[i+1])**(1-alpha))\n",
    "        sg_df.Output_per_Worker[i+1] = sg_df.Output[i+1]/sg_df.Labor[i+1]\n",
    "        sg_df.Capital_Output_Ratio[i+1] = (sg_df.Capital[i+1]/\n",
    "            sg_df.Output[i+1])\n",
    "        \n",
    "        sg_df.BGP_initial_Capital_Output_Ratio[i+1] = (s / (n + g + delta))\n",
    "        sg_df.BGP_initial_Output_per_Worker[i+1] = sg_df.Efficiency[i+1] * (\n",
    "            sg_df.BGP_initial_Capital_Output_Ratio[i+1]**(alpha/(1 - alpha)))\n",
    "        sg_df.BGP_initial_Output[i+1] = (sg_df.BGP_initial_Output_per_Worker[i+1] * \n",
    "            sg_df.Labor[i+1])\n",
    "        sg_df.BGP_initial_Capital[i+1] = (s / (n + g + delta))**(1/(1-alpha)) * (\n",
    "            sg_df.Efficiency[i+1] * sg_df.Labor[i+1])\n",
    "        \n",
    "        sg_df.BGP_final_Capital_Output_Ratio[i+1] = ((s+ Delta_s) / \n",
    "            (n + Delta_n + g + Delta_g + delta))\n",
    "        sg_df.BGP_final_Output_per_Worker[i+1] = sg_df.Efficiency[i+1] * (\n",
    "            sg_df.BGP_final_Capital_Output_Ratio[i+1]**(alpha/(1 - alpha)))\n",
    "        sg_df.BGP_final_Output[i+1] = (sg_df.BGP_final_Output_per_Worker[i+1] * \n",
    "            sg_df.Labor[i+1])\n",
    "        sg_df.BGP_final_Capital[i+1] = (s / (n + g + delta))**(1/(1-alpha)) * (\n",
    "            sg_df.Efficiency[i+1] * sg_df.Labor[i+1])\n",
    "        \n",
    "    fig = plt.figure(figsize=(12, 12))\n",
    "\n",
    "    ax1 = plt.subplot(3,2,1)\n",
    "    np.log(sg_df.Labor).plot(ax = ax1, title = \"Labor Force\")\n",
    "    plt.ylabel(\"Parameters\")\n",
    "    plt.ylim(0, )\n",
    "\n",
    "    ax2 = plt.subplot(3,2,2)\n",
    "    np.log(sg_df.Efficiency).plot(ax = ax2, title = \"Efficiency of Labor\")\n",
    "    plt.ylim(0, )\n",
    "    \n",
    "    ax3 = plt.subplot(3,2,3)\n",
    "    np.log(sg_df.BGP_initial_Capital).plot(ax = ax3, title = \"BGP (Initial) Capital Stock\")\n",
    "    np.log(sg_df.BGP_final_Capital).plot(ax = ax3, title = \"BGP (Final) Capital Stock\")\n",
    "    np.log(sg_df.Capital).plot(ax = ax3, title = \"Capital Stock\")\n",
    "    plt.ylabel(\"Values\")\n",
    "    plt.ylim(0, )\n",
    "\n",
    "    ax4 = plt.subplot(3,2,4)\n",
    "    np.log(sg_df.BGP_initial_Output).plot(ax = ax4, title = \"BGP (Initial) Output\")\n",
    "    np.log(sg_df.BGP_final_Output).plot(ax = ax4, title = \"BGP (Final) Output\")\n",
    "    np.log(sg_df.Output).plot(ax = ax4, title = \"Output\")\n",
    "    plt.ylim(0, )\n",
    "\n",
    "    ax5 = plt.subplot(3,2,5)\n",
    "    np.log(sg_df.BGP_initial_Output_per_Worker).plot(ax = ax5, title = \"BGP (Initial) Output per Worker\")\n",
    "    np.log(sg_df.BGP_final_Output_per_Worker).plot(ax = ax5, title = \"BGP (Final) Output per Worker\")\n",
    "    np.log(sg_df.Output_per_Worker).plot(ax = ax5, title = \"Output per Worker\")\n",
    "    plt.xlabel(\"Years\")\n",
    "    plt.ylabel(\"Ratios\")\n",
    "    plt.ylim(0, )\n",
    "\n",
    "    ax6 = plt.subplot(3,2,6)\n",
    "    np.log(sg_df.BGP_initial_Capital_Output_Ratio).plot(ax = ax6, \n",
    "        title = \"BGP (Initial) Capital-Output Ratio\")\n",
    "    np.log(sg_df.BGP_final_Capital_Output_Ratio).plot(ax = ax6, \n",
    "        title = \"BGP (Final) Capital-Output Ratio\")\n",
    "    np.log(sg_df.Capital_Output_Ratio).plot(ax = ax6, \n",
    "        title = \"Capital-Output Ratio\")\n",
    "    plt.xlabel(\"Years\")\n",
    "    plt.ylim(0, )\n",
    "\n",
    "    plt.suptitle('Solow Growth Model: Simulation Run', size = 20)\n",
    "\n",
    "    plt.show()\n",
    "    \n",
    "    print(n + Delta_n, \"is the labor force growth rate\")\n",
    "    print(g + Delta_g, \"is the efficiency of labor growth rate\")\n",
    "    print(delta, \"is the depreciation rate\")\n",
    "    print(s + Delta_s, \"is the savings rate\")\n",
    "    print(alpha, \"is the decreasing-returns-to-scale parameter\")"
   ]
  },
  {
   "cell_type": "code",
   "execution_count": null,
   "metadata": {
    "collapsed": true
   },
   "outputs": [],
   "source": [
    "# Now let's see how this works in a base case, and with the labor\n",
    "# force growth rate boosted by 2% per year in the alternative case...\n",
    "\n",
    "log_sgm_bgp_100yr_run(L0 = 1000, E0 = 1, Delta_n = 0.02)"
   ]
  },
  {
   "cell_type": "markdown",
   "metadata": {},
   "source": [
    "Now insert code cells between this markdown cell and the \"# Task B answer variables\" code cell. In them, run three simulations—logs and levels—in each of them, respectively, boosting one of the savings rate, the efficiency of labor growth rate, and the labor force growth rate by one percentage point over their default values in the function. \n",
    "\n",
    "Also calculate the values of log(K/Y) in the 50th year of the simulation for each of your three simulations. In the \"# Task B answer variables\" code cell, set the variables equal to their values in your three respective simulation runs. In the \"Task B Answer Description\" markdown cell, write two paragraphs telling us what you find out about the effects of these different changes in the economic environment on a Solow growth model economy from these simulation runs:"
   ]
  },
  {
   "cell_type": "code",
   "execution_count": null,
   "metadata": {
    "collapsed": true
   },
   "outputs": [],
   "source": [
    "# Task B answer variables\n",
    "\n",
    "KoverY_50_splus = __ # In the simulation run boosting the savings rate, the value of \n",
    "                     # the capital output ratio in the 50th year goes here\n",
    "\n",
    "KoverY_50_nplus = __ # In the simulation run boosting the labor force growth rate, the\n",
    "                     #  value of the capital output ratio in the 50th year goes here\n",
    "\n",
    "KoverY_50_gplus = __ # In the simulation run boosting the efficiency of labor growth\n",
    "                     # rate, the log value of the capital output ratio in the 50th year \n",
    "                     # goes here"
   ]
  },
  {
   "cell_type": "markdown",
   "metadata": {
    "deletable": false,
    "manual_grade": true,
    "manual_problem_id": "Task B Answer Discussion"
   },
   "source": [
    "**Task B Answer Discussion**:\n",
    "\n"
   ]
  },
  {
   "cell_type": "code",
   "execution_count": null,
   "metadata": {
    "collapsed": true
   },
   "outputs": [],
   "source": [
    "ok.grade('q01')"
   ]
  },
  {
   "cell_type": "markdown",
   "metadata": {},
   "source": [
    "----\n",
    "\n",
    "&nbsp;"
   ]
  },
  {
   "cell_type": "markdown",
   "metadata": {},
   "source": [
    "**(Task C): Different Values of the Production Function Parameter $\\alpha$**\n",
    "\n",
    "Still working with our two simulation functions:\n",
    "\n",
    "    sgm_bgp_100yr_run(L0, E0, n=0.01, g=0.02, s=0.24,\n",
    "    alpha=0.5, delta=0.03, Delta_s=0, Delta_g=0, Delta_n=0, \n",
    "    T = 100)\n",
    "    \n",
    "and:\n",
    "\n",
    "    log_sgm_bgp_100yr_run(L0, E0, n=0.01, g=0.02, s=0.24, \n",
    "    alpha=0.5, delta=0.03, Delta_s=0, Delta_g=0, Delta_n=0, \n",
    "    T = 100)\n",
    "    \n",
    "Insert code cells immediately below to calculate—logs and levels—the effect in the Solow growth model, starting from our default base case balanced growth path, of a permanent six percentage point increase in the savings-investment rate s for five different values of the production function curvature parameter alpha ($\\alpha$): 1/4, 1/3, 1/2, 2/3, and 3/4. \n",
    "\n",
    "Also calculate the values of log(K/Y) in the 50th year of the simulation for each of your  simulations. In the subsequent code cell \"Task C answer variables\" set the variables equal to their values in your five respective simulation runs.\n",
    "\n",
    "In the subsequent markdown cell \"Task C Answer Discussion\", write two paragraphs about what these simulation runs tell you about the differences between economies in which diminishing returns to scale set in quickly (alpha low, near zero), and economies in which diminishing returns set in slowly because capital has a high weight share in the production function (alpha high, near one):"
   ]
  },
  {
   "cell_type": "code",
   "execution_count": null,
   "metadata": {
    "collapsed": true
   },
   "outputs": [],
   "source": [
    "# Task C answer variables\n",
    "\n",
    "KoverY_50_alphaquarter = __ # In the simulation run boosting the savings rate \n",
    "                            # with alpha=0.25, the value of the capital output\n",
    "                            # ratio in the 50th year goes here\n",
    "\n",
    "KoverY_50_alphathird = __ # In the simulation run boosting the savings rate \n",
    "                          # with alpha=1/3, the value of the capital output\n",
    "                          # ratio in the 50th year goes here\n",
    "\n",
    "KoverY_50_alphahalf = __ # In the simulation run boosting the savings rate \n",
    "                         # with alpha=0.5, the value of the capital output\n",
    "                         # ratio in the 50th year goes here\n",
    "\n",
    "KoverY_50_alphatwothirds = __ # In the simulation run boosting the savings rate \n",
    "                              # with alpha=2/3, the value of the capital output\n",
    "                              # ratio in the 50th year goes here\n",
    "        \n",
    "KoverY_50_alphathreequarters = __ # In the simulation run boosting the savings rate \n",
    "                                  # with alpha=3/4, the value of the capital output\n",
    "                                  # ratio in the 50th year goes here\n"
   ]
  },
  {
   "cell_type": "markdown",
   "metadata": {
    "deletable": false,
    "manual_grade": true,
    "manual_problem_id": "Task C Answer Discussion"
   },
   "source": [
    "**Task C Answer Discussion**:\n",
    "    \n"
   ]
  },
  {
   "cell_type": "code",
   "execution_count": null,
   "metadata": {
    "collapsed": true
   },
   "outputs": [],
   "source": [
    "ok.grade('q02')"
   ]
  },
  {
   "cell_type": "markdown",
   "metadata": {},
   "source": [
    "----\n",
    "\n",
    "&nbsp;"
   ]
  },
  {
   "cell_type": "markdown",
   "metadata": {},
   "source": [
    "**(Task D) Graphing the Production Function**\n",
    "\n",
    "The code cell below calculates and graphs the per-worker version of the production function for alpha = 0.5, E =1. Copy and alter it to calculate the production function for alpha = 0.25, E =2, setting the output variable:\n",
    "\n",
    "&nbsp;&nbsp;&nbsp;&nbsp;&nbsp; OPW_quartertwo = output_per_worker[500, 1]. Run it. \n",
    "\n",
    "In the subsequent markdown cell, describe the differences between the two cases of the production function."
   ]
  },
  {
   "cell_type": "code",
   "execution_count": null,
   "metadata": {
    "collapsed": true
   },
   "outputs": [],
   "source": [
    "alpha = 0.5\n",
    "E = 1\n",
    "\n",
    "output_per_worker = np.zeros((501, 2))\n",
    "\n",
    "for i in range(501):\n",
    "    lowestkoverl = 0\n",
    "    output_per_worker[i, 0] = lowestkoverl + 2 * i\n",
    "    output_per_worker[i, 1] = (output_per_worker[i, 0] ** alpha) * E\n",
    "output_per_worker_df = DataFrame(data = output_per_worker, \n",
    "    columns = [\"Capital_per_Worker\", \"Output_per_Worker\"])\n",
    "\n",
    "output_per_worker_df.set_index('Capital_per_Worker').plot()\n",
    "plt.xlabel(\"Capital per Worker\")\n",
    "plt.ylabel(\"Output per Worker\")\n",
    "plt.ylim(0, )\n",
    "\n",
    "str1 = \"Production Function:\"\n",
    "str2 = \"Output per Worker as a Function of Capital per Worker\"\n",
    "str3 = \"for a Constant Value of the Efficiency of Labor\"\n",
    "str4 = \"α = 0.5, E = 1\"\n",
    "plt.title(str1 + \"\\n\" + str2 + \"\\n\" + str3 + \"\\n\" + str4, size = 20)\n",
    "\n",
    "OPW_halfone = output_per_worker[500, 1]\n",
    "\n",
    "print(\"Output per worker =\", OPW_halfone)"
   ]
  },
  {
   "cell_type": "markdown",
   "metadata": {
    "deletable": false,
    "manual_grade": true,
    "manual_problem_id": "Task D Answer Discussion"
   },
   "source": [
    "**Task D Answer Discussion**"
   ]
  },
  {
   "cell_type": "code",
   "execution_count": null,
   "metadata": {
    "collapsed": true
   },
   "outputs": [],
   "source": [
    "ok.grade('q03')"
   ]
  },
  {
   "cell_type": "markdown",
   "metadata": {},
   "source": [
    "----\n",
    "\n",
    "&nbsp;"
   ]
  },
  {
   "cell_type": "markdown",
   "metadata": {},
   "source": [
    "**(Task E): Plotting the Cobb-Douglas Production Function**:\n",
    "\n",
    "The code cell below plots output per worker for five different values of the production function parameter α, adjusting E for each curve so that the value of output per worker is 40 when the capital-output ratio is 200:\n",
    "\n",
    "1. Run the cell.\n",
    "2. Copy the code in the cell. Paste it in a new cell. Alter the code so that it plots the production function for the five different production function parameters, but with the value of output per worker equal to 200 whenever capital per worker is 800."
   ]
  },
  {
   "cell_type": "code",
   "execution_count": null,
   "metadata": {
    "collapsed": true
   },
   "outputs": [],
   "source": [
    "E = 40\n",
    "\n",
    "for a in range(5):\n",
    "    output_per_worker = np.zeros((501, 2))\n",
    "    alpha = 0.15 * (a + 1)\n",
    "    for i in range(501):\n",
    "        output_per_worker[i, 0] = 2 * i\n",
    "        output_per_worker[i, 1] = ((output_per_worker[i, 0] ** alpha) * E / \n",
    "            ((200) ** alpha) )\n",
    "    output_per_worker_df = DataFrame(data = output_per_worker, \n",
    "        columns = [\"Capital_per_Worker\", \"Output_per_Worker\"])\n",
    "\n",
    "    plt.plot(output_per_worker_df.Capital_per_Worker, output_per_worker_df.Output_per_Worker)\n",
    "    plt.legend([\"α=0.15\", \"α=0.30\", \"α=0.45\", \"α=0.60\", \"α=0.75\"])\n",
    "    \n",
    "plt.xlabel(\"Capital per Worker\")\n",
    "plt.ylabel(\"Output per Worker\")\n",
    "plt.title(\"Production Function for Varying α\\nHolding f(200) = 40\", size = 24)\n",
    "plt.xlim(0, 1000)\n",
    "plt.ylim(0, )"
   ]
  },
  {
   "cell_type": "code",
   "execution_count": null,
   "metadata": {
    "collapsed": true
   },
   "outputs": [],
   "source": [
    "ok.grade('q04')"
   ]
  },
  {
   "cell_type": "markdown",
   "metadata": {},
   "source": [
    "**(Task F): Calibrating the Model to the U.S. Today**\n",
    "\n",
    "The code cell below gives parameter values roughly calibrated to the U.S. economy today, and sets two variables—KoverYstarinitial and YoverLstarinitial—equal to the capital/output ratio and output per worker level for the U.S. today along its current balanced growth path. Copy and paste the code cell, and alter it to calculate and print two variables:\n",
    "\n",
    "    KoverYstarfinal\n",
    "    YoverLstarfinal\n",
    "    \n",
    "equal to their alternative balanced growth path values if the U.S. savings-investment rate had been 2.75 percentage points higher. Then add more code cells calculating new variables:\n",
    "\n",
    "    KoverYstarinitial_F2\n",
    "    YoverLstarinitial_F2\n",
    "    KoverYstarfinal_F2\n",
    "    YoverLstarfinal_F2\n",
    "\n",
    "corresponding to a Solow growth model economy with alpha = 1/2 and YoverLstarinitial_F2 = 130000"
   ]
  },
  {
   "cell_type": "code",
   "execution_count": null,
   "metadata": {
    "collapsed": true
   },
   "outputs": [],
   "source": [
    "# in the U.S. today values are approximately:\n",
    "\n",
    "n = 0.01\n",
    "g = 0.015\n",
    "delta = 0.03\n",
    "\n",
    "sinitial = 0.22\n",
    "alpha = 0.333\n",
    " \n",
    "KoverYstarinitial = sinitial/(n + g + delta)\n",
    "\n",
    "E = 65067.5831863\n",
    "\n",
    "YoverLstarinitial = KoverYstarinitial**(alpha/(1-alpha)) * E\n",
    "\n",
    "print(KoverYstarinitial, \"= KoverYstarinitial\")\n",
    "print(YoverLstarinitial, \"= YoverLstarinitial\")"
   ]
  },
  {
   "cell_type": "markdown",
   "metadata": {},
   "source": [
    "**Task 2: Reversals of Fortune**:\n",
    "\n",
    "This problem requires you to edit the second Python code cell below. The first cell downloads data and plots Argentinean and Swedish levels of GDP per capita since 1890. Run this first cell. There is no need to change it. Then...\n"
   ]
  },
  {
   "cell_type": "code",
   "execution_count": null,
   "metadata": {
    "collapsed": true
   },
   "outputs": [],
   "source": [
    "# time series for measured real national product per capita for \n",
    "# Sweden and Argentina since 1890, plus source notes, accessible \n",
    "# in the argentina_sweden_dict object for later use, if needed...\n",
    "\n",
    "import matplotlib as mpl\n",
    "import matplotlib.pyplot as plt\n",
    "from IPython.display import Image\n",
    "\n",
    "import pandas as pd\n",
    "\n",
    "sourceURL = \"http://delong.typepad.com/2017-08-11-argentina-and-sweden-gdp-per-capita-1890-2015-from-gapminder.org.csv\"\n",
    "argentina_sweden_df = pd.read_csv(sourceURL, index_col = 0)\n",
    "\n",
    "argentina_sweden_dict = {}\n",
    "argentina_sweden_dict[\"df\"] = argentina_sweden_df\n",
    "argentina_sweden_dict[\"sourceURL\"] = sourceURL\n",
    "argentina_sweden_dict[\"sourceDescription\"] = \"Hans Rosling's Gapminder: http://gapminder.org\"   \n",
    "argentina_sweden_dict[\"sourceNotes\"] = \"From Gapminder World data page: http://www.gapminder.org/data/\"\n",
    "\n",
    "argentina_sweden_dict[\"df\"].plot()\n",
    "\n",
    "plt.ylim(0, )\n",
    "plt.xlabel(\"Year\", size = 15)\n",
    "plt.ylabel(\"Real GDP per Capita\", size = 15)\n",
    "plt.title(\"Swedish and Argentinian Economic Growth since 1890\", size = 30)"
   ]
  },
  {
   "cell_type": "markdown",
   "metadata": {},
   "source": [
    "Then..."
   ]
  },
  {
   "cell_type": "markdown",
   "metadata": {},
   "source": [
    "2.1: Calculate the year that Sweden surpasses Argentina in GDP per capita. Write code to set the variable Sweden_surpasses equal to that year in the code cell below:"
   ]
  },
  {
   "cell_type": "code",
   "execution_count": null,
   "metadata": {
    "collapsed": true
   },
   "outputs": [],
   "source": [
    "Sweden_surpasses = 1931"
   ]
  },
  {
   "cell_type": "code",
   "execution_count": null,
   "metadata": {
    "collapsed": true
   },
   "outputs": [],
   "source": [
    "ok.grade('q01')"
   ]
  },
  {
   "cell_type": "markdown",
   "metadata": {},
   "source": [
    "2.2: Calculate the growth rates of Swedish and Argentinean GDP per capita, and their difference, over the periods 1890-1914, 1914-1946, 1946-1980, and 1980-2002. Write code to set the appropriate variables equal to the values in the code cell below:"
   ]
  },
  {
   "cell_type": "code",
   "execution_count": null,
   "metadata": {
    "collapsed": true
   },
   "outputs": [],
   "source": [
    "Swedish_Growth18901914 = ___\n",
    "Swedish_Growth19141946 = ___\n",
    "Swedish_Growth19461980 = ___\n",
    "Swedish_Growth19802002 = ___\n",
    "\n",
    "Argentinean_Growth18901914 = ___\n",
    "Argentinean_Growth19141946 = ___\n",
    "Argentinean_Growth19461980 = ___\n",
    "Argentinean_Growth19802002 = ___\n",
    "\n",
    "Difference_Growth18901914 = ___\n",
    "Difference_Growth19141946 = ___\n",
    "Difference_Growth19461980 = ___\n",
    "Difference_Growth19802002 = ___\n"
   ]
  },
  {
   "cell_type": "markdown",
   "metadata": {},
   "source": [
    "2.3: Calculate the multiple that Swedish GDP per capita in 2015 is of its level in 1890, the multiple that Argentinean GDP per capita in 2015 is of its level in 1890, and the multiple that the quotient is. Write code to set the appropriate variables equal to the values in the code cell below:"
   ]
  },
  {
   "cell_type": "code",
   "execution_count": null,
   "metadata": {
    "collapsed": true
   },
   "outputs": [],
   "source": [
    "Sweden_multiple18902015 = ___\n",
    "\n",
    "Argentina_multiple18902015 = ___\n",
    "\n",
    "Quotient_multiple18902015 = ___"
   ]
  },
  {
   "cell_type": "markdown",
   "metadata": {},
   "source": [
    "----"
   ]
  },
  {
   "cell_type": "markdown",
   "metadata": {},
   "source": [
    "**Task 3: The basics of the Solow growth model**:\n",
    "\n",
    "In the (markdown) cell below this one, answer the questions asked:\n",
    "\n",
    "1. What are the _economic variables_ in the Solow growth model? List their symbols, and describe what they are: ANSWER\n",
    "\n",
    "2. What are the _parameters_ in the Solow growth model? List their symbols, and describe what they are:\n",
    "\n",
    "3. What are the _behavioral relationships_ in the Solow growth model?\n",
    "\n",
    "4. What is the _equilibrium condition_ in the Solow growth model?"
   ]
  },
  {
   "cell_type": "markdown",
   "metadata": {},
   "source": [
    "1. What are the _economic variables_ in the Solow growth model? List their symbols, and describe what they are: <font color='blue'>ANSWER: ___ </font>\n",
    "\n",
    "2. What are the _parameters_ in the Solow growth model? List their symbols, and describe what they are: <font color='blue'>ANSWER: ___ </font>\n",
    "\n",
    "3. What are the _behavioral relationships_ in the Solow growth model? <font color='blue'>ANSWER: ___ </font>\n",
    "\n",
    "4. What is the _equilibrium condition_ in the Solow growth model? <font color='blue'>ANSWER: ___ </font>"
   ]
  },
  {
   "cell_type": "markdown",
   "metadata": {},
   "source": [
    "----\n",
    "\n",
    "&nbsp;"
   ]
  },
  {
   "cell_type": "markdown",
   "metadata": {},
   "source": [
    "**Task 4: Equilibrium Output per Worker Graphically**\n",
    "\n",
    "The code cell immediately below contains a small program to plot the balanced-growth path output per worker and capital per worker levels graphically for values of the parameters n, g, δ, α, and s, and for the current level of the efficiency of labor E. It is set to calculate for n = 0, g= 0, δ = .03, α = 0.5, s = 0.15, and E = 1.\n",
    "\n",
    "Alter the inputs to the cell above the line of \"# ----\" and rerun the cell multiple times, or use some other means of your choosing, to set the variables in the further cells below:"
   ]
  },
  {
   "cell_type": "code",
   "execution_count": null,
   "metadata": {
    "collapsed": true
   },
   "outputs": [],
   "source": [
    "delta = 0.03\n",
    "n = 0\n",
    "g = 0\n",
    "s = 0.15\n",
    "alpha = 0.5\n",
    "E = 1\n",
    "lowestKoverLconsidered = 0\n",
    "\n",
    "#----\n",
    "\n",
    "array = np.zeros((201, 3))\n",
    "\n",
    "for i in range(201):\n",
    "    array[i, 0] = lowestKoverLconsidered + i/4\n",
    "    array[i, 1] = (array[i, 0] \n",
    "        ** alpha) * E**(1 - alpha)\n",
    "    array[i, 2] = ((delta + n + g)/s * array[i, 0] )\n",
    "\n",
    "capital_and_output_per_worker_df = DataFrame(data = \n",
    "    array, columns = [\"Capital_per_Worker\", \"Output_per_Worker\", \n",
    "    \"Equilibrium Condition\"])\n",
    "\n",
    "capital_and_output_per_worker_df.set_index('Capital_per_Worker').plot()\n",
    "\n",
    "plt.xlabel(\"Capital per Worker\")\n",
    "plt.ylabel(\"Output per Worker\")\n",
    "plt.ylim(0, )\n",
    "plt.title(\"Balanced Growth Equilibrium Is Where the Curves Cross\", size = 20)"
   ]
  },
  {
   "cell_type": "code",
   "execution_count": null,
   "metadata": {
    "collapsed": true
   },
   "outputs": [],
   "source": [
    "# 4.1 For n = 0, g= 0, δ = .03, α = 0.5, \n",
    "# s = 0.15, and E = 1.\n",
    "\n",
    "YoverL41 = ___\n",
    "KoverL41 = ___"
   ]
  },
  {
   "cell_type": "code",
   "execution_count": null,
   "metadata": {
    "collapsed": true
   },
   "outputs": [],
   "source": [
    "ok.grade('q02')"
   ]
  },
  {
   "cell_type": "code",
   "execution_count": null,
   "metadata": {
    "collapsed": true
   },
   "outputs": [],
   "source": [
    "# 4.2 For n = 0.01, g = 0.01, δ = .03, α = 0.3333, \n",
    "# s = 0.25, and E = 2.\n",
    "\n",
    "YoverL42 = ___\n",
    "KoverL42 = ___"
   ]
  },
  {
   "cell_type": "code",
   "execution_count": null,
   "metadata": {
    "collapsed": true
   },
   "outputs": [],
   "source": [
    "# 4.3 For n = 0.01, g= 0.02, δ = .03, α = 0.3333, \n",
    "# s = 0.36, and E = 1.\n",
    "\n",
    "YoverL43 = ___\n",
    "KoverL43 = ___"
   ]
  },
  {
   "cell_type": "code",
   "execution_count": null,
   "metadata": {
    "collapsed": true
   },
   "outputs": [],
   "source": [
    "# 4.4 For n = .01, g= 0.02, δ = .03, α = 0.4, \n",
    "# s = 0.50, and E = 1.\n",
    "\n",
    "YoverL44 = ___\n",
    "KoverL44 = ___"
   ]
  },
  {
   "cell_type": "code",
   "execution_count": null,
   "metadata": {
    "collapsed": true
   },
   "outputs": [],
   "source": [
    "# 4.5 For n = .01, g= 0.02, δ = .03, α = 0.2, \n",
    "# s = 0.50, and E = 1.\n",
    "\n",
    "YoverL45 = ___\n",
    "KoverL45 = ___"
   ]
  },
  {
   "cell_type": "code",
   "execution_count": null,
   "metadata": {
    "collapsed": true
   },
   "outputs": [],
   "source": [
    "# 4.6 For n = .01, g= 0.015, δ = .025, α = 0.33333, \n",
    "# s = 0.50, and E = 1\n",
    "\n",
    "YoverL46 = ___\n",
    "KoverL46 = ___"
   ]
  },
  {
   "cell_type": "code",
   "execution_count": null,
   "metadata": {
    "collapsed": true
   },
   "outputs": [],
   "source": [
    "# 4.7 For n = .01, g= 0.015, δ = .025, α = 0.9, \n",
    "# s = 0.125, and E = 0.5\n",
    "\n",
    "YoverL47 = ___\n",
    "KoverL47 = ___"
   ]
  },
  {
   "cell_type": "code",
   "execution_count": null,
   "metadata": {
    "collapsed": true
   },
   "outputs": [],
   "source": [
    "# 4.8 For n = .01, g= 0.015, δ = .035, α = 0.75, \n",
    "# s = 0.25, and E = 0.5\n",
    "\n",
    "YoverL48 = ___\n",
    "KoverL48 = ___"
   ]
  },
  {
   "cell_type": "code",
   "execution_count": null,
   "metadata": {
    "collapsed": true
   },
   "outputs": [],
   "source": [
    "# 4.9 For n = .01, g= 0.015, δ = .025, α = 0.5, \n",
    "# s = 0.5, and E = 0.5\n",
    "\n",
    "YoverL49 = ___\n",
    "KoverL49 = ___"
   ]
  },
  {
   "cell_type": "markdown",
   "metadata": {},
   "source": [
    "----\n",
    "\n",
    "&nbsp;"
   ]
  },
  {
   "cell_type": "markdown",
   "metadata": {},
   "source": [
    "**Task 5: The Effects of a Jump in the Savings Rate**:\n",
    "\n",
    "Do calculations and assign the appropriate values to the variables in the code cells below:"
   ]
  },
  {
   "cell_type": "code",
   "execution_count": null,
   "metadata": {
    "collapsed": true
   },
   "outputs": [],
   "source": [
    "# when α = 0.15, the proportional jump in BGP K/Y\n",
    "# that takes place when the savings rate doubles\n",
    "# as a number: doubling is 2, tripling is 3:\n",
    "\n",
    "KY_when_s_doubles_pointfifteen = ___"
   ]
  },
  {
   "cell_type": "code",
   "execution_count": null,
   "metadata": {
    "collapsed": true
   },
   "outputs": [],
   "source": [
    "ok.grade('q03')"
   ]
  },
  {
   "cell_type": "code",
   "execution_count": null,
   "metadata": {
    "collapsed": true
   },
   "outputs": [],
   "source": [
    "# when α = 0.30, the proportional jump in BGP K/Y\n",
    "# that takes place when the savings rate doubles:\n",
    "\n",
    "KY_when_s_doubles_pointthirty = ___"
   ]
  },
  {
   "cell_type": "code",
   "execution_count": null,
   "metadata": {
    "collapsed": true
   },
   "outputs": [],
   "source": [
    "# when α = 0.45, the proportional jump in BGP K/Y\n",
    "# that takes place when the savings rate doubles:\n",
    "\n",
    "KY_when_s_doubles_pointfortyfive = ___"
   ]
  },
  {
   "cell_type": "code",
   "execution_count": null,
   "metadata": {
    "collapsed": true
   },
   "outputs": [],
   "source": [
    "# when α = 0.60, the proportional jump in BGP K/Y\n",
    "# that takes place when the savings rate doubles:\n",
    "\n",
    "KY_when_s_doubles_pointsixty = ___"
   ]
  },
  {
   "cell_type": "code",
   "execution_count": null,
   "metadata": {
    "collapsed": true
   },
   "outputs": [],
   "source": [
    "# when α = 0.75, the proportional jump in BGP K/Y\n",
    "# that takes place when the savings rate doubles:\n",
    "\n",
    "KY_when_s_doubles_pointseventyfive = ___"
   ]
  },
  {
   "cell_type": "code",
   "execution_count": null,
   "metadata": {
    "collapsed": true
   },
   "outputs": [],
   "source": [
    "# when α = 0.90, the proportional jump in BGP K/Y\n",
    "# that takes place when the savings rate doubles:\n",
    "\n",
    "KY_when_s_doubles_pointninety = ___"
   ]
  },
  {
   "cell_type": "markdown",
   "metadata": {},
   "source": [
    "----\n",
    "\n",
    "&nbsp;"
   ]
  },
  {
   "cell_type": "markdown",
   "metadata": {},
   "source": [
    "**Task 6: The Effects of a Jump in the Savings Rate**:\n",
    "\n",
    "Do calculations and assign the appropriate values to the variables in the code cells below:"
   ]
  },
  {
   "cell_type": "code",
   "execution_count": null,
   "metadata": {
    "collapsed": true
   },
   "outputs": [],
   "source": [
    "# when α = 0.15, the proportional jump in BGP Y/L\n",
    "# that takes place when the savings rate doubles\n",
    "# (as a number: a 50% increase in BGP Y/L is a 1.5):\n",
    "\n",
    "Y_when_s_doubles_pointfifteen = ___"
   ]
  },
  {
   "cell_type": "code",
   "execution_count": null,
   "metadata": {
    "collapsed": true
   },
   "outputs": [],
   "source": [
    "ok.grade('q04')"
   ]
  },
  {
   "cell_type": "code",
   "execution_count": null,
   "metadata": {
    "collapsed": true
   },
   "outputs": [],
   "source": [
    "# when α = 0.30, the proportional jump in BGP Y/L\n",
    "# that takes place when the savings rate doubles:\n",
    "\n",
    "Y_when_s_doubles_pointthirty = ___"
   ]
  },
  {
   "cell_type": "code",
   "execution_count": null,
   "metadata": {
    "collapsed": true
   },
   "outputs": [],
   "source": [
    "# when α = 0.45, the proportional jump in BGP Y/L\n",
    "# that takes place when the savings rate doubles:\n",
    "\n",
    "Y_when_s_doubles_pointfortyfive = ___"
   ]
  },
  {
   "cell_type": "code",
   "execution_count": null,
   "metadata": {
    "collapsed": true
   },
   "outputs": [],
   "source": [
    "# when α = 0.60, the proportional jump in BGP Y/L\n",
    "# that takes place when the savings rate doubles:\n",
    "\n",
    "Y_when_s_doubles_pointsixty = ___"
   ]
  },
  {
   "cell_type": "code",
   "execution_count": null,
   "metadata": {
    "collapsed": true
   },
   "outputs": [],
   "source": [
    "# when α = 0.75, the proportional jump in BGP Y/L\n",
    "# that takes place when the savings rate doubles:\n",
    "\n",
    "Y_when_s_doubles_pointseventyfive = ___"
   ]
  },
  {
   "cell_type": "code",
   "execution_count": null,
   "metadata": {
    "collapsed": true
   },
   "outputs": [],
   "source": [
    "# when α = 0.90, the proportional jump in BGP Y/L\n",
    "# that takes place when the savings rate doubles:\n",
    "\n",
    "Y_when_s_doubles_pointninety = ___"
   ]
  }
 ],
 "metadata": {
  "celltoolbar": "Edit Metadata",
  "kernelspec": {
   "display_name": "Python 3",
   "language": "python",
   "name": "python3"
  },
  "language_info": {
   "codemirror_mode": {
    "name": "ipython",
    "version": 3
   },
   "file_extension": ".py",
   "mimetype": "text/x-python",
   "name": "python",
   "nbconvert_exporter": "python",
   "pygments_lexer": "ipython3",
   "version": "3.6.1"
  }
 },
 "nbformat": 4,
 "nbformat_minor": 2
}
