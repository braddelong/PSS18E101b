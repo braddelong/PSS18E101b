{
 "cells": [
  {
   "cell_type": "code",
   "execution_count": null,
   "metadata": {},
   "outputs": [],
   "source": []
  },
  {
   "cell_type": "markdown",
   "metadata": {},
   "source": [
    "**(Task D) Zero Population Growth**\n",
    "\n",
    "Many observers project that by the end of the twenty-first century the population of the United States will be stable. Using the Solow growth model, what would such a downward shift in the growth rate of the labor force do to the growth of output per worker and to the growth of total output if zero labor force growth came suddenly and permanently in 2050? Consider both the effect on the balanced-growth equilibrium path and the transition from the “old” positive population growth to the “new” zero population growth balanced-growth path.\n",
    "\n",
    "Answer this question by setting the appropriate variables to their values in the code cell below. The initial balanced growth path steady state of the economy has:\n",
    "\n",
    "* Rate of population growth n = 1% per year\n",
    "* Rate of efficiency-of-labor growth g = 1.5% per year\n",
    "* Depreciation rate $ \\delta $ (delta) = 3% per year\n",
    "* Savings-investment effort as a share of output s = 22% per year\n",
    "* Diminishing returns to investment production function parameter $ \\alpha $ (alpha) = 0.5\n",
    "* Level of the efficiency of labor today $ E_{2018} = 65000 $"
   ]
  },
  {
   "cell_type": "code",
   "execution_count": null,
   "metadata": {
    "collapsed": true
   },
   "outputs": [],
   "source": [
    "# Task C answer variables\n",
    "\n",
    "KoverY_50_alphaquarter = __ # In the simulation run boosting the savings rate \n",
    "                            # with alpha=0.25, the value of the capital output\n",
    "                            # ratio in the 50th year goes here\n",
    "\n",
    "KoverY_50_alphathird = __ # In the simulation run boosting the savings rate \n",
    "                          # with alpha=1/3, the value of the capital output\n",
    "                          # ratio in the 50th year goes here\n",
    "\n",
    "KoverY_50_alphahalf = __ # In the simulation run boosting the savings rate \n",
    "                         # with alpha=0.5, the value of the capital output\n",
    "                         # ratio in the 50th year goes here\n",
    "\n",
    "KoverY_50_alphatwothirds = __ # In the simulation run boosting the savings rate \n",
    "                              # with alpha=2/3, the value of the capital output\n",
    "                              # ratio in the 50th year goes here\n",
    "        \n",
    "KoverY_50_alphathreequarters = __ # In the simulation run boosting the savings rate \n",
    "                                  # with alpha=3/4, the value of the capital output\n",
    "                                  # ratio in the 50th year goes here\n"
   ]
  },
  {
   "cell_type": "markdown",
   "metadata": {},
   "source": [
    "**Solow Growth Model**:\n",
    "\n",
    "Do calculations and assign the appropriate values to the variables in the code cells below:"
   ]
  },
  {
   "cell_type": "code",
   "execution_count": null,
   "metadata": {
    "collapsed": true
   },
   "outputs": [],
   "source": [
    "# In a Solow Growth Model economy, when α = 1/3,\n",
    "# what is the proportional jump in the balanced-growth\n",
    "# path capital-output ratio that takes place when the \n",
    "# savings rate doubles? Write you answer as a number:\n",
    "# a doubling is 2, a tripling is 3:\n",
    "\n",
    "KY_jump13 = ____ # your answer here\n",
    "\n",
    "TH1 = KY_jump13 # leave this line along"
   ]
  },
  {
   "cell_type": "code",
   "execution_count": null,
   "metadata": {
    "collapsed": true
   },
   "outputs": [],
   "source": [
    "# In a Solow Growth Model economy, when α = 2/3,\n",
    "# what is the proportional jump in the balanced-growth\n",
    "# path capital-output ratio that takes place when the \n",
    "# savings rate doubles? Write you answer as a number:\n",
    "# a doubling is 2, a tripling is 3:\n",
    "\n",
    "KY_jump23 = ____ # your answer here\n",
    "\n",
    "TH2 = KY_jump23 # leave this line along"
   ]
  },
  {
   "cell_type": "markdown",
   "metadata": {},
   "source": [
    "**(Task C): Different Values of the Production Function Parameter $\\alpha$**\n",
    "\n",
    "Still working with our two simulation functions:\n",
    "\n",
    "    sgm_bgp_100yr_run(L0, E0, n=0.01, g=0.02, s=0.24,\n",
    "    alpha=0.5, delta=0.03, Delta_s=0, Delta_g=0, Delta_n=0, \n",
    "    T = 100)\n",
    "    \n",
    "and:\n",
    "\n",
    "    log_sgm_bgp_100yr_run(L0, E0, n=0.01, g=0.02, s=0.24, \n",
    "    alpha=0.5, delta=0.03, Delta_s=0, Delta_g=0, Delta_n=0, \n",
    "    T = 100)\n",
    "    \n",
    "Insert code cells immediately below to calculate—logs and levels—the effect in the Solow growth model, starting from our default base case balanced growth path, of a permanent six percentage point increase in the savings-investment rate s for five different values of the production function curvature parameter alpha ($\\alpha$): 1/4, 1/3, 1/2, 2/3, and 3/4. \n",
    "\n",
    "Also calculate the values of log(K/Y) in the 50th year of the simulation for each of your  simulations. In the subsequent code cell \"Task C answer variables\" set the variables equal to their values in your five respective simulation runs.\n",
    "\n",
    "In the subsequent markdown cell \"Task C Answer Discussion\", write two paragraphs about what these simulation runs tell you about the differences between economies in which diminishing returns to scale set in quickly (alpha low, near zero), and economies in which diminishing returns set in slowly because capital has a high weight share in the production function (alpha high, near one):"
   ]
  }
 ],
 "metadata": {
  "kernelspec": {
   "display_name": "Python 3",
   "language": "python",
   "name": "python3"
  },
  "language_info": {
   "codemirror_mode": {
    "name": "ipython",
    "version": 3
   },
   "file_extension": ".py",
   "mimetype": "text/x-python",
   "name": "python",
   "nbconvert_exporter": "python",
   "pygments_lexer": "ipython3",
   "version": "3.6.1"
  }
 },
 "nbformat": 4,
 "nbformat_minor": 2
}
